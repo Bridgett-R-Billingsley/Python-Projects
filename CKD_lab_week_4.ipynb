{
  "cells": [
    {
      "cell_type": "markdown",
      "metadata": {
        "id": "Coxu5GkixPu_"
      },
      "source": [
        "## Week 4, Lab 2: Predicting Chronic Kidney Disease in Patients\n",
        "> Author: Matt Brems\n",
        "\n",
        "We can sketch out the data science process as follows:\n",
        "1. Define the problem.\n",
        "2. Obtain the data.\n",
        "3. Explore the data.\n",
        "4. Model the data.\n",
        "5. Evaluate the model.\n",
        "6. Answer the problem.\n",
        "\n",
        "In this lab, we're going to focus on steps exploring data, building models and evaluating the models we build.\n",
        "\n",
        "There are three links you may find important:\n",
        "- [A set of chronic kidney disease (CKD) data and other biological factors](./chronic_kidney_disease_full.csv).\n",
        "- [The CKD data dictionary](./chronic_kidney_disease_header.txt).\n",
        "- [An article comparing the use of k-nearest neighbors and support vector machines on predicting CKD](./chronic_kidney_disease.pdf)."
      ]
    },
    {
      "cell_type": "code",
      "source": [
        "from google.colab import drive\n",
        "drive.mount('/content/drive')"
      ],
      "metadata": {
        "colab": {
          "base_uri": "https://localhost:8080/"
        },
        "id": "uJtblE-nxdHJ",
        "outputId": "8005b927-3a0c-4a0c-be00-a3911466bd79"
      },
      "execution_count": null,
      "outputs": [
        {
          "output_type": "stream",
          "name": "stdout",
          "text": [
            "Drive already mounted at /content/drive; to attempt to forcibly remount, call drive.mount(\"/content/drive\", force_remount=True).\n"
          ]
        }
      ]
    },
    {
      "cell_type": "markdown",
      "metadata": {
        "id": "GE-2XLPuxPvJ"
      },
      "source": [
        "## Step 1: Define the problem.\n",
        "\n",
        "Suppose you're working for Mayo Clinic, widely recognized to be the top hospital in the United States. In your work, you've overheard nurses and doctors discuss test results, then arrive at a conclusion as to whether or not someone has developed a particular disease or condition. For example, you might overhear something like:\n",
        "\n",
        "> **Nurse**: Male 57 year-old patient presents with severe chest pain. FDP _(short for fibrin degradation product)_ was elevated at 13. We did an echo _(echocardiogram)_ and it was inconclusive.\n",
        "\n",
        "> **Doctor**: What was his interarm BP? _(blood pressure)_\n",
        "\n",
        "> **Nurse**: Systolic was 140 on the right; 110 on the left.\n",
        "\n",
        "> **Doctor**: Dammit, it's an aortic dissection! Get to the OR _(operating room)_ now!\n",
        "\n",
        "> _(intense music playing)_\n",
        "\n",
        "In this fictitious but [Shonda Rhimes-esque](https://en.wikipedia.org/wiki/Shonda_Rhimes#Grey's_Anatomy,_Private_Practice,_Scandal_and_other_projects_with_ABC) scenario, you might imagine the doctor going through a series of steps like a [flowchart](https://en.wikipedia.org/wiki/Flowchart), or a series of if-this-then-that steps to diagnose a patient. The first steps made the doctor ask what the interarm blood pressure was. Because interarm blood pressure took on the values it took on, the doctor diagnosed the patient with an aortic dissection.\n",
        "\n",
        "Your goal, as a research biostatistical data scientist at the nation's top hospital, is to develop a medical test that can improve upon our current diagnosis system for [chronic kidney disease (CKD)](https://www.mayoclinic.org/diseases-conditions/chronic-kidney-disease/symptoms-causes/syc-20354521).\n",
        "\n",
        "**Real-world problem**: Develop a medical diagnosis test that is better than our current diagnosis system for CKD.\n",
        "\n",
        "**Data science problem**: Develop a medical diagnosis test that reduces both the number of false positives and the number of false negatives."
      ]
    },
    {
      "cell_type": "markdown",
      "metadata": {
        "id": "wyTV5-lGxPvL"
      },
      "source": [
        "---\n",
        "\n",
        "## Step 2: Obtain the data.\n",
        "\n",
        "### 1. Read in the data."
      ]
    },
    {
      "cell_type": "code",
      "execution_count": null,
      "metadata": {
        "collapsed": true,
        "id": "Ftov_pSixPvM"
      },
      "outputs": [],
      "source": [
        "import pandas as pd\n",
        "df = pd.read_csv('/content/drive/MyDrive/lab-4.02-classification-evaluation-master/chronic_kidney_disease_full.csv')"
      ]
    },
    {
      "cell_type": "markdown",
      "metadata": {
        "id": "jLS9IrjYxPvO"
      },
      "source": [
        "### 2. Check out the data dictionary. What are a few features or relationships you might be interested in checking out?"
      ]
    },
    {
      "cell_type": "markdown",
      "metadata": {
        "id": "ponHEhamxPvO"
      },
      "source": [
        "### Answer: Blood pressure, albumin, sugar, serum creatinine, potassium, hypertension, diabetes mellitus, coronary artery disease, anaemia\n",
        "\n"
      ]
    },
    {
      "cell_type": "markdown",
      "metadata": {
        "id": "iVsJq6-txPvP"
      },
      "source": [
        "---\n",
        "\n",
        "## Step 3: Explore the data.\n",
        "\n",
        "### 3. How much of the data is missing from each column?"
      ]
    },
    {
      "cell_type": "code",
      "source": [
        "df.head()"
      ],
      "metadata": {
        "colab": {
          "base_uri": "https://localhost:8080/",
          "height": 235
        },
        "id": "2BGlmcvWvsdR",
        "outputId": "eb9d1fd4-9114-46e5-9737-6651edcaca46"
      },
      "execution_count": null,
      "outputs": [
        {
          "output_type": "execute_result",
          "data": {
            "text/plain": [
              "    age    bp     sg   al   su     rbc        pc         pcc          ba  \\\n",
              "0  48.0  80.0  1.020  1.0  0.0     NaN    normal  notpresent  notpresent   \n",
              "1   7.0  50.0  1.020  4.0  0.0     NaN    normal  notpresent  notpresent   \n",
              "2  62.0  80.0  1.010  2.0  3.0  normal    normal  notpresent  notpresent   \n",
              "3  48.0  70.0  1.005  4.0  0.0  normal  abnormal     present  notpresent   \n",
              "4  51.0  80.0  1.010  2.0  0.0  normal    normal  notpresent  notpresent   \n",
              "\n",
              "     bgr  ...   pcv    wbcc  rbcc  htn   dm  cad  appet   pe  ane class  \n",
              "0  121.0  ...  44.0  7800.0   5.2  yes  yes   no   good   no   no   ckd  \n",
              "1    NaN  ...  38.0  6000.0   NaN   no   no   no   good   no   no   ckd  \n",
              "2  423.0  ...  31.0  7500.0   NaN   no  yes   no   poor   no  yes   ckd  \n",
              "3  117.0  ...  32.0  6700.0   3.9  yes   no   no   poor  yes  yes   ckd  \n",
              "4  106.0  ...  35.0  7300.0   4.6   no   no   no   good   no   no   ckd  \n",
              "\n",
              "[5 rows x 25 columns]"
            ],
            "text/html": [
              "\n",
              "  <div id=\"df-4d3f63a8-0907-44b7-bff0-cc26dc363c62\">\n",
              "    <div class=\"colab-df-container\">\n",
              "      <div>\n",
              "<style scoped>\n",
              "    .dataframe tbody tr th:only-of-type {\n",
              "        vertical-align: middle;\n",
              "    }\n",
              "\n",
              "    .dataframe tbody tr th {\n",
              "        vertical-align: top;\n",
              "    }\n",
              "\n",
              "    .dataframe thead th {\n",
              "        text-align: right;\n",
              "    }\n",
              "</style>\n",
              "<table border=\"1\" class=\"dataframe\">\n",
              "  <thead>\n",
              "    <tr style=\"text-align: right;\">\n",
              "      <th></th>\n",
              "      <th>age</th>\n",
              "      <th>bp</th>\n",
              "      <th>sg</th>\n",
              "      <th>al</th>\n",
              "      <th>su</th>\n",
              "      <th>rbc</th>\n",
              "      <th>pc</th>\n",
              "      <th>pcc</th>\n",
              "      <th>ba</th>\n",
              "      <th>bgr</th>\n",
              "      <th>...</th>\n",
              "      <th>pcv</th>\n",
              "      <th>wbcc</th>\n",
              "      <th>rbcc</th>\n",
              "      <th>htn</th>\n",
              "      <th>dm</th>\n",
              "      <th>cad</th>\n",
              "      <th>appet</th>\n",
              "      <th>pe</th>\n",
              "      <th>ane</th>\n",
              "      <th>class</th>\n",
              "    </tr>\n",
              "  </thead>\n",
              "  <tbody>\n",
              "    <tr>\n",
              "      <th>0</th>\n",
              "      <td>48.0</td>\n",
              "      <td>80.0</td>\n",
              "      <td>1.020</td>\n",
              "      <td>1.0</td>\n",
              "      <td>0.0</td>\n",
              "      <td>NaN</td>\n",
              "      <td>normal</td>\n",
              "      <td>notpresent</td>\n",
              "      <td>notpresent</td>\n",
              "      <td>121.0</td>\n",
              "      <td>...</td>\n",
              "      <td>44.0</td>\n",
              "      <td>7800.0</td>\n",
              "      <td>5.2</td>\n",
              "      <td>yes</td>\n",
              "      <td>yes</td>\n",
              "      <td>no</td>\n",
              "      <td>good</td>\n",
              "      <td>no</td>\n",
              "      <td>no</td>\n",
              "      <td>ckd</td>\n",
              "    </tr>\n",
              "    <tr>\n",
              "      <th>1</th>\n",
              "      <td>7.0</td>\n",
              "      <td>50.0</td>\n",
              "      <td>1.020</td>\n",
              "      <td>4.0</td>\n",
              "      <td>0.0</td>\n",
              "      <td>NaN</td>\n",
              "      <td>normal</td>\n",
              "      <td>notpresent</td>\n",
              "      <td>notpresent</td>\n",
              "      <td>NaN</td>\n",
              "      <td>...</td>\n",
              "      <td>38.0</td>\n",
              "      <td>6000.0</td>\n",
              "      <td>NaN</td>\n",
              "      <td>no</td>\n",
              "      <td>no</td>\n",
              "      <td>no</td>\n",
              "      <td>good</td>\n",
              "      <td>no</td>\n",
              "      <td>no</td>\n",
              "      <td>ckd</td>\n",
              "    </tr>\n",
              "    <tr>\n",
              "      <th>2</th>\n",
              "      <td>62.0</td>\n",
              "      <td>80.0</td>\n",
              "      <td>1.010</td>\n",
              "      <td>2.0</td>\n",
              "      <td>3.0</td>\n",
              "      <td>normal</td>\n",
              "      <td>normal</td>\n",
              "      <td>notpresent</td>\n",
              "      <td>notpresent</td>\n",
              "      <td>423.0</td>\n",
              "      <td>...</td>\n",
              "      <td>31.0</td>\n",
              "      <td>7500.0</td>\n",
              "      <td>NaN</td>\n",
              "      <td>no</td>\n",
              "      <td>yes</td>\n",
              "      <td>no</td>\n",
              "      <td>poor</td>\n",
              "      <td>no</td>\n",
              "      <td>yes</td>\n",
              "      <td>ckd</td>\n",
              "    </tr>\n",
              "    <tr>\n",
              "      <th>3</th>\n",
              "      <td>48.0</td>\n",
              "      <td>70.0</td>\n",
              "      <td>1.005</td>\n",
              "      <td>4.0</td>\n",
              "      <td>0.0</td>\n",
              "      <td>normal</td>\n",
              "      <td>abnormal</td>\n",
              "      <td>present</td>\n",
              "      <td>notpresent</td>\n",
              "      <td>117.0</td>\n",
              "      <td>...</td>\n",
              "      <td>32.0</td>\n",
              "      <td>6700.0</td>\n",
              "      <td>3.9</td>\n",
              "      <td>yes</td>\n",
              "      <td>no</td>\n",
              "      <td>no</td>\n",
              "      <td>poor</td>\n",
              "      <td>yes</td>\n",
              "      <td>yes</td>\n",
              "      <td>ckd</td>\n",
              "    </tr>\n",
              "    <tr>\n",
              "      <th>4</th>\n",
              "      <td>51.0</td>\n",
              "      <td>80.0</td>\n",
              "      <td>1.010</td>\n",
              "      <td>2.0</td>\n",
              "      <td>0.0</td>\n",
              "      <td>normal</td>\n",
              "      <td>normal</td>\n",
              "      <td>notpresent</td>\n",
              "      <td>notpresent</td>\n",
              "      <td>106.0</td>\n",
              "      <td>...</td>\n",
              "      <td>35.0</td>\n",
              "      <td>7300.0</td>\n",
              "      <td>4.6</td>\n",
              "      <td>no</td>\n",
              "      <td>no</td>\n",
              "      <td>no</td>\n",
              "      <td>good</td>\n",
              "      <td>no</td>\n",
              "      <td>no</td>\n",
              "      <td>ckd</td>\n",
              "    </tr>\n",
              "  </tbody>\n",
              "</table>\n",
              "<p>5 rows × 25 columns</p>\n",
              "</div>\n",
              "      <button class=\"colab-df-convert\" onclick=\"convertToInteractive('df-4d3f63a8-0907-44b7-bff0-cc26dc363c62')\"\n",
              "              title=\"Convert this dataframe to an interactive table.\"\n",
              "              style=\"display:none;\">\n",
              "        \n",
              "  <svg xmlns=\"http://www.w3.org/2000/svg\" height=\"24px\"viewBox=\"0 0 24 24\"\n",
              "       width=\"24px\">\n",
              "    <path d=\"M0 0h24v24H0V0z\" fill=\"none\"/>\n",
              "    <path d=\"M18.56 5.44l.94 2.06.94-2.06 2.06-.94-2.06-.94-.94-2.06-.94 2.06-2.06.94zm-11 1L8.5 8.5l.94-2.06 2.06-.94-2.06-.94L8.5 2.5l-.94 2.06-2.06.94zm10 10l.94 2.06.94-2.06 2.06-.94-2.06-.94-.94-2.06-.94 2.06-2.06.94z\"/><path d=\"M17.41 7.96l-1.37-1.37c-.4-.4-.92-.59-1.43-.59-.52 0-1.04.2-1.43.59L10.3 9.45l-7.72 7.72c-.78.78-.78 2.05 0 2.83L4 21.41c.39.39.9.59 1.41.59.51 0 1.02-.2 1.41-.59l7.78-7.78 2.81-2.81c.8-.78.8-2.07 0-2.86zM5.41 20L4 18.59l7.72-7.72 1.47 1.35L5.41 20z\"/>\n",
              "  </svg>\n",
              "      </button>\n",
              "      \n",
              "  <style>\n",
              "    .colab-df-container {\n",
              "      display:flex;\n",
              "      flex-wrap:wrap;\n",
              "      gap: 12px;\n",
              "    }\n",
              "\n",
              "    .colab-df-convert {\n",
              "      background-color: #E8F0FE;\n",
              "      border: none;\n",
              "      border-radius: 50%;\n",
              "      cursor: pointer;\n",
              "      display: none;\n",
              "      fill: #1967D2;\n",
              "      height: 32px;\n",
              "      padding: 0 0 0 0;\n",
              "      width: 32px;\n",
              "    }\n",
              "\n",
              "    .colab-df-convert:hover {\n",
              "      background-color: #E2EBFA;\n",
              "      box-shadow: 0px 1px 2px rgba(60, 64, 67, 0.3), 0px 1px 3px 1px rgba(60, 64, 67, 0.15);\n",
              "      fill: #174EA6;\n",
              "    }\n",
              "\n",
              "    [theme=dark] .colab-df-convert {\n",
              "      background-color: #3B4455;\n",
              "      fill: #D2E3FC;\n",
              "    }\n",
              "\n",
              "    [theme=dark] .colab-df-convert:hover {\n",
              "      background-color: #434B5C;\n",
              "      box-shadow: 0px 1px 3px 1px rgba(0, 0, 0, 0.15);\n",
              "      filter: drop-shadow(0px 1px 2px rgba(0, 0, 0, 0.3));\n",
              "      fill: #FFFFFF;\n",
              "    }\n",
              "  </style>\n",
              "\n",
              "      <script>\n",
              "        const buttonEl =\n",
              "          document.querySelector('#df-4d3f63a8-0907-44b7-bff0-cc26dc363c62 button.colab-df-convert');\n",
              "        buttonEl.style.display =\n",
              "          google.colab.kernel.accessAllowed ? 'block' : 'none';\n",
              "\n",
              "        async function convertToInteractive(key) {\n",
              "          const element = document.querySelector('#df-4d3f63a8-0907-44b7-bff0-cc26dc363c62');\n",
              "          const dataTable =\n",
              "            await google.colab.kernel.invokeFunction('convertToInteractive',\n",
              "                                                     [key], {});\n",
              "          if (!dataTable) return;\n",
              "\n",
              "          const docLinkHtml = 'Like what you see? Visit the ' +\n",
              "            '<a target=\"_blank\" href=https://colab.research.google.com/notebooks/data_table.ipynb>data table notebook</a>'\n",
              "            + ' to learn more about interactive tables.';\n",
              "          element.innerHTML = '';\n",
              "          dataTable['output_type'] = 'display_data';\n",
              "          await google.colab.output.renderOutput(dataTable, element);\n",
              "          const docLink = document.createElement('div');\n",
              "          docLink.innerHTML = docLinkHtml;\n",
              "          element.appendChild(docLink);\n",
              "        }\n",
              "      </script>\n",
              "    </div>\n",
              "  </div>\n",
              "  "
            ]
          },
          "metadata": {},
          "execution_count": 28
        }
      ]
    },
    {
      "cell_type": "code",
      "execution_count": null,
      "metadata": {
        "collapsed": true,
        "colab": {
          "base_uri": "https://localhost:8080/"
        },
        "id": "q46oGjQVxPvP",
        "outputId": "2f4ebc77-dd56-4dd1-eea3-1fc908743721"
      },
      "outputs": [
        {
          "output_type": "execute_result",
          "data": {
            "text/plain": [
              "age        9\n",
              "bp        12\n",
              "sg        47\n",
              "al        46\n",
              "su        49\n",
              "rbc      152\n",
              "pc        65\n",
              "pcc        4\n",
              "ba         4\n",
              "bgr       44\n",
              "bu        19\n",
              "sc        17\n",
              "sod       87\n",
              "pot       88\n",
              "hemo      52\n",
              "pcv       71\n",
              "wbcc     106\n",
              "rbcc     131\n",
              "htn        2\n",
              "dm         2\n",
              "cad        2\n",
              "appet      1\n",
              "pe         1\n",
              "ane        1\n",
              "class      0\n",
              "dtype: int64"
            ]
          },
          "metadata": {},
          "execution_count": 29
        }
      ],
      "source": [
        "df.isnull().sum()"
      ]
    },
    {
      "cell_type": "markdown",
      "metadata": {
        "id": "BxvckI7mxPvQ"
      },
      "source": [
        "### 4. Suppose that I dropped every row that contained at least one missing value. (In the context of analysis with missing data, we call this a \"complete case analysis,\" because we keep only the complete cases!) How many rows would remain in our dataframe? What are at least two downsides to doing this?\n",
        "\n",
        "> There's a good visual on slide 15 of [this deck](https://liberalarts.utexas.edu/prc/_files/cs/Missing-Data.pdf) that shows what a complete case analysis looks like if you're interested."
      ]
    },
    {
      "cell_type": "code",
      "source": [
        "df.shape"
      ],
      "metadata": {
        "colab": {
          "base_uri": "https://localhost:8080/"
        },
        "id": "NfqW7UmiLpkL",
        "outputId": "0258b53a-aec4-470c-8e75-dacacb5e3531"
      },
      "execution_count": null,
      "outputs": [
        {
          "output_type": "execute_result",
          "data": {
            "text/plain": [
              "(400, 25)"
            ]
          },
          "metadata": {},
          "execution_count": 30
        }
      ]
    },
    {
      "cell_type": "code",
      "source": [
        "df_2 = df.dropna()\n",
        "df_2.shape"
      ],
      "metadata": {
        "colab": {
          "base_uri": "https://localhost:8080/"
        },
        "id": "bVK8d7fXLzBo",
        "outputId": "9e06478d-2a7b-4c68-e4ea-9e6cfefc2632"
      },
      "execution_count": null,
      "outputs": [
        {
          "output_type": "execute_result",
          "data": {
            "text/plain": [
              "(158, 25)"
            ]
          },
          "metadata": {},
          "execution_count": 31
        }
      ]
    },
    {
      "cell_type": "markdown",
      "metadata": {
        "id": "6I8IXrzExPvR"
      },
      "source": [
        "Answer: 158 rows. "
      ]
    },
    {
      "cell_type": "code",
      "source": [
        "df.info()"
      ],
      "metadata": {
        "colab": {
          "base_uri": "https://localhost:8080/"
        },
        "id": "jBfCrYtvRVb1",
        "outputId": "58c8c341-8337-4902-bdd4-cfc4eeae929d"
      },
      "execution_count": null,
      "outputs": [
        {
          "output_type": "stream",
          "name": "stdout",
          "text": [
            "<class 'pandas.core.frame.DataFrame'>\n",
            "RangeIndex: 400 entries, 0 to 399\n",
            "Data columns (total 25 columns):\n",
            " #   Column  Non-Null Count  Dtype  \n",
            "---  ------  --------------  -----  \n",
            " 0   age     391 non-null    float64\n",
            " 1   bp      388 non-null    float64\n",
            " 2   sg      353 non-null    float64\n",
            " 3   al      354 non-null    float64\n",
            " 4   su      351 non-null    float64\n",
            " 5   rbc     248 non-null    object \n",
            " 6   pc      335 non-null    object \n",
            " 7   pcc     396 non-null    object \n",
            " 8   ba      396 non-null    object \n",
            " 9   bgr     356 non-null    float64\n",
            " 10  bu      381 non-null    float64\n",
            " 11  sc      383 non-null    float64\n",
            " 12  sod     313 non-null    float64\n",
            " 13  pot     312 non-null    float64\n",
            " 14  hemo    348 non-null    float64\n",
            " 15  pcv     329 non-null    float64\n",
            " 16  wbcc    294 non-null    float64\n",
            " 17  rbcc    269 non-null    float64\n",
            " 18  htn     398 non-null    object \n",
            " 19  dm      398 non-null    object \n",
            " 20  cad     398 non-null    object \n",
            " 21  appet   399 non-null    object \n",
            " 22  pe      399 non-null    object \n",
            " 23  ane     399 non-null    object \n",
            " 24  class   400 non-null    object \n",
            "dtypes: float64(14), object(11)\n",
            "memory usage: 78.2+ KB\n"
          ]
        }
      ]
    },
    {
      "cell_type": "markdown",
      "source": [
        "### Dealing with missing values. I dropped a few columns that I did not feel were strongly associated with CKD and had a lot of missing values."
      ],
      "metadata": {
        "id": "lE8pDo0_h8zR"
      }
    },
    {
      "cell_type": "code",
      "source": [
        "df.drop(['pc','rbc','pcv','sod','wbcc','rbcc'], axis=1, inplace=True)"
      ],
      "metadata": {
        "id": "nvn4-66jRYoV"
      },
      "execution_count": null,
      "outputs": []
    },
    {
      "cell_type": "code",
      "source": [
        "df.info()"
      ],
      "metadata": {
        "colab": {
          "base_uri": "https://localhost:8080/"
        },
        "id": "MeHuV8TkRert",
        "outputId": "b80121d3-b3f1-4a64-f68f-9186d1371ecb"
      },
      "execution_count": null,
      "outputs": [
        {
          "output_type": "stream",
          "name": "stdout",
          "text": [
            "<class 'pandas.core.frame.DataFrame'>\n",
            "RangeIndex: 400 entries, 0 to 399\n",
            "Data columns (total 19 columns):\n",
            " #   Column  Non-Null Count  Dtype  \n",
            "---  ------  --------------  -----  \n",
            " 0   age     391 non-null    float64\n",
            " 1   bp      388 non-null    float64\n",
            " 2   sg      353 non-null    float64\n",
            " 3   al      354 non-null    float64\n",
            " 4   su      351 non-null    float64\n",
            " 5   pcc     396 non-null    object \n",
            " 6   ba      396 non-null    object \n",
            " 7   bgr     356 non-null    float64\n",
            " 8   bu      381 non-null    float64\n",
            " 9   sc      383 non-null    float64\n",
            " 10  pot     312 non-null    float64\n",
            " 11  hemo    348 non-null    float64\n",
            " 12  htn     398 non-null    object \n",
            " 13  dm      398 non-null    object \n",
            " 14  cad     398 non-null    object \n",
            " 15  appet   399 non-null    object \n",
            " 16  pe      399 non-null    object \n",
            " 17  ane     399 non-null    object \n",
            " 18  class   400 non-null    object \n",
            "dtypes: float64(10), object(9)\n",
            "memory usage: 59.5+ KB\n"
          ]
        }
      ]
    },
    {
      "cell_type": "code",
      "source": [
        "df_3 = df\n",
        "df_3.info()"
      ],
      "metadata": {
        "colab": {
          "base_uri": "https://localhost:8080/"
        },
        "id": "pnEcsaLgl4WK",
        "outputId": "22d7c212-1639-4599-ab7a-d34d59224397"
      },
      "execution_count": null,
      "outputs": [
        {
          "output_type": "stream",
          "name": "stdout",
          "text": [
            "<class 'pandas.core.frame.DataFrame'>\n",
            "RangeIndex: 400 entries, 0 to 399\n",
            "Data columns (total 19 columns):\n",
            " #   Column  Non-Null Count  Dtype  \n",
            "---  ------  --------------  -----  \n",
            " 0   age     391 non-null    float64\n",
            " 1   bp      388 non-null    float64\n",
            " 2   sg      353 non-null    float64\n",
            " 3   al      354 non-null    float64\n",
            " 4   su      351 non-null    float64\n",
            " 5   pcc     396 non-null    object \n",
            " 6   ba      396 non-null    object \n",
            " 7   bgr     356 non-null    float64\n",
            " 8   bu      381 non-null    float64\n",
            " 9   sc      383 non-null    float64\n",
            " 10  pot     312 non-null    float64\n",
            " 11  hemo    348 non-null    float64\n",
            " 12  htn     398 non-null    object \n",
            " 13  dm      398 non-null    object \n",
            " 14  cad     398 non-null    object \n",
            " 15  appet   399 non-null    object \n",
            " 16  pe      399 non-null    object \n",
            " 17  ane     399 non-null    object \n",
            " 18  class   400 non-null    object \n",
            "dtypes: float64(10), object(9)\n",
            "memory usage: 59.5+ KB\n"
          ]
        }
      ]
    },
    {
      "cell_type": "code",
      "source": [
        "df_3.fillna(0, inplace=True)\n",
        "df_3.info()"
      ],
      "metadata": {
        "colab": {
          "base_uri": "https://localhost:8080/"
        },
        "id": "7E3E0eefnMny",
        "outputId": "19f291cb-9692-4caa-94fb-b31530e2a203"
      },
      "execution_count": null,
      "outputs": [
        {
          "output_type": "stream",
          "name": "stdout",
          "text": [
            "<class 'pandas.core.frame.DataFrame'>\n",
            "RangeIndex: 400 entries, 0 to 399\n",
            "Data columns (total 19 columns):\n",
            " #   Column  Non-Null Count  Dtype  \n",
            "---  ------  --------------  -----  \n",
            " 0   age     400 non-null    float64\n",
            " 1   bp      400 non-null    float64\n",
            " 2   sg      400 non-null    float64\n",
            " 3   al      400 non-null    float64\n",
            " 4   su      400 non-null    float64\n",
            " 5   pcc     400 non-null    object \n",
            " 6   ba      400 non-null    object \n",
            " 7   bgr     400 non-null    float64\n",
            " 8   bu      400 non-null    float64\n",
            " 9   sc      400 non-null    float64\n",
            " 10  pot     400 non-null    float64\n",
            " 11  hemo    400 non-null    float64\n",
            " 12  htn     400 non-null    object \n",
            " 13  dm      400 non-null    object \n",
            " 14  cad     400 non-null    object \n",
            " 15  appet   400 non-null    object \n",
            " 16  pe      400 non-null    object \n",
            " 17  ane     400 non-null    object \n",
            " 18  class   400 non-null    object \n",
            "dtypes: float64(10), object(9)\n",
            "memory usage: 59.5+ KB\n"
          ]
        }
      ]
    },
    {
      "cell_type": "code",
      "source": [
        "# drop rows where columns have '0' values for the following\n",
        "df_3 = df[(df_3[['ba', 'htn', 'dm', 'cad', 'appet', 'pe', 'ane']] != 0).all(axis=1)]\n",
        "\n",
        "# print the resulting dataframe\n",
        "print(df_3)\n"
      ],
      "metadata": {
        "id": "ACfG3byF0GJP"
      },
      "execution_count": null,
      "outputs": []
    },
    {
      "cell_type": "code",
      "source": [
        "df_3.info()"
      ],
      "metadata": {
        "colab": {
          "base_uri": "https://localhost:8080/"
        },
        "id": "Hb9KGjLl1z-a",
        "outputId": "b5fc57dd-03bd-49ca-e4c0-60290d1ee48d"
      },
      "execution_count": null,
      "outputs": [
        {
          "output_type": "stream",
          "name": "stdout",
          "text": [
            "<class 'pandas.core.frame.DataFrame'>\n",
            "Int64Index: 393 entries, 0 to 399\n",
            "Data columns (total 19 columns):\n",
            " #   Column  Non-Null Count  Dtype  \n",
            "---  ------  --------------  -----  \n",
            " 0   age     393 non-null    float64\n",
            " 1   bp      393 non-null    float64\n",
            " 2   sg      393 non-null    float64\n",
            " 3   al      393 non-null    float64\n",
            " 4   su      393 non-null    float64\n",
            " 5   pcc     393 non-null    object \n",
            " 6   ba      393 non-null    object \n",
            " 7   bgr     393 non-null    float64\n",
            " 8   bu      393 non-null    float64\n",
            " 9   sc      393 non-null    float64\n",
            " 10  pot     393 non-null    float64\n",
            " 11  hemo    393 non-null    float64\n",
            " 12  htn     393 non-null    object \n",
            " 13  dm      393 non-null    object \n",
            " 14  cad     393 non-null    object \n",
            " 15  appet   393 non-null    object \n",
            " 16  pe      393 non-null    object \n",
            " 17  ane     393 non-null    object \n",
            " 18  class   393 non-null    object \n",
            "dtypes: float64(10), object(9)\n",
            "memory usage: 61.4+ KB\n"
          ]
        }
      ]
    },
    {
      "cell_type": "code",
      "source": [
        "\n",
        "# show unique values for each column\n",
        "print(df_3['ba'].unique())\n",
        "print(df_3['htn'].unique())\n",
        "print(df_3['dm'].unique())\n",
        "print(df_3['cad'].unique())\n",
        "print(df_3['appet'].unique())\n",
        "print(df_3['pe'].unique())\n",
        "print(df_3['ane'].unique())\n"
      ],
      "metadata": {
        "colab": {
          "base_uri": "https://localhost:8080/"
        },
        "id": "CNaagH2n2Mn5",
        "outputId": "25a7852e-923f-4369-cf32-d1630c5243fd"
      },
      "execution_count": null,
      "outputs": [
        {
          "output_type": "stream",
          "name": "stdout",
          "text": [
            "['notpresent' 'present']\n",
            "['yes' 'no']\n",
            "['yes' 'no']\n",
            "['no' 'yes']\n",
            "['good' 'poor']\n",
            "['no' 'yes']\n",
            "['no' 'yes']\n"
          ]
        }
      ]
    },
    {
      "cell_type": "code",
      "source": [
        "df_3.info()"
      ],
      "metadata": {
        "colab": {
          "base_uri": "https://localhost:8080/"
        },
        "id": "ymK0TYON4M5E",
        "outputId": "5f3186f5-6663-4c50-f68e-3bb135badc9f"
      },
      "execution_count": null,
      "outputs": [
        {
          "output_type": "stream",
          "name": "stdout",
          "text": [
            "<class 'pandas.core.frame.DataFrame'>\n",
            "Int64Index: 393 entries, 0 to 399\n",
            "Data columns (total 19 columns):\n",
            " #   Column  Non-Null Count  Dtype  \n",
            "---  ------  --------------  -----  \n",
            " 0   age     393 non-null    float64\n",
            " 1   bp      393 non-null    float64\n",
            " 2   sg      393 non-null    float64\n",
            " 3   al      393 non-null    float64\n",
            " 4   su      393 non-null    float64\n",
            " 5   pcc     393 non-null    object \n",
            " 6   ba      393 non-null    object \n",
            " 7   bgr     393 non-null    float64\n",
            " 8   bu      393 non-null    float64\n",
            " 9   sc      393 non-null    float64\n",
            " 10  pot     393 non-null    float64\n",
            " 11  hemo    393 non-null    float64\n",
            " 12  htn     393 non-null    object \n",
            " 13  dm      393 non-null    object \n",
            " 14  cad     393 non-null    object \n",
            " 15  appet   393 non-null    object \n",
            " 16  pe      393 non-null    object \n",
            " 17  ane     393 non-null    object \n",
            " 18  class   393 non-null    object \n",
            "dtypes: float64(10), object(9)\n",
            "memory usage: 61.4+ KB\n"
          ]
        }
      ]
    },
    {
      "cell_type": "markdown",
      "metadata": {
        "id": "zEUL3Yh_xPvR"
      },
      "source": [
        "### 5. Thinking critically about how our data were gathered, it's likely that these records were gathered by doctors and nurses. Brainstorm three potential areas (in addition to the missing data we've already discussed) where this data might be inaccurate or imprecise."
      ]
    },
    {
      "cell_type": "markdown",
      "metadata": {
        "id": "4EjIQSVWxPvR"
      },
      "source": [
        "Answer: \n",
        "1. Human error on the part of health care workers\n",
        "2. Different practices of recording data in different hospitals/clinics. No universal standards, so there may be error in merging the data. \n",
        "3. Health records were not properly QC'd and missing values went unnoticed.\n",
        "4. Maybe the test panels ordered were not all the same. \n",
        "5. Test subject refusal to respond to age question. "
      ]
    },
    {
      "cell_type": "markdown",
      "metadata": {
        "id": "onpt17IjxPvS"
      },
      "source": [
        "---\n",
        "\n",
        "## Step 4: Model the data.\n",
        "\n",
        "### 6. Suppose that I want to construct a model where no person who has CKD will ever be told that they do not have CKD. What (very simple, no machine learning needed) model can I create that will never tell a person with CKD that they do not have CKD?\n",
        "\n",
        "> Hint: Don't think about `statsmodels` or `scikit-learn` here."
      ]
    },
    {
      "cell_type": "markdown",
      "metadata": {
        "id": "iqpDc_kQxPvS"
      },
      "source": [
        "Answer: A model that predicts that person always has CKD no matter the health condition. This will create false positives. This is the least harmful model becuase it minimizes false negatives. "
      ]
    },
    {
      "cell_type": "markdown",
      "metadata": {
        "id": "2OgEuKV0xPvT"
      },
      "source": [
        "### 7. In problem 6, what common classification metric did we optimize for? Did we minimize false positives or negatives?"
      ]
    },
    {
      "cell_type": "markdown",
      "metadata": {
        "id": "QxzU6iVMxPvT"
      },
      "source": [
        "Answer: We optimized for sensitvity. False negatives were minimized. "
      ]
    },
    {
      "cell_type": "markdown",
      "metadata": {
        "id": "8iZALwjTxPvT"
      },
      "source": [
        "### 8. Thinking ethically, what is at least one disadvantage to the model you described in problem 6?"
      ]
    },
    {
      "cell_type": "markdown",
      "metadata": {
        "id": "c7OLKZ88xPvT"
      },
      "source": [
        "Answer:A high number of false positives, wasting money and treating people who don't need treatment. The usual treatment for CKD is some type of blood pressure medication. Those come with their own set of risks. "
      ]
    },
    {
      "cell_type": "markdown",
      "metadata": {
        "id": "rgA7xZDvxPvU"
      },
      "source": [
        "### 9. Suppose that I want to construct a model where a person who does not have CKD will ever be told that they do have CKD. What (very simple, no machine learning needed) model can I create that will accomplish this?"
      ]
    },
    {
      "cell_type": "markdown",
      "metadata": {
        "id": "LSa2SVUGxPvU"
      },
      "source": [
        "Answer: Create a model where a person does not have CKD unless the Glomular Filtration Rate is less than 60 for 3 or more months. This creates a situation where people have CKD and they are unaware. "
      ]
    },
    {
      "cell_type": "markdown",
      "metadata": {
        "id": "FHmOSX-wxPvU"
      },
      "source": [
        "### 10. In problem 9, what common classification metric did we optimize for? Did we minimize false positives or negatives?"
      ]
    },
    {
      "cell_type": "markdown",
      "metadata": {
        "id": "bEPf8PSUxPvV"
      },
      "source": [
        "Answer: We minimized for false positives but this hurts certain populations. "
      ]
    },
    {
      "cell_type": "markdown",
      "metadata": {
        "id": "-hP7IIIgxPvV"
      },
      "source": [
        "### 11. Thinking ethically, what is at least one disadvantage to the model you described in problem 9?"
      ]
    },
    {
      "cell_type": "markdown",
      "metadata": {
        "id": "5PuA_QopxPvV"
      },
      "source": [
        "Answer: This is problematic because a person could have a GFR rate of less than 60 with one doctor. Perhaps they change doctors and go for a visit a year later with the new docotor to have a GFR rate of less than 60. Well, most people don't get a panel blood test done every month so a person could have a GFR of less than 60 for years and it will not be caught until more serious issues arise like hypertension or worse signs of kidney failure. Also GFR rates for people of African descent are thought to be under-estimated. Interpreting GFR rates for people of African descent can be tricky so waiting it out may be harmful. This would cause a lot of false negatives. "
      ]
    },
    {
      "cell_type": "markdown",
      "metadata": {
        "id": "blJWDQwdxPvV"
      },
      "source": [
        "### 12. Construct a logistic regression model in `sklearn` predicting class from the other variables. You may scale, select/drop, and engineer features as you wish - build a good model! Make sure, however, that you include at least one categorical/dummy feature and at least one quantitative feature.\n",
        "\n",
        "> Hint: Remember to do a train/test split!"
      ]
    },
    {
      "cell_type": "code",
      "source": [],
      "metadata": {
        "id": "smKydSMwxOs0"
      },
      "execution_count": null,
      "outputs": []
    },
    {
      "cell_type": "code",
      "source": [
        "cols_to_dummy = ['htn', 'dm', 'cad', 'appet', 'pe', 'ane','ba', 'pcc']\n",
        "\n",
        "for col in cols_to_dummy:\n",
        "    dummies = pd.get_dummies(df_3[col], prefix=col, drop_first=True)\n",
        "    df_3 = pd.concat([df_3, dummies], axis=1)\n",
        "\n",
        "df_3.drop(cols_to_dummy, axis=1, inplace=True)\n"
      ],
      "metadata": {
        "id": "vSa5VzaC2nFa"
      },
      "execution_count": null,
      "outputs": []
    },
    {
      "cell_type": "code",
      "source": [
        "#change class to 0 and 1. NoCkd = 1, Ckd =0\n",
        "df_3['class'].unique()"
      ],
      "metadata": {
        "colab": {
          "base_uri": "https://localhost:8080/"
        },
        "id": "50kXKCwC5Oyy",
        "outputId": "1547d791-fa38-4c14-86af-3acc64156df6"
      },
      "execution_count": null,
      "outputs": [
        {
          "output_type": "execute_result",
          "data": {
            "text/plain": [
              "array(['ckd', 'notckd'], dtype=object)"
            ]
          },
          "metadata": {},
          "execution_count": 43
        }
      ]
    },
    {
      "cell_type": "code",
      "source": [
        "df_3['class'] = df_3['class'].replace({'ckd': 1, 'notckd': 0})\n",
        "df_3.info()"
      ],
      "metadata": {
        "colab": {
          "base_uri": "https://localhost:8080/"
        },
        "id": "D6zuwC-y56TQ",
        "outputId": "3fffd589-1974-4d9e-9918-34a1fe297d0f"
      },
      "execution_count": null,
      "outputs": [
        {
          "output_type": "stream",
          "name": "stdout",
          "text": [
            "<class 'pandas.core.frame.DataFrame'>\n",
            "Int64Index: 393 entries, 0 to 399\n",
            "Data columns (total 19 columns):\n",
            " #   Column       Non-Null Count  Dtype  \n",
            "---  ------       --------------  -----  \n",
            " 0   age          393 non-null    float64\n",
            " 1   bp           393 non-null    float64\n",
            " 2   sg           393 non-null    float64\n",
            " 3   al           393 non-null    float64\n",
            " 4   su           393 non-null    float64\n",
            " 5   bgr          393 non-null    float64\n",
            " 6   bu           393 non-null    float64\n",
            " 7   sc           393 non-null    float64\n",
            " 8   pot          393 non-null    float64\n",
            " 9   hemo         393 non-null    float64\n",
            " 10  class        393 non-null    int64  \n",
            " 11  htn_yes      393 non-null    uint8  \n",
            " 12  dm_yes       393 non-null    uint8  \n",
            " 13  cad_yes      393 non-null    uint8  \n",
            " 14  appet_poor   393 non-null    uint8  \n",
            " 15  pe_yes       393 non-null    uint8  \n",
            " 16  ane_yes      393 non-null    uint8  \n",
            " 17  ba_present   393 non-null    uint8  \n",
            " 18  pcc_present  393 non-null    uint8  \n",
            "dtypes: float64(10), int64(1), uint8(8)\n",
            "memory usage: 39.9 KB\n"
          ]
        }
      ]
    },
    {
      "cell_type": "code",
      "source": [
        "# Features and target variable\n",
        "y = df_3['class']\n",
        "X = df_3.iloc[:, 11:19]\n",
        "\n",
        "\n",
        "\n"
      ],
      "metadata": {
        "id": "yX83CkfU6yPc"
      },
      "execution_count": null,
      "outputs": []
    },
    {
      "cell_type": "code",
      "source": [
        "from sklearn.model_selection import train_test_split\n",
        "from sklearn.linear_model import LogisticRegression\n",
        "from sklearn.metrics import accuracy_score\n",
        "\n",
        "# Define features and Target variables\n",
        "X = df_3.iloc[:, 11:19]\n",
        "y = df_3['class']\n",
        "\n",
        "# Split data into training and testing sets\n",
        "X_train, X_test, y_train, y_test = train_test_split(X, y, test_size=0.2, random_state=42)\n",
        "\n",
        "# Instantiate logistic regression model and fit to training data\n",
        "logreg = LogisticRegression()\n",
        "logreg.fit(X_train, y_train)\n",
        "\n",
        "# Predict on testing data and calculate accuracy score\n",
        "y_pred = logreg.predict(X_test)\n",
        "accuracy = accuracy_score(y_test, y_pred)\n",
        "print(\"Accuracy score:\", accuracy)\n"
      ],
      "metadata": {
        "colab": {
          "base_uri": "https://localhost:8080/"
        },
        "id": "BW02Vrfp8PsX",
        "outputId": "ccce85f9-90b9-4ab2-bdd3-d3e66451cf38"
      },
      "execution_count": null,
      "outputs": [
        {
          "output_type": "stream",
          "name": "stdout",
          "text": [
            "Accuracy score: 0.9240506329113924\n"
          ]
        }
      ]
    },
    {
      "cell_type": "code",
      "source": [
        "logreg.score(X_train, y_train)"
      ],
      "metadata": {
        "colab": {
          "base_uri": "https://localhost:8080/"
        },
        "id": "SrmDxT4I95Mc",
        "outputId": "60819bd3-2e01-4cc5-e15c-04b3015ce80f"
      },
      "execution_count": null,
      "outputs": [
        {
          "output_type": "execute_result",
          "data": {
            "text/plain": [
              "0.910828025477707"
            ]
          },
          "metadata": {},
          "execution_count": 47
        }
      ]
    },
    {
      "cell_type": "code",
      "source": [
        "logreg.score(X_test, y_test)"
      ],
      "metadata": {
        "colab": {
          "base_uri": "https://localhost:8080/"
        },
        "id": "taxqX_0C_4K1",
        "outputId": "5cc6e918-26ce-4bbd-8613-4b11c602a1ba"
      },
      "execution_count": null,
      "outputs": [
        {
          "output_type": "execute_result",
          "data": {
            "text/plain": [
              "0.9240506329113924"
            ]
          },
          "metadata": {},
          "execution_count": 48
        }
      ]
    },
    {
      "cell_type": "markdown",
      "metadata": {
        "id": "E-X4Ra7XxPvW"
      },
      "source": [
        "---\n",
        "\n",
        "## Step 5: Evaluate the model.\n",
        "\n",
        "### 13. Based on your logistic regression model constructed in problem 12, interpret the coefficient of one of your quantitative features."
      ]
    },
    {
      "cell_type": "code",
      "execution_count": null,
      "metadata": {
        "collapsed": true,
        "colab": {
          "base_uri": "https://localhost:8080/"
        },
        "id": "gQ3Vv5XJxPvW",
        "outputId": "0ea78124-8c03-4ed9-f3a5-643df50959a1"
      },
      "outputs": [
        {
          "output_type": "execute_result",
          "data": {
            "text/plain": [
              "array([[2.55780507, 2.70886441, 0.68782444, 1.81361636, 2.05613389,\n",
              "        1.61478859, 0.66858586, 1.46730047]])"
            ]
          },
          "metadata": {},
          "execution_count": 49
        }
      ],
      "source": [
        "logreg.coef_"
      ]
    },
    {
      "cell_type": "markdown",
      "metadata": {
        "id": "XFJr8NFHxPvW"
      },
      "source": [
        "### 14. Based on your logistic regression model constructed in problem 12, interpret the coefficient of one of your categorical/dummy features."
      ]
    },
    {
      "cell_type": "code",
      "execution_count": null,
      "metadata": {
        "collapsed": true,
        "colab": {
          "base_uri": "https://localhost:8080/"
        },
        "id": "W5E-bjIBxPvX",
        "outputId": "b800887a-028c-4114-a2ed-5d19b2b0efd1"
      },
      "outputs": [
        {
          "output_type": "execute_result",
          "data": {
            "text/plain": [
              "12.89706801660682"
            ]
          },
          "metadata": {},
          "execution_count": 80
        }
      ],
      "source": [
        "#htn - Hypertension\n",
        "import numpy as np\n",
        "np.exp(2.557)"
      ]
    },
    {
      "cell_type": "markdown",
      "source": [
        "Answer: A person presenting with hypertension would have an almost 13 times greater likelihood or probability of having CKD compared to those without hypertension. Assuming everything else is the same.  "
      ],
      "metadata": {
        "id": "2soMGnmqfcjv"
      }
    },
    {
      "cell_type": "markdown",
      "metadata": {
        "id": "ZK4EEZnzxPvX"
      },
      "source": [
        "### 15. Despite being a relatively simple model, logistic regression is very widely used in the real world. Why do you think that's the case? Name at least two advantages to using logistic regression as a modeling technique."
      ]
    },
    {
      "cell_type": "markdown",
      "metadata": {
        "id": "UWWMLEIIxPvX"
      },
      "source": [
        "## Answer:The simplicity makes Logistic regressions easy to interpret because it is binary or based on probability. The impact of each variable can be easily understood. Large data sets can be trained in a short amount of time. **Source:**  file:///C:/Users/bridg/AppData/Local/Temp/Temp1_lab-4.02-classification-evaluation-master.zip/lab-4.02-classification-evaluation-master/chronic_kidney_disease.pdf"
      ]
    },
    {
      "cell_type": "markdown",
      "metadata": {
        "id": "ofHj7zbTxPvX"
      },
      "source": [
        "### 16. Does it make sense to generate a confusion matrix on our training data or our test data? Why? Generate it on the proper data.\n",
        "\n",
        "> Hint: Once you've generated your predicted $y$ values and you have your observed $y$ values, then it will be easy to [generate a confusion matrix using sklearn](http://scikit-learn.org/stable/modules/generated/sklearn.metrics.confusion_matrix.html)."
      ]
    },
    {
      "cell_type": "code",
      "execution_count": null,
      "metadata": {
        "collapsed": true,
        "colab": {
          "base_uri": "https://localhost:8080/"
        },
        "id": "tYXGJ49XxPvY",
        "outputId": "705c2f26-4daf-49c1-8b47-6d77eecd587e"
      },
      "outputs": [
        {
          "output_type": "stream",
          "name": "stdout",
          "text": [
            "[[22  0]\n",
            " [ 6 51]]\n"
          ]
        }
      ],
      "source": [
        "from sklearn.metrics import confusion_matrix\n",
        "\n",
        "y_pred = logreg.predict(X_test)\n",
        "cm = confusion_matrix(y_test, y_pred)\n",
        "\n",
        "print(cm)\n"
      ]
    },
    {
      "cell_type": "code",
      "source": [
        "\n",
        "# create confusion matrix df\n",
        "cm = pd.DataFrame(cm, columns=['Pred Negative','Pred Positive'], index=['Actual Negative','Actual Positive'])\n",
        "cm"
      ],
      "metadata": {
        "colab": {
          "base_uri": "https://localhost:8080/",
          "height": 112
        },
        "id": "UP3KarZfSMse",
        "outputId": "e3b61121-5bc7-41e8-9545-ef223ed6caca"
      },
      "execution_count": null,
      "outputs": [
        {
          "output_type": "execute_result",
          "data": {
            "text/plain": [
              "                 Pred Negative  Pred Positive\n",
              "Actual Negative             22              0\n",
              "Actual Positive              6             51"
            ],
            "text/html": [
              "\n",
              "  <div id=\"df-46f1ece7-1ed2-4a16-b30a-3cb20bc8c8ab\">\n",
              "    <div class=\"colab-df-container\">\n",
              "      <div>\n",
              "<style scoped>\n",
              "    .dataframe tbody tr th:only-of-type {\n",
              "        vertical-align: middle;\n",
              "    }\n",
              "\n",
              "    .dataframe tbody tr th {\n",
              "        vertical-align: top;\n",
              "    }\n",
              "\n",
              "    .dataframe thead th {\n",
              "        text-align: right;\n",
              "    }\n",
              "</style>\n",
              "<table border=\"1\" class=\"dataframe\">\n",
              "  <thead>\n",
              "    <tr style=\"text-align: right;\">\n",
              "      <th></th>\n",
              "      <th>Pred Negative</th>\n",
              "      <th>Pred Positive</th>\n",
              "    </tr>\n",
              "  </thead>\n",
              "  <tbody>\n",
              "    <tr>\n",
              "      <th>Actual Negative</th>\n",
              "      <td>22</td>\n",
              "      <td>0</td>\n",
              "    </tr>\n",
              "    <tr>\n",
              "      <th>Actual Positive</th>\n",
              "      <td>6</td>\n",
              "      <td>51</td>\n",
              "    </tr>\n",
              "  </tbody>\n",
              "</table>\n",
              "</div>\n",
              "      <button class=\"colab-df-convert\" onclick=\"convertToInteractive('df-46f1ece7-1ed2-4a16-b30a-3cb20bc8c8ab')\"\n",
              "              title=\"Convert this dataframe to an interactive table.\"\n",
              "              style=\"display:none;\">\n",
              "        \n",
              "  <svg xmlns=\"http://www.w3.org/2000/svg\" height=\"24px\"viewBox=\"0 0 24 24\"\n",
              "       width=\"24px\">\n",
              "    <path d=\"M0 0h24v24H0V0z\" fill=\"none\"/>\n",
              "    <path d=\"M18.56 5.44l.94 2.06.94-2.06 2.06-.94-2.06-.94-.94-2.06-.94 2.06-2.06.94zm-11 1L8.5 8.5l.94-2.06 2.06-.94-2.06-.94L8.5 2.5l-.94 2.06-2.06.94zm10 10l.94 2.06.94-2.06 2.06-.94-2.06-.94-.94-2.06-.94 2.06-2.06.94z\"/><path d=\"M17.41 7.96l-1.37-1.37c-.4-.4-.92-.59-1.43-.59-.52 0-1.04.2-1.43.59L10.3 9.45l-7.72 7.72c-.78.78-.78 2.05 0 2.83L4 21.41c.39.39.9.59 1.41.59.51 0 1.02-.2 1.41-.59l7.78-7.78 2.81-2.81c.8-.78.8-2.07 0-2.86zM5.41 20L4 18.59l7.72-7.72 1.47 1.35L5.41 20z\"/>\n",
              "  </svg>\n",
              "      </button>\n",
              "      \n",
              "  <style>\n",
              "    .colab-df-container {\n",
              "      display:flex;\n",
              "      flex-wrap:wrap;\n",
              "      gap: 12px;\n",
              "    }\n",
              "\n",
              "    .colab-df-convert {\n",
              "      background-color: #E8F0FE;\n",
              "      border: none;\n",
              "      border-radius: 50%;\n",
              "      cursor: pointer;\n",
              "      display: none;\n",
              "      fill: #1967D2;\n",
              "      height: 32px;\n",
              "      padding: 0 0 0 0;\n",
              "      width: 32px;\n",
              "    }\n",
              "\n",
              "    .colab-df-convert:hover {\n",
              "      background-color: #E2EBFA;\n",
              "      box-shadow: 0px 1px 2px rgba(60, 64, 67, 0.3), 0px 1px 3px 1px rgba(60, 64, 67, 0.15);\n",
              "      fill: #174EA6;\n",
              "    }\n",
              "\n",
              "    [theme=dark] .colab-df-convert {\n",
              "      background-color: #3B4455;\n",
              "      fill: #D2E3FC;\n",
              "    }\n",
              "\n",
              "    [theme=dark] .colab-df-convert:hover {\n",
              "      background-color: #434B5C;\n",
              "      box-shadow: 0px 1px 3px 1px rgba(0, 0, 0, 0.15);\n",
              "      filter: drop-shadow(0px 1px 2px rgba(0, 0, 0, 0.3));\n",
              "      fill: #FFFFFF;\n",
              "    }\n",
              "  </style>\n",
              "\n",
              "      <script>\n",
              "        const buttonEl =\n",
              "          document.querySelector('#df-46f1ece7-1ed2-4a16-b30a-3cb20bc8c8ab button.colab-df-convert');\n",
              "        buttonEl.style.display =\n",
              "          google.colab.kernel.accessAllowed ? 'block' : 'none';\n",
              "\n",
              "        async function convertToInteractive(key) {\n",
              "          const element = document.querySelector('#df-46f1ece7-1ed2-4a16-b30a-3cb20bc8c8ab');\n",
              "          const dataTable =\n",
              "            await google.colab.kernel.invokeFunction('convertToInteractive',\n",
              "                                                     [key], {});\n",
              "          if (!dataTable) return;\n",
              "\n",
              "          const docLinkHtml = 'Like what you see? Visit the ' +\n",
              "            '<a target=\"_blank\" href=https://colab.research.google.com/notebooks/data_table.ipynb>data table notebook</a>'\n",
              "            + ' to learn more about interactive tables.';\n",
              "          element.innerHTML = '';\n",
              "          dataTable['output_type'] = 'display_data';\n",
              "          await google.colab.output.renderOutput(dataTable, element);\n",
              "          const docLink = document.createElement('div');\n",
              "          docLink.innerHTML = docLinkHtml;\n",
              "          element.appendChild(docLink);\n",
              "        }\n",
              "      </script>\n",
              "    </div>\n",
              "  </div>\n",
              "  "
            ]
          },
          "metadata": {},
          "execution_count": 54
        }
      ]
    },
    {
      "cell_type": "markdown",
      "metadata": {
        "id": "gFRfj2kXxPvY"
      },
      "source": [
        "### 17. In this hospital case, we want to predict CKD. Do we want to optimize for sensitivity, specificity, or something else? Why? (If you don't think there's one clear answer, that's okay! There rarely is. Be sure to defend your conclusion!)"
      ]
    },
    {
      "cell_type": "markdown",
      "metadata": {
        "id": "5wRABfv0xPvY"
      },
      "source": [
        "Answer:Optimize for specificity to avoid false positives for the general population. For sub-groups of the population where there prevalence is much higher, perhaps a different approach should be taken. For the general population, this would make it less likely to label someone with CKD who may not have it. "
      ]
    },
    {
      "cell_type": "markdown",
      "metadata": {
        "id": "8KMkTUkjxPvY"
      },
      "source": [

    {
      "cell_type": "code",
      "execution_count": null,
      "metadata": {
        "collapsed": true,
        "id": "wgg1J2RlxPvZ"
      },
      "outputs": [],
      "source": []
    },
    {
      "cell_type": "markdown",
      "metadata": {
        "id": "fajuGbjyxPvZ"
      },
      "source": [
        "### 19. Suppose you're speaking with the biostatistics lead at Mayo Clinic, who asks you \"Why are unbalanced classes generally a problem? Are they a problem in this particular CKD analysis?\" How would you respond?"
      ]
    },
    {
      "cell_type": "markdown",
      "metadata": {
        "id": "X-2lTafIxPvZ"
      },
      "source": [
        "Answer: Unbalanced classes would perform poorly on minority classes. The unbalanced classes in this study are not truly a problem because the number of samples without CKD is 37% which isn't too bad. "
      ]
    },
    {
      "cell_type": "code",
      "source": [
        "df_3['class'].value_counts(normalize=True) * 100\n"
      ],
      "metadata": {
        "colab": {
          "base_uri": "https://localhost:8080/"
        },
        "id": "5hHcAaV5WW0t",
        "outputId": "59f65421-49e0-46f7-e9cf-676694e8d48b"
      },
      "execution_count": null,
      "outputs": [
        {
          "output_type": "execute_result",
          "data": {
            "text/plain": [
              "1    63.613232\n",
              "0    36.386768\n",
              "Name: class, dtype: float64"
            ]
          },
          "metadata": {},
          "execution_count": 57
        }
      ]
    },
    {
      "cell_type": "markdown",
      "metadata": {
        "id": "L5jU9QxhxPva"
      },
      "source": [
        "### 20. Suppose you're speaking with a doctor at Mayo Clinic who, despite being very smart, doesn't know much about data science or statistics. How would you explain why unbalanced classes are generally a problem to this doctor?"
      ]
    },
    {
      "cell_type": "markdown",
      "metadata": {
        "id": "ZkzmRPQ0xPva"
      },
      "source": [
        "Answer:Unbalanced classes are when one group significantly outnumbers the other in a study. In this study, there were more samples with CKD than without CKD. A model trained with unbalanced classes wouldn't do a good job of predicting for the smaller group and may not work well on new data or in real life.  "
      ]
    },
    {
      "cell_type": "markdown",
      "metadata": {
        "id": "7E8-n5I-xPva"
      },
      "source": [
        "### 21. Let's create very unbalanced classes just for the sake of this example! Generate very unbalanced classes by [bootstrapping](http://stattrek.com/statistics/dictionary.aspx?definition=sampling_with_replacement) (a.k.a. random sampling with replacement) the majority class.\n",
        "\n",
        "1. The majority class are those individuals with CKD.\n",
        "2. Generate a random sample of size 200,000 of individuals who have CKD **with replacement**. (Consider setting a random seed for this part!)\n",
        "3. Create a new dataframe with the original data plus this random sample of data.\n",
        "4. Now we should have a dataset with around 200,000 observations, of which only about 0.00075% are non-CKD individuals."
      ]
    },
    {
      "cell_type": "code",
      "source": [
        "df_3['class'].value_counts()"
      ],
      "metadata": {
        "colab": {
          "base_uri": "https://localhost:8080/"
        },
        "id": "xifK5yOCX8rB",
        "outputId": "695580a1-3627-4340-b969-c1042b256407"
      },
      "execution_count": null,
      "outputs": [
        {
          "output_type": "execute_result",
          "data": {
            "text/plain": [
              "1    250\n",
              "0    143\n",
              "Name: class, dtype: int64"
            ]
          },
          "metadata": {},
          "execution_count": 59
        }
      ]
    },
    {
      "cell_type": "code",
      "execution_count": null,
      "metadata": {
        "collapsed": true,
        "colab": {
          "base_uri": "https://localhost:8080/"
        },
        "id": "6nI5bUuixPva",
        "outputId": "caf90f54-24aa-44d7-c175-660948ac0f29"
      },
      "outputs": [
        {
          "output_type": "stream",
          "name": "stdout",
          "text": [
            "1    0.999285\n",
            "0    0.000715\n",
            "Name: class, dtype: float64\n"
          ]
        }
      ],
      "source": [
        "import numpy as np\n",
        "\n",
        "np.random.seed(42)  # set random seed \n",
        "\n",
        "# Get minority class data\n",
        "minority_class = df_3[df_3['class'] == 0]\n",
        "\n",
        "# Get majority class data\n",
        "majority_class = df_3[df_3['class'] == 1]\n",
        "\n",
        "# Bootstrap majority class\n",
        "n_samples = 200000 - 143\n",
        "bootstrap_sample = majority_class.sample(n_samples, replace=True, random_state=42)\n",
        "\n",
        "# Concat the minority and majority class \n",
        "bs_df = pd.concat([minority_class, bootstrap_sample])\n",
        "\n",
        "# Shuffle data\n",
        "bs_df = bs_df.sample(frac=1, random_state=42).reset_index(drop=True)\n",
        "\n",
        "# Check class distribution\n",
        "print(bs_df['class'].value_counts(normalize=True))\n"
      ]
    },
    {
      "cell_type": "code",
      "source": [
        "bs_df.head()"
      ],
      "metadata": {
        "colab": {
          "base_uri": "https://localhost:8080/",
          "height": 206
        },
        "id": "rpP371SPZSK6",
        "outputId": "ef3781b1-74b2-4ec6-9a1f-d05fc9155d8b"
      },
      "execution_count": null,
      "outputs": [
        {
          "output_type": "execute_result",
          "data": {
            "text/plain": [
              "    age    bp     sg   al   su    bgr     bu    sc  pot  hemo  class  htn_yes  \\\n",
              "0  72.0  90.0  1.010  2.0  0.0  124.0   53.0   2.3  0.0  11.9      1        0   \n",
              "1  65.0  90.0  1.010  4.0  2.0  172.0   82.0  13.5  6.3   8.8      1        1   \n",
              "2  48.0  80.0  1.005  4.0  0.0  133.0  139.0   8.5  5.5  10.3      1        0   \n",
              "3  50.0  70.0  1.020  0.0  0.0  109.0   32.0   1.4  4.7   0.0      1        0   \n",
              "4  34.0  60.0  1.020  0.0  0.0  117.0   28.0   2.2  3.8   0.0      1        0   \n",
              "\n",
              "   dm_yes  cad_yes  appet_poor  pe_yes  ane_yes  ba_present  pcc_present  \n",
              "0       0        0           0       0        0           0            1  \n",
              "1       1        0           0       1        1           0            0  \n",
              "2       1        0           0       1        0           1            0  \n",
              "3       0        0           1       0        0           0            0  \n",
              "4       0        0           0       1        0           0            0  "
            ],
            "text/html": [
              "\n",
              "  <div id=\"df-3f972592-17aa-4b2b-a2bb-79d9b479596f\">\n",
              "    <div class=\"colab-df-container\">\n",
              "      <div>\n",
              "<style scoped>\n",
              "    .dataframe tbody tr th:only-of-type {\n",
              "        vertical-align: middle;\n",
              "    }\n",
              "\n",
              "    .dataframe tbody tr th {\n",
              "        vertical-align: top;\n",
              "    }\n",
              "\n",
              "    .dataframe thead th {\n",
              "        text-align: right;\n",
              "    }\n",
              "</style>\n",
              "<table border=\"1\" class=\"dataframe\">\n",
              "  <thead>\n",
              "    <tr style=\"text-align: right;\">\n",
              "      <th></th>\n",
              "      <th>age</th>\n",
              "      <th>bp</th>\n",
              "      <th>sg</th>\n",
              "      <th>al</th>\n",
              "      <th>su</th>\n",
              "      <th>bgr</th>\n",
              "      <th>bu</th>\n",
              "      <th>sc</th>\n",
              "      <th>pot</th>\n",
              "      <th>hemo</th>\n",
              "      <th>class</th>\n",
              "      <th>htn_yes</th>\n",
              "      <th>dm_yes</th>\n",
              "      <th>cad_yes</th>\n",
              "      <th>appet_poor</th>\n",
              "      <th>pe_yes</th>\n",
              "      <th>ane_yes</th>\n",
              "      <th>ba_present</th>\n",
              "      <th>pcc_present</th>\n",
              "    </tr>\n",
              "  </thead>\n",
              "  <tbody>\n",
              "    <tr>\n",
              "      <th>0</th>\n",
              "      <td>72.0</td>\n",
              "      <td>90.0</td>\n",
              "      <td>1.010</td>\n",
              "      <td>2.0</td>\n",
              "      <td>0.0</td>\n",
              "      <td>124.0</td>\n",
              "      <td>53.0</td>\n",
              "      <td>2.3</td>\n",
              "      <td>0.0</td>\n",
              "      <td>11.9</td>\n",
              "      <td>1</td>\n",
              "      <td>0</td>\n",
              "      <td>0</td>\n",
              "      <td>0</td>\n",
              "      <td>0</td>\n",
              "      <td>0</td>\n",
              "      <td>0</td>\n",
              "      <td>0</td>\n",
              "      <td>1</td>\n",
              "    </tr>\n",
              "    <tr>\n",
              "      <th>1</th>\n",
              "      <td>65.0</td>\n",
              "      <td>90.0</td>\n",
              "      <td>1.010</td>\n",
              "      <td>4.0</td>\n",
              "      <td>2.0</td>\n",
              "      <td>172.0</td>\n",
              "      <td>82.0</td>\n",
              "      <td>13.5</td>\n",
              "      <td>6.3</td>\n",
              "      <td>8.8</td>\n",
              "      <td>1</td>\n",
              "      <td>1</td>\n",
              "      <td>1</td>\n",
              "      <td>0</td>\n",
              "      <td>0</td>\n",
              "      <td>1</td>\n",
              "      <td>1</td>\n",
              "      <td>0</td>\n",
              "      <td>0</td>\n",
              "    </tr>\n",
              "    <tr>\n",
              "      <th>2</th>\n",
              "      <td>48.0</td>\n",
              "      <td>80.0</td>\n",
              "      <td>1.005</td>\n",
              "      <td>4.0</td>\n",
              "      <td>0.0</td>\n",
              "      <td>133.0</td>\n",
              "      <td>139.0</td>\n",
              "      <td>8.5</td>\n",
              "      <td>5.5</td>\n",
              "      <td>10.3</td>\n",
              "      <td>1</td>\n",
              "      <td>0</td>\n",
              "      <td>1</td>\n",
              "      <td>0</td>\n",
              "      <td>0</td>\n",
              "      <td>1</td>\n",
              "      <td>0</td>\n",
              "      <td>1</td>\n",
              "      <td>0</td>\n",
              "    </tr>\n",
              "    <tr>\n",
              "      <th>3</th>\n",
              "      <td>50.0</td>\n",
              "      <td>70.0</td>\n",
              "      <td>1.020</td>\n",
              "      <td>0.0</td>\n",
              "      <td>0.0</td>\n",
              "      <td>109.0</td>\n",
              "      <td>32.0</td>\n",
              "      <td>1.4</td>\n",
              "      <td>4.7</td>\n",
              "      <td>0.0</td>\n",
              "      <td>1</td>\n",
              "      <td>0</td>\n",
              "      <td>0</td>\n",
              "      <td>0</td>\n",
              "      <td>1</td>\n",
              "      <td>0</td>\n",
              "      <td>0</td>\n",
              "      <td>0</td>\n",
              "      <td>0</td>\n",
              "    </tr>\n",
              "    <tr>\n",
              "      <th>4</th>\n",
              "      <td>34.0</td>\n",
              "      <td>60.0</td>\n",
              "      <td>1.020</td>\n",
              "      <td>0.0</td>\n",
              "      <td>0.0</td>\n",
              "      <td>117.0</td>\n",
              "      <td>28.0</td>\n",
              "      <td>2.2</td>\n",
              "      <td>3.8</td>\n",
              "      <td>0.0</td>\n",
              "      <td>1</td>\n",
              "      <td>0</td>\n",
              "      <td>0</td>\n",
              "      <td>0</td>\n",
              "      <td>0</td>\n",
              "      <td>1</td>\n",
              "      <td>0</td>\n",
              "      <td>0</td>\n",
              "      <td>0</td>\n",
              "    </tr>\n",
              "  </tbody>\n",
              "</table>\n",
              "</div>\n",
              "      <button class=\"colab-df-convert\" onclick=\"convertToInteractive('df-3f972592-17aa-4b2b-a2bb-79d9b479596f')\"\n",
              "              title=\"Convert this dataframe to an interactive table.\"\n",
              "              style=\"display:none;\">\n",
              "        \n",
              "  <svg xmlns=\"http://www.w3.org/2000/svg\" height=\"24px\"viewBox=\"0 0 24 24\"\n",
              "       width=\"24px\">\n",
              "    <path d=\"M0 0h24v24H0V0z\" fill=\"none\"/>\n",
              "    <path d=\"M18.56 5.44l.94 2.06.94-2.06 2.06-.94-2.06-.94-.94-2.06-.94 2.06-2.06.94zm-11 1L8.5 8.5l.94-2.06 2.06-.94-2.06-.94L8.5 2.5l-.94 2.06-2.06.94zm10 10l.94 2.06.94-2.06 2.06-.94-2.06-.94-.94-2.06-.94 2.06-2.06.94z\"/><path d=\"M17.41 7.96l-1.37-1.37c-.4-.4-.92-.59-1.43-.59-.52 0-1.04.2-1.43.59L10.3 9.45l-7.72 7.72c-.78.78-.78 2.05 0 2.83L4 21.41c.39.39.9.59 1.41.59.51 0 1.02-.2 1.41-.59l7.78-7.78 2.81-2.81c.8-.78.8-2.07 0-2.86zM5.41 20L4 18.59l7.72-7.72 1.47 1.35L5.41 20z\"/>\n",
              "  </svg>\n",
              "      </button>\n",
              "      \n",
              "  <style>\n",
              "    .colab-df-container {\n",
              "      display:flex;\n",
              "      flex-wrap:wrap;\n",
              "      gap: 12px;\n",
              "    }\n",
              "\n",
              "    .colab-df-convert {\n",
              "      background-color: #E8F0FE;\n",
              "      border: none;\n",
              "      border-radius: 50%;\n",
              "      cursor: pointer;\n",
              "      display: none;\n",
              "      fill: #1967D2;\n",
              "      height: 32px;\n",
              "      padding: 0 0 0 0;\n",
              "      width: 32px;\n",
              "    }\n",
              "\n",
              "    .colab-df-convert:hover {\n",
              "      background-color: #E2EBFA;\n",
              "      box-shadow: 0px 1px 2px rgba(60, 64, 67, 0.3), 0px 1px 3px 1px rgba(60, 64, 67, 0.15);\n",
              "      fill: #174EA6;\n",
              "    }\n",
              "\n",
              "    [theme=dark] .colab-df-convert {\n",
              "      background-color: #3B4455;\n",
              "      fill: #D2E3FC;\n",
              "    }\n",
              "\n",
              "    [theme=dark] .colab-df-convert:hover {\n",
              "      background-color: #434B5C;\n",
              "      box-shadow: 0px 1px 3px 1px rgba(0, 0, 0, 0.15);\n",
              "      filter: drop-shadow(0px 1px 2px rgba(0, 0, 0, 0.3));\n",
              "      fill: #FFFFFF;\n",
              "    }\n",
              "  </style>\n",
              "\n",
              "      <script>\n",
              "        const buttonEl =\n",
              "          document.querySelector('#df-3f972592-17aa-4b2b-a2bb-79d9b479596f button.colab-df-convert');\n",
              "        buttonEl.style.display =\n",
              "          google.colab.kernel.accessAllowed ? 'block' : 'none';\n",
              "\n",
              "        async function convertToInteractive(key) {\n",
              "          const element = document.querySelector('#df-3f972592-17aa-4b2b-a2bb-79d9b479596f');\n",
              "          const dataTable =\n",
              "            await google.colab.kernel.invokeFunction('convertToInteractive',\n",
              "                                                     [key], {});\n",
              "          if (!dataTable) return;\n",
              "\n",
              "          const docLinkHtml = 'Like what you see? Visit the ' +\n",
              "            '<a target=\"_blank\" href=https://colab.research.google.com/notebooks/data_table.ipynb>data table notebook</a>'\n",
              "            + ' to learn more about interactive tables.';\n",
              "          element.innerHTML = '';\n",
              "          dataTable['output_type'] = 'display_data';\n",
              "          await google.colab.output.renderOutput(dataTable, element);\n",
              "          const docLink = document.createElement('div');\n",
              "          docLink.innerHTML = docLinkHtml;\n",
              "          element.appendChild(docLink);\n",
              "        }\n",
              "      </script>\n",
              "    </div>\n",
              "  </div>\n",
              "  "
            ]
          },
          "metadata": {},
          "execution_count": 61
        }
      ]
    },
    {
      "cell_type": "markdown",
      "metadata": {
        "id": "m76r86DXxPvb"
      },
      "source": [
        "### 22. Build a logistic regression model on the unbalanced class data and evaluate its performance using whatever method(s) you see fit. How would you describe the impact of unbalanced classes on logistic regression as a classifier?\n",
        "> Be sure to look at how well it performs on non-CKD data."
      ]
    },
    {
      "cell_type": "code",
      "execution_count": null,
      "metadata": {
        "collapsed": true,
        "id": "aejFtChPxPvb"
      },
      "outputs": [],
      "source": [
        "#define features (Same as before, just using bootstrap dataframe)\n",
        "y_bs = bs_df['class']\n",
        "X_bs = bs_df.iloc[:, 11:19]"
      ]
    },
    {
      "cell_type": "code",
      "source": [
        "print(X_bs)"
      ],
      "metadata": {
        "colab": {
          "base_uri": "https://localhost:8080/"
        },
        "id": "XH3Q0bZ9adMA",
        "outputId": "5b8c9c88-c485-45de-fa51-830211b11261"
      },
      "execution_count": null,
      "outputs": [
        {
          "output_type": "stream",
          "name": "stdout",
          "text": [
            "        htn_yes  dm_yes  cad_yes  appet_poor  pe_yes  ane_yes  ba_present  \\\n",
            "0             0       0        0           0       0        0           0   \n",
            "1             1       1        0           0       1        1           0   \n",
            "2             0       1        0           0       1        0           1   \n",
            "3             0       0        0           1       0        0           0   \n",
            "4             0       0        0           0       1        0           0   \n",
            "...         ...     ...      ...         ...     ...      ...         ...   \n",
            "199995        1       1        0           0       1        0           0   \n",
            "199996        1       1        0           1       1        0           0   \n",
            "199997        1       1        0           0       1        0           0   \n",
            "199998        1       1        0           1       1        0           0   \n",
            "199999        1       1        0           1       1        1           0   \n",
            "\n",
            "        pcc_present  \n",
            "0                 1  \n",
            "1                 0  \n",
            "2                 0  \n",
            "3                 0  \n",
            "4                 0  \n",
            "...             ...  \n",
            "199995            0  \n",
            "199996            0  \n",
            "199997            0  \n",
            "199998            0  \n",
            "199999            0  \n",
            "\n",
            "[200000 rows x 8 columns]\n"
          ]
        }
      ]
    },
    {
      "cell_type": "code",
      "source": [
        "# Split data into training and testing sets\n",
        "X_train, X_test, y_train, y_test = train_test_split(X_bs, y_bs, test_size=0.2, random_state=42)\n",
        "\n",
        "# Instantiate logistic regression model and fit to training data\n",
        "logreg = LogisticRegression()\n",
        "logreg.fit(X_train, y_train)\n",
        "\n",
        "# Predict and calculate accuracy score\n",
        "y_pred = logreg.predict(X_test)\n",
        "accuracy = accuracy_score(y_test, y_pred)\n",
        "print(\"Accuracy score:\", accuracy)"
      ],
      "metadata": {
        "colab": {
          "base_uri": "https://localhost:8080/"
        },
        "id": "8FSkE0S8agd9",
        "outputId": "b8a222ec-572b-4445-a277-34636b7d3498"
      },
      "execution_count": null,
      "outputs": [
        {
          "output_type": "stream",
          "name": "stdout",
          "text": [
            "Accuracy score: 0.9993\n"
          ]
        }
      ]
    },
    {
      "cell_type": "code",
      "source": [
        "logreg.score(X_train, y_train)"
      ],
      "metadata": {
        "colab": {
          "base_uri": "https://localhost:8080/"
        },
        "id": "-grYxLSYbFCL",
        "outputId": "8a419f80-823f-4797-87a1-f649d2c21a17"
      },
      "execution_count": null,
      "outputs": [
        {
          "output_type": "execute_result",
          "data": {
            "text/plain": [
              "0.99928125"
            ]
          },
          "metadata": {},
          "execution_count": 72
        }
      ]
    },
    {
      "cell_type": "code",
      "source": [
        "logreg.score(X_test, y_test)"
      ],
      "metadata": {
        "colab": {
          "base_uri": "https://localhost:8080/"
        },
        "id": "grW3pPX2bvHk",
        "outputId": "7cacaead-1d27-4495-e967-aa9609717df3"
      },
      "execution_count": null,
      "outputs": [
        {
          "output_type": "execute_result",
          "data": {
            "text/plain": [
              "0.9993"
            ]
          },
          "metadata": {},
          "execution_count": 73
        }
      ]
    },
    {
      "cell_type": "code",
      "source": [
        "logreg.coef_"
      ],
      "metadata": {
        "colab": {
          "base_uri": "https://localhost:8080/"
        },
        "id": "kFVmKE1AbxGP",
        "outputId": "03d6bce0-5698-496a-9388-a741f47e944c"
      },
      "execution_count": null,
      "outputs": [
        {
          "output_type": "execute_result",
          "data": {
            "text/plain": [
              "array([[2.76382538, 2.94715989, 0.65039512, 2.1594704 , 2.45522898,\n",
              "        1.89352913, 0.90968529, 2.15477211]])"
            ]
          },
          "metadata": {},
          "execution_count": 75
        }
      ]
    },
    {
      "cell_type": "code",
      "source": [
        "y_pred = logreg.predict(X_test)\n",
        "cm_bs = confusion_matrix(y_test, y_pred)\n",
        "\n",
        "print(cm_bs)\n"
      ],
      "metadata": {
        "colab": {
          "base_uri": "https://localhost:8080/"
        },
        "id": "MOHwQKSlcFEM",
        "outputId": "5aa68eb8-75b1-43ba-c226-f165332e3aba"
      },
      "execution_count": null,
      "outputs": [
        {
          "output_type": "stream",
          "name": "stdout",
          "text": [
            "[[    0    28]\n",
            " [    0 39972]]\n"
          ]
        }
      ]
    },
    {
      "cell_type": "markdown",
      "source": [
        "The model is overfitting to the CKD class. The model wouldn't handle new data well. It failed to identify non-CKD cases. "
      ],
      "metadata": {
        "id": "9KuOq4lGdUkG"
      }
    },
    {
      "cell_type": "code",
      "source": [],
      "metadata": {
        "id": "R8JmnknXdTSN"
      },
      "execution_count": null,
      "outputs": []
    }
  ],
  "metadata": {
    "kernelspec": {
      "display_name": "Python 3",
      "language": "python",
      "name": "python3"
    },
    "language_info": {
      "codemirror_mode": {
        "name": "ipython",
        "version": 3
      },
      "file_extension": ".py",
      "mimetype": "text/x-python",
      "name": "python",
      "nbconvert_exporter": "python",
      "pygments_lexer": "ipython3",
      "version": "3.6.6"
    },
    "colab": {
      "provenance": []
    }
  },
  "nbformat": 4,
  "nbformat_minor": 0
}
