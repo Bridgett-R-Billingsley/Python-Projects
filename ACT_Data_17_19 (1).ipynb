{
  "cells": [
    {
      "cell_type": "markdown",
      "metadata": {
        "id": "6UF5JQGXRy6W"
      },
      "source": [
        "--- \n",
        "# Part 1\n",
        "\n",
        "Part 1 requires knowledge of basic Python.\n",
        "\n",
        "---"
      ]
    },
    {
      "cell_type": "markdown",
      "metadata": {
        "id": "3uuidhOoRy6W"
      },
      "source": [
        "## Problem Statement"
      ]
    },
    {
      "cell_type": "markdown",
      "metadata": {
        "id": "j-gGuY1VRy6X"
      },
      "source": [
        "Decide on your problem statement that will guide your analysis for this project. For guidelines, sample prompts, or inspiration, check out the README.\n",
        "\n",
        "**To-Do:** *Replace this cell with your problem statement.*"
      ]
    },
    {
      "cell_type": "markdown",
      "metadata": {
        "id": "ZNi9rC8yRy6X"
      },
      "source": [
        "### Contents:\n",
        "- [Background](#Background)\n",
        "- [Data Import & Cleaning](#Data-Import-and-Cleaning)\n",
        "- [Exploratory Data Analysis](#Exploratory-Data-Analysis)\n",
        "- [Data Visualization](#Visualize-the-Data)\n",
        "- [Conclusions and Recommendations](#Conclusions-and-Recommendations)"
      ]
    },
    {
      "cell_type": "markdown",
      "metadata": {
        "id": "VbeFu7DsRy6X"
      },
      "source": [
        "## Background"
      ]
    },
    {
      "cell_type": "markdown",
      "metadata": {
        "id": "THes0P_MRy6Y"
      },
      "source": [
        "The SAT and ACT are standardized tests that many colleges and universities in the United States require for their admissions process. This score is used along with other materials such as grade point average (GPA) and essay responses to determine whether or not a potential student will be accepted to the university.\n",
        "\n",
        "The SAT has two sections of the test: Evidence-Based Reading and Writing and Math ([*source*](https://www.princetonreview.com/college/sat-sections)). The ACT has 4 sections: English, Mathematics, Reading, and Science, with an additional optional writing section ([*source*](https://www.act.org/content/act/en/products-and-services/the-act/scores/understanding-your-scores.html)). They have different score ranges, which you can read more about on their websites or additional outside sources (a quick Google search will help you understand the scores for each test):\n",
        "* [SAT](https://collegereadiness.collegeboard.org/sat)\n",
        "* [ACT](https://www.act.org/content/act/en.html)\n",
        "\n",
        "Standardized tests have long been a controversial topic for students, administrators, and legislators. Since the 1940's, an increasing number of colleges have been using scores from sudents' performances on tests like the SAT and the ACT as a measure for college readiness and aptitude ([*source*](https://www.minotdailynews.com/news/local-news/2017/04/a-brief-history-of-the-sat-and-act/)). Supporters of these tests argue that these scores can be used as an objective measure to determine college admittance. Opponents of these tests claim that these tests are not accurate measures of students potential or ability and serve as an inequitable barrier to entry. Lately, more and more schools are opting to drop the SAT/ACT requirement for their Fall 2021 applications ([*read more about this here*](https://www.cnn.com/2020/04/14/us/coronavirus-colleges-sat-act-test-trnd/index.html))."
      ]
    },
    {
      "cell_type": "markdown",
      "metadata": {
        "id": "y_o-luutRy6Z"
      },
      "source": [
        "**To-Do:** *Fill out this cell (or edit the above cell) with any other background or information that is necessary for your problem statement.*\n",
        "\n",
        "Are ACT scores inflated by examination of participation rates and scores in each state based on year 2017 and 2019. "
      ]
    },
    {
      "cell_type": "markdown",
      "metadata": {
        "id": "5tk3tRLxRy6b"
      },
      "source": [
        "### Choose your Data\n",
        "\n",
        "There are 10 datasets included in the [`data`](./data/) folder for this project. You are required to pick **at least two** of these to complete your analysis. Feel free to use more than two if you would like, or add other relevant datasets you find online.\n",
        "\n",
        "* [`act_2017.csv`](./data/act_2017.csv): 2017 ACT Scores by State\n",
        "* [`act_2018.csv`](./data/act_2018.csv): 2018 ACT Scores by State\n",
        "* [`act_2019.csv`](./data/act_2019.csv): 2019 ACT Scores by State\n",
        "* [`act_2019_ca.csv`](./data/act_2019_ca.csv): 2019 ACT Scores in California by School\n",
        "* [`sat_2017.csv`](./data/sat_2017.csv): 2017 SAT Scores by State\n",
        "* [`sat_2018.csv`](./data/sat_2018.csv): 2018 SAT Scores by State\n",
        "* [`sat_2019.csv`](./data/sat_2019.csv): 2019 SAT Scores by State\n",
        "* [`sat_2019_by_intended_college_major.csv`](./data/sat_2019_by_intended_college_major.csv): 2019 SAT Scores by Intended College Major\n",
        "* [`sat_2019_ca.csv`](./data/sat_2019_ca.csv): 2019 SAT Scores in California by School\n",
        "* [`sat_act_by_college.csv`](./data/sat_act_by_college.csv): Ranges of Accepted ACT & SAT Student Scores by Colleges"
      ]
    },
    {
      "cell_type": "markdown",
      "metadata": {
        "jupyter": {
          "source_hidden": true
        },
        "tags": [],
        "id": "qVEBXrIoRy6c"
      },
      "source": [
        "**To-Do:** *Fill out this cell with the datasets you will use for your analysis. Write a brief description of the contents for each dataset that you choose.*\n",
        "\n",
        "\n",
        "*   act_2017.csv: 2017 ACT Participation Rate, English, Math, Reading, Science and Composite Score by State\n",
        "*   act_2019.csv: 2019 ACT Participation Rate and Composite Scores by State\n",
        "\n",
        "\n"
      ]
    },
    {
      "cell_type": "markdown",
      "metadata": {
        "id": "WcxLPlMfRy6d"
      },
      "source": [
        "### Outside Research"
      ]
    },
    {
      "cell_type": "markdown",
      "metadata": {
        "id": "OgDS8CLlRy6e"
      },
      "source": [
        "Based on your problem statement and your chosen datasets, spend some time doing outside research on state policies or additional information that might be relevant. Summarize your findings below. If you bring in any outside tables or charts, make sure you are explicit about having borrowed them. If you quote any text, make sure that it renders as being quoted. **Make sure that you cite your sources.**"
      ]
    },
    {
      "cell_type": "markdown",
      "metadata": {
        "id": "MlVq0BikRy6e"
      },
      "source": [
        "**To-Do:** *Fill out this cell with outside research or any additional background information that will support your analysis.*\n",
        "\n",
        "[States that require mandatory ACT testing dated July 24th 2022](https://blog.prepscholar.com/which-states-require-the-act-full-list-and-advice)\n",
        "\n",
        "The number of states that require mandatory ACT testing has increased. Each state has decided which parts of the ACT are Mandatory. As of July 24th 2022, the following states require the ACT with Writing:\n",
        "\n",
        "\n",
        "*   Alabama\n",
        "*   Hawaii\n",
        "*   Montana\n",
        "*   Nebraska\n",
        "*   Nevada\n",
        "*   North Carolina\n",
        "*   North Dakota\n",
        "*   Wisconsin\n",
        "\n",
        "States that mandate the ACT without the Writing section:\n",
        "\n",
        "\n",
        "*   Kentucky\n",
        "*   Louisiana\n",
        "*   Mississippi\n",
        "*   Utah\n",
        "*   Wyoming\n",
        "\n",
        "\n",
        "States that require ACT or SAT. The state decides which test. \n",
        "\n",
        "\n",
        "*   Ohio\n",
        "*   Oklahoma\n",
        "*   South Carolina\n",
        "\n",
        "States that require ACT or SAT. The student decides which test.\n",
        "\n",
        "*   Tennessee\n",
        "\n",
        "\n",
        "\n",
        "\n",
        "\n",
        "\n",
        "\n",
        "\n",
        "\n"
      ]
    },
    {
      "cell_type": "markdown",
      "metadata": {
        "id": "d2i0lNRTRy6f"
      },
      "source": [
        "### Coding Challenges\n",
        "\n",
        "1. Manually calculate mean:\n",
        "\n",
        "    Write a function that takes in values and returns the mean of the values. Create a list of numbers that you test on your function to check to make sure your function works!\n",
        "    \n",
        "    *Note*: Do not use any mean methods built-in to any Python libraries to do this! This should be done without importing any additional libraries."
      ]
    },
    {
      "cell_type": "code",
      "execution_count": 1,
      "metadata": {
        "colab": {
          "base_uri": "https://localhost:8080/"
        },
        "id": "raWKt8QvRy6g",
        "outputId": "ebecccc8-e9de-4037-9e26-9db33dc1bb45"
      },
      "outputs": [
        {
          "output_type": "execute_result",
          "data": {
            "text/plain": [
              "30.0"
            ]
          },
          "metadata": {},
          "execution_count": 1
        }
      ],
      "source": [
        "def meanof(*values):\n",
        "    \"\"\" Returns the mean \"\"\"\n",
        "    sum_values = 0\n",
        "    count_values = 0\n",
        "    for n in values:\n",
        "        sum_values += n\n",
        "        count_values += 1\n",
        "        mean = sum_values/count_values\n",
        "    return mean\n",
        "meanof(10,20,30,40,50)"
      ]
    },
    {
      "cell_type": "markdown",
      "metadata": {
        "id": "wCSQr1-ARy6i"
      },
      "source": [
        "2. Manually calculate standard deviation:\n",
        "\n",
        "    The formula for standard deviation is below:\n",
        "\n",
        "    $$\\sigma = \\sqrt{\\frac{1}{n}\\sum_{i=1}^n(x_i - \\mu)^2}$$\n",
        "\n",
        "    Where $x_i$ represents each value in the dataset, $\\mu$ represents the mean of all values in the dataset and $n$ represents the number of values in the dataset.\n",
        "\n",
        "    Write a function that takes in values and returns the standard deviation of the values using the formula above. Hint: use the function you wrote above to calculate the mean! Use the list of numbers you created above to test on your function.\n",
        "    \n",
        "    *Note*: Do not use any standard deviation methods built-in to any Python libraries to do this! This should be done without importing any additional libraries."
      ]
    },
    {
      "cell_type": "code",
      "execution_count": 2,
      "metadata": {
        "colab": {
          "base_uri": "https://localhost:8080/"
        },
        "id": "7_9HGrhDRy6j",
        "outputId": "917f93c8-da81-4b87-8999-61e10746c99f"
      },
      "outputs": [
        {
          "output_type": "execute_result",
          "data": {
            "text/plain": [
              "15.811388300841896"
            ]
          },
          "metadata": {},
          "execution_count": 2
        }
      ],
      "source": [
        "# Code:\n",
        "def calculate_standard_deviation(*values):\n",
        "    \"\"\" Returns the standard deviation \"\"\"\n",
        "    #calculate the mean\n",
        "    sum_values = 0\n",
        "    count_values = 0\n",
        "    for n in values:\n",
        "        sum_values += n\n",
        "        count_values += 1\n",
        "        mean = sum_values/count_values\n",
        "    \n",
        "    #calculate the sum of squaress\n",
        "    sum_squares = 0\n",
        "    for n in values:\n",
        "        sum_squares += (n-mean)**2\n",
        "    #calculate the variance\n",
        "    variance = sum_squares/(count_values-1)\n",
        "    \n",
        "    s = (variance)**0.5\n",
        "    return s\n",
        "calculate_standard_deviation(10,20,30,40,50)"
      ]
    },
    {
      "cell_type": "markdown",
      "metadata": {
        "id": "Bzm2iwVyRy6k"
      },
      "source": [
        "3. Data cleaning function:\n",
        "    \n",
        "    Write a function that takes in a string that is a number and a percent symbol (ex. '50%', '30.5%', etc.) and converts this to a float that is the decimal approximation of the percent. For example, inputting '50%' in your function should return 0.5, '30.5%' should return 0.305, etc. Make sure to test your function to make sure it works!\n",
        "\n",
        "You will use these functions later on in the project!"
      ]
    },
    {
      "cell_type": "code",
      "execution_count": 3,
      "metadata": {
        "colab": {
          "base_uri": "https://localhost:8080/"
        },
        "id": "xG-zcM9VRy6k",
        "outputId": "07f9e68d-1256-42ed-937a-1bc467641857"
      },
      "outputs": [
        {
          "output_type": "execute_result",
          "data": {
            "text/plain": [
              "30.0"
            ]
          },
          "metadata": {},
          "execution_count": 3
        }
      ],
      "source": [
        "# Code:\n",
        "def convert_percent_to_float(n):\n",
        "    \"\"\" Returns percent \"\"\"\n",
        "    #remove % from string\n",
        "    number_str = n.strip('%')\n",
        "    \n",
        "    #convert string to float\n",
        "    con_float = float(number_str)\n",
        "    return con_float\n",
        "convert_percent_to_float('30%')"
      ]
    },
    {
      "cell_type": "markdown",
      "metadata": {
        "id": "PTaw5xy6Ry6l"
      },
      "source": [
        "--- \n",
        "# Part 2\n",
        "\n",
        "Part 2 requires knowledge of Pandas, EDA, data cleaning, and data visualization.\n",
        "\n",
        "---"
      ]
    },
    {
      "cell_type": "markdown",
      "metadata": {
        "id": "gBMpkoXZRy6l"
      },
      "source": [
        "*All libraries used should be added here*"
      ]
    },
    {
      "cell_type": "code",
      "execution_count": 4,
      "metadata": {
        "id": "fmUz8hoaRy6l"
      },
      "outputs": [],
      "source": [
        "# Imports:\n",
        "import numpy as np\n",
        "import scipy\n",
        "import pandas as pd\n",
        "import statistics\n",
        "import seaborn as sns\n",
        "import matplotlib.pyplot as plt"
      ]
    },
    {
      "cell_type": "markdown",
      "metadata": {
        "id": "bPmht_sERy6l"
      },
      "source": [
        "## Data Import and Cleaning"
      ]
    },
    {
      "cell_type": "markdown",
      "metadata": {
        "id": "LxlY07dZRy6m"
      },
      "source": [
        "### Data Import & Cleaning\n",
        "\n",
        "Import the datasets that you selected for this project and go through the following steps at a minimum. You are welcome to do further cleaning as you feel necessary:\n",
        "1. Display the data: print the first 5 rows of each dataframe to your Jupyter notebook.\n",
        "2. Check for missing values.\n",
        "3. Check for any obvious issues with the observations (keep in mind the minimum & maximum possible values for each test/subtest).\n",
        "4. Fix any errors you identified in steps 2-3.\n",
        "5. Display the data types of each feature.\n",
        "6. Fix any incorrect data types found in step 5.\n",
        "    - Fix any individual values preventing other columns from being the appropriate type.\n",
        "    - If your dataset has a column of percents (ex. '50%', '30.5%', etc.), use the function you wrote in Part 1 (coding challenges, number 3) to convert this to floats! *Hint*: use `.map()` or `.apply()`.\n",
        "7. Rename Columns.\n",
        "    - Column names should be all lowercase.\n",
        "    - Column names should not contain spaces (underscores will suffice--this allows for using the `df.column_name` method to access columns in addition to `df['column_name']`).\n",
        "    - Column names should be unique and informative.\n",
        "8. Drop unnecessary rows (if needed).\n",
        "9. Merge dataframes that can be merged.\n",
        "10. Perform any additional cleaning that you feel is necessary.\n",
        "11. Save your cleaned and merged dataframes as csv files."
      ]
    },
    {
      "cell_type": "code",
      "source": [
        "# Mounting Google Drive:\n",
        "from google.colab import drive\n",
        "drive.mount('/content/drive')"
      ],
      "metadata": {
        "colab": {
          "base_uri": "https://localhost:8080/"
        },
        "id": "THjhDK-iUida",
        "outputId": "79f158ec-036d-4951-960c-b4f9914baf36"
      },
      "execution_count": 5,
      "outputs": [
        {
          "output_type": "stream",
          "name": "stdout",
          "text": [
            "Mounted at /content/drive\n"
          ]
        }
      ]
    },
    {
      "cell_type": "code",
      "execution_count": 6,
      "metadata": {
        "id": "Hogg3aMMRy6m"
      },
      "outputs": [],
      "source": [
        "# Importing Datasets:\n",
        "act_2017 = pd.read_csv('/content/drive/MyDrive/Colab Notebooks/Project 1/act_2017.csv')\n",
        "act_2019 = pd.read_csv('/content/drive/MyDrive/Colab Notebooks/Project 1/act_2019.csv')\n"
      ]
    },
    {
      "cell_type": "code",
      "source": [
        "# Displaying First 5 Rows of act_2017 Data set:\n",
        "act_2017.head()"
      ],
      "metadata": {
        "colab": {
          "base_uri": "https://localhost:8080/",
          "height": 206
        },
        "id": "u5Ahik9QUsFi",
        "outputId": "8bfe258f-d8d3-4af6-d36e-b81e95b568d1"
      },
      "execution_count": 7,
      "outputs": [
        {
          "output_type": "execute_result",
          "data": {
            "text/plain": [
              "      State Participation  English  Math  Reading  Science Composite\n",
              "0  National           60%     20.3  20.7     21.4     21.0      21.0\n",
              "1   Alabama          100%     18.9  18.4     19.7     19.4      19.2\n",
              "2    Alaska           65%     18.7  19.8     20.4     19.9      19.8\n",
              "3   Arizona           62%     18.6  19.8     20.1     19.8      19.7\n",
              "4  Arkansas          100%     18.9  19.0     19.7     19.5      19.4"
            ],
            "text/html": [
              "\n",
              "  <div id=\"df-b25235ad-31b8-41e8-9671-a4e0ef3dce04\">\n",
              "    <div class=\"colab-df-container\">\n",
              "      <div>\n",
              "<style scoped>\n",
              "    .dataframe tbody tr th:only-of-type {\n",
              "        vertical-align: middle;\n",
              "    }\n",
              "\n",
              "    .dataframe tbody tr th {\n",
              "        vertical-align: top;\n",
              "    }\n",
              "\n",
              "    .dataframe thead th {\n",
              "        text-align: right;\n",
              "    }\n",
              "</style>\n",
              "<table border=\"1\" class=\"dataframe\">\n",
              "  <thead>\n",
              "    <tr style=\"text-align: right;\">\n",
              "      <th></th>\n",
              "      <th>State</th>\n",
              "      <th>Participation</th>\n",
              "      <th>English</th>\n",
              "      <th>Math</th>\n",
              "      <th>Reading</th>\n",
              "      <th>Science</th>\n",
              "      <th>Composite</th>\n",
              "    </tr>\n",
              "  </thead>\n",
              "  <tbody>\n",
              "    <tr>\n",
              "      <th>0</th>\n",
              "      <td>National</td>\n",
              "      <td>60%</td>\n",
              "      <td>20.3</td>\n",
              "      <td>20.7</td>\n",
              "      <td>21.4</td>\n",
              "      <td>21.0</td>\n",
              "      <td>21.0</td>\n",
              "    </tr>\n",
              "    <tr>\n",
              "      <th>1</th>\n",
              "      <td>Alabama</td>\n",
              "      <td>100%</td>\n",
              "      <td>18.9</td>\n",
              "      <td>18.4</td>\n",
              "      <td>19.7</td>\n",
              "      <td>19.4</td>\n",
              "      <td>19.2</td>\n",
              "    </tr>\n",
              "    <tr>\n",
              "      <th>2</th>\n",
              "      <td>Alaska</td>\n",
              "      <td>65%</td>\n",
              "      <td>18.7</td>\n",
              "      <td>19.8</td>\n",
              "      <td>20.4</td>\n",
              "      <td>19.9</td>\n",
              "      <td>19.8</td>\n",
              "    </tr>\n",
              "    <tr>\n",
              "      <th>3</th>\n",
              "      <td>Arizona</td>\n",
              "      <td>62%</td>\n",
              "      <td>18.6</td>\n",
              "      <td>19.8</td>\n",
              "      <td>20.1</td>\n",
              "      <td>19.8</td>\n",
              "      <td>19.7</td>\n",
              "    </tr>\n",
              "    <tr>\n",
              "      <th>4</th>\n",
              "      <td>Arkansas</td>\n",
              "      <td>100%</td>\n",
              "      <td>18.9</td>\n",
              "      <td>19.0</td>\n",
              "      <td>19.7</td>\n",
              "      <td>19.5</td>\n",
              "      <td>19.4</td>\n",
              "    </tr>\n",
              "  </tbody>\n",
              "</table>\n",
              "</div>\n",
              "      <button class=\"colab-df-convert\" onclick=\"convertToInteractive('df-b25235ad-31b8-41e8-9671-a4e0ef3dce04')\"\n",
              "              title=\"Convert this dataframe to an interactive table.\"\n",
              "              style=\"display:none;\">\n",
              "        \n",
              "  <svg xmlns=\"http://www.w3.org/2000/svg\" height=\"24px\"viewBox=\"0 0 24 24\"\n",
              "       width=\"24px\">\n",
              "    <path d=\"M0 0h24v24H0V0z\" fill=\"none\"/>\n",
              "    <path d=\"M18.56 5.44l.94 2.06.94-2.06 2.06-.94-2.06-.94-.94-2.06-.94 2.06-2.06.94zm-11 1L8.5 8.5l.94-2.06 2.06-.94-2.06-.94L8.5 2.5l-.94 2.06-2.06.94zm10 10l.94 2.06.94-2.06 2.06-.94-2.06-.94-.94-2.06-.94 2.06-2.06.94z\"/><path d=\"M17.41 7.96l-1.37-1.37c-.4-.4-.92-.59-1.43-.59-.52 0-1.04.2-1.43.59L10.3 9.45l-7.72 7.72c-.78.78-.78 2.05 0 2.83L4 21.41c.39.39.9.59 1.41.59.51 0 1.02-.2 1.41-.59l7.78-7.78 2.81-2.81c.8-.78.8-2.07 0-2.86zM5.41 20L4 18.59l7.72-7.72 1.47 1.35L5.41 20z\"/>\n",
              "  </svg>\n",
              "      </button>\n",
              "      \n",
              "  <style>\n",
              "    .colab-df-container {\n",
              "      display:flex;\n",
              "      flex-wrap:wrap;\n",
              "      gap: 12px;\n",
              "    }\n",
              "\n",
              "    .colab-df-convert {\n",
              "      background-color: #E8F0FE;\n",
              "      border: none;\n",
              "      border-radius: 50%;\n",
              "      cursor: pointer;\n",
              "      display: none;\n",
              "      fill: #1967D2;\n",
              "      height: 32px;\n",
              "      padding: 0 0 0 0;\n",
              "      width: 32px;\n",
              "    }\n",
              "\n",
              "    .colab-df-convert:hover {\n",
              "      background-color: #E2EBFA;\n",
              "      box-shadow: 0px 1px 2px rgba(60, 64, 67, 0.3), 0px 1px 3px 1px rgba(60, 64, 67, 0.15);\n",
              "      fill: #174EA6;\n",
              "    }\n",
              "\n",
              "    [theme=dark] .colab-df-convert {\n",
              "      background-color: #3B4455;\n",
              "      fill: #D2E3FC;\n",
              "    }\n",
              "\n",
              "    [theme=dark] .colab-df-convert:hover {\n",
              "      background-color: #434B5C;\n",
              "      box-shadow: 0px 1px 3px 1px rgba(0, 0, 0, 0.15);\n",
              "      filter: drop-shadow(0px 1px 2px rgba(0, 0, 0, 0.3));\n",
              "      fill: #FFFFFF;\n",
              "    }\n",
              "  </style>\n",
              "\n",
              "      <script>\n",
              "        const buttonEl =\n",
              "          document.querySelector('#df-b25235ad-31b8-41e8-9671-a4e0ef3dce04 button.colab-df-convert');\n",
              "        buttonEl.style.display =\n",
              "          google.colab.kernel.accessAllowed ? 'block' : 'none';\n",
              "\n",
              "        async function convertToInteractive(key) {\n",
              "          const element = document.querySelector('#df-b25235ad-31b8-41e8-9671-a4e0ef3dce04');\n",
              "          const dataTable =\n",
              "            await google.colab.kernel.invokeFunction('convertToInteractive',\n",
              "                                                     [key], {});\n",
              "          if (!dataTable) return;\n",
              "\n",
              "          const docLinkHtml = 'Like what you see? Visit the ' +\n",
              "            '<a target=\"_blank\" href=https://colab.research.google.com/notebooks/data_table.ipynb>data table notebook</a>'\n",
              "            + ' to learn more about interactive tables.';\n",
              "          element.innerHTML = '';\n",
              "          dataTable['output_type'] = 'display_data';\n",
              "          await google.colab.output.renderOutput(dataTable, element);\n",
              "          const docLink = document.createElement('div');\n",
              "          docLink.innerHTML = docLinkHtml;\n",
              "          element.appendChild(docLink);\n",
              "        }\n",
              "      </script>\n",
              "    </div>\n",
              "  </div>\n",
              "  "
            ]
          },
          "metadata": {},
          "execution_count": 7
        }
      ]
    },
    {
      "cell_type": "markdown",
      "source": [
        "Remove Percent from Participation column\n"
      ],
      "metadata": {
        "id": "tP8UZCB_izAi"
      }
    },
    {
      "cell_type": "code",
      "source": [
        "# Code:\n",
        "def convert_percent_to_float(n):\n",
        "    #remove % from string\n",
        "    number_str = n.strip('%')\n",
        "    \n",
        "    #convert string to float\n",
        "    con_float = float(number_str)\n",
        "    return con_float\n",
        "   \n",
        "act_2017['Participation'] = act_2017['Participation'].apply(convert_percent_to_float)"
      ],
      "metadata": {
        "id": "v0KAopkUi7-e"
      },
      "execution_count": 8,
      "outputs": []
    },
    {
      "cell_type": "markdown",
      "source": [
        "Checking for missing values. "
      ],
      "metadata": {
        "id": "WrGT0TivfcES"
      }
    },
    {
      "cell_type": "code",
      "source": [
        "act_2017.isna().sum().sum()"
      ],
      "metadata": {
        "colab": {
          "base_uri": "https://localhost:8080/"
        },
        "id": "6rqrsp5pfSkX",
        "outputId": "91dbc241-c848-4700-aeb6-40cf55365b91"
      },
      "execution_count": 9,
      "outputs": [
        {
          "output_type": "execute_result",
          "data": {
            "text/plain": [
              "0"
            ]
          },
          "metadata": {},
          "execution_count": 9
        }
      ]
    },
    {
      "cell_type": "markdown",
      "source": [
        "Checking for data types in each  column."
      ],
      "metadata": {
        "id": "s2lVMz__gOF-"
      }
    },
    {
      "cell_type": "code",
      "source": [
        "act_2017.info()"
      ],
      "metadata": {
        "colab": {
          "base_uri": "https://localhost:8080/"
        },
        "id": "ugJ7AIOsgAqP",
        "outputId": "58f2a372-842e-42f7-81e0-68278621b6ae"
      },
      "execution_count": 10,
      "outputs": [
        {
          "output_type": "stream",
          "name": "stdout",
          "text": [
            "<class 'pandas.core.frame.DataFrame'>\n",
            "RangeIndex: 52 entries, 0 to 51\n",
            "Data columns (total 7 columns):\n",
            " #   Column         Non-Null Count  Dtype  \n",
            "---  ------         --------------  -----  \n",
            " 0   State          52 non-null     object \n",
            " 1   Participation  52 non-null     float64\n",
            " 2   English        52 non-null     float64\n",
            " 3   Math           52 non-null     float64\n",
            " 4   Reading        52 non-null     float64\n",
            " 5   Science        52 non-null     float64\n",
            " 6   Composite      52 non-null     object \n",
            "dtypes: float64(5), object(2)\n",
            "memory usage: 3.0+ KB\n"
          ]
        }
      ]
    },
    {
      "cell_type": "markdown",
      "source": [
        "Changed object to float."
      ],
      "metadata": {
        "id": "cnslFqU6qLM4"
      }
    },
    {
      "cell_type": "code",
      "source": [
        "\n",
        "\n",
        "# define regular expression pattern to match non-numeric characters\n",
        "pattern = r'[^0-9\\.]'\n",
        "\n",
        "# use the str.replace() method to remove non-numeric characters\n",
        "act_2017['Composite'] = act_2017['Composite'].str.replace(pattern, '')\n",
        "\n",
        "# convert the resulting string to float using the astype() method\n",
        "act_2017['Composite'] = act_2017['Composite'].astype(float)\n",
        "\n",
        "# print the updated DataFrame\n",
        "print(act_2017.head())\n"
      ],
      "metadata": {
        "colab": {
          "base_uri": "https://localhost:8080/"
        },
        "id": "pqYIEP9qdafV",
        "outputId": "0dae1e0f-c522-4462-fee6-923c8e07cbbd"
      },
      "execution_count": 11,
      "outputs": [
        {
          "output_type": "stream",
          "name": "stdout",
          "text": [
            "      State  Participation  English  Math  Reading  Science  Composite\n",
            "0  National           60.0     20.3  20.7     21.4     21.0       21.0\n",
            "1   Alabama          100.0     18.9  18.4     19.7     19.4       19.2\n",
            "2    Alaska           65.0     18.7  19.8     20.4     19.9       19.8\n",
            "3   Arizona           62.0     18.6  19.8     20.1     19.8       19.7\n",
            "4  Arkansas          100.0     18.9  19.0     19.7     19.5       19.4\n"
          ]
        },
        {
          "output_type": "stream",
          "name": "stderr",
          "text": [
            "<ipython-input-11-42d2b7ab6d4c>:5: FutureWarning: The default value of regex will change from True to False in a future version.\n",
            "  act_2017['Composite'] = act_2017['Composite'].str.replace(pattern, '')\n"
          ]
        }
      ]
    },
    {
      "cell_type": "code",
      "source": [
        "act_2017.info()"
      ],
      "metadata": {
        "colab": {
          "base_uri": "https://localhost:8080/"
        },
        "id": "EuUHJTD_p--k",
        "outputId": "456294b2-f472-40e8-c9c7-76ffbff44f9c"
      },
      "execution_count": 12,
      "outputs": [
        {
          "output_type": "stream",
          "name": "stdout",
          "text": [
            "<class 'pandas.core.frame.DataFrame'>\n",
            "RangeIndex: 52 entries, 0 to 51\n",
            "Data columns (total 7 columns):\n",
            " #   Column         Non-Null Count  Dtype  \n",
            "---  ------         --------------  -----  \n",
            " 0   State          52 non-null     object \n",
            " 1   Participation  52 non-null     float64\n",
            " 2   English        52 non-null     float64\n",
            " 3   Math           52 non-null     float64\n",
            " 4   Reading        52 non-null     float64\n",
            " 5   Science        52 non-null     float64\n",
            " 6   Composite      52 non-null     float64\n",
            "dtypes: float64(6), object(1)\n",
            "memory usage: 3.0+ KB\n"
          ]
        }
      ]
    },
    {
      "cell_type": "code",
      "source": [
        "\n",
        "\n",
        "# rename all columns to lowercase\n",
        "act_2017.columns = map(str.lower, act_2017.columns)\n",
        "\n",
        "# print the updated DataFrame\n",
        "print(act_2017.head())\n"
      ],
      "metadata": {
        "colab": {
          "base_uri": "https://localhost:8080/"
        },
        "id": "fdiJimh4qymP",
        "outputId": "7495cd19-64e1-4a03-a648-ae2d37355c3b"
      },
      "execution_count": 13,
      "outputs": [
        {
          "output_type": "stream",
          "name": "stdout",
          "text": [
            "      state  participation  english  math  reading  science  composite\n",
            "0  National           60.0     20.3  20.7     21.4     21.0       21.0\n",
            "1   Alabama          100.0     18.9  18.4     19.7     19.4       19.2\n",
            "2    Alaska           65.0     18.7  19.8     20.4     19.9       19.8\n",
            "3   Arizona           62.0     18.6  19.8     20.1     19.8       19.7\n",
            "4  Arkansas          100.0     18.9  19.0     19.7     19.5       19.4\n"
          ]
        }
      ]
    },
    {
      "cell_type": "code",
      "source": [
        "# Displaying First 5 Rows of act_2019 Data set:\n",
        "act_2019.head()"
      ],
      "metadata": {
        "colab": {
          "base_uri": "https://localhost:8080/",
          "height": 206
        },
        "id": "OqwCeAz5Uz8Y",
        "outputId": "70ebe168-31ba-4a17-ff8f-c9d093849f24"
      },
      "execution_count": 14,
      "outputs": [
        {
          "output_type": "execute_result",
          "data": {
            "text/plain": [
              "        State Participation  Composite\n",
              "0     Alabama          100%       18.9\n",
              "1      Alaska           38%       20.1\n",
              "2     Arizona           73%       19.0\n",
              "3    Arkansas          100%       19.3\n",
              "4  California           23%       22.6"
            ],
            "text/html": [
              "\n",
              "  <div id=\"df-8cb75ce4-f706-4b86-89d8-324f839d4a4a\">\n",
              "    <div class=\"colab-df-container\">\n",
              "      <div>\n",
              "<style scoped>\n",
              "    .dataframe tbody tr th:only-of-type {\n",
              "        vertical-align: middle;\n",
              "    }\n",
              "\n",
              "    .dataframe tbody tr th {\n",
              "        vertical-align: top;\n",
              "    }\n",
              "\n",
              "    .dataframe thead th {\n",
              "        text-align: right;\n",
              "    }\n",
              "</style>\n",
              "<table border=\"1\" class=\"dataframe\">\n",
              "  <thead>\n",
              "    <tr style=\"text-align: right;\">\n",
              "      <th></th>\n",
              "      <th>State</th>\n",
              "      <th>Participation</th>\n",
              "      <th>Composite</th>\n",
              "    </tr>\n",
              "  </thead>\n",
              "  <tbody>\n",
              "    <tr>\n",
              "      <th>0</th>\n",
              "      <td>Alabama</td>\n",
              "      <td>100%</td>\n",
              "      <td>18.9</td>\n",
              "    </tr>\n",
              "    <tr>\n",
              "      <th>1</th>\n",
              "      <td>Alaska</td>\n",
              "      <td>38%</td>\n",
              "      <td>20.1</td>\n",
              "    </tr>\n",
              "    <tr>\n",
              "      <th>2</th>\n",
              "      <td>Arizona</td>\n",
              "      <td>73%</td>\n",
              "      <td>19.0</td>\n",
              "    </tr>\n",
              "    <tr>\n",
              "      <th>3</th>\n",
              "      <td>Arkansas</td>\n",
              "      <td>100%</td>\n",
              "      <td>19.3</td>\n",
              "    </tr>\n",
              "    <tr>\n",
              "      <th>4</th>\n",
              "      <td>California</td>\n",
              "      <td>23%</td>\n",
              "      <td>22.6</td>\n",
              "    </tr>\n",
              "  </tbody>\n",
              "</table>\n",
              "</div>\n",
              "      <button class=\"colab-df-convert\" onclick=\"convertToInteractive('df-8cb75ce4-f706-4b86-89d8-324f839d4a4a')\"\n",
              "              title=\"Convert this dataframe to an interactive table.\"\n",
              "              style=\"display:none;\">\n",
              "        \n",
              "  <svg xmlns=\"http://www.w3.org/2000/svg\" height=\"24px\"viewBox=\"0 0 24 24\"\n",
              "       width=\"24px\">\n",
              "    <path d=\"M0 0h24v24H0V0z\" fill=\"none\"/>\n",
              "    <path d=\"M18.56 5.44l.94 2.06.94-2.06 2.06-.94-2.06-.94-.94-2.06-.94 2.06-2.06.94zm-11 1L8.5 8.5l.94-2.06 2.06-.94-2.06-.94L8.5 2.5l-.94 2.06-2.06.94zm10 10l.94 2.06.94-2.06 2.06-.94-2.06-.94-.94-2.06-.94 2.06-2.06.94z\"/><path d=\"M17.41 7.96l-1.37-1.37c-.4-.4-.92-.59-1.43-.59-.52 0-1.04.2-1.43.59L10.3 9.45l-7.72 7.72c-.78.78-.78 2.05 0 2.83L4 21.41c.39.39.9.59 1.41.59.51 0 1.02-.2 1.41-.59l7.78-7.78 2.81-2.81c.8-.78.8-2.07 0-2.86zM5.41 20L4 18.59l7.72-7.72 1.47 1.35L5.41 20z\"/>\n",
              "  </svg>\n",
              "      </button>\n",
              "      \n",
              "  <style>\n",
              "    .colab-df-container {\n",
              "      display:flex;\n",
              "      flex-wrap:wrap;\n",
              "      gap: 12px;\n",
              "    }\n",
              "\n",
              "    .colab-df-convert {\n",
              "      background-color: #E8F0FE;\n",
              "      border: none;\n",
              "      border-radius: 50%;\n",
              "      cursor: pointer;\n",
              "      display: none;\n",
              "      fill: #1967D2;\n",
              "      height: 32px;\n",
              "      padding: 0 0 0 0;\n",
              "      width: 32px;\n",
              "    }\n",
              "\n",
              "    .colab-df-convert:hover {\n",
              "      background-color: #E2EBFA;\n",
              "      box-shadow: 0px 1px 2px rgba(60, 64, 67, 0.3), 0px 1px 3px 1px rgba(60, 64, 67, 0.15);\n",
              "      fill: #174EA6;\n",
              "    }\n",
              "\n",
              "    [theme=dark] .colab-df-convert {\n",
              "      background-color: #3B4455;\n",
              "      fill: #D2E3FC;\n",
              "    }\n",
              "\n",
              "    [theme=dark] .colab-df-convert:hover {\n",
              "      background-color: #434B5C;\n",
              "      box-shadow: 0px 1px 3px 1px rgba(0, 0, 0, 0.15);\n",
              "      filter: drop-shadow(0px 1px 2px rgba(0, 0, 0, 0.3));\n",
              "      fill: #FFFFFF;\n",
              "    }\n",
              "  </style>\n",
              "\n",
              "      <script>\n",
              "        const buttonEl =\n",
              "          document.querySelector('#df-8cb75ce4-f706-4b86-89d8-324f839d4a4a button.colab-df-convert');\n",
              "        buttonEl.style.display =\n",
              "          google.colab.kernel.accessAllowed ? 'block' : 'none';\n",
              "\n",
              "        async function convertToInteractive(key) {\n",
              "          const element = document.querySelector('#df-8cb75ce4-f706-4b86-89d8-324f839d4a4a');\n",
              "          const dataTable =\n",
              "            await google.colab.kernel.invokeFunction('convertToInteractive',\n",
              "                                                     [key], {});\n",
              "          if (!dataTable) return;\n",
              "\n",
              "          const docLinkHtml = 'Like what you see? Visit the ' +\n",
              "            '<a target=\"_blank\" href=https://colab.research.google.com/notebooks/data_table.ipynb>data table notebook</a>'\n",
              "            + ' to learn more about interactive tables.';\n",
              "          element.innerHTML = '';\n",
              "          dataTable['output_type'] = 'display_data';\n",
              "          await google.colab.output.renderOutput(dataTable, element);\n",
              "          const docLink = document.createElement('div');\n",
              "          docLink.innerHTML = docLinkHtml;\n",
              "          element.appendChild(docLink);\n",
              "        }\n",
              "      </script>\n",
              "    </div>\n",
              "  </div>\n",
              "  "
            ]
          },
          "metadata": {},
          "execution_count": 14
        }
      ]
    },
    {
      "cell_type": "markdown",
      "source": [
        "Checking for Null values"
      ],
      "metadata": {
        "id": "dq-v67dWf060"
      }
    },
    {
      "cell_type": "code",
      "source": [
        "act_2019.isna().sum().sum()"
      ],
      "metadata": {
        "colab": {
          "base_uri": "https://localhost:8080/"
        },
        "id": "SmqFDFwZfrdV",
        "outputId": "70272195-9669-4da7-c38e-169571733cd5"
      },
      "execution_count": 15,
      "outputs": [
        {
          "output_type": "execute_result",
          "data": {
            "text/plain": [
              "0"
            ]
          },
          "metadata": {},
          "execution_count": 15
        }
      ]
    },
    {
      "cell_type": "code",
      "source": [
        "act_2019.info()"
      ],
      "metadata": {
        "colab": {
          "base_uri": "https://localhost:8080/"
        },
        "id": "-0KQ5cDwgzms",
        "outputId": "8de91b18-3255-4b97-a143-642ad56c14f8"
      },
      "execution_count": 16,
      "outputs": [
        {
          "output_type": "stream",
          "name": "stdout",
          "text": [
            "<class 'pandas.core.frame.DataFrame'>\n",
            "RangeIndex: 52 entries, 0 to 51\n",
            "Data columns (total 3 columns):\n",
            " #   Column         Non-Null Count  Dtype  \n",
            "---  ------         --------------  -----  \n",
            " 0   State          52 non-null     object \n",
            " 1   Participation  52 non-null     object \n",
            " 2   Composite      52 non-null     float64\n",
            "dtypes: float64(1), object(2)\n",
            "memory usage: 1.3+ KB\n"
          ]
        }
      ]
    },
    {
      "cell_type": "markdown",
      "source": [
        "Convert Participation to a float. "
      ],
      "metadata": {
        "id": "3jcyiVxwpuyw"
      }
    },
    {
      "cell_type": "code",
      "source": [
        "# Code:\n",
        "def convert_percent_to_float(n):\n",
        "    #remove % from string\n",
        "    number_str = n.strip('%')\n",
        "    \n",
        "    #convert string to float\n",
        "    con_float = float(number_str)\n",
        "    return con_float\n",
        "   \n",
        "act_2019['Participation'] = act_2019['Participation'].apply(convert_percent_to_float)"
      ],
      "metadata": {
        "id": "F9LbXB48lZya"
      },
      "execution_count": 17,
      "outputs": []
    },
    {
      "cell_type": "code",
      "source": [
        "act_2019.head()"
      ],
      "metadata": {
        "colab": {
          "base_uri": "https://localhost:8080/",
          "height": 206
        },
        "id": "9GgdC4yblgRP",
        "outputId": "47cf121f-d757-4376-a157-2695270109e5"
      },
      "execution_count": 18,
      "outputs": [
        {
          "output_type": "execute_result",
          "data": {
            "text/plain": [
              "        State  Participation  Composite\n",
              "0     Alabama          100.0       18.9\n",
              "1      Alaska           38.0       20.1\n",
              "2     Arizona           73.0       19.0\n",
              "3    Arkansas          100.0       19.3\n",
              "4  California           23.0       22.6"
            ],
            "text/html": [
              "\n",
              "  <div id=\"df-24593eac-04cf-49fb-a6de-15c5f4cfba18\">\n",
              "    <div class=\"colab-df-container\">\n",
              "      <div>\n",
              "<style scoped>\n",
              "    .dataframe tbody tr th:only-of-type {\n",
              "        vertical-align: middle;\n",
              "    }\n",
              "\n",
              "    .dataframe tbody tr th {\n",
              "        vertical-align: top;\n",
              "    }\n",
              "\n",
              "    .dataframe thead th {\n",
              "        text-align: right;\n",
              "    }\n",
              "</style>\n",
              "<table border=\"1\" class=\"dataframe\">\n",
              "  <thead>\n",
              "    <tr style=\"text-align: right;\">\n",
              "      <th></th>\n",
              "      <th>State</th>\n",
              "      <th>Participation</th>\n",
              "      <th>Composite</th>\n",
              "    </tr>\n",
              "  </thead>\n",
              "  <tbody>\n",
              "    <tr>\n",
              "      <th>0</th>\n",
              "      <td>Alabama</td>\n",
              "      <td>100.0</td>\n",
              "      <td>18.9</td>\n",
              "    </tr>\n",
              "    <tr>\n",
              "      <th>1</th>\n",
              "      <td>Alaska</td>\n",
              "      <td>38.0</td>\n",
              "      <td>20.1</td>\n",
              "    </tr>\n",
              "    <tr>\n",
              "      <th>2</th>\n",
              "      <td>Arizona</td>\n",
              "      <td>73.0</td>\n",
              "      <td>19.0</td>\n",
              "    </tr>\n",
              "    <tr>\n",
              "      <th>3</th>\n",
              "      <td>Arkansas</td>\n",
              "      <td>100.0</td>\n",
              "      <td>19.3</td>\n",
              "    </tr>\n",
              "    <tr>\n",
              "      <th>4</th>\n",
              "      <td>California</td>\n",
              "      <td>23.0</td>\n",
              "      <td>22.6</td>\n",
              "    </tr>\n",
              "  </tbody>\n",
              "</table>\n",
              "</div>\n",
              "      <button class=\"colab-df-convert\" onclick=\"convertToInteractive('df-24593eac-04cf-49fb-a6de-15c5f4cfba18')\"\n",
              "              title=\"Convert this dataframe to an interactive table.\"\n",
              "              style=\"display:none;\">\n",
              "        \n",
              "  <svg xmlns=\"http://www.w3.org/2000/svg\" height=\"24px\"viewBox=\"0 0 24 24\"\n",
              "       width=\"24px\">\n",
              "    <path d=\"M0 0h24v24H0V0z\" fill=\"none\"/>\n",
              "    <path d=\"M18.56 5.44l.94 2.06.94-2.06 2.06-.94-2.06-.94-.94-2.06-.94 2.06-2.06.94zm-11 1L8.5 8.5l.94-2.06 2.06-.94-2.06-.94L8.5 2.5l-.94 2.06-2.06.94zm10 10l.94 2.06.94-2.06 2.06-.94-2.06-.94-.94-2.06-.94 2.06-2.06.94z\"/><path d=\"M17.41 7.96l-1.37-1.37c-.4-.4-.92-.59-1.43-.59-.52 0-1.04.2-1.43.59L10.3 9.45l-7.72 7.72c-.78.78-.78 2.05 0 2.83L4 21.41c.39.39.9.59 1.41.59.51 0 1.02-.2 1.41-.59l7.78-7.78 2.81-2.81c.8-.78.8-2.07 0-2.86zM5.41 20L4 18.59l7.72-7.72 1.47 1.35L5.41 20z\"/>\n",
              "  </svg>\n",
              "      </button>\n",
              "      \n",
              "  <style>\n",
              "    .colab-df-container {\n",
              "      display:flex;\n",
              "      flex-wrap:wrap;\n",
              "      gap: 12px;\n",
              "    }\n",
              "\n",
              "    .colab-df-convert {\n",
              "      background-color: #E8F0FE;\n",
              "      border: none;\n",
              "      border-radius: 50%;\n",
              "      cursor: pointer;\n",
              "      display: none;\n",
              "      fill: #1967D2;\n",
              "      height: 32px;\n",
              "      padding: 0 0 0 0;\n",
              "      width: 32px;\n",
              "    }\n",
              "\n",
              "    .colab-df-convert:hover {\n",
              "      background-color: #E2EBFA;\n",
              "      box-shadow: 0px 1px 2px rgba(60, 64, 67, 0.3), 0px 1px 3px 1px rgba(60, 64, 67, 0.15);\n",
              "      fill: #174EA6;\n",
              "    }\n",
              "\n",
              "    [theme=dark] .colab-df-convert {\n",
              "      background-color: #3B4455;\n",
              "      fill: #D2E3FC;\n",
              "    }\n",
              "\n",
              "    [theme=dark] .colab-df-convert:hover {\n",
              "      background-color: #434B5C;\n",
              "      box-shadow: 0px 1px 3px 1px rgba(0, 0, 0, 0.15);\n",
              "      filter: drop-shadow(0px 1px 2px rgba(0, 0, 0, 0.3));\n",
              "      fill: #FFFFFF;\n",
              "    }\n",
              "  </style>\n",
              "\n",
              "      <script>\n",
              "        const buttonEl =\n",
              "          document.querySelector('#df-24593eac-04cf-49fb-a6de-15c5f4cfba18 button.colab-df-convert');\n",
              "        buttonEl.style.display =\n",
              "          google.colab.kernel.accessAllowed ? 'block' : 'none';\n",
              "\n",
              "        async function convertToInteractive(key) {\n",
              "          const element = document.querySelector('#df-24593eac-04cf-49fb-a6de-15c5f4cfba18');\n",
              "          const dataTable =\n",
              "            await google.colab.kernel.invokeFunction('convertToInteractive',\n",
              "                                                     [key], {});\n",
              "          if (!dataTable) return;\n",
              "\n",
              "          const docLinkHtml = 'Like what you see? Visit the ' +\n",
              "            '<a target=\"_blank\" href=https://colab.research.google.com/notebooks/data_table.ipynb>data table notebook</a>'\n",
              "            + ' to learn more about interactive tables.';\n",
              "          element.innerHTML = '';\n",
              "          dataTable['output_type'] = 'display_data';\n",
              "          await google.colab.output.renderOutput(dataTable, element);\n",
              "          const docLink = document.createElement('div');\n",
              "          docLink.innerHTML = docLinkHtml;\n",
              "          element.appendChild(docLink);\n",
              "        }\n",
              "      </script>\n",
              "    </div>\n",
              "  </div>\n",
              "  "
            ]
          },
          "metadata": {},
          "execution_count": 18
        }
      ]
    },
    {
      "cell_type": "code",
      "source": [
        "df = pd.read_csv('/content/drive/MyDrive/mean_unadj_score_by_state_8th_grade.csv')\n",
        "df.info()"
      ],
      "metadata": {
        "colab": {
          "base_uri": "https://localhost:8080/"
        },
        "id": "-GQZVp0GgBcc",
        "outputId": "b5763970-104e-4dc4-f575-6a9e3994474f"
      },
      "execution_count": 45,
      "outputs": [
        {
          "output_type": "stream",
          "name": "stdout",
          "text": [
            "<class 'pandas.core.frame.DataFrame'>\n",
            "RangeIndex: 50 entries, 0 to 49\n",
            "Data columns (total 2 columns):\n",
            " #   Column            Non-Null Count  Dtype  \n",
            "---  ------            --------------  -----  \n",
            " 0   state             50 non-null     object \n",
            " 1   mean_unadj_score  50 non-null     float64\n",
            "dtypes: float64(1), object(1)\n",
            "memory usage: 928.0+ bytes\n"
          ]
        }
      ]
    },
    {
      "cell_type": "code",
      "source": [
        "df.head()"
      ],
      "metadata": {
        "colab": {
          "base_uri": "https://localhost:8080/",
          "height": 206
        },
        "id": "ScVUveR2hDkP",
        "outputId": "bd933c2f-a710-414e-8829-abca74422417"
      },
      "execution_count": 46,
      "outputs": [
        {
          "output_type": "execute_result",
          "data": {
            "text/plain": [
              "        state  mean_unadj_score\n",
              "0     Alabama        260.318182\n",
              "1      Alaska        269.631579\n",
              "2     Arizona        267.590909\n",
              "3    Arkansas        265.409091\n",
              "4  California        263.000000"
            ],
            "text/html": [
              "\n",
              "  <div id=\"df-981613e1-49fe-4bd8-9e1c-c67682197494\">\n",
              "    <div class=\"colab-df-container\">\n",
              "      <div>\n",
              "<style scoped>\n",
              "    .dataframe tbody tr th:only-of-type {\n",
              "        vertical-align: middle;\n",
              "    }\n",
              "\n",
              "    .dataframe tbody tr th {\n",
              "        vertical-align: top;\n",
              "    }\n",
              "\n",
              "    .dataframe thead th {\n",
              "        text-align: right;\n",
              "    }\n",
              "</style>\n",
              "<table border=\"1\" class=\"dataframe\">\n",
              "  <thead>\n",
              "    <tr style=\"text-align: right;\">\n",
              "      <th></th>\n",
              "      <th>state</th>\n",
              "      <th>mean_unadj_score</th>\n",
              "    </tr>\n",
              "  </thead>\n",
              "  <tbody>\n",
              "    <tr>\n",
              "      <th>0</th>\n",
              "      <td>Alabama</td>\n",
              "      <td>260.318182</td>\n",
              "    </tr>\n",
              "    <tr>\n",
              "      <th>1</th>\n",
              "      <td>Alaska</td>\n",
              "      <td>269.631579</td>\n",
              "    </tr>\n",
              "    <tr>\n",
              "      <th>2</th>\n",
              "      <td>Arizona</td>\n",
              "      <td>267.590909</td>\n",
              "    </tr>\n",
              "    <tr>\n",
              "      <th>3</th>\n",
              "      <td>Arkansas</td>\n",
              "      <td>265.409091</td>\n",
              "    </tr>\n",
              "    <tr>\n",
              "      <th>4</th>\n",
              "      <td>California</td>\n",
              "      <td>263.000000</td>\n",
              "    </tr>\n",
              "  </tbody>\n",
              "</table>\n",
              "</div>\n",
              "      <button class=\"colab-df-convert\" onclick=\"convertToInteractive('df-981613e1-49fe-4bd8-9e1c-c67682197494')\"\n",
              "              title=\"Convert this dataframe to an interactive table.\"\n",
              "              style=\"display:none;\">\n",
              "        \n",
              "  <svg xmlns=\"http://www.w3.org/2000/svg\" height=\"24px\"viewBox=\"0 0 24 24\"\n",
              "       width=\"24px\">\n",
              "    <path d=\"M0 0h24v24H0V0z\" fill=\"none\"/>\n",
              "    <path d=\"M18.56 5.44l.94 2.06.94-2.06 2.06-.94-2.06-.94-.94-2.06-.94 2.06-2.06.94zm-11 1L8.5 8.5l.94-2.06 2.06-.94-2.06-.94L8.5 2.5l-.94 2.06-2.06.94zm10 10l.94 2.06.94-2.06 2.06-.94-2.06-.94-.94-2.06-.94 2.06-2.06.94z\"/><path d=\"M17.41 7.96l-1.37-1.37c-.4-.4-.92-.59-1.43-.59-.52 0-1.04.2-1.43.59L10.3 9.45l-7.72 7.72c-.78.78-.78 2.05 0 2.83L4 21.41c.39.39.9.59 1.41.59.51 0 1.02-.2 1.41-.59l7.78-7.78 2.81-2.81c.8-.78.8-2.07 0-2.86zM5.41 20L4 18.59l7.72-7.72 1.47 1.35L5.41 20z\"/>\n",
              "  </svg>\n",
              "      </button>\n",
              "      \n",
              "  <style>\n",
              "    .colab-df-container {\n",
              "      display:flex;\n",
              "      flex-wrap:wrap;\n",
              "      gap: 12px;\n",
              "    }\n",
              "\n",
              "    .colab-df-convert {\n",
              "      background-color: #E8F0FE;\n",
              "      border: none;\n",
              "      border-radius: 50%;\n",
              "      cursor: pointer;\n",
              "      display: none;\n",
              "      fill: #1967D2;\n",
              "      height: 32px;\n",
              "      padding: 0 0 0 0;\n",
              "      width: 32px;\n",
              "    }\n",
              "\n",
              "    .colab-df-convert:hover {\n",
              "      background-color: #E2EBFA;\n",
              "      box-shadow: 0px 1px 2px rgba(60, 64, 67, 0.3), 0px 1px 3px 1px rgba(60, 64, 67, 0.15);\n",
              "      fill: #174EA6;\n",
              "    }\n",
              "\n",
              "    [theme=dark] .colab-df-convert {\n",
              "      background-color: #3B4455;\n",
              "      fill: #D2E3FC;\n",
              "    }\n",
              "\n",
              "    [theme=dark] .colab-df-convert:hover {\n",
              "      background-color: #434B5C;\n",
              "      box-shadow: 0px 1px 3px 1px rgba(0, 0, 0, 0.15);\n",
              "      filter: drop-shadow(0px 1px 2px rgba(0, 0, 0, 0.3));\n",
              "      fill: #FFFFFF;\n",
              "    }\n",
              "  </style>\n",
              "\n",
              "      <script>\n",
              "        const buttonEl =\n",
              "          document.querySelector('#df-981613e1-49fe-4bd8-9e1c-c67682197494 button.colab-df-convert');\n",
              "        buttonEl.style.display =\n",
              "          google.colab.kernel.accessAllowed ? 'block' : 'none';\n",
              "\n",
              "        async function convertToInteractive(key) {\n",
              "          const element = document.querySelector('#df-981613e1-49fe-4bd8-9e1c-c67682197494');\n",
              "          const dataTable =\n",
              "            await google.colab.kernel.invokeFunction('convertToInteractive',\n",
              "                                                     [key], {});\n",
              "          if (!dataTable) return;\n",
              "\n",
              "          const docLinkHtml = 'Like what you see? Visit the ' +\n",
              "            '<a target=\"_blank\" href=https://colab.research.google.com/notebooks/data_table.ipynb>data table notebook</a>'\n",
              "            + ' to learn more about interactive tables.';\n",
              "          element.innerHTML = '';\n",
              "          dataTable['output_type'] = 'display_data';\n",
              "          await google.colab.output.renderOutput(dataTable, element);\n",
              "          const docLink = document.createElement('div');\n",
              "          docLink.innerHTML = docLinkHtml;\n",
              "          element.appendChild(docLink);\n",
              "        }\n",
              "      </script>\n",
              "    </div>\n",
              "  </div>\n",
              "  "
            ]
          },
          "metadata": {},
          "execution_count": 46
        }
      ]
    },
    {
      "cell_type": "code",
      "source": [
        "# merge the df and act_2019 DataFrames on the 'state' column\n",
        "merged_df = pd.merge(df, act_2019, on='state')\n"
      ],
      "metadata": {
        "id": "FXIrDSbEhV71"
      },
      "execution_count": 47,
      "outputs": []
    },
    {
      "cell_type": "markdown",
      "source": [
        "## **mean_unadj_score** is the **Mean Unadjusted NAEP reading score** for 8th graders grouped by state."
      ],
      "metadata": {
        "id": "piTYvuffn5RV"
      }
    },
    {
      "cell_type": "code",
      "source": [
        "merged_df.head()"
      ],
      "metadata": {
        "colab": {
          "base_uri": "https://localhost:8080/",
          "height": 206
        },
        "id": "L8YsGS4ehV29",
        "outputId": "f4fa15ea-f461-47aa-c1d5-553410c2fdde"
      },
      "execution_count": 48,
      "outputs": [
        {
          "output_type": "execute_result",
          "data": {
            "text/plain": [
              "        state  mean_unadj_score  participation  composite\n",
              "0     Alabama        260.318182          100.0       18.9\n",
              "1      Alaska        269.631579           38.0       20.1\n",
              "2     Arizona        267.590909           73.0       19.0\n",
              "3    Arkansas        265.409091          100.0       19.3\n",
              "4  California        263.000000           23.0       22.6"
            ],
            "text/html": [
              "\n",
              "  <div id=\"df-e03a0bc7-b57c-4db1-a933-883d23ccfad0\">\n",
              "    <div class=\"colab-df-container\">\n",
              "      <div>\n",
              "<style scoped>\n",
              "    .dataframe tbody tr th:only-of-type {\n",
              "        vertical-align: middle;\n",
              "    }\n",
              "\n",
              "    .dataframe tbody tr th {\n",
              "        vertical-align: top;\n",
              "    }\n",
              "\n",
              "    .dataframe thead th {\n",
              "        text-align: right;\n",
              "    }\n",
              "</style>\n",
              "<table border=\"1\" class=\"dataframe\">\n",
              "  <thead>\n",
              "    <tr style=\"text-align: right;\">\n",
              "      <th></th>\n",
              "      <th>state</th>\n",
              "      <th>mean_unadj_score</th>\n",
              "      <th>participation</th>\n",
              "      <th>composite</th>\n",
              "    </tr>\n",
              "  </thead>\n",
              "  <tbody>\n",
              "    <tr>\n",
              "      <th>0</th>\n",
              "      <td>Alabama</td>\n",
              "      <td>260.318182</td>\n",
              "      <td>100.0</td>\n",
              "      <td>18.9</td>\n",
              "    </tr>\n",
              "    <tr>\n",
              "      <th>1</th>\n",
              "      <td>Alaska</td>\n",
              "      <td>269.631579</td>\n",
              "      <td>38.0</td>\n",
              "      <td>20.1</td>\n",
              "    </tr>\n",
              "    <tr>\n",
              "      <th>2</th>\n",
              "      <td>Arizona</td>\n",
              "      <td>267.590909</td>\n",
              "      <td>73.0</td>\n",
              "      <td>19.0</td>\n",
              "    </tr>\n",
              "    <tr>\n",
              "      <th>3</th>\n",
              "      <td>Arkansas</td>\n",
              "      <td>265.409091</td>\n",
              "      <td>100.0</td>\n",
              "      <td>19.3</td>\n",
              "    </tr>\n",
              "    <tr>\n",
              "      <th>4</th>\n",
              "      <td>California</td>\n",
              "      <td>263.000000</td>\n",
              "      <td>23.0</td>\n",
              "      <td>22.6</td>\n",
              "    </tr>\n",
              "  </tbody>\n",
              "</table>\n",
              "</div>\n",
              "      <button class=\"colab-df-convert\" onclick=\"convertToInteractive('df-e03a0bc7-b57c-4db1-a933-883d23ccfad0')\"\n",
              "              title=\"Convert this dataframe to an interactive table.\"\n",
              "              style=\"display:none;\">\n",
              "        \n",
              "  <svg xmlns=\"http://www.w3.org/2000/svg\" height=\"24px\"viewBox=\"0 0 24 24\"\n",
              "       width=\"24px\">\n",
              "    <path d=\"M0 0h24v24H0V0z\" fill=\"none\"/>\n",
              "    <path d=\"M18.56 5.44l.94 2.06.94-2.06 2.06-.94-2.06-.94-.94-2.06-.94 2.06-2.06.94zm-11 1L8.5 8.5l.94-2.06 2.06-.94-2.06-.94L8.5 2.5l-.94 2.06-2.06.94zm10 10l.94 2.06.94-2.06 2.06-.94-2.06-.94-.94-2.06-.94 2.06-2.06.94z\"/><path d=\"M17.41 7.96l-1.37-1.37c-.4-.4-.92-.59-1.43-.59-.52 0-1.04.2-1.43.59L10.3 9.45l-7.72 7.72c-.78.78-.78 2.05 0 2.83L4 21.41c.39.39.9.59 1.41.59.51 0 1.02-.2 1.41-.59l7.78-7.78 2.81-2.81c.8-.78.8-2.07 0-2.86zM5.41 20L4 18.59l7.72-7.72 1.47 1.35L5.41 20z\"/>\n",
              "  </svg>\n",
              "      </button>\n",
              "      \n",
              "  <style>\n",
              "    .colab-df-container {\n",
              "      display:flex;\n",
              "      flex-wrap:wrap;\n",
              "      gap: 12px;\n",
              "    }\n",
              "\n",
              "    .colab-df-convert {\n",
              "      background-color: #E8F0FE;\n",
              "      border: none;\n",
              "      border-radius: 50%;\n",
              "      cursor: pointer;\n",
              "      display: none;\n",
              "      fill: #1967D2;\n",
              "      height: 32px;\n",
              "      padding: 0 0 0 0;\n",
              "      width: 32px;\n",
              "    }\n",
              "\n",
              "    .colab-df-convert:hover {\n",
              "      background-color: #E2EBFA;\n",
              "      box-shadow: 0px 1px 2px rgba(60, 64, 67, 0.3), 0px 1px 3px 1px rgba(60, 64, 67, 0.15);\n",
              "      fill: #174EA6;\n",
              "    }\n",
              "\n",
              "    [theme=dark] .colab-df-convert {\n",
              "      background-color: #3B4455;\n",
              "      fill: #D2E3FC;\n",
              "    }\n",
              "\n",
              "    [theme=dark] .colab-df-convert:hover {\n",
              "      background-color: #434B5C;\n",
              "      box-shadow: 0px 1px 3px 1px rgba(0, 0, 0, 0.15);\n",
              "      filter: drop-shadow(0px 1px 2px rgba(0, 0, 0, 0.3));\n",
              "      fill: #FFFFFF;\n",
              "    }\n",
              "  </style>\n",
              "\n",
              "      <script>\n",
              "        const buttonEl =\n",
              "          document.querySelector('#df-e03a0bc7-b57c-4db1-a933-883d23ccfad0 button.colab-df-convert');\n",
              "        buttonEl.style.display =\n",
              "          google.colab.kernel.accessAllowed ? 'block' : 'none';\n",
              "\n",
              "        async function convertToInteractive(key) {\n",
              "          const element = document.querySelector('#df-e03a0bc7-b57c-4db1-a933-883d23ccfad0');\n",
              "          const dataTable =\n",
              "            await google.colab.kernel.invokeFunction('convertToInteractive',\n",
              "                                                     [key], {});\n",
              "          if (!dataTable) return;\n",
              "\n",
              "          const docLinkHtml = 'Like what you see? Visit the ' +\n",
              "            '<a target=\"_blank\" href=https://colab.research.google.com/notebooks/data_table.ipynb>data table notebook</a>'\n",
              "            + ' to learn more about interactive tables.';\n",
              "          element.innerHTML = '';\n",
              "          dataTable['output_type'] = 'display_data';\n",
              "          await google.colab.output.renderOutput(dataTable, element);\n",
              "          const docLink = document.createElement('div');\n",
              "          docLink.innerHTML = docLinkHtml;\n",
              "          element.appendChild(docLink);\n",
              "        }\n",
              "      </script>\n",
              "    </div>\n",
              "  </div>\n",
              "  "
            ]
          },
          "metadata": {},
          "execution_count": 48
        }
      ]
    },
    {
      "cell_type": "code",
      "source": [
        "import matplotlib.pyplot as plt\n",
        "\n",
        "# create a scatter plot of composite and mean unadjusted score\n",
        "plt.scatter(merged_df['composite'], merged_df['mean_unadj_score'])\n",
        "\n",
        "# add axis labels and a title\n",
        "plt.xlabel('Composite ACT Score')\n",
        "plt.ylabel('Mean Unadjusted Score')\n",
        "plt.title('Relationship Between ACT Composite Score and Mean Unadjusted Score')\n",
        "\n",
        "# display the plot\n",
        "plt.show()\n"
      ],
      "metadata": {
        "colab": {
          "base_uri": "https://localhost:8080/",
          "height": 472
        },
        "id": "mlpgjKbnhVy-",
        "outputId": "d56302fe-c408-4e21-8ab8-c51f632e9ac9"
      },
      "execution_count": 49,
      "outputs": [
        {
          "output_type": "display_data",
          "data": {
            "text/plain": [
              "<Figure size 640x480 with 1 Axes>"
            ],
            "image/png": "[encoded data removed]"
          },
          "metadata": {}
        }
      ]
    },
    {
      "cell_type": "code",
      "source": [
        "\n",
        "# create a correlation matrix for the merged DataFrame\n",
        "corr_matrix = merged_df.corr()\n",
        "\n",
        "# display the correlation matrix\n",
        "print(corr_matrix)\n"
      ],
      "metadata": {
        "colab": {
          "base_uri": "https://localhost:8080/"
        },
        "id": "IhFTECpGh2tX",
        "outputId": "b43a85d4-171e-4f10-c8dc-8410074b093b"
      },
      "execution_count": 50,
      "outputs": [
        {
          "output_type": "stream",
          "name": "stdout",
          "text": [
            "                  mean_unadj_score  participation  composite\n",
            "mean_unadj_score          1.000000      -0.307336   0.577014\n",
            "participation            -0.307336       1.000000  -0.865062\n",
            "composite                 0.577014      -0.865062   1.000000\n"
          ]
        },
        {
          "output_type": "stream",
          "name": "stderr",
          "text": [
            "<ipython-input-50-c35f64414d7b>:2: FutureWarning: The default value of numeric_only in DataFrame.corr is deprecated. In a future version, it will default to False. Select only valid columns or specify the value of numeric_only to silence this warning.\n",
            "  corr_matrix = merged_df.corr()\n"
          ]
        }
      ]
    },
    {
      "cell_type": "code",
      "source": [
        "\n",
        "\n",
        "\n",
        "# create pair plots for mean_unadj_score, participation, and composite\n",
        "sns.pairplot(merged_df[['mean_unadj_score', 'participation', 'composite']])\n",
        "\n",
        "# display the pair plots\n",
        "plt.show()\n"
      ],
      "metadata": {
        "colab": {
          "base_uri": "https://localhost:8080/",
          "height": 758
        },
        "id": "UuN95NW-iw_n",
        "outputId": "cfc37310-8453-4d6a-f3f5-ca7265610e13"
      },
      "execution_count": 51,
      "outputs": [
        {
          "output_type": "display_data",
          "data": {
            "text/plain": [
              "<Figure size 750x750 with 12 Axes>"
            ],
            "image/png": "[encoded data removed]"
          },
          "metadata": {}
        }
      ]
    },
    {
      "cell_type": "code",
      "source": [
        "\n",
        "# create a histogram of the mean unadjusted score\n",
        "plt.hist(merged_df['mean_unadj_score'], bins=10)\n",
        "\n",
        "# set the title and axis labels\n",
        "plt.title('Distribution of Mean Unadjusted Scores')\n",
        "plt.xlabel('Mean Unadjusted Score')\n",
        "plt.ylabel('Frequency')\n",
        "\n",
        "# display the histogram\n",
        "plt.show()\n"
      ],
      "metadata": {
        "colab": {
          "base_uri": "https://localhost:8080/",
          "height": 472
        },
        "id": "RZrq_MaZjAY8",
        "outputId": "3f056970-6df2-448f-c152-d3efb3b8185f"
      },
      "execution_count": 52,
      "outputs": [
        {
          "output_type": "display_data",
          "data": {
            "text/plain": [
              "<Figure size 640x480 with 1 Axes>"
            ],
            "image/png": "[encoded data removed]"
          },
          "metadata": {}
        }
      ]
    },
    {
      "cell_type": "code",
      "source": [
        "# create a histogram of the mean unadjusted score\n",
        "plt.hist(merged_df['participation'], bins=10)\n",
        "\n",
        "# set the title and axis labels\n",
        "plt.title('Distribution of Participation')\n",
        "plt.xlabel('Participation')\n",
        "plt.ylabel('Frequency')\n",
        "\n",
        "# display the histogram\n",
        "plt.show()"
      ],
      "metadata": {
        "colab": {
          "base_uri": "https://localhost:8080/",
          "height": 472
        },
        "id": "VtYIvphukEYo",
        "outputId": "bdfd4c2a-79bc-42c8-e48f-701d86563d1c"
      },
      "execution_count": 55,
      "outputs": [
        {
          "output_type": "display_data",
          "data": {
            "text/plain": [
              "<Figure size 640x480 with 1 Axes>"
            ],
            "image/png": "[encoded data removed]"
          },
          "metadata": {}
        }
      ]
    },
    {
      "cell_type": "code",
      "source": [
        "merged_df.describe()"
      ],
      "metadata": {
        "colab": {
          "base_uri": "https://localhost:8080/",
          "height": 300
        },
        "id": "QTyseUKWjS2Z",
        "outputId": "26b60f33-75e8-458d-f215-17cb1df9907a"
      },
      "execution_count": 53,
      "outputs": [
        {
          "output_type": "execute_result",
          "data": {
            "text/plain": [
              "       mean_unadj_score  participation  composite\n",
              "count         50.000000      50.000000  50.000000\n",
              "mean         272.184374      59.200000  21.424000\n",
              "std            6.094177      34.653386   2.197267\n",
              "min          258.954545       6.000000  17.900000\n",
              "25%          267.590909      24.250000  19.800000\n",
              "50%          273.250000      58.500000  20.950000\n",
              "75%          276.359524     100.000000  23.750000\n",
              "max          283.454545     100.000000  25.500000"
            ],
            "text/html": [
              "\n",
              "  <div id=\"df-3dffe855-e128-4e03-9eaa-3b9c540f4dc9\">\n",
              "    <div class=\"colab-df-container\">\n",
              "      <div>\n",
              "<style scoped>\n",
              "    .dataframe tbody tr th:only-of-type {\n",
              "        vertical-align: middle;\n",
              "    }\n",
              "\n",
              "    .dataframe tbody tr th {\n",
              "        vertical-align: top;\n",
              "    }\n",
              "\n",
              "    .dataframe thead th {\n",
              "        text-align: right;\n",
              "    }\n",
              "</style>\n",
              "<table border=\"1\" class=\"dataframe\">\n",
              "  <thead>\n",
              "    <tr style=\"text-align: right;\">\n",
              "      <th></th>\n",
              "      <th>mean_unadj_score</th>\n",
              "      <th>participation</th>\n",
              "      <th>composite</th>\n",
              "    </tr>\n",
              "  </thead>\n",
              "  <tbody>\n",
              "    <tr>\n",
              "      <th>count</th>\n",
              "      <td>50.000000</td>\n",
              "      <td>50.000000</td>\n",
              "      <td>50.000000</td>\n",
              "    </tr>\n",
              "    <tr>\n",
              "      <th>mean</th>\n",
              "      <td>272.184374</td>\n",
              "      <td>59.200000</td>\n",
              "      <td>21.424000</td>\n",
              "    </tr>\n",
              "    <tr>\n",
              "      <th>std</th>\n",
              "      <td>6.094177</td>\n",
              "      <td>34.653386</td>\n",
              "      <td>2.197267</td>\n",
              "    </tr>\n",
              "    <tr>\n",
              "      <th>min</th>\n",
              "      <td>258.954545</td>\n",
              "      <td>6.000000</td>\n",
              "      <td>17.900000</td>\n",
              "    </tr>\n",
              "    <tr>\n",
              "      <th>25%</th>\n",
              "      <td>267.590909</td>\n",
              "      <td>24.250000</td>\n",
              "      <td>19.800000</td>\n",
              "    </tr>\n",
              "    <tr>\n",
              "      <th>50%</th>\n",
              "      <td>273.250000</td>\n",
              "      <td>58.500000</td>\n",
              "      <td>20.950000</td>\n",
              "    </tr>\n",
              "    <tr>\n",
              "      <th>75%</th>\n",
              "      <td>276.359524</td>\n",
              "      <td>100.000000</td>\n",
              "      <td>23.750000</td>\n",
              "    </tr>\n",
              "    <tr>\n",
              "      <th>max</th>\n",
              "      <td>283.454545</td>\n",
              "      <td>100.000000</td>\n",
              "      <td>25.500000</td>\n",
              "    </tr>\n",
              "  </tbody>\n",
              "</table>\n",
              "</div>\n",
              "      <button class=\"colab-df-convert\" onclick=\"convertToInteractive('df-3dffe855-e128-4e03-9eaa-3b9c540f4dc9')\"\n",
              "              title=\"Convert this dataframe to an interactive table.\"\n",
              "              style=\"display:none;\">\n",
              "        \n",
              "  <svg xmlns=\"http://www.w3.org/2000/svg\" height=\"24px\"viewBox=\"0 0 24 24\"\n",
              "       width=\"24px\">\n",
              "    <path d=\"M0 0h24v24H0V0z\" fill=\"none\"/>\n",
              "    <path d=\"M18.56 5.44l.94 2.06.94-2.06 2.06-.94-2.06-.94-.94-2.06-.94 2.06-2.06.94zm-11 1L8.5 8.5l.94-2.06 2.06-.94-2.06-.94L8.5 2.5l-.94 2.06-2.06.94zm10 10l.94 2.06.94-2.06 2.06-.94-2.06-.94-.94-2.06-.94 2.06-2.06.94z\"/><path d=\"M17.41 7.96l-1.37-1.37c-.4-.4-.92-.59-1.43-.59-.52 0-1.04.2-1.43.59L10.3 9.45l-7.72 7.72c-.78.78-.78 2.05 0 2.83L4 21.41c.39.39.9.59 1.41.59.51 0 1.02-.2 1.41-.59l7.78-7.78 2.81-2.81c.8-.78.8-2.07 0-2.86zM5.41 20L4 18.59l7.72-7.72 1.47 1.35L5.41 20z\"/>\n",
              "  </svg>\n",
              "      </button>\n",
              "      \n",
              "  <style>\n",
              "    .colab-df-container {\n",
              "      display:flex;\n",
              "      flex-wrap:wrap;\n",
              "      gap: 12px;\n",
              "    }\n",
              "\n",
              "    .colab-df-convert {\n",
              "      background-color: #E8F0FE;\n",
              "      border: none;\n",
              "      border-radius: 50%;\n",
              "      cursor: pointer;\n",
              "      display: none;\n",
              "      fill: #1967D2;\n",
              "      height: 32px;\n",
              "      padding: 0 0 0 0;\n",
              "      width: 32px;\n",
              "    }\n",
              "\n",
              "    .colab-df-convert:hover {\n",
              "      background-color: #E2EBFA;\n",
              "      box-shadow: 0px 1px 2px rgba(60, 64, 67, 0.3), 0px 1px 3px 1px rgba(60, 64, 67, 0.15);\n",
              "      fill: #174EA6;\n",
              "    }\n",
              "\n",
              "    [theme=dark] .colab-df-convert {\n",
              "      background-color: #3B4455;\n",
              "      fill: #D2E3FC;\n",
              "    }\n",
              "\n",
              "    [theme=dark] .colab-df-convert:hover {\n",
              "      background-color: #434B5C;\n",
              "      box-shadow: 0px 1px 3px 1px rgba(0, 0, 0, 0.15);\n",
              "      filter: drop-shadow(0px 1px 2px rgba(0, 0, 0, 0.3));\n",
              "      fill: #FFFFFF;\n",
              "    }\n",
              "  </style>\n",
              "\n",
              "      <script>\n",
              "        const buttonEl =\n",
              "          document.querySelector('#df-3dffe855-e128-4e03-9eaa-3b9c540f4dc9 button.colab-df-convert');\n",
              "        buttonEl.style.display =\n",
              "          google.colab.kernel.accessAllowed ? 'block' : 'none';\n",
              "\n",
              "        async function convertToInteractive(key) {\n",
              "          const element = document.querySelector('#df-3dffe855-e128-4e03-9eaa-3b9c540f4dc9');\n",
              "          const dataTable =\n",
              "            await google.colab.kernel.invokeFunction('convertToInteractive',\n",
              "                                                     [key], {});\n",
              "          if (!dataTable) return;\n",
              "\n",
              "          const docLinkHtml = 'Like what you see? Visit the ' +\n",
              "            '<a target=\"_blank\" href=https://colab.research.google.com/notebooks/data_table.ipynb>data table notebook</a>'\n",
              "            + ' to learn more about interactive tables.';\n",
              "          element.innerHTML = '';\n",
              "          dataTable['output_type'] = 'display_data';\n",
              "          await google.colab.output.renderOutput(dataTable, element);\n",
              "          const docLink = document.createElement('div');\n",
              "          docLink.innerHTML = docLinkHtml;\n",
              "          element.appendChild(docLink);\n",
              "        }\n",
              "      </script>\n",
              "    </div>\n",
              "  </div>\n",
              "  "
            ]
          },
          "metadata": {},
          "execution_count": 53
        }
      ]
    },
    {
      "cell_type": "code",
      "source": [
        "\n",
        "\n",
        "# sort the DataFrame by mean unadjusted score in descending order\n",
        "sorted_df = merged_df.sort_values(by='mean_unadj_score', ascending=False)\n",
        "\n",
        "# display the sorted DataFrame\n",
        "print(sorted_df)\n"
      ],
      "metadata": {
        "colab": {
          "base_uri": "https://localhost:8080/"
        },
        "id": "xuN7uu8_jiFs",
        "outputId": "8dda2144-6459-4cd5-87a7-60ff0dab71eb"
      },
      "execution_count": 54,
      "outputs": [
        {
          "output_type": "stream",
          "name": "stdout",
          "text": [
            "             state  mean_unadj_score  participation  composite\n",
            "20   Massachusetts        283.454545           21.0       25.5\n",
            "29      New Jersey        281.052632           25.0       24.2\n",
            "28   New Hampshire        281.000000           14.0       25.0\n",
            "44         Vermont        280.666667           20.0       24.1\n",
            "22       Minnesota        280.136364           95.0       21.4\n",
            "33    North Dakota        278.523810           96.0       19.9\n",
            "25         Montana        278.500000          100.0       19.8\n",
            "40    South Dakota        277.777778           75.0       21.6\n",
            "6      Connecticut        277.181818           22.0       25.5\n",
            "48       Wisconsin        276.954545          100.0       20.3\n",
            "18           Maine        276.909091            6.0       24.3\n",
            "34            Ohio        276.700000          100.0       20.0\n",
            "5         Colorado        276.400000           27.0       23.8\n",
            "26        Nebraska        276.238095          100.0       20.0\n",
            "14            Iowa        276.052632           66.0       21.6\n",
            "15          Kansas        276.047619           72.0       21.2\n",
            "46      Washington        276.000000           24.0       22.1\n",
            "37    Pennsylvania        275.947368           17.0       23.6\n",
            "49         Wyoming        275.863636          100.0       19.8\n",
            "45        Virginia        275.681818           21.0       24.0\n",
            "13         Indiana        275.571429           29.0       22.5\n",
            "11           Idaho        275.200000           31.0       22.5\n",
            "43            Utah        273.909091          100.0       20.3\n",
            "36          Oregon        273.863636           42.0       21.1\n",
            "19        Maryland        273.681818           28.0       22.3\n",
            "24        Missouri        272.818182           82.0       20.8\n",
            "12        Illinois        272.761905           35.0       24.3\n",
            "31        New York        271.954545           22.0       24.5\n",
            "32  North Carolina        271.863636          100.0       19.0\n",
            "7         Delaware        271.333333           13.0       24.1\n",
            "21        Michigan        271.285714           19.0       24.4\n",
            "42           Texas        271.181818           39.0       20.5\n",
            "16        Kentucky        271.090909          100.0       19.8\n",
            "1           Alaska        269.631579           38.0       20.1\n",
            "38    Rhode Island        269.545455           12.0       24.7\n",
            "8          Florida        268.047619           54.0       20.1\n",
            "2          Arizona        267.590909           73.0       19.0\n",
            "9          Georgia        267.590909           49.0       21.4\n",
            "35        Oklahoma        267.571429          100.0       18.9\n",
            "39  South Carolina        267.181818           78.0       18.8\n",
            "41       Tennessee        266.909091          100.0       19.4\n",
            "3         Arkansas        265.409091          100.0       19.3\n",
            "47   West Virginia        264.454545           49.0       20.8\n",
            "27          Nevada        264.227273          100.0       17.9\n",
            "10          Hawaii        263.227273           80.0       19.0\n",
            "4       California        263.000000           23.0       22.6\n",
            "17       Louisiana        261.227273          100.0       18.8\n",
            "30      New Mexico        260.727273           63.0       19.3\n",
            "0          Alabama        260.318182          100.0       18.9\n",
            "23     Mississippi        258.954545          100.0       18.4\n"
          ]
        }
      ]
    },
    {
      "cell_type": "code",
      "source": [
        "import pandas as pd\n",
        "from sklearn.model_selection import train_test_split\n",
        "from sklearn.linear_model import LinearRegression\n",
        "\n",
        "\n",
        "# define the predictor variables (X) and the target variable (Y)\n",
        "X = merged_df[['mean_unadj_score', 'participation']]\n",
        "Y = merged_df['composite']\n",
        "\n",
        "# split the data into training and testing sets\n",
        "X_train, X_test, Y_train, Y_test = train_test_split(X, Y, test_size=0.2, random_state=42)\n",
        "\n",
        "# create a linear regression model and fit it to the training data\n",
        "model = LinearRegression()\n",
        "model.fit(X_train, Y_train)\n",
        "\n",
        "# predict the composite scores for the testing data\n",
        "Y_pred = model.predict(X_test)\n",
        "\n",
        "# evaluate the model using the R-squared score\n",
        "r_squared = model.score(X_test, Y_test)\n",
        "print('R-squared:', r_squared)\n"
      ],
      "metadata": {
        "colab": {
          "base_uri": "https://localhost:8080/"
        },
        "id": "n-dttlqbmU4V",
        "outputId": "7e6cffac-f5bc-4f74-ceea-f10be1612a31"
      },
      "execution_count": 56,
      "outputs": [
        {
          "output_type": "stream",
          "name": "stdout",
          "text": [
            "R-squared: 0.8576420286837317\n"
          ]
        }
      ]
    },
    {
      "cell_type": "code",
      "source": [
        "import pandas as pd\n",
        "from sklearn.model_selection import train_test_split\n",
        "from sklearn.linear_model import LinearRegression\n",
        "import matplotlib.pyplot as plt\n",
        "\n",
        "\n",
        "\n",
        "# predict the composite scores for the training and testing data\n",
        "Y_pred_train = model.predict(X_train)\n",
        "Y_pred_test = model.predict(X_test)\n",
        "\n",
        "# plot the predicted values and actual values for the training data\n",
        "plt.scatter(Y_train, Y_pred_train, color='blue')\n",
        "plt.plot(Y_train, Y_train, color='red')\n",
        "plt.xlabel('Actual Composite Score')\n",
        "plt.ylabel('Predicted Composite Score')\n",
        "plt.title('Predicted vs Actual Composite Scores (Training Data)')\n",
        "plt.show()\n"
      ],
      "metadata": {
        "colab": {
          "base_uri": "https://localhost:8080/",
          "height": 472
        },
        "id": "i6HF-niHm0Fp",
        "outputId": "c2d8b2a1-c272-40fb-c52f-b4a5640982c1"
      },
      "execution_count": 57,
      "outputs": [
        {
          "output_type": "display_data",
          "data": {
            "text/plain": [
              "<Figure size 640x480 with 1 Axes>"
            ],
            "image/png": "[encoded data removed]"
          },
          "metadata": {}
        }
      ]
    },
    {
      "cell_type": "code",
      "source": [],
      "metadata": {
        "id": "2oPeqxzcmUyh"
      },
      "execution_count": null,
      "outputs": []
    },
    {
      "cell_type": "code",
      "source": [],
      "metadata": {
        "id": "blCUgnk8mUqx"
      },
      "execution_count": null,
      "outputs": []
    },
    {
      "cell_type": "code",
      "source": [
        "from google.colab import drive\n",
        "drive.mount('/content/drive')"
      ],
      "metadata": {
        "id": "BpuSL6osgD9j"
      },
      "execution_count": null,
      "outputs": []
    },
    {
      "cell_type": "code",
      "source": [
        "\n",
        "\n",
        "# rename all columns to lowercase\n",
        "act_2019.columns = map(str.lower, act_2019.columns)\n",
        "\n",
        "# print the updated DataFrame\n",
        "print(act_2019.head())\n"
      ],
      "metadata": {
        "colab": {
          "base_uri": "https://localhost:8080/"
        },
        "id": "9RyErieZvEbX",
        "outputId": "9fe61282-5c9e-4632-e0d2-3380e4533e86"
      },
      "execution_count": 19,
      "outputs": [
        {
          "output_type": "stream",
          "name": "stdout",
          "text": [
            "        state  participation  composite\n",
            "0     Alabama          100.0       18.9\n",
            "1      Alaska           38.0       20.1\n",
            "2     Arizona           73.0       19.0\n",
            "3    Arkansas          100.0       19.3\n",
            "4  California           23.0       22.6\n"
          ]
        }
      ]
    },
    {
      "cell_type": "markdown",
      "metadata": {
        "id": "lc6YiBShRy6m"
      },
      "source": [
        "### Data Dictionary\n",
        "\n",
        "Now that we've fixed our data, and given it appropriate names, let's create a [data dictionary](http://library.ucmerced.edu/node/10249). \n",
        "\n",
        "A data dictionary provides a quick overview of features/variables/columns, alongside data types and descriptions. The more descriptive you can be, the more useful this document is.\n",
        "\n",
        "Example of a Fictional Data Dictionary Entry: \n",
        "\n",
        "|Feature|Type|Dataset|Description|\n",
        "|---|---|---|---|\n",
        "|**county_pop**|*integer*|2010 census|The population of the county (units in thousands, where 2.5 represents 2500 people).| \n",
        "|**per_poverty**|*float*|2010 census|The percent of the county over the age of 18 living below the 200% of official US poverty rate (units percent to two decimal places 98.10 means 98.1%)|\n",
        "\n",
        "[Here's a quick link to a short guide for formatting markdown in Jupyter notebooks](https://jupyter-notebook.readthedocs.io/en/stable/examples/Notebook/Working%20With%20Markdown%20Cells.html).\n",
        "\n",
        "Provided is the skeleton for formatting a markdown table, with columns headers that will help you create a data dictionary to quickly summarize your data, as well as some examples. **This would be a great thing to copy and paste into your custom README for this project.**\n",
        "\n",
        "*Note*: if you are unsure of what a feature is, check the source of the data! This can be found in the README."
      ]
    },
    {
      "cell_type": "markdown",
      "metadata": {
        "id": "96mXauobRy6n"
      },
      "source": [
        "**To-Do:** *Edit the table below to create your own data dictionary for the datasets you chose.*\n",
        "\n",
        "|Feature|Type|Dataset|Description|\n",
        "|---|---|---|                 ---        |\n",
        "|State|object|ACT_2019|State Name|\n",
        "|Participation|Float|ACT_2019|Participation Rate| \n",
        "|Composite|Float|ACT_2019|Average ACT Composite Score|  \n"
      ]
    },
    {
      "cell_type": "markdown",
      "metadata": {
        "id": "4BI6QeCa7nZh"
      },
      "source": [
        "**To-Do:** *Edit the table below to create your own data dictionary for the datasets you chose.*\n",
        "\n",
        "|Feature|Type|Dataset|Description|\n",
        "|---|---|---|                 ---        |\n",
        "|State|object|Act_2017|State name|\n",
        "|Participation|Float|Act_2017|Participation Rate|\n",
        "|English|Float|Act_2017|Average ACT English Score|  \n",
        "|Math|Float|Act_2017|Average ACT Math Score|  \n",
        "|Reading|Float|Act_2017|Average ACT Reading Score|  \n",
        "|Science|Float|Act_2017|Average ACT Science Score|   \n",
        "|Composite|Float|Act_2017|Average ACT Composite Score|  \n"
      ]
    },
    {
      "cell_type": "markdown",
      "metadata": {
        "id": "tG3jiawMRy6n"
      },
      "source": [
        "## Exploratory Data Analysis\n",
        "\n",
        "Complete the following steps to explore your data. You are welcome to do more EDA than the steps outlined here as you feel necessary:\n",
        "1. Summary Statistics.\n",
        "2. Use a **dictionary comprehension** to apply the standard deviation function you create in part 1 to each numeric column in the dataframe.  **No loops**.\n",
        "    - Assign the output to variable `sd` as a dictionary where: \n",
        "        - Each column name is now a key \n",
        "        - That standard deviation of the column is the value \n",
        "        - *Example Output :* `{'ACT_Math': 120, 'ACT_Reading': 120, ...}`\n",
        "3. Investigate trends in the data.\n",
        "    - Using sorting and/or masking (along with the `.head()` method to avoid printing our entire dataframe), consider questions relevant to your problem statement. Some examples are provided below (but feel free to change these questions for your specific problem):\n",
        "        - Which states have the highest and lowest participation rates for the 2017, 2019, or 2019 SAT and ACT?\n",
        "        - Which states have the highest and lowest mean total/composite scores for the 2017, 2019, or 2019 SAT and ACT?\n",
        "        - Do any states with 100% participation on a given test have a rate change year-to-year?\n",
        "        - Do any states show have >50% participation on *both* tests each year?\n",
        "        - Which colleges have the highest median SAT and ACT scores for admittance?\n",
        "        - Which California school districts have the highest and lowest mean test scores?\n",
        "    - **You should comment on your findings at each step in a markdown cell below your code block**. Make sure you include at least one example of sorting your dataframe by a column, and one example of using boolean filtering (i.e., masking) to select a subset of the dataframe."
      ]
    },
    {
      "cell_type": "markdown",
      "source": [
        "Summary Statistics for 2017 ACT Data"
      ],
      "metadata": {
        "id": "Xjs-QnsI8hd4"
      }
    },
    {
      "cell_type": "code",
      "source": [
        "act_2017.describe()"
      ],
      "metadata": {
        "colab": {
          "base_uri": "https://localhost:8080/",
          "height": 300
        },
        "id": "-bVFr9W58hvi",
        "outputId": "0d8b8edf-76a3-4707-917e-967ab44f9a97"
      },
      "execution_count": 20,
      "outputs": [
        {
          "output_type": "execute_result",
          "data": {
            "text/plain": [
              "       participation    english       math    reading    science  composite\n",
              "count      52.000000  52.000000  52.000000  52.000000  52.000000  52.000000\n",
              "mean       65.153846  20.919231  21.173077  22.001923  21.040385  21.509615\n",
              "std        31.832518   2.332132   1.963602   2.048672   3.151113   2.002083\n",
              "min         8.000000  16.300000  18.000000  18.100000   2.300000  17.800000\n",
              "25%        31.000000  19.000000  19.400000  20.475000  19.900000  19.800000\n",
              "50%        68.000000  20.550000  20.900000  21.700000  21.150000  21.400000\n",
              "75%       100.000000  23.300000  23.100000  24.125000  22.525000  23.600000\n",
              "max       100.000000  25.500000  25.300000  26.000000  24.900000  25.500000"
            ],
            "text/html": [
              "\n",
              "  <div id=\"df-da9298c2-6563-4236-9400-eb3a05482f1e\">\n",
              "    <div class=\"colab-df-container\">\n",
              "      <div>\n",
              "<style scoped>\n",
              "    .dataframe tbody tr th:only-of-type {\n",
              "        vertical-align: middle;\n",
              "    }\n",
              "\n",
              "    .dataframe tbody tr th {\n",
              "        vertical-align: top;\n",
              "    }\n",
              "\n",
              "    .dataframe thead th {\n",
              "        text-align: right;\n",
              "    }\n",
              "</style>\n",
              "<table border=\"1\" class=\"dataframe\">\n",
              "  <thead>\n",
              "    <tr style=\"text-align: right;\">\n",
              "      <th></th>\n",
              "      <th>participation</th>\n",
              "      <th>english</th>\n",
              "      <th>math</th>\n",
              "      <th>reading</th>\n",
              "      <th>science</th>\n",
              "      <th>composite</th>\n",
              "    </tr>\n",
              "  </thead>\n",
              "  <tbody>\n",
              "    <tr>\n",
              "      <th>count</th>\n",
              "      <td>52.000000</td>\n",
              "      <td>52.000000</td>\n",
              "      <td>52.000000</td>\n",
              "      <td>52.000000</td>\n",
              "      <td>52.000000</td>\n",
              "      <td>52.000000</td>\n",
              "    </tr>\n",
              "    <tr>\n",
              "      <th>mean</th>\n",
              "      <td>65.153846</td>\n",
              "      <td>20.919231</td>\n",
              "      <td>21.173077</td>\n",
              "      <td>22.001923</td>\n",
              "      <td>21.040385</td>\n",
              "      <td>21.509615</td>\n",
              "    </tr>\n",
              "    <tr>\n",
              "      <th>std</th>\n",
              "      <td>31.832518</td>\n",
              "      <td>2.332132</td>\n",
              "      <td>1.963602</td>\n",
              "      <td>2.048672</td>\n",
              "      <td>3.151113</td>\n",
              "      <td>2.002083</td>\n",
              "    </tr>\n",
              "    <tr>\n",
              "      <th>min</th>\n",
              "      <td>8.000000</td>\n",
              "      <td>16.300000</td>\n",
              "      <td>18.000000</td>\n",
              "      <td>18.100000</td>\n",
              "      <td>2.300000</td>\n",
              "      <td>17.800000</td>\n",
              "    </tr>\n",
              "    <tr>\n",
              "      <th>25%</th>\n",
              "      <td>31.000000</td>\n",
              "      <td>19.000000</td>\n",
              "      <td>19.400000</td>\n",
              "      <td>20.475000</td>\n",
              "      <td>19.900000</td>\n",
              "      <td>19.800000</td>\n",
              "    </tr>\n",
              "    <tr>\n",
              "      <th>50%</th>\n",
              "      <td>68.000000</td>\n",
              "      <td>20.550000</td>\n",
              "      <td>20.900000</td>\n",
              "      <td>21.700000</td>\n",
              "      <td>21.150000</td>\n",
              "      <td>21.400000</td>\n",
              "    </tr>\n",
              "    <tr>\n",
              "      <th>75%</th>\n",
              "      <td>100.000000</td>\n",
              "      <td>23.300000</td>\n",
              "      <td>23.100000</td>\n",
              "      <td>24.125000</td>\n",
              "      <td>22.525000</td>\n",
              "      <td>23.600000</td>\n",
              "    </tr>\n",
              "    <tr>\n",
              "      <th>max</th>\n",
              "      <td>100.000000</td>\n",
              "      <td>25.500000</td>\n",
              "      <td>25.300000</td>\n",
              "      <td>26.000000</td>\n",
              "      <td>24.900000</td>\n",
              "      <td>25.500000</td>\n",
              "    </tr>\n",
              "  </tbody>\n",
              "</table>\n",
              "</div>\n",
              "      <button class=\"colab-df-convert\" onclick=\"convertToInteractive('df-da9298c2-6563-4236-9400-eb3a05482f1e')\"\n",
              "              title=\"Convert this dataframe to an interactive table.\"\n",
              "              style=\"display:none;\">\n",
              "        \n",
              "  <svg xmlns=\"http://www.w3.org/2000/svg\" height=\"24px\"viewBox=\"0 0 24 24\"\n",
              "       width=\"24px\">\n",
              "    <path d=\"M0 0h24v24H0V0z\" fill=\"none\"/>\n",
              "    <path d=\"M18.56 5.44l.94 2.06.94-2.06 2.06-.94-2.06-.94-.94-2.06-.94 2.06-2.06.94zm-11 1L8.5 8.5l.94-2.06 2.06-.94-2.06-.94L8.5 2.5l-.94 2.06-2.06.94zm10 10l.94 2.06.94-2.06 2.06-.94-2.06-.94-.94-2.06-.94 2.06-2.06.94z\"/><path d=\"M17.41 7.96l-1.37-1.37c-.4-.4-.92-.59-1.43-.59-.52 0-1.04.2-1.43.59L10.3 9.45l-7.72 7.72c-.78.78-.78 2.05 0 2.83L4 21.41c.39.39.9.59 1.41.59.51 0 1.02-.2 1.41-.59l7.78-7.78 2.81-2.81c.8-.78.8-2.07 0-2.86zM5.41 20L4 18.59l7.72-7.72 1.47 1.35L5.41 20z\"/>\n",
              "  </svg>\n",
              "      </button>\n",
              "      \n",
              "  <style>\n",
              "    .colab-df-container {\n",
              "      display:flex;\n",
              "      flex-wrap:wrap;\n",
              "      gap: 12px;\n",
              "    }\n",
              "\n",
              "    .colab-df-convert {\n",
              "      background-color: #E8F0FE;\n",
              "      border: none;\n",
              "      border-radius: 50%;\n",
              "      cursor: pointer;\n",
              "      display: none;\n",
              "      fill: #1967D2;\n",
              "      height: 32px;\n",
              "      padding: 0 0 0 0;\n",
              "      width: 32px;\n",
              "    }\n",
              "\n",
              "    .colab-df-convert:hover {\n",
              "      background-color: #E2EBFA;\n",
              "      box-shadow: 0px 1px 2px rgba(60, 64, 67, 0.3), 0px 1px 3px 1px rgba(60, 64, 67, 0.15);\n",
              "      fill: #174EA6;\n",
              "    }\n",
              "\n",
              "    [theme=dark] .colab-df-convert {\n",
              "      background-color: #3B4455;\n",
              "      fill: #D2E3FC;\n",
              "    }\n",
              "\n",
              "    [theme=dark] .colab-df-convert:hover {\n",
              "      background-color: #434B5C;\n",
              "      box-shadow: 0px 1px 3px 1px rgba(0, 0, 0, 0.15);\n",
              "      filter: drop-shadow(0px 1px 2px rgba(0, 0, 0, 0.3));\n",
              "      fill: #FFFFFF;\n",
              "    }\n",
              "  </style>\n",
              "\n",
              "      <script>\n",
              "        const buttonEl =\n",
              "          document.querySelector('#df-da9298c2-6563-4236-9400-eb3a05482f1e button.colab-df-convert');\n",
              "        buttonEl.style.display =\n",
              "          google.colab.kernel.accessAllowed ? 'block' : 'none';\n",
              "\n",
              "        async function convertToInteractive(key) {\n",
              "          const element = document.querySelector('#df-da9298c2-6563-4236-9400-eb3a05482f1e');\n",
              "          const dataTable =\n",
              "            await google.colab.kernel.invokeFunction('convertToInteractive',\n",
              "                                                     [key], {});\n",
              "          if (!dataTable) return;\n",
              "\n",
              "          const docLinkHtml = 'Like what you see? Visit the ' +\n",
              "            '<a target=\"_blank\" href=https://colab.research.google.com/notebooks/data_table.ipynb>data table notebook</a>'\n",
              "            + ' to learn more about interactive tables.';\n",
              "          element.innerHTML = '';\n",
              "          dataTable['output_type'] = 'display_data';\n",
              "          await google.colab.output.renderOutput(dataTable, element);\n",
              "          const docLink = document.createElement('div');\n",
              "          docLink.innerHTML = docLinkHtml;\n",
              "          element.appendChild(docLink);\n",
              "        }\n",
              "      </script>\n",
              "    </div>\n",
              "  </div>\n",
              "  "
            ]
          },
          "metadata": {},
          "execution_count": 20
        }
      ]
    },
    {
      "cell_type": "markdown",
      "source": [
        "ACT 2019 Summary Statistics"
      ],
      "metadata": {
        "id": "vHCTh3C29kN5"
      }
    },
    {
      "cell_type": "code",
      "source": [
        "act_2019.describe()"
      ],
      "metadata": {
        "colab": {
          "base_uri": "https://localhost:8080/",
          "height": 300
        },
        "id": "f38j20Pt9kb_",
        "outputId": "c68cafd5-61d8-435b-dba2-315e52f42747"
      },
      "execution_count": 21,
      "outputs": [
        {
          "output_type": "execute_result",
          "data": {
            "text/plain": [
              "       participation  composite\n",
              "count      52.000000  52.000000\n",
              "mean       58.538462  21.450000\n",
              "std        34.188326   2.175487\n",
              "min         6.000000  17.900000\n",
              "25%        24.750000  19.800000\n",
              "50%        53.000000  20.950000\n",
              "75%       100.000000  23.650000\n",
              "max       100.000000  25.500000"
            ],
            "text/html": [
              "\n",
              "  <div id=\"df-ad957f33-a3ca-4c65-ab26-523c408f9719\">\n",
              "    <div class=\"colab-df-container\">\n",
              "      <div>\n",
              "<style scoped>\n",
              "    .dataframe tbody tr th:only-of-type {\n",
              "        vertical-align: middle;\n",
              "    }\n",
              "\n",
              "    .dataframe tbody tr th {\n",
              "        vertical-align: top;\n",
              "    }\n",
              "\n",
              "    .dataframe thead th {\n",
              "        text-align: right;\n",
              "    }\n",
              "</style>\n",
              "<table border=\"1\" class=\"dataframe\">\n",
              "  <thead>\n",
              "    <tr style=\"text-align: right;\">\n",
              "      <th></th>\n",
              "      <th>participation</th>\n",
              "      <th>composite</th>\n",
              "    </tr>\n",
              "  </thead>\n",
              "  <tbody>\n",
              "    <tr>\n",
              "      <th>count</th>\n",
              "      <td>52.000000</td>\n",
              "      <td>52.000000</td>\n",
              "    </tr>\n",
              "    <tr>\n",
              "      <th>mean</th>\n",
              "      <td>58.538462</td>\n",
              "      <td>21.450000</td>\n",
              "    </tr>\n",
              "    <tr>\n",
              "      <th>std</th>\n",
              "      <td>34.188326</td>\n",
              "      <td>2.175487</td>\n",
              "    </tr>\n",
              "    <tr>\n",
              "      <th>min</th>\n",
              "      <td>6.000000</td>\n",
              "      <td>17.900000</td>\n",
              "    </tr>\n",
              "    <tr>\n",
              "      <th>25%</th>\n",
              "      <td>24.750000</td>\n",
              "      <td>19.800000</td>\n",
              "    </tr>\n",
              "    <tr>\n",
              "      <th>50%</th>\n",
              "      <td>53.000000</td>\n",
              "      <td>20.950000</td>\n",
              "    </tr>\n",
              "    <tr>\n",
              "      <th>75%</th>\n",
              "      <td>100.000000</td>\n",
              "      <td>23.650000</td>\n",
              "    </tr>\n",
              "    <tr>\n",
              "      <th>max</th>\n",
              "      <td>100.000000</td>\n",
              "      <td>25.500000</td>\n",
              "    </tr>\n",
              "  </tbody>\n",
              "</table>\n",
              "</div>\n",
              "      <button class=\"colab-df-convert\" onclick=\"convertToInteractive('df-ad957f33-a3ca-4c65-ab26-523c408f9719')\"\n",
              "              title=\"Convert this dataframe to an interactive table.\"\n",
              "              style=\"display:none;\">\n",
              "        \n",
              "  <svg xmlns=\"http://www.w3.org/2000/svg\" height=\"24px\"viewBox=\"0 0 24 24\"\n",
              "       width=\"24px\">\n",
              "    <path d=\"M0 0h24v24H0V0z\" fill=\"none\"/>\n",
              "    <path d=\"M18.56 5.44l.94 2.06.94-2.06 2.06-.94-2.06-.94-.94-2.06-.94 2.06-2.06.94zm-11 1L8.5 8.5l.94-2.06 2.06-.94-2.06-.94L8.5 2.5l-.94 2.06-2.06.94zm10 10l.94 2.06.94-2.06 2.06-.94-2.06-.94-.94-2.06-.94 2.06-2.06.94z\"/><path d=\"M17.41 7.96l-1.37-1.37c-.4-.4-.92-.59-1.43-.59-.52 0-1.04.2-1.43.59L10.3 9.45l-7.72 7.72c-.78.78-.78 2.05 0 2.83L4 21.41c.39.39.9.59 1.41.59.51 0 1.02-.2 1.41-.59l7.78-7.78 2.81-2.81c.8-.78.8-2.07 0-2.86zM5.41 20L4 18.59l7.72-7.72 1.47 1.35L5.41 20z\"/>\n",
              "  </svg>\n",
              "      </button>\n",
              "      \n",
              "  <style>\n",
              "    .colab-df-container {\n",
              "      display:flex;\n",
              "      flex-wrap:wrap;\n",
              "      gap: 12px;\n",
              "    }\n",
              "\n",
              "    .colab-df-convert {\n",
              "      background-color: #E8F0FE;\n",
              "      border: none;\n",
              "      border-radius: 50%;\n",
              "      cursor: pointer;\n",
              "      display: none;\n",
              "      fill: #1967D2;\n",
              "      height: 32px;\n",
              "      padding: 0 0 0 0;\n",
              "      width: 32px;\n",
              "    }\n",
              "\n",
              "    .colab-df-convert:hover {\n",
              "      background-color: #E2EBFA;\n",
              "      box-shadow: 0px 1px 2px rgba(60, 64, 67, 0.3), 0px 1px 3px 1px rgba(60, 64, 67, 0.15);\n",
              "      fill: #174EA6;\n",
              "    }\n",
              "\n",
              "    [theme=dark] .colab-df-convert {\n",
              "      background-color: #3B4455;\n",
              "      fill: #D2E3FC;\n",
              "    }\n",
              "\n",
              "    [theme=dark] .colab-df-convert:hover {\n",
              "      background-color: #434B5C;\n",
              "      box-shadow: 0px 1px 3px 1px rgba(0, 0, 0, 0.15);\n",
              "      filter: drop-shadow(0px 1px 2px rgba(0, 0, 0, 0.3));\n",
              "      fill: #FFFFFF;\n",
              "    }\n",
              "  </style>\n",
              "\n",
              "      <script>\n",
              "        const buttonEl =\n",
              "          document.querySelector('#df-ad957f33-a3ca-4c65-ab26-523c408f9719 button.colab-df-convert');\n",
              "        buttonEl.style.display =\n",
              "          google.colab.kernel.accessAllowed ? 'block' : 'none';\n",
              "\n",
              "        async function convertToInteractive(key) {\n",
              "          const element = document.querySelector('#df-ad957f33-a3ca-4c65-ab26-523c408f9719');\n",
              "          const dataTable =\n",
              "            await google.colab.kernel.invokeFunction('convertToInteractive',\n",
              "                                                     [key], {});\n",
              "          if (!dataTable) return;\n",
              "\n",
              "          const docLinkHtml = 'Like what you see? Visit the ' +\n",
              "            '<a target=\"_blank\" href=https://colab.research.google.com/notebooks/data_table.ipynb>data table notebook</a>'\n",
              "            + ' to learn more about interactive tables.';\n",
              "          element.innerHTML = '';\n",
              "          dataTable['output_type'] = 'display_data';\n",
              "          await google.colab.output.renderOutput(dataTable, element);\n",
              "          const docLink = document.createElement('div');\n",
              "          docLink.innerHTML = docLinkHtml;\n",
              "          element.appendChild(docLink);\n",
              "        }\n",
              "      </script>\n",
              "    </div>\n",
              "  </div>\n",
              "  "
            ]
          },
          "metadata": {},
          "execution_count": 21
        }
      ]
    },
    {
      "cell_type": "markdown",
      "source": [
        "Dictionary Comprehension to apply the Standard Deviation Function. "
      ],
      "metadata": {
        "id": "fbEQsDZ8-V9v"
      }
    },
    {
      "cell_type": "code",
      "source": [
        "\n",
        "\n",
        "def calculate_standard_deviation(*values):\n",
        "    \"\"\" Returns the standard deviation \"\"\"\n",
        "    #calculate the mean\n",
        "    sum_values = 0\n",
        "    count_values = 0\n",
        "    for n in values:\n",
        "        sum_values += n\n",
        "        count_values += 1\n",
        "        mean = sum_values/count_values\n",
        "    \n",
        "    #calculate the sum of squaress\n",
        "    sum_squares = 0\n",
        "    for n in values:\n",
        "        sum_squares += (n-mean)**2\n",
        "    #calculate the variance\n",
        "    variance = sum_squares/(count_values-1)\n",
        "    \n",
        "    s = (variance)**0.5\n",
        "    return s\n",
        "\n",
        "# apply standard deviation function to each column and store results in a dictionary\n",
        "sd = {col: calculate_standard_deviation(*act_2017[col].dropna()) for col in act_2017.select_dtypes(include=[float, int]).columns}\n",
        "\n",
        "# print the resulting dictionary\n",
        "print(sd)\n"
      ],
      "metadata": {
        "colab": {
          "base_uri": "https://localhost:8080/"
        },
        "id": "vUE5UeDp-WPv",
        "outputId": "432ca400-4d63-47e9-868f-61e109be7dc8"
      },
      "execution_count": 22,
      "outputs": [
        {
          "output_type": "stream",
          "name": "stdout",
          "text": [
            "{'participation': 31.832517974601355, 'english': 2.332131774228897, 'math': 1.9636016712608966, 'reading': 2.048671533650611, 'science': 3.151113069164709, 'composite': 2.002083191096813}\n"
          ]
        }
      ]
    },
    {
      "cell_type": "markdown",
      "source": [
        "Dictionary Comprehension to apply the Standard Deviation Function to 2019 ACT data"
      ],
      "metadata": {
        "id": "-k23zHCnAuGl"
      }
    },
    {
      "cell_type": "code",
      "source": [
        "\n",
        "\n",
        "\n",
        "\n",
        "def calculate_standard_deviation(*values):\n",
        "    \"\"\" Returns the standard deviation \"\"\"\n",
        "    #calculate the mean\n",
        "    sum_values = 0\n",
        "    count_values = 0\n",
        "    for n in values:\n",
        "        sum_values += n\n",
        "        count_values += 1\n",
        "        mean = sum_values/count_values\n",
        "    \n",
        "    #calculate the sum of squaress\n",
        "    sum_squares = 0\n",
        "    for n in values:\n",
        "        sum_squares += (n-mean)**2\n",
        "    #calculate the variance\n",
        "    variance = sum_squares/(count_values-1)\n",
        "    \n",
        "    s = (variance)**0.5\n",
        "    return s\n",
        "\n",
        "# apply standard deviation function to each column and store results in a dictionary\n",
        "sd = {col: calculate_standard_deviation(*act_2019[col].dropna()) for col in act_2019.select_dtypes(include=[float, int]).columns}\n",
        "\n",
        "# print the resulting dictionary\n",
        "print(sd)\n"
      ],
      "metadata": {
        "colab": {
          "base_uri": "https://localhost:8080/"
        },
        "id": "V0fPRsu-AudD",
        "outputId": "c0a8396c-c5cd-4e81-a083-bd7d03920909"
      },
      "execution_count": 23,
      "outputs": [
        {
          "output_type": "stream",
          "name": "stdout",
          "text": [
            "{'participation': 34.18832591630184, 'composite': 2.175487324265351}\n"
          ]
        }
      ]
    },
    {
      "cell_type": "code",
      "source": [
        "\n",
        "\n",
        "\n",
        "\n",
        "def calculate_low_high_mean(act_2017, composite):\n",
        "    \"\"\"Returns mean composite scores for each state\"\"\"\n",
        "    mean_scores = act_2017.groupby('state')[composite].mean()\n",
        "    return mean_scores\n",
        "\n",
        "mean_composite_scores = calculate_low_high_mean(act_2017, 'composite')\n",
        "min_mean_state = mean_composite_scores.idxmin()\n",
        "max_mean_state = mean_composite_scores.idxmax()\n",
        "\n",
        "print(\"State with the lowest mean composite score:\", min_mean_state, mean_composite_scores[min_mean_state])\n",
        "print(\"State with the highest mean composite score:\", max_mean_state, mean_composite_scores[max_mean_state])\n"
      ],
      "metadata": {
        "colab": {
          "base_uri": "https://localhost:8080/"
        },
        "outputId": "9fd3895c-05e6-4e34-e247-54293dacacb9",
        "id": "ZDWsmmYzJWUR"
      },
      "execution_count": 24,
      "outputs": [
        {
          "output_type": "stream",
          "name": "stdout",
          "text": [
            "State with the lowest mean composite score: Nevada 17.8\n",
            "State with the highest mean composite score: New Hampshire 25.5\n"
          ]
        }
      ]
    },
    {
      "cell_type": "markdown",
      "source": [
        "Which states have the highest and lowest mean total/composite scores for the 2019 ACT?\n"
      ],
      "metadata": {
        "id": "_aSNyqu4l5ds"
      }
    },
    {
      "cell_type": "code",
      "source": [
        "\n",
        "def calculate_low_high_mean(act_2019, composite):\n",
        "    \"\"\"Returns mean composite scores for each state\"\"\"\n",
        "    mean_scores = act_2019.groupby('state')[composite].mean()\n",
        "    return mean_scores\n",
        "\n",
        "mean_composite_scores = calculate_low_high_mean(act_2019, 'composite')\n",
        "min_mean_state = mean_composite_scores.idxmin()\n",
        "max_mean_state = mean_composite_scores.idxmax()\n",
        "\n",
        "print(\"State with the lowest mean composite score:\", min_mean_state, mean_composite_scores[min_mean_state])\n",
        "print(\"State with the highest mean composite score:\", max_mean_state, mean_composite_scores[max_mean_state])\n"
      ],
      "metadata": {
        "colab": {
          "base_uri": "https://localhost:8080/"
        },
        "outputId": "9341aa94-ad58-4d4a-d137-eeed790ff3da",
        "id": "OSuVEj01l7cJ"
      },
      "execution_count": 25,
      "outputs": [
        {
          "output_type": "stream",
          "name": "stdout",
          "text": [
            "State with the lowest mean composite score: Nevada 17.9\n",
            "State with the highest mean composite score: Connecticut 25.5\n"
          ]
        }
      ]
    },
    {
      "cell_type": "code",
      "source": [
        "def any_state_above_30pct(act_2017, act_2019):\n",
        "    \n",
        "    \n",
        "    # Filter column by <= 30% participation\n",
        "      filtered_col =  act_2017.loc[act_2017['participation'] <= 30]\n",
        "      filtered_col =  act_2019.loc[act_2019['participation'] <= 30]\n",
        "    \n",
        "    # Check if any of the mean participation rates are less than or equal to 30%\n",
        "      return filtered_col\n",
        "\n",
        "result = any_state_above_30pct(act_2017, act_2019)\n",
        "\n",
        "# Print the result\n",
        "print(result)"
      ],
      "metadata": {
        "colab": {
          "base_uri": "https://localhost:8080/"
        },
        "outputId": "baadcc67-854b-4acc-ac78-aeed7ef9bced",
        "id": "2aFo_KNW1Gau"
      },
      "execution_count": 26,
      "outputs": [
        {
          "output_type": "stream",
          "name": "stdout",
          "text": [
            "            state  participation  composite\n",
            "4      California           23.0       22.6\n",
            "5        Colorado           27.0       23.8\n",
            "6     Connecticut           22.0       25.5\n",
            "7        Delaware           13.0       24.1\n",
            "14        Indiana           29.0       22.5\n",
            "19          Maine            6.0       24.3\n",
            "20       Maryland           28.0       22.3\n",
            "21  Massachusetts           21.0       25.5\n",
            "22       Michigan           19.0       24.4\n",
            "29  New Hampshire           14.0       25.0\n",
            "30     New Jersey           25.0       24.2\n",
            "32       New York           22.0       24.5\n",
            "38   Pennsylvania           17.0       23.6\n",
            "39   Rhode Island           12.0       24.7\n",
            "45        Vermont           20.0       24.1\n",
            "46       Virginia           21.0       24.0\n",
            "47     Washington           24.0       22.1\n"
          ]
        }
      ]
    },
    {
      "cell_type": "markdown",
      "source": [
        "Do any states have >=50% participation on the ACT test each year?"
      ],
      "metadata": {
        "id": "6yYTtjUtCO6f"
      }
    },
    {
      "cell_type": "code",
      "source": [
        "def any_state_above_50pct(act_2017, act_2019):\n",
        "    \n",
        "    \n",
        "    # Filter column by 50% participation\n",
        "      filtered_col =  act_2017.loc[act_2017['participation'] >= 50]\n",
        "      filtered_col =  act_2019.loc[act_2019['participation'] >= 50]\n",
        "    \n",
        "    # Check if any of the mean participation rates are greater than  or equal to 50%\n",
        "      return filtered_col\n",
        "\n",
        "result = any_state_above_50pct(act_2017, act_2019)\n",
        "\n",
        "# Print the result\n",
        "print(result)\n"
      ],
      "metadata": {
        "colab": {
          "base_uri": "https://localhost:8080/"
        },
        "id": "BsyopR39thy0",
        "outputId": "1f5fc815-f5e7-4613-d4a3-74fbd8e1045a"
      },
      "execution_count": 27,
      "outputs": [
        {
          "output_type": "stream",
          "name": "stdout",
          "text": [
            "             state  participation  composite\n",
            "0          Alabama          100.0       18.9\n",
            "2          Arizona           73.0       19.0\n",
            "3         Arkansas          100.0       19.3\n",
            "9          Florida           54.0       20.1\n",
            "11          Hawaii           80.0       19.0\n",
            "15            Iowa           66.0       21.6\n",
            "16          Kansas           72.0       21.2\n",
            "17        Kentucky          100.0       19.8\n",
            "18       Louisiana          100.0       18.8\n",
            "23       Minnesota           95.0       21.4\n",
            "24     Mississippi          100.0       18.4\n",
            "25        Missouri           82.0       20.8\n",
            "26         Montana          100.0       19.8\n",
            "27        Nebraska          100.0       20.0\n",
            "28          Nevada          100.0       17.9\n",
            "31      New Mexico           63.0       19.3\n",
            "33  North Carolina          100.0       19.0\n",
            "34    North Dakota           96.0       19.9\n",
            "35            Ohio          100.0       20.0\n",
            "36        Oklahoma          100.0       18.9\n",
            "40  South Carolina           78.0       18.8\n",
            "41    South Dakota           75.0       21.6\n",
            "42       Tennessee          100.0       19.4\n",
            "44            Utah          100.0       20.3\n",
            "49       Wisconsin          100.0       20.3\n",
            "50         Wyoming          100.0       19.8\n",
            "51        National           52.0       20.7\n"
          ]
        }
      ]
    },
    {
      "cell_type": "markdown",
      "source": [
        "States with participation 75% or greater"
      ],
      "metadata": {
        "id": "93wOeK2cxEs3"
      }
    },
    {
      "cell_type": "code",
      "source": [
        "def any_state_above_75pct(act_2017, act_2019):\n",
        "    \n",
        "    \n",
        "    # Filter column by 75% participation\n",
        "      filtered_col =  act_2017.loc[act_2017['participation'] >= 75]\n",
        "      filtered_col =  act_2019.loc[act_2019['participation'] >= 75]\n",
        "    \n",
        "    # Check if any of the mean participation rates are greater than or equal to 75%\n",
        "      return filtered_col\n",
        "\n",
        "result = any_state_above_75pct(act_2017, act_2019)\n",
        "\n",
        "# Print the result\n",
        "print(result)"
      ],
      "metadata": {
        "colab": {
          "base_uri": "https://localhost:8080/"
        },
        "id": "FYDjeFXWwoem",
        "outputId": "6afbcdb6-1c82-477b-e8bf-43a042f2d0b8"
      },
      "execution_count": 28,
      "outputs": [
        {
          "output_type": "stream",
          "name": "stdout",
          "text": [
            "             state  participation  composite\n",
            "0          Alabama          100.0       18.9\n",
            "3         Arkansas          100.0       19.3\n",
            "11          Hawaii           80.0       19.0\n",
            "17        Kentucky          100.0       19.8\n",
            "18       Louisiana          100.0       18.8\n",
            "23       Minnesota           95.0       21.4\n",
            "24     Mississippi          100.0       18.4\n",
            "25        Missouri           82.0       20.8\n",
            "26         Montana          100.0       19.8\n",
            "27        Nebraska          100.0       20.0\n",
            "28          Nevada          100.0       17.9\n",
            "33  North Carolina          100.0       19.0\n",
            "34    North Dakota           96.0       19.9\n",
            "35            Ohio          100.0       20.0\n",
            "36        Oklahoma          100.0       18.9\n",
            "40  South Carolina           78.0       18.8\n",
            "41    South Dakota           75.0       21.6\n",
            "42       Tennessee          100.0       19.4\n",
            "44            Utah          100.0       20.3\n",
            "49       Wisconsin          100.0       20.3\n",
            "50         Wyoming          100.0       19.8\n"
          ]
        }
      ]
    },
    {
      "cell_type": "markdown",
      "source": [
        "Composite score of States with particpation rate of 100%, >=75%, >= 50%, <=30%"
      ],
      "metadata": {
        "id": "6Y46w37vvt2y"
      }
    },
    {
      "cell_type": "code",
      "source": [
        "def any_state_above_100pct(act_2017, act_2019):\n",
        "    \n",
        "    \n",
        "    # Filter column by 100% participation\n",
        "      filtered_col =  act_2017.loc[act_2017['participation'] == 100]\n",
        "      filtered_col =  act_2019.loc[act_2019['participation'] == 100]\n",
        "    \n",
        "    # Check if any of the mean participation rates are equal to 100%\n",
        "      return filtered_col\n",
        "\n",
        "result = any_state_above_100pct(act_2017, act_2019)\n",
        "\n",
        "# Print the result\n",
        "print(result)"
      ],
      "metadata": {
        "colab": {
          "base_uri": "https://localhost:8080/"
        },
        "id": "UOyTUIPOxNwx",
        "outputId": "8a50c11c-5b9f-43c4-c2bd-bfa6ce702a4e"
      },
      "execution_count": 29,
      "outputs": [
        {
          "output_type": "stream",
          "name": "stdout",
          "text": [
            "             state  participation  composite\n",
            "0          Alabama          100.0       18.9\n",
            "3         Arkansas          100.0       19.3\n",
            "17        Kentucky          100.0       19.8\n",
            "18       Louisiana          100.0       18.8\n",
            "24     Mississippi          100.0       18.4\n",
            "26         Montana          100.0       19.8\n",
            "27        Nebraska          100.0       20.0\n",
            "28          Nevada          100.0       17.9\n",
            "33  North Carolina          100.0       19.0\n",
            "35            Ohio          100.0       20.0\n",
            "36        Oklahoma          100.0       18.9\n",
            "42       Tennessee          100.0       19.4\n",
            "44            Utah          100.0       20.3\n",
            "49       Wisconsin          100.0       20.3\n",
            "50         Wyoming          100.0       19.8\n"
          ]
        }
      ]
    },
    {
      "cell_type": "code",
      "source": [
        "def mean_composite_100pct(act_2017, act_2019):\n",
        "    \"\"\"\n",
        "    Selects only the rows with 100% participation and returns the mean composite scores.\n",
        "    \"\"\"\n",
        "    # Filter both dataframes to select only rows with 100% participation\n",
        "    filtered_2017 = act_2017.loc[act_2017['participation'] == 100]\n",
        "    filtered_2019 = act_2019.loc[act_2019['participation'] == 100]\n",
        "    \n",
        "    # Calculate the mean composite scores for the filtered dataframes\n",
        "    mean_composite_2017 = filtered_2017['composite'].mean()\n",
        "    mean_composite_2019 = filtered_2019['composite'].mean()\n",
        "    \n",
        "    # Return the mean composite scores for both years\n",
        "    return mean_composite_2017, mean_composite_2019\n",
        "\n",
        "# Call the function with the 2017 and 2019 data\n",
        "result_2017, result_2019 = mean_composite_100pct(act_2017, act_2019)\n",
        "\n",
        "# Print the results\n",
        "print(f\"Mean composite score for states with 100% participation in 2017: {result_2017}\")\n",
        "print(f\"Mean composite score for states with 100% participation in 2019: {result_2019}\")\n"
      ],
      "metadata": {
        "colab": {
          "base_uri": "https://localhost:8080/"
        },
        "id": "6phJYv5oyM73",
        "outputId": "0c88890b-27f3-4ecc-cb98-67c57c8ce391"
      },
      "execution_count": 30,
      "outputs": [
        {
          "output_type": "stream",
          "name": "stdout",
          "text": [
            "Mean composite score for states with 100% participation in 2017: 19.735294117647058\n",
            "Mean composite score for states with 100% participation in 2019: 19.373333333333335\n"
          ]
        }
      ]
    },
    {
      "cell_type": "code",
      "source": [],
      "metadata": {
        "id": "BoN6b7iCzCx8"
      },
      "execution_count": 30,
      "outputs": []
    },
    {
      "cell_type": "code",
      "source": [
        "def mean_composite_75pct(act_2017, act_2019):\n",
        "    \"\"\"\n",
        "    Selects only the rows with 75% or greater participation and returns the mean composite scores.\n",
        "    \"\"\"\n",
        "    # Filter both dataframes to select only rows with 75% participation\n",
        "    filtered_2017 = act_2017.loc[act_2017['participation'] >= 75]\n",
        "    filtered_2019 = act_2019.loc[act_2019['participation'] >= 75]\n",
        "    \n",
        "    # Calculate the mean composite scores for the filtered dataframes\n",
        "    mean_composite_2017 = filtered_2017['composite'].mean()\n",
        "    mean_composite_2019 = filtered_2019['composite'].mean()\n",
        "    \n",
        "    # Return the mean composite scores for both years\n",
        "    return mean_composite_2017, mean_composite_2019\n",
        "\n",
        "# Call the function with the 2017 and 2019 data\n",
        "result_2017, result_2019 = mean_composite_75pct(act_2017, act_2019)\n",
        "\n",
        "# Print the results\n",
        "print(f\"Mean composite score for states with 75% or greater participation in 2017: {result_2017}\")\n",
        "print(f\"Mean composite score for states with 75% or greater participation in 2019: {result_2019}\")\n"
      ],
      "metadata": {
        "colab": {
          "base_uri": "https://localhost:8080/"
        },
        "outputId": "51f63f81-482f-41a6-b693-9f820b602488",
        "id": "1poNMfkKzDl5"
      },
      "execution_count": 31,
      "outputs": [
        {
          "output_type": "stream",
          "name": "stdout",
          "text": [
            "Mean composite score for states with 75% or greater participation in 2017: 20.06086956521739\n",
            "Mean composite score for states with 75% or greater participation in 2019: 19.623809523809523\n"
          ]
        }
      ]
    },
    {
      "cell_type": "code",
      "source": [],
      "metadata": {
        "id": "HrVbAuIbzsjF"
      },
      "execution_count": 31,
      "outputs": []
    },
    {
      "cell_type": "code",
      "source": [
        "def mean_composite_50pct(act_2017, act_2019):\n",
        "    \"\"\"\n",
        "    Selects only the rows with 50% participation or greater and returns the mean composite scores.\n",
        "    \"\"\"\n",
        "    # Filter both dataframes to select only rows with 100% participation\n",
        "    filtered_2017 = act_2017.loc[act_2017['participation'] >= 50]\n",
        "    filtered_2019 = act_2019.loc[act_2019['participation'] >= 50]\n",
        "    \n",
        "    # Calculate the mean composite scores for the filtered dataframes\n",
        "    mean_composite_2017 = filtered_2017['composite'].mean()\n",
        "    mean_composite_2019 = filtered_2019['composite'].mean()\n",
        "    \n",
        "    # Return the mean composite scores for both years\n",
        "    return mean_composite_2017, mean_composite_2019\n",
        "\n",
        "# Call the function with the 2017 and 2019 data\n",
        "result_2017, result_2019 = mean_composite_50pct(act_2017, act_2019)\n",
        "\n",
        "# Print the results\n",
        "print(f\"Mean composite score for states with 50% or greater participation in 2017: {result_2017}\")\n",
        "print(f\"Mean composite score for states with 50% or greater participation in 2019: {result_2019}\")\n"
      ],
      "metadata": {
        "colab": {
          "base_uri": "https://localhost:8080/"
        },
        "outputId": "cb6122d7-21bd-47a4-bfd5-3d89ae11070e",
        "id": "JzwuI8alztRv"
      },
      "execution_count": 32,
      "outputs": [
        {
          "output_type": "stream",
          "name": "stdout",
          "text": [
            "Mean composite score for states with 50% or greater participation in 2017: 20.2125\n",
            "Mean composite score for states with 50% or greater participation in 2019: 19.77777777777778\n"
          ]
        }
      ]
    },
    {
      "cell_type": "code",
      "source": [],
      "metadata": {
        "id": "kUJbjpOs0KJj"
      },
      "execution_count": 32,
      "outputs": []
    },
    {
      "cell_type": "code",
      "source": [
        "def mean_composite_30pct(act_2017, act_2019):\n",
        "    \"\"\"\n",
        "    Selects only the rows with 30% or less participation and returns the mean composite scores.\n",
        "    \"\"\"\n",
        "    # Filter both dataframes to select only rows with 30%  or less participation\n",
        "    filtered_2017 = act_2017.loc[act_2017['participation'] <= 30]\n",
        "    filtered_2019 = act_2019.loc[act_2019['participation'] <= 30]\n",
        "    \n",
        "    # Calculate the mean composite scores for the filtered dataframes\n",
        "    mean_composite_2017 = filtered_2017['composite'].mean()\n",
        "    mean_composite_2019 = filtered_2019['composite'].mean()\n",
        "    \n",
        "    # Return the mean composite scores for both years\n",
        "    return mean_composite_2017, mean_composite_2019\n",
        "\n",
        "# Call the function with the 2017 and 2019 data\n",
        "result_2017, result_2019 = mean_composite_30pct(act_2017, act_2019)\n",
        "\n",
        "# Print the results\n",
        "print(f\"Mean composite score for states with 30% or less participation in 2017: {result_2017}\")\n",
        "print(f\"Mean composite score for states with 30% or less participation in 2019: {result_2019}\")\n"
      ],
      "metadata": {
        "colab": {
          "base_uri": "https://localhost:8080/"
        },
        "outputId": "25c430eb-9827-468d-8831-af5d42022d1e",
        "id": "P4uQTvfE0Kyi"
      },
      "execution_count": 33,
      "outputs": [
        {
          "output_type": "stream",
          "name": "stdout",
          "text": [
            "Mean composite score for states with 30% or less participation in 2017: 24.0\n",
            "Mean composite score for states with 30% or less participation in 2019: 23.952941176470592\n"
          ]
        }
      ]
    },
    {
      "cell_type": "markdown",
      "source": [
        "2017 and 2019 ACT data sorted."
      ],
      "metadata": {
        "id": "EwtHcWEOxdUL"
      }
    },
    {
      "cell_type": "code",
      "source": [
        "act_2017.sort_values('composite',ascending=False).head(5)\n"
      ],
      "metadata": {
        "colab": {
          "base_uri": "https://localhost:8080/",
          "height": 206
        },
        "id": "Sn91uLicxc94",
        "outputId": "3bc2c5ee-6036-4334-bcee-df7951054bb6"
      },
      "execution_count": 34,
      "outputs": [
        {
          "output_type": "execute_result",
          "data": {
            "text/plain": [
              "                   state  participation  english  math  reading  science  \\\n",
              "30         New Hampshire           18.0     25.4  25.1     26.0     24.9   \n",
              "22         Massachusetts           29.0     25.4  25.3     25.9     24.7   \n",
              "7            Connecticut           31.0     25.5  24.6     25.6     24.6   \n",
              "20                 Maine            8.0     24.2  24.0     24.8     23.7   \n",
              "9   District of Columbia           32.0     24.4  23.5     24.9     23.5   \n",
              "\n",
              "    composite  \n",
              "30       25.5  \n",
              "22       25.4  \n",
              "7        25.2  \n",
              "20       24.3  \n",
              "9        24.2  "
            ],
            "text/html": [
              "\n",
              "  <div id=\"df-1cfca09e-042f-463c-938a-f7b95b5a5bfb\">\n",
              "    <div class=\"colab-df-container\">\n",
              "      <div>\n",
              "<style scoped>\n",
              "    .dataframe tbody tr th:only-of-type {\n",
              "        vertical-align: middle;\n",
              "    }\n",
              "\n",
              "    .dataframe tbody tr th {\n",
              "        vertical-align: top;\n",
              "    }\n",
              "\n",
              "    .dataframe thead th {\n",
              "        text-align: right;\n",
              "    }\n",
              "</style>\n",
              "<table border=\"1\" class=\"dataframe\">\n",
              "  <thead>\n",
              "    <tr style=\"text-align: right;\">\n",
              "      <th></th>\n",
              "      <th>state</th>\n",
              "      <th>participation</th>\n",
              "      <th>english</th>\n",
              "      <th>math</th>\n",
              "      <th>reading</th>\n",
              "      <th>science</th>\n",
              "      <th>composite</th>\n",
              "    </tr>\n",
              "  </thead>\n",
              "  <tbody>\n",
              "    <tr>\n",
              "      <th>30</th>\n",
              "      <td>New Hampshire</td>\n",
              "      <td>18.0</td>\n",
              "      <td>25.4</td>\n",
              "      <td>25.1</td>\n",
              "      <td>26.0</td>\n",
              "      <td>24.9</td>\n",
              "      <td>25.5</td>\n",
              "    </tr>\n",
              "    <tr>\n",
              "      <th>22</th>\n",
              "      <td>Massachusetts</td>\n",
              "      <td>29.0</td>\n",
              "      <td>25.4</td>\n",
              "      <td>25.3</td>\n",
              "      <td>25.9</td>\n",
              "      <td>24.7</td>\n",
              "      <td>25.4</td>\n",
              "    </tr>\n",
              "    <tr>\n",
              "      <th>7</th>\n",
              "      <td>Connecticut</td>\n",
              "      <td>31.0</td>\n",
              "      <td>25.5</td>\n",
              "      <td>24.6</td>\n",
              "      <td>25.6</td>\n",
              "      <td>24.6</td>\n",
              "      <td>25.2</td>\n",
              "    </tr>\n",
              "    <tr>\n",
              "      <th>20</th>\n",
              "      <td>Maine</td>\n",
              "      <td>8.0</td>\n",
              "      <td>24.2</td>\n",
              "      <td>24.0</td>\n",
              "      <td>24.8</td>\n",
              "      <td>23.7</td>\n",
              "      <td>24.3</td>\n",
              "    </tr>\n",
              "    <tr>\n",
              "      <th>9</th>\n",
              "      <td>District of Columbia</td>\n",
              "      <td>32.0</td>\n",
              "      <td>24.4</td>\n",
              "      <td>23.5</td>\n",
              "      <td>24.9</td>\n",
              "      <td>23.5</td>\n",
              "      <td>24.2</td>\n",
              "    </tr>\n",
              "  </tbody>\n",
              "</table>\n",
              "</div>\n",
              "      <button class=\"colab-df-convert\" onclick=\"convertToInteractive('df-1cfca09e-042f-463c-938a-f7b95b5a5bfb')\"\n",
              "              title=\"Convert this dataframe to an interactive table.\"\n",
              "              style=\"display:none;\">\n",
              "        \n",
              "  <svg xmlns=\"http://www.w3.org/2000/svg\" height=\"24px\"viewBox=\"0 0 24 24\"\n",
              "       width=\"24px\">\n",
              "    <path d=\"M0 0h24v24H0V0z\" fill=\"none\"/>\n",
              "    <path d=\"M18.56 5.44l.94 2.06.94-2.06 2.06-.94-2.06-.94-.94-2.06-.94 2.06-2.06.94zm-11 1L8.5 8.5l.94-2.06 2.06-.94-2.06-.94L8.5 2.5l-.94 2.06-2.06.94zm10 10l.94 2.06.94-2.06 2.06-.94-2.06-.94-.94-2.06-.94 2.06-2.06.94z\"/><path d=\"M17.41 7.96l-1.37-1.37c-.4-.4-.92-.59-1.43-.59-.52 0-1.04.2-1.43.59L10.3 9.45l-7.72 7.72c-.78.78-.78 2.05 0 2.83L4 21.41c.39.39.9.59 1.41.59.51 0 1.02-.2 1.41-.59l7.78-7.78 2.81-2.81c.8-.78.8-2.07 0-2.86zM5.41 20L4 18.59l7.72-7.72 1.47 1.35L5.41 20z\"/>\n",
              "  </svg>\n",
              "      </button>\n",
              "      \n",
              "  <style>\n",
              "    .colab-df-container {\n",
              "      display:flex;\n",
              "      flex-wrap:wrap;\n",
              "      gap: 12px;\n",
              "    }\n",
              "\n",
              "    .colab-df-convert {\n",
              "      background-color: #E8F0FE;\n",
              "      border: none;\n",
              "      border-radius: 50%;\n",
              "      cursor: pointer;\n",
              "      display: none;\n",
              "      fill: #1967D2;\n",
              "      height: 32px;\n",
              "      padding: 0 0 0 0;\n",
              "      width: 32px;\n",
              "    }\n",
              "\n",
              "    .colab-df-convert:hover {\n",
              "      background-color: #E2EBFA;\n",
              "      box-shadow: 0px 1px 2px rgba(60, 64, 67, 0.3), 0px 1px 3px 1px rgba(60, 64, 67, 0.15);\n",
              "      fill: #174EA6;\n",
              "    }\n",
              "\n",
              "    [theme=dark] .colab-df-convert {\n",
              "      background-color: #3B4455;\n",
              "      fill: #D2E3FC;\n",
              "    }\n",
              "\n",
              "    [theme=dark] .colab-df-convert:hover {\n",
              "      background-color: #434B5C;\n",
              "      box-shadow: 0px 1px 3px 1px rgba(0, 0, 0, 0.15);\n",
              "      filter: drop-shadow(0px 1px 2px rgba(0, 0, 0, 0.3));\n",
              "      fill: #FFFFFF;\n",
              "    }\n",
              "  </style>\n",
              "\n",
              "      <script>\n",
              "        const buttonEl =\n",
              "          document.querySelector('#df-1cfca09e-042f-463c-938a-f7b95b5a5bfb button.colab-df-convert');\n",
              "        buttonEl.style.display =\n",
              "          google.colab.kernel.accessAllowed ? 'block' : 'none';\n",
              "\n",
              "        async function convertToInteractive(key) {\n",
              "          const element = document.querySelector('#df-1cfca09e-042f-463c-938a-f7b95b5a5bfb');\n",
              "          const dataTable =\n",
              "            await google.colab.kernel.invokeFunction('convertToInteractive',\n",
              "                                                     [key], {});\n",
              "          if (!dataTable) return;\n",
              "\n",
              "          const docLinkHtml = 'Like what you see? Visit the ' +\n",
              "            '<a target=\"_blank\" href=https://colab.research.google.com/notebooks/data_table.ipynb>data table notebook</a>'\n",
              "            + ' to learn more about interactive tables.';\n",
              "          element.innerHTML = '';\n",
              "          dataTable['output_type'] = 'display_data';\n",
              "          await google.colab.output.renderOutput(dataTable, element);\n",
              "          const docLink = document.createElement('div');\n",
              "          docLink.innerHTML = docLinkHtml;\n",
              "          element.appendChild(docLink);\n",
              "        }\n",
              "      </script>\n",
              "    </div>\n",
              "  </div>\n",
              "  "
            ]
          },
          "metadata": {},
          "execution_count": 34
        }
      ]
    },
    {
      "cell_type": "code",
      "source": [
        "act_2019.sort_values('composite',ascending=False).head(5)\n"
      ],
      "metadata": {
        "colab": {
          "base_uri": "https://localhost:8080/",
          "height": 206
        },
        "id": "IrK21M2KzkNV",
        "outputId": "26110439-d310-47da-804d-7700748a7c0e"
      },
      "execution_count": 35,
      "outputs": [
        {
          "output_type": "execute_result",
          "data": {
            "text/plain": [
              "            state  participation  composite\n",
              "21  Massachusetts           21.0       25.5\n",
              "6     Connecticut           22.0       25.5\n",
              "29  New Hampshire           14.0       25.0\n",
              "39   Rhode Island           12.0       24.7\n",
              "32       New York           22.0       24.5"
            ],
            "text/html": [
              "\n",
              "  <div id=\"df-b084a53a-ff37-41c4-a7a5-ec978acbe7d3\">\n",
              "    <div class=\"colab-df-container\">\n",
              "      <div>\n",
              "<style scoped>\n",
              "    .dataframe tbody tr th:only-of-type {\n",
              "        vertical-align: middle;\n",
              "    }\n",
              "\n",
              "    .dataframe tbody tr th {\n",
              "        vertical-align: top;\n",
              "    }\n",
              "\n",
              "    .dataframe thead th {\n",
              "        text-align: right;\n",
              "    }\n",
              "</style>\n",
              "<table border=\"1\" class=\"dataframe\">\n",
              "  <thead>\n",
              "    <tr style=\"text-align: right;\">\n",
              "      <th></th>\n",
              "      <th>state</th>\n",
              "      <th>participation</th>\n",
              "      <th>composite</th>\n",
              "    </tr>\n",
              "  </thead>\n",
              "  <tbody>\n",
              "    <tr>\n",
              "      <th>21</th>\n",
              "      <td>Massachusetts</td>\n",
              "      <td>21.0</td>\n",
              "      <td>25.5</td>\n",
              "    </tr>\n",
              "    <tr>\n",
              "      <th>6</th>\n",
              "      <td>Connecticut</td>\n",
              "      <td>22.0</td>\n",
              "      <td>25.5</td>\n",
              "    </tr>\n",
              "    <tr>\n",
              "      <th>29</th>\n",
              "      <td>New Hampshire</td>\n",
              "      <td>14.0</td>\n",
              "      <td>25.0</td>\n",
              "    </tr>\n",
              "    <tr>\n",
              "      <th>39</th>\n",
              "      <td>Rhode Island</td>\n",
              "      <td>12.0</td>\n",
              "      <td>24.7</td>\n",
              "    </tr>\n",
              "    <tr>\n",
              "      <th>32</th>\n",
              "      <td>New York</td>\n",
              "      <td>22.0</td>\n",
              "      <td>24.5</td>\n",
              "    </tr>\n",
              "  </tbody>\n",
              "</table>\n",
              "</div>\n",
              "      <button class=\"colab-df-convert\" onclick=\"convertToInteractive('df-b084a53a-ff37-41c4-a7a5-ec978acbe7d3')\"\n",
              "              title=\"Convert this dataframe to an interactive table.\"\n",
              "              style=\"display:none;\">\n",
              "        \n",
              "  <svg xmlns=\"http://www.w3.org/2000/svg\" height=\"24px\"viewBox=\"0 0 24 24\"\n",
              "       width=\"24px\">\n",
              "    <path d=\"M0 0h24v24H0V0z\" fill=\"none\"/>\n",
              "    <path d=\"M18.56 5.44l.94 2.06.94-2.06 2.06-.94-2.06-.94-.94-2.06-.94 2.06-2.06.94zm-11 1L8.5 8.5l.94-2.06 2.06-.94-2.06-.94L8.5 2.5l-.94 2.06-2.06.94zm10 10l.94 2.06.94-2.06 2.06-.94-2.06-.94-.94-2.06-.94 2.06-2.06.94z\"/><path d=\"M17.41 7.96l-1.37-1.37c-.4-.4-.92-.59-1.43-.59-.52 0-1.04.2-1.43.59L10.3 9.45l-7.72 7.72c-.78.78-.78 2.05 0 2.83L4 21.41c.39.39.9.59 1.41.59.51 0 1.02-.2 1.41-.59l7.78-7.78 2.81-2.81c.8-.78.8-2.07 0-2.86zM5.41 20L4 18.59l7.72-7.72 1.47 1.35L5.41 20z\"/>\n",
              "  </svg>\n",
              "      </button>\n",
              "      \n",
              "  <style>\n",
              "    .colab-df-container {\n",
              "      display:flex;\n",
              "      flex-wrap:wrap;\n",
              "      gap: 12px;\n",
              "    }\n",
              "\n",
              "    .colab-df-convert {\n",
              "      background-color: #E8F0FE;\n",
              "      border: none;\n",
              "      border-radius: 50%;\n",
              "      cursor: pointer;\n",
              "      display: none;\n",
              "      fill: #1967D2;\n",
              "      height: 32px;\n",
              "      padding: 0 0 0 0;\n",
              "      width: 32px;\n",
              "    }\n",
              "\n",
              "    .colab-df-convert:hover {\n",
              "      background-color: #E2EBFA;\n",
              "      box-shadow: 0px 1px 2px rgba(60, 64, 67, 0.3), 0px 1px 3px 1px rgba(60, 64, 67, 0.15);\n",
              "      fill: #174EA6;\n",
              "    }\n",
              "\n",
              "    [theme=dark] .colab-df-convert {\n",
              "      background-color: #3B4455;\n",
              "      fill: #D2E3FC;\n",
              "    }\n",
              "\n",
              "    [theme=dark] .colab-df-convert:hover {\n",
              "      background-color: #434B5C;\n",
              "      box-shadow: 0px 1px 3px 1px rgba(0, 0, 0, 0.15);\n",
              "      filter: drop-shadow(0px 1px 2px rgba(0, 0, 0, 0.3));\n",
              "      fill: #FFFFFF;\n",
              "    }\n",
              "  </style>\n",
              "\n",
              "      <script>\n",
              "        const buttonEl =\n",
              "          document.querySelector('#df-b084a53a-ff37-41c4-a7a5-ec978acbe7d3 button.colab-df-convert');\n",
              "        buttonEl.style.display =\n",
              "          google.colab.kernel.accessAllowed ? 'block' : 'none';\n",
              "\n",
              "        async function convertToInteractive(key) {\n",
              "          const element = document.querySelector('#df-b084a53a-ff37-41c4-a7a5-ec978acbe7d3');\n",
              "          const dataTable =\n",
              "            await google.colab.kernel.invokeFunction('convertToInteractive',\n",
              "                                                     [key], {});\n",
              "          if (!dataTable) return;\n",
              "\n",
              "          const docLinkHtml = 'Like what you see? Visit the ' +\n",
              "            '<a target=\"_blank\" href=https://colab.research.google.com/notebooks/data_table.ipynb>data table notebook</a>'\n",
              "            + ' to learn more about interactive tables.';\n",
              "          element.innerHTML = '';\n",
              "          dataTable['output_type'] = 'display_data';\n",
              "          await google.colab.output.renderOutput(dataTable, element);\n",
              "          const docLink = document.createElement('div');\n",
              "          docLink.innerHTML = docLinkHtml;\n",
              "          element.appendChild(docLink);\n",
              "        }\n",
              "      </script>\n",
              "    </div>\n",
              "  </div>\n",
              "  "
            ]
          },
          "metadata": {},
          "execution_count": 35
        }
      ]
    },
    {
      "cell_type": "markdown",
      "metadata": {
        "id": "N8tw2xNzRy6o"
      },
      "source": [
        "The lower the participation the greater the composite score. \n",
        "\n",
        "Mean composite score for states with 30% participation in 2017: 24.0\n",
        "Mean composite score for states with 30% participation in 2019: 23.952941176470592\n",
        "\n",
        "Mean composite score for states with 50% participation in 2017: 20.2125\n",
        "Mean composite score for states with 50% participation in 2019: 19.77777777777778\n",
        "\n",
        "Mean composite score for states with 75% participation in 2017: 20.06086956521739\n",
        "Mean composite score for states with 75% participation in 2019: 19.623809523809523\n",
        "\n",
        "Mean composite score for states with 100% participation in 2017: 19.735294117647058\n",
        "Mean composite score for states with 100% participation in 2019: 19.373333333333335\n",
        "\n",
        "\n"
      ]
    },
    {
      "cell_type": "code",
      "source": [
        "#the correlation matrix \n",
        "o_act_2017_corr = act_2017[['english','composite','participation']].corr()\n",
        "act_2017_corr = act_2017.corr()\n",
        "#sns.heatmap(o_act_2017_corr)\n",
        "print(act_2017_corr)\n",
        "ax = sns.heatmap(act_2017_corr)\n",
        "ax.set_title('Correlation Matrix')\n",
        "plt.show()"
      ],
      "metadata": {
        "colab": {
          "base_uri": "https://localhost:8080/",
          "height": 856
        },
        "id": "AHspuhc7_o2Z",
        "outputId": "e4524c2e-ffb7-4487-c374-38a2fac85fba"
      },
      "execution_count": 36,
      "outputs": [
        {
          "output_type": "stream",
          "name": "stdout",
          "text": [
            "               participation   english      math   reading   science  \\\n",
            "participation       1.000000 -0.841826 -0.859609 -0.864694 -0.304870   \n",
            "english            -0.841826  1.000000  0.967838  0.986012  0.403239   \n",
            "math               -0.859609  0.967838  1.000000  0.979632  0.412140   \n",
            "reading            -0.864694  0.986012  0.979632  1.000000  0.400826   \n",
            "science            -0.304870  0.403239  0.412140  0.400826  1.000000   \n",
            "composite          -0.856530  0.990867  0.990461  0.995061  0.408455   \n",
            "\n",
            "               composite  \n",
            "participation  -0.856530  \n",
            "english         0.990867  \n",
            "math            0.990461  \n",
            "reading         0.995061  \n",
            "science         0.408455  \n",
            "composite       1.000000  \n"
          ]
        },
        {
          "output_type": "stream",
          "name": "stderr",
          "text": [
            "<ipython-input-36-6025b93b7738>:3: FutureWarning: The default value of numeric_only in DataFrame.corr is deprecated. In a future version, it will default to False. Select only valid columns or specify the value of numeric_only to silence this warning.\n",
            "  act_2017_corr = act_2017.corr()\n"
          ]
        },
        {
          "output_type": "display_data",
          "data": {
            "text/plain": [
              "<Figure size 640x480 with 2 Axes>"
            ],
            "image/png": "[encoded data removed]"
          },
          "metadata": {}
        }
      ]
    },
    {
      "cell_type": "markdown",
      "source": [
        "The strongest negative correlation is with participation (-0.856530 )."
      ],
      "metadata": {
        "id": "iR8TkmO53ISN"
      }
    },
    {
      "cell_type": "markdown",
      "source": [
        "ACT 2017\n",
        "\n"
      ],
      "metadata": {
        "id": "t62Xpj7Q7ht-"
      }
    },
    {
      "cell_type": "code",
      "execution_count": 37,
      "metadata": {
        "id": "-9gEMXkzRy6p",
        "colab": {
          "base_uri": "https://localhost:8080/",
          "height": 758
        },
        "outputId": "0a65c017-ff31-4645-d503-9df264f909ee"
      },
      "outputs": [
        {
          "output_type": "display_data",
          "data": {
            "text/plain": [
              "<Figure size 849.361x750 with 12 Axes>"
            ],
            "image/png": "[encoded data removed]"
          },
          "metadata": {}
        }
      ],
      "source": [
        "# Code\n",
        "sns.pairplot(act_2017[['math','english','participation','composite']],hue='participation')\n",
        "plt.suptitle(\"ACT 2017 Pairplot With Participation Colored by Hue\")\n",
        "plt.show()"
      ]
    },
    {
      "cell_type": "code",
      "source": [
        "\n",
        "\n",
        "# Filter rows where participation is greater than 75%\n",
        "act_2017_75 = act_2017[act_2017['participation'] > 75]\n",
        "act_2019_75 = act_2019[act_2019['participation'] > 75]\n",
        "\n",
        "# Extract the composite scores for the filtered data\n",
        "act_2017_composite_75 = act_2017_75['composite']\n",
        "act_2019_composite_75 = act_2019_75['composite']\n",
        "\n",
        "# Create a boxplot for the composite scores\n",
        "data = [act_2017_composite_75, act_2019_composite_75]\n",
        "fig, ax = plt.subplots()\n",
        "ax.boxplot(data, labels=['2017', '2019'])\n",
        "ax.set_title('ACT Composite Scores for States with >75% Participation')\n",
        "ax.set_ylabel('Composite Score')\n",
        "ax.set_xlabel('Year')\n",
        "plt.show()\n"
      ],
      "metadata": {
        "colab": {
          "base_uri": "https://localhost:8080/",
          "height": 472
        },
        "id": "4ZZXsSrB85dM",
        "outputId": "ad99f8d4-77a9-4474-f7d6-459587435325"
      },
      "execution_count": 38,
      "outputs": [
        {
          "output_type": "display_data",
          "data": {
            "text/plain": [
              "<Figure size 640x480 with 1 Axes>"
            ],
            "image/png": "[encoded data removed]"
          },
          "metadata": {}
        }
      ]
    },
    {
      "cell_type": "code",
      "source": [
        "\n",
        "\n",
        "\n",
        "\n",
        "# Filter rows where participation is greater than 50%\n",
        "act_2017_50 = act_2017[act_2017['participation'] >= 50]\n",
        "act_2019_50 = act_2019[act_2019['participation'] >= 50]\n",
        "\n",
        "# Extract the composite scores for the filtered data\n",
        "act_2017_composite_50 = act_2017_50['composite']\n",
        "act_2019_composite_50 = act_2019_50['composite']\n",
        "\n",
        "# Create a boxplot for the composite scores\n",
        "data = [act_2017_composite_50, act_2019_composite_50]\n",
        "fig, ax = plt.subplots()\n",
        "ax.boxplot(data, labels=['2017', '2019'])\n",
        "ax.set_title('ACT Composite Scores for States with >=50% Participation')\n",
        "ax.set_ylabel('Composite Score')\n",
        "ax.set_xlabel('Year')\n",
        "plt.show()\n"
      ],
      "metadata": {
        "colab": {
          "base_uri": "https://localhost:8080/",
          "height": 472
        },
        "id": "tXQsX_hM9BsG",
        "outputId": "74d2d3d5-d437-45e1-c45c-c5c74ab2668a"
      },
      "execution_count": 39,
      "outputs": [
        {
          "output_type": "display_data",
          "data": {
            "text/plain": [
              "<Figure size 640x480 with 1 Axes>"
            ],
            "image/png": "[encoded data removed]"
          },
          "metadata": {}
        }
      ]
    },
    {
      "cell_type": "code",
      "source": [
        "\n",
        "\n",
        "# Filter rows where participation is 100%\n",
        "act_2017_100 = act_2017[act_2017['participation'] == 100]\n",
        "act_2019_100 = act_2019[act_2019['participation'] == 100]\n",
        "\n",
        "# Extract the composite scores for the filtered data\n",
        "act_2017_composite_100 = act_2017_100['composite']\n",
        "act_2019_composite_100 = act_2019_100['composite']\n",
        "\n",
        "# Create a boxplot for the composite scores\n",
        "data = [act_2017_composite_100, act_2019_composite_100]\n",
        "fig, ax = plt.subplots()\n",
        "ax.boxplot(data, labels=['2017', '2019'])\n",
        "ax.set_title('ACT Composite Scores for States with == 100% Participation')\n",
        "ax.set_ylabel('Composite Score')\n",
        "ax.set_xlabel('Year')\n",
        "plt.show()\n"
      ],
      "metadata": {
        "colab": {
          "base_uri": "https://localhost:8080/",
          "height": 472
        },
        "id": "AT1LyluT94QX",
        "outputId": "b72b4a6b-4615-4818-f376-b93df741ad01"
      },
      "execution_count": 40,
      "outputs": [
        {
          "output_type": "display_data",
          "data": {
            "text/plain": [
              "<Figure size 640x480 with 1 Axes>"
            ],
            "image/png": "[encoded data removed]"
          },
          "metadata": {}
        }
      ]
    },
    {
      "cell_type": "code",
      "source": [
        "\n",
        "# Filter rows where participation is less than 30%\n",
        "act_2017_30 = act_2017[act_2017['participation'] < 30]\n",
        "act_2019_30 = act_2019[act_2019['participation'] < 30]\n",
        "\n",
        "# Extract the composite scores for the filtered data\n",
        "act_2017_composite_30 = act_2017_30['composite']\n",
        "act_2019_composite_30 = act_2019_30['composite']\n",
        "\n",
        "# Create a boxplot for the composite scores\n",
        "data = [act_2017_composite_30, act_2019_composite_30]\n",
        "fig, ax = plt.subplots()\n",
        "ax.boxplot(data, labels=['2017', '2019'])\n",
        "ax.set_title('ACT Composite Scores for States with <30% Participation')\n",
        "ax.set_ylabel('Composite Score')\n",
        "ax.set_xlabel('Year')\n",
        "plt.show()\n"
      ],
      "metadata": {
        "colab": {
          "base_uri": "https://localhost:8080/",
          "height": 472
        },
        "id": "j5ryyiTr-lsY",
        "outputId": "6f1485e1-94ba-4a1f-93f2-00f7daa81e53"
      },
      "execution_count": 41,
      "outputs": [
        {
          "output_type": "display_data",
          "data": {
            "text/plain": [
              "<Figure size 640x480 with 1 Axes>"
            ],
            "image/png": "[encoded data removed]"
          },
          "metadata": {}
        }
      ]
    },
    {
      "cell_type": "code",
      "source": [
        "\n",
        "\n",
        "def plot_act_scatter(act_2017):\n",
        "    # Extract the relevant columns from act_2017\n",
        "    composite = act_2017['composite']\n",
        "    participation = act_2017['participation']\n",
        "    \n",
        "    # Create the scatter plot\n",
        "    plt.scatter(participation, composite, color='blue', marker='o')\n",
        "    \n",
        "    # Add labels and title\n",
        "    plt.xlabel('Participation Rate')\n",
        "    plt.ylabel('Composite Score')\n",
        "    plt.title('ACT 2017 Composite Scores vs. Participation Rates')\n",
        "    \n",
        "    # Show the plot\n",
        "    plt.show()\n",
        "plot_act_scatter(act_2017)\n"
      ],
      "metadata": {
        "colab": {
          "base_uri": "https://localhost:8080/",
          "height": 472
        },
        "id": "VNBeG4XiB9mn",
        "outputId": "843fe383-ac69-44f9-cf6b-59dbbd01ae09"
      },
      "execution_count": 42,
      "outputs": [
        {
          "output_type": "display_data",
          "data": {
            "text/plain": [
              "<Figure size 640x480 with 1 Axes>"
            ],
            "image/png": "[encoded data removed]"
          },
          "metadata": {}
        }
      ]
    },
    {
      "cell_type": "markdown",
      "source": [
        "Composite score decreases as participation rate increases. "
      ],
      "metadata": {
        "id": "mSvxT_il-OKo"
      }
    },
    {
      "cell_type": "code",
      "source": [
        "def plot_act_scatter(act_2019):\n",
        "    # Extract the relevant columns from act_2019\n",
        "    composite = act_2019['composite']\n",
        "    participation = act_2019['participation']\n",
        "    \n",
        "    # Create the scatter plot\n",
        "    plt.scatter(participation, composite, color='purple', marker='o')\n",
        "    \n",
        "    # Add labels and title\n",
        "    plt.xlabel('Participation Rate')\n",
        "    plt.ylabel('Composite Score')\n",
        "    plt.title('ACT 2019 Composite Scores vs. Participation Rates')\n",
        "    \n",
        "    # Show the plot\n",
        "    plt.show()\n",
        "plot_act_scatter(act_2019)"
      ],
      "metadata": {
        "colab": {
          "base_uri": "https://localhost:8080/",
          "height": 472
        },
        "id": "e8-f4C_rCO71",
        "outputId": "de0955ff-c2bb-447e-aaf8-64ff9ac54499"
      },
      "execution_count": 43,
      "outputs": [
        {
          "output_type": "display_data",
          "data": {
            "text/plain": [
              "<Figure size 640x480 with 1 Axes>"
            ],
            "image/png": "[encoded data removed]"
          },
          "metadata": {}
        }
      ]
    },
    {
      "cell_type": "markdown",
      "source": [
        "Composite score decreases as participation rate increases. "
      ],
      "metadata": {
        "id": "2eqNp6x3-XHu"
      }
    },
    {
      "cell_type": "code",
      "source": [],
      "metadata": {
        "id": "kP5U-v-2Q0Sm"
      },
      "execution_count": 43,
      "outputs": []
    },
    {
      "cell_type": "code",
      "metadata": {
        "id": "zALmyXQzyZf1",
        "colab": {
          "base_uri": "https://localhost:8080/",
          "height": 17
        },
        "outputId": "3bb9b150-53ac-498b-eb13-ba9a15acbe5f"
      },
      "source": [
        "from google.colab import files\n",
        "import pandas as pd\n",
        "\n",
        "\n",
        "df = act_2019\n",
        "\n",
        "brandname = \"2019_act\"\n",
        "\n",
        "df.to_csv(brandname + '-subdirs_from_sitemap.csv', index=False)\n",
        "\n",
        "\n",
        "files.download(brandname + '-subdirs_from_sitemap.csv')\n"
      ],
      "execution_count": 44,
      "outputs": [
        {
          "output_type": "display_data",
          "data": {
            "text/plain": [
              "<IPython.core.display.Javascript object>"
            ],
            "application/javascript": [
              "\n",
              "    async function download(id, filename, size) {\n",
              "      if (!google.colab.kernel.accessAllowed) {\n",
              "        return;\n",
              "      }\n",
              "      const div = document.createElement('div');\n",
              "      const label = document.createElement('label');\n",
              "      label.textContent = `Downloading \"${filename}\": `;\n",
              "      div.appendChild(label);\n",
              "      const progress = document.createElement('progress');\n",
              "      progress.max = size;\n",
              "      div.appendChild(progress);\n",
              "      document.body.appendChild(div);\n",
              "\n",
              "      const buffers = [];\n",
              "      let downloaded = 0;\n",
              "\n",
              "      const channel = await google.colab.kernel.comms.open(id);\n",
              "      // Send a message to notify the kernel that we're ready.\n",
              "      channel.send({})\n",
              "\n",
              "      for await (const message of channel.messages) {\n",
              "        // Send a message to notify the kernel that we're ready.\n",
              "        channel.send({})\n",
              "        if (message.buffers) {\n",
              "          for (const buffer of message.buffers) {\n",
              "            buffers.push(buffer);\n",
              "            downloaded += buffer.byteLength;\n",
              "            progress.value = downloaded;\n",
              "          }\n",
              "        }\n",
              "      }\n",
              "      const blob = new Blob(buffers, {type: 'application/binary'});\n",
              "      const a = document.createElement('a');\n",
              "      a.href = window.URL.createObjectURL(blob);\n",
              "      a.download = filename;\n",
              "      div.appendChild(a);\n",
              "      a.click();\n",
              "      div.remove();\n",
              "    }\n",
              "  "
            ]
          },
          "metadata": {}
        },
        {
          "output_type": "display_data",
          "data": {
            "text/plain": [
              "<IPython.core.display.Javascript object>"
            ],
            "application/javascript": [
              "download(\"download_3fb0d6ad-65ca-4e56-93c2-cb789600682c\", \"2019_act-subdirs_from_sitemap.csv\", 1066)"
            ]
          },
          "metadata": {}
        }
      ]
    }
  ],
  "metadata": {
    "anaconda-cloud": {},
    "kernelspec": {
      "display_name": "Python 3 (ipykernel)",
      "language": "python",
      "name": "python3"
    },
    "language_info": {
      "codemirror_mode": {
        "name": "ipython",
        "version": 3
      },
      "file_extension": ".py",
      "mimetype": "text/x-python",
      "name": "python",
      "nbconvert_exporter": "python",
      "pygments_lexer": "ipython3",
      "version": "3.9.13"
    },
    "colab": {
      "provenance": []
    }
  },
  "nbformat": 4,
  "nbformat_minor": 0
}