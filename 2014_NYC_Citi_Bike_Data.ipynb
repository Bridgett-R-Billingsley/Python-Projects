{
  "cells": [
    {
      "cell_type": "markdown",
      "metadata": {
        "id": "yObC7jNJj2Jv"
      },
      "source": [
        "<img src=\"http://imgur.com/1ZcRyrc.png\" style=\"float: left; margin: 20px; height: 55px\">\n",
        "\n",
        "# Lab 3.02: Statistical Modeling and Model Validation\n",
        "\n",
        "> Authors: Tim Book, Matt Brems\n",
        "\n",
        "---"
      ]
    },
    {
      "cell_type": "markdown",
      "metadata": {
        "id": "oPfEOjY1j2J5"
      },
      "source": [
        "## Objective\n",
        "The goal of this lab is to guide you through the modeling workflow to produce the best model you can. In this lesson, you will follow all best practices when slicing your data and validating your model. "
      ]
    },
    {
      "cell_type": "markdown",
      "metadata": {
        "id": "yg3XyPSUj2J5"
      },
      "source": [
        "### Imports"
      ]
    },
    {
      "cell_type": "code",
      "execution_count": null,
      "metadata": {
        "id": "CNY5DcdAj2J6"
      },
      "outputs": [],
      "source": [
        "# Import everything you need here.\n",
        "# You may want to return to this cell to import more things later in the lab.\n",
        "# DO NOT COPY AND PASTE FROM OUR CLASS SLIDES!\n",
        "# Muscle memory is important!\n",
        "\n",
        "\n",
        "import pandas as pd\n",
        "import numpy as np\n",
        "import matplotlib.pyplot as plt\n",
        "import seaborn as sns\n",
        "from sklearn.linear_model import LinearRegression"
      ]
    },
    {
      "cell_type": "markdown",
      "metadata": {
        "id": "HZfjH9JTj2J6"
      },
      "source": [
        "### Read Data\n",
        "The `citibike` dataset consists of Citi Bike ridership data for over 224,000 rides in February 2014."
      ]
    },
    {
      "cell_type": "code",
      "execution_count": null,
      "metadata": {
        "colab": {
          "base_uri": "https://localhost:8080/"
        },
        "id": "pMXnPXoej2J6",
        "outputId": "e4a39552-8860-4c75-9d4f-9c0a4e87eee8"
      },
      "outputs": [
        {
          "output_type": "stream",
          "name": "stdout",
          "text": [
            "Mounted at /content/drive\n"
          ]
        }
      ],
      "source": [
        "# the dataset is contained in the `data` folder\n",
        "from google.colab import drive\n",
        "drive.mount('/content/drive')"
      ]
    },
    {
      "cell_type": "code",
      "source": [
        "df = pd.read_csv('/content/drive/MyDrive/lab-3 (1).02-validation-master/data/citibike_feb2014.csv')\n",
        "df.head()"
      ],
      "metadata": {
        "colab": {
          "base_uri": "https://localhost:8080/",
          "height": 354
        },
        "id": "twseZY8IkNCg",
        "outputId": "abfb98a1-927c-41ad-ae3e-e50f5409c12d"
      },
      "execution_count": null,
      "outputs": [
        {
          "output_type": "execute_result",
          "data": {
            "text/plain": [
              "   tripduration            starttime             stoptime  start station id  \\\n",
              "0           382  2014-02-01 00:00:00  2014-02-01 00:06:22               294   \n",
              "1           372  2014-02-01 00:00:03  2014-02-01 00:06:15               285   \n",
              "2           591  2014-02-01 00:00:09  2014-02-01 00:10:00               247   \n",
              "3           583  2014-02-01 00:00:32  2014-02-01 00:10:15               357   \n",
              "4           223  2014-02-01 00:00:41  2014-02-01 00:04:24               401   \n",
              "\n",
              "        start station name  start station latitude  start station longitude  \\\n",
              "0      Washington Square E               40.730494               -73.995721   \n",
              "1       Broadway & E 14 St               40.734546               -73.990741   \n",
              "2   Perry St & Bleecker St               40.735354               -74.004831   \n",
              "3       E 11 St & Broadway               40.732618               -73.991580   \n",
              "4  Allen St & Rivington St               40.720196               -73.989978   \n",
              "\n",
              "   end station id          end station name  end station latitude  \\\n",
              "0             265  Stanton St & Chrystie St             40.722293   \n",
              "1             439            E 4 St & 2 Ave             40.726281   \n",
              "2             251       Mott St & Prince St             40.723180   \n",
              "3             284     Greenwich Ave & 8 Ave             40.739017   \n",
              "4             439            E 4 St & 2 Ave             40.726281   \n",
              "\n",
              "   end station longitude  bikeid    usertype birth year  gender  \n",
              "0             -73.991475   21101  Subscriber       1991       1  \n",
              "1             -73.989780   15456  Subscriber       1979       2  \n",
              "2             -73.994800   16281  Subscriber       1948       2  \n",
              "3             -74.002638   17400  Subscriber       1981       1  \n",
              "4             -73.989780   19341  Subscriber       1990       1  "
            ],
            "text/html": [
              "\n",
              "  <div id=\"df-ffae01bb-fb10-4009-9fe6-6c131ab9057f\">\n",
              "    <div class=\"colab-df-container\">\n",
              "      <div>\n",
              "<style scoped>\n",
              "    .dataframe tbody tr th:only-of-type {\n",
              "        vertical-align: middle;\n",
              "    }\n",
              "\n",
              "    .dataframe tbody tr th {\n",
              "        vertical-align: top;\n",
              "    }\n",
              "\n",
              "    .dataframe thead th {\n",
              "        text-align: right;\n",
              "    }\n",
              "</style>\n",
              "<table border=\"1\" class=\"dataframe\">\n",
              "  <thead>\n",
              "    <tr style=\"text-align: right;\">\n",
              "      <th></th>\n",
              "      <th>tripduration</th>\n",
              "      <th>starttime</th>\n",
              "      <th>stoptime</th>\n",
              "      <th>start station id</th>\n",
              "      <th>start station name</th>\n",
              "      <th>start station latitude</th>\n",
              "      <th>start station longitude</th>\n",
              "      <th>end station id</th>\n",
              "      <th>end station name</th>\n",
              "      <th>end station latitude</th>\n",
              "      <th>end station longitude</th>\n",
              "      <th>bikeid</th>\n",
              "      <th>usertype</th>\n",
              "      <th>birth year</th>\n",
              "      <th>gender</th>\n",
              "    </tr>\n",
              "  </thead>\n",
              "  <tbody>\n",
              "    <tr>\n",
              "      <th>0</th>\n",
              "      <td>382</td>\n",
              "      <td>2014-02-01 00:00:00</td>\n",
              "      <td>2014-02-01 00:06:22</td>\n",
              "      <td>294</td>\n",
              "      <td>Washington Square E</td>\n",
              "      <td>40.730494</td>\n",
              "      <td>-73.995721</td>\n",
              "      <td>265</td>\n",
              "      <td>Stanton St &amp; Chrystie St</td>\n",
              "      <td>40.722293</td>\n",
              "      <td>-73.991475</td>\n",
              "      <td>21101</td>\n",
              "      <td>Subscriber</td>\n",
              "      <td>1991</td>\n",
              "      <td>1</td>\n",
              "    </tr>\n",
              "    <tr>\n",
              "      <th>1</th>\n",
              "      <td>372</td>\n",
              "      <td>2014-02-01 00:00:03</td>\n",
              "      <td>2014-02-01 00:06:15</td>\n",
              "      <td>285</td>\n",
              "      <td>Broadway &amp; E 14 St</td>\n",
              "      <td>40.734546</td>\n",
              "      <td>-73.990741</td>\n",
              "      <td>439</td>\n",
              "      <td>E 4 St &amp; 2 Ave</td>\n",
              "      <td>40.726281</td>\n",
              "      <td>-73.989780</td>\n",
              "      <td>15456</td>\n",
              "      <td>Subscriber</td>\n",
              "      <td>1979</td>\n",
              "      <td>2</td>\n",
              "    </tr>\n",
              "    <tr>\n",
              "      <th>2</th>\n",
              "      <td>591</td>\n",
              "      <td>2014-02-01 00:00:09</td>\n",
              "      <td>2014-02-01 00:10:00</td>\n",
              "      <td>247</td>\n",
              "      <td>Perry St &amp; Bleecker St</td>\n",
              "      <td>40.735354</td>\n",
              "      <td>-74.004831</td>\n",
              "      <td>251</td>\n",
              "      <td>Mott St &amp; Prince St</td>\n",
              "      <td>40.723180</td>\n",
              "      <td>-73.994800</td>\n",
              "      <td>16281</td>\n",
              "      <td>Subscriber</td>\n",
              "      <td>1948</td>\n",
              "      <td>2</td>\n",
              "    </tr>\n",
              "    <tr>\n",
              "      <th>3</th>\n",
              "      <td>583</td>\n",
              "      <td>2014-02-01 00:00:32</td>\n",
              "      <td>2014-02-01 00:10:15</td>\n",
              "      <td>357</td>\n",
              "      <td>E 11 St &amp; Broadway</td>\n",
              "      <td>40.732618</td>\n",
              "      <td>-73.991580</td>\n",
              "      <td>284</td>\n",
              "      <td>Greenwich Ave &amp; 8 Ave</td>\n",
              "      <td>40.739017</td>\n",
              "      <td>-74.002638</td>\n",
              "      <td>17400</td>\n",
              "      <td>Subscriber</td>\n",
              "      <td>1981</td>\n",
              "      <td>1</td>\n",
              "    </tr>\n",
              "    <tr>\n",
              "      <th>4</th>\n",
              "      <td>223</td>\n",
              "      <td>2014-02-01 00:00:41</td>\n",
              "      <td>2014-02-01 00:04:24</td>\n",
              "      <td>401</td>\n",
              "      <td>Allen St &amp; Rivington St</td>\n",
              "      <td>40.720196</td>\n",
              "      <td>-73.989978</td>\n",
              "      <td>439</td>\n",
              "      <td>E 4 St &amp; 2 Ave</td>\n",
              "      <td>40.726281</td>\n",
              "      <td>-73.989780</td>\n",
              "      <td>19341</td>\n",
              "      <td>Subscriber</td>\n",
              "      <td>1990</td>\n",
              "      <td>1</td>\n",
              "    </tr>\n",
              "  </tbody>\n",
              "</table>\n",
              "</div>\n",
              "      <button class=\"colab-df-convert\" onclick=\"convertToInteractive('df-ffae01bb-fb10-4009-9fe6-6c131ab9057f')\"\n",
              "              title=\"Convert this dataframe to an interactive table.\"\n",
              "              style=\"display:none;\">\n",
              "        \n",
              "  <svg xmlns=\"http://www.w3.org/2000/svg\" height=\"24px\"viewBox=\"0 0 24 24\"\n",
              "       width=\"24px\">\n",
              "    <path d=\"M0 0h24v24H0V0z\" fill=\"none\"/>\n",
              "    <path d=\"M18.56 5.44l.94 2.06.94-2.06 2.06-.94-2.06-.94-.94-2.06-.94 2.06-2.06.94zm-11 1L8.5 8.5l.94-2.06 2.06-.94-2.06-.94L8.5 2.5l-.94 2.06-2.06.94zm10 10l.94 2.06.94-2.06 2.06-.94-2.06-.94-.94-2.06-.94 2.06-2.06.94z\"/><path d=\"M17.41 7.96l-1.37-1.37c-.4-.4-.92-.59-1.43-.59-.52 0-1.04.2-1.43.59L10.3 9.45l-7.72 7.72c-.78.78-.78 2.05 0 2.83L4 21.41c.39.39.9.59 1.41.59.51 0 1.02-.2 1.41-.59l7.78-7.78 2.81-2.81c.8-.78.8-2.07 0-2.86zM5.41 20L4 18.59l7.72-7.72 1.47 1.35L5.41 20z\"/>\n",
              "  </svg>\n",
              "      </button>\n",
              "      \n",
              "  <style>\n",
              "    .colab-df-container {\n",
              "      display:flex;\n",
              "      flex-wrap:wrap;\n",
              "      gap: 12px;\n",
              "    }\n",
              "\n",
              "    .colab-df-convert {\n",
              "      background-color: #E8F0FE;\n",
              "      border: none;\n",
              "      border-radius: 50%;\n",
              "      cursor: pointer;\n",
              "      display: none;\n",
              "      fill: #1967D2;\n",
              "      height: 32px;\n",
              "      padding: 0 0 0 0;\n",
              "      width: 32px;\n",
              "    }\n",
              "\n",
              "    .colab-df-convert:hover {\n",
              "      background-color: #E2EBFA;\n",
              "      box-shadow: 0px 1px 2px rgba(60, 64, 67, 0.3), 0px 1px 3px 1px rgba(60, 64, 67, 0.15);\n",
              "      fill: #174EA6;\n",
              "    }\n",
              "\n",
              "    [theme=dark] .colab-df-convert {\n",
              "      background-color: #3B4455;\n",
              "      fill: #D2E3FC;\n",
              "    }\n",
              "\n",
              "    [theme=dark] .colab-df-convert:hover {\n",
              "      background-color: #434B5C;\n",
              "      box-shadow: 0px 1px 3px 1px rgba(0, 0, 0, 0.15);\n",
              "      filter: drop-shadow(0px 1px 2px rgba(0, 0, 0, 0.3));\n",
              "      fill: #FFFFFF;\n",
              "    }\n",
              "  </style>\n",
              "\n",
              "      <script>\n",
              "        const buttonEl =\n",
              "          document.querySelector('#df-ffae01bb-fb10-4009-9fe6-6c131ab9057f button.colab-df-convert');\n",
              "        buttonEl.style.display =\n",
              "          google.colab.kernel.accessAllowed ? 'block' : 'none';\n",
              "\n",
              "        async function convertToInteractive(key) {\n",
              "          const element = document.querySelector('#df-ffae01bb-fb10-4009-9fe6-6c131ab9057f');\n",
              "          const dataTable =\n",
              "            await google.colab.kernel.invokeFunction('convertToInteractive',\n",
              "                                                     [key], {});\n",
              "          if (!dataTable) return;\n",
              "\n",
              "          const docLinkHtml = 'Like what you see? Visit the ' +\n",
              "            '<a target=\"_blank\" href=https://colab.research.google.com/notebooks/data_table.ipynb>data table notebook</a>'\n",
              "            + ' to learn more about interactive tables.';\n",
              "          element.innerHTML = '';\n",
              "          dataTable['output_type'] = 'display_data';\n",
              "          await google.colab.output.renderOutput(dataTable, element);\n",
              "          const docLink = document.createElement('div');\n",
              "          docLink.innerHTML = docLinkHtml;\n",
              "          element.appendChild(docLink);\n",
              "        }\n",
              "      </script>\n",
              "    </div>\n",
              "  </div>\n",
              "  "
            ]
          },
          "metadata": {},
          "execution_count": 3
        }
      ]
    },
    {
      "cell_type": "markdown",
      "metadata": {
        "id": "W8_dTQr1j2J6"
      },
      "source": [
        "### Explore the data\n",
        "Use this space to familiarize yourself with the data.\n",
        "\n",
        "Convince yourself there are no issues with the data. If you find any issues, clean them here."
      ]
    },
    {
      "cell_type": "code",
      "execution_count": null,
      "metadata": {
        "colab": {
          "base_uri": "https://localhost:8080/",
          "height": 300
        },
        "id": "CL9z_PWrj2J7",
        "outputId": "661bb8ab-9990-46c9-86ea-32d7cf6486bd"
      },
      "outputs": [
        {
          "output_type": "execute_result",
          "data": {
            "text/plain": [
              "        tripduration  start station id  start station latitude  \\\n",
              "count  224736.000000     224736.000000           224736.000000   \n",
              "mean      874.519810        439.203479               40.734366   \n",
              "std      5486.092219        335.723861                0.019031   \n",
              "min        60.000000         72.000000               40.680342   \n",
              "25%       360.000000        305.000000               40.721854   \n",
              "50%       544.000000        403.000000               40.736197   \n",
              "75%       845.000000        490.000000               40.749156   \n",
              "max    766108.000000       3002.000000               40.770513   \n",
              "\n",
              "       start station longitude  end station id  end station latitude  \\\n",
              "count            224736.000000   224736.000000         224736.000000   \n",
              "mean                -73.990386      440.741995             40.734221   \n",
              "std                   0.011853      341.497433              0.019048   \n",
              "min                 -74.017134       72.000000             40.680342   \n",
              "25%                 -73.998522      305.000000             40.721816   \n",
              "50%                 -73.990617      403.000000             40.735877   \n",
              "75%                 -73.981918      488.000000             40.749013   \n",
              "max                 -73.950048     3002.000000             40.770513   \n",
              "\n",
              "       end station longitude         bikeid         gender  \n",
              "count          224736.000000  224736.000000  224736.000000  \n",
              "mean              -73.990521   18010.598222       1.154617  \n",
              "std                 0.011920    1987.769335       0.436592  \n",
              "min               -74.017134   14529.000000       0.000000  \n",
              "25%               -73.999061   16302.000000       1.000000  \n",
              "50%               -73.990741   17975.000000       1.000000  \n",
              "75%               -73.981948   19689.000000       1.000000  \n",
              "max               -73.950048   21542.000000       2.000000  "
            ],
            "text/html": [
              "\n",
              "  <div id=\"df-952fec4b-100f-47cd-b7a0-5ebfe3a15d4c\">\n",
              "    <div class=\"colab-df-container\">\n",
              "      <div>\n",
              "<style scoped>\n",
              "    .dataframe tbody tr th:only-of-type {\n",
              "        vertical-align: middle;\n",
              "    }\n",
              "\n",
              "    .dataframe tbody tr th {\n",
              "        vertical-align: top;\n",
              "    }\n",
              "\n",
              "    .dataframe thead th {\n",
              "        text-align: right;\n",
              "    }\n",
              "</style>\n",
              "<table border=\"1\" class=\"dataframe\">\n",
              "  <thead>\n",
              "    <tr style=\"text-align: right;\">\n",
              "      <th></th>\n",
              "      <th>tripduration</th>\n",
              "      <th>start station id</th>\n",
              "      <th>start station latitude</th>\n",
              "      <th>start station longitude</th>\n",
              "      <th>end station id</th>\n",
              "      <th>end station latitude</th>\n",
              "      <th>end station longitude</th>\n",
              "      <th>bikeid</th>\n",
              "      <th>gender</th>\n",
              "    </tr>\n",
              "  </thead>\n",
              "  <tbody>\n",
              "    <tr>\n",
              "      <th>count</th>\n",
              "      <td>224736.000000</td>\n",
              "      <td>224736.000000</td>\n",
              "      <td>224736.000000</td>\n",
              "      <td>224736.000000</td>\n",
              "      <td>224736.000000</td>\n",
              "      <td>224736.000000</td>\n",
              "      <td>224736.000000</td>\n",
              "      <td>224736.000000</td>\n",
              "      <td>224736.000000</td>\n",
              "    </tr>\n",
              "    <tr>\n",
              "      <th>mean</th>\n",
              "      <td>874.519810</td>\n",
              "      <td>439.203479</td>\n",
              "      <td>40.734366</td>\n",
              "      <td>-73.990386</td>\n",
              "      <td>440.741995</td>\n",
              "      <td>40.734221</td>\n",
              "      <td>-73.990521</td>\n",
              "      <td>18010.598222</td>\n",
              "      <td>1.154617</td>\n",
              "    </tr>\n",
              "    <tr>\n",
              "      <th>std</th>\n",
              "      <td>5486.092219</td>\n",
              "      <td>335.723861</td>\n",
              "      <td>0.019031</td>\n",
              "      <td>0.011853</td>\n",
              "      <td>341.497433</td>\n",
              "      <td>0.019048</td>\n",
              "      <td>0.011920</td>\n",
              "      <td>1987.769335</td>\n",
              "      <td>0.436592</td>\n",
              "    </tr>\n",
              "    <tr>\n",
              "      <th>min</th>\n",
              "      <td>60.000000</td>\n",
              "      <td>72.000000</td>\n",
              "      <td>40.680342</td>\n",
              "      <td>-74.017134</td>\n",
              "      <td>72.000000</td>\n",
              "      <td>40.680342</td>\n",
              "      <td>-74.017134</td>\n",
              "      <td>14529.000000</td>\n",
              "      <td>0.000000</td>\n",
              "    </tr>\n",
              "    <tr>\n",
              "      <th>25%</th>\n",
              "      <td>360.000000</td>\n",
              "      <td>305.000000</td>\n",
              "      <td>40.721854</td>\n",
              "      <td>-73.998522</td>\n",
              "      <td>305.000000</td>\n",
              "      <td>40.721816</td>\n",
              "      <td>-73.999061</td>\n",
              "      <td>16302.000000</td>\n",
              "      <td>1.000000</td>\n",
              "    </tr>\n",
              "    <tr>\n",
              "      <th>50%</th>\n",
              "      <td>544.000000</td>\n",
              "      <td>403.000000</td>\n",
              "      <td>40.736197</td>\n",
              "      <td>-73.990617</td>\n",
              "      <td>403.000000</td>\n",
              "      <td>40.735877</td>\n",
              "      <td>-73.990741</td>\n",
              "      <td>17975.000000</td>\n",
              "      <td>1.000000</td>\n",
              "    </tr>\n",
              "    <tr>\n",
              "      <th>75%</th>\n",
              "      <td>845.000000</td>\n",
              "      <td>490.000000</td>\n",
              "      <td>40.749156</td>\n",
              "      <td>-73.981918</td>\n",
              "      <td>488.000000</td>\n",
              "      <td>40.749013</td>\n",
              "      <td>-73.981948</td>\n",
              "      <td>19689.000000</td>\n",
              "      <td>1.000000</td>\n",
              "    </tr>\n",
              "    <tr>\n",
              "      <th>max</th>\n",
              "      <td>766108.000000</td>\n",
              "      <td>3002.000000</td>\n",
              "      <td>40.770513</td>\n",
              "      <td>-73.950048</td>\n",
              "      <td>3002.000000</td>\n",
              "      <td>40.770513</td>\n",
              "      <td>-73.950048</td>\n",
              "      <td>21542.000000</td>\n",
              "      <td>2.000000</td>\n",
              "    </tr>\n",
              "  </tbody>\n",
              "</table>\n",
              "</div>\n",
              "      <button class=\"colab-df-convert\" onclick=\"convertToInteractive('df-952fec4b-100f-47cd-b7a0-5ebfe3a15d4c')\"\n",
              "              title=\"Convert this dataframe to an interactive table.\"\n",
              "              style=\"display:none;\">\n",
              "        \n",
              "  <svg xmlns=\"http://www.w3.org/2000/svg\" height=\"24px\"viewBox=\"0 0 24 24\"\n",
              "       width=\"24px\">\n",
              "    <path d=\"M0 0h24v24H0V0z\" fill=\"none\"/>\n",
              "    <path d=\"M18.56 5.44l.94 2.06.94-2.06 2.06-.94-2.06-.94-.94-2.06-.94 2.06-2.06.94zm-11 1L8.5 8.5l.94-2.06 2.06-.94-2.06-.94L8.5 2.5l-.94 2.06-2.06.94zm10 10l.94 2.06.94-2.06 2.06-.94-2.06-.94-.94-2.06-.94 2.06-2.06.94z\"/><path d=\"M17.41 7.96l-1.37-1.37c-.4-.4-.92-.59-1.43-.59-.52 0-1.04.2-1.43.59L10.3 9.45l-7.72 7.72c-.78.78-.78 2.05 0 2.83L4 21.41c.39.39.9.59 1.41.59.51 0 1.02-.2 1.41-.59l7.78-7.78 2.81-2.81c.8-.78.8-2.07 0-2.86zM5.41 20L4 18.59l7.72-7.72 1.47 1.35L5.41 20z\"/>\n",
              "  </svg>\n",
              "      </button>\n",
              "      \n",
              "  <style>\n",
              "    .colab-df-container {\n",
              "      display:flex;\n",
              "      flex-wrap:wrap;\n",
              "      gap: 12px;\n",
              "    }\n",
              "\n",
              "    .colab-df-convert {\n",
              "      background-color: #E8F0FE;\n",
              "      border: none;\n",
              "      border-radius: 50%;\n",
              "      cursor: pointer;\n",
              "      display: none;\n",
              "      fill: #1967D2;\n",
              "      height: 32px;\n",
              "      padding: 0 0 0 0;\n",
              "      width: 32px;\n",
              "    }\n",
              "\n",
              "    .colab-df-convert:hover {\n",
              "      background-color: #E2EBFA;\n",
              "      box-shadow: 0px 1px 2px rgba(60, 64, 67, 0.3), 0px 1px 3px 1px rgba(60, 64, 67, 0.15);\n",
              "      fill: #174EA6;\n",
              "    }\n",
              "\n",
              "    [theme=dark] .colab-df-convert {\n",
              "      background-color: #3B4455;\n",
              "      fill: #D2E3FC;\n",
              "    }\n",
              "\n",
              "    [theme=dark] .colab-df-convert:hover {\n",
              "      background-color: #434B5C;\n",
              "      box-shadow: 0px 1px 3px 1px rgba(0, 0, 0, 0.15);\n",
              "      filter: drop-shadow(0px 1px 2px rgba(0, 0, 0, 0.3));\n",
              "      fill: #FFFFFF;\n",
              "    }\n",
              "  </style>\n",
              "\n",
              "      <script>\n",
              "        const buttonEl =\n",
              "          document.querySelector('#df-952fec4b-100f-47cd-b7a0-5ebfe3a15d4c button.colab-df-convert');\n",
              "        buttonEl.style.display =\n",
              "          google.colab.kernel.accessAllowed ? 'block' : 'none';\n",
              "\n",
              "        async function convertToInteractive(key) {\n",
              "          const element = document.querySelector('#df-952fec4b-100f-47cd-b7a0-5ebfe3a15d4c');\n",
              "          const dataTable =\n",
              "            await google.colab.kernel.invokeFunction('convertToInteractive',\n",
              "                                                     [key], {});\n",
              "          if (!dataTable) return;\n",
              "\n",
              "          const docLinkHtml = 'Like what you see? Visit the ' +\n",
              "            '<a target=\"_blank\" href=https://colab.research.google.com/notebooks/data_table.ipynb>data table notebook</a>'\n",
              "            + ' to learn more about interactive tables.';\n",
              "          element.innerHTML = '';\n",
              "          dataTable['output_type'] = 'display_data';\n",
              "          await google.colab.output.renderOutput(dataTable, element);\n",
              "          const docLink = document.createElement('div');\n",
              "          docLink.innerHTML = docLinkHtml;\n",
              "          element.appendChild(docLink);\n",
              "        }\n",
              "      </script>\n",
              "    </div>\n",
              "  </div>\n",
              "  "
            ]
          },
          "metadata": {},
          "execution_count": 4
        }
      ],
      "source": [
        "df.describe()"
      ]
    },
    {
      "cell_type": "code",
      "execution_count": null,
      "metadata": {
        "colab": {
          "base_uri": "https://localhost:8080/"
        },
        "id": "8kx2WwEij2J7",
        "outputId": "0382fc20-cc8e-4fc0-8002-152a6bd306fd"
      },
      "outputs": [
        {
          "output_type": "stream",
          "name": "stdout",
          "text": [
            "<class 'pandas.core.frame.DataFrame'>\n",
            "RangeIndex: 224736 entries, 0 to 224735\n",
            "Data columns (total 15 columns):\n",
            " #   Column                   Non-Null Count   Dtype  \n",
            "---  ------                   --------------   -----  \n",
            " 0   tripduration             224736 non-null  int64  \n",
            " 1   starttime                224736 non-null  object \n",
            " 2   stoptime                 224736 non-null  object \n",
            " 3   start station id         224736 non-null  int64  \n",
            " 4   start station name       224736 non-null  object \n",
            " 5   start station latitude   224736 non-null  float64\n",
            " 6   start station longitude  224736 non-null  float64\n",
            " 7   end station id           224736 non-null  int64  \n",
            " 8   end station name         224736 non-null  object \n",
            " 9   end station latitude     224736 non-null  float64\n",
            " 10  end station longitude    224736 non-null  float64\n",
            " 11  bikeid                   224736 non-null  int64  \n",
            " 12  usertype                 224736 non-null  object \n",
            " 13  birth year               224736 non-null  object \n",
            " 14  gender                   224736 non-null  int64  \n",
            "dtypes: float64(4), int64(5), object(6)\n",
            "memory usage: 25.7+ MB\n"
          ]
        }
      ],
      "source": [
        "df.info()"
      ]
    },
    {
      "cell_type": "markdown",
      "source": [
        "Max Trip duration is 766108 sec which seems like a long amount of time for a bike rental. "
      ],
      "metadata": {
        "id": "HNI4jwIakqeL"
      }
    },
    {
      "cell_type": "code",
      "execution_count": null,
      "metadata": {
        "colab": {
          "base_uri": "https://localhost:8080/"
        },
        "id": "DDKNp2ihj2J7",
        "outputId": "408667df-9876-4e03-c789-fc429d0e2606"
      },
      "outputs": [
        {
          "output_type": "stream",
          "name": "stdout",
          "text": [
            "12768.466666666667\n"
          ]
        }
      ],
      "source": [
        "seconds = 766108\n",
        "minutes = seconds / 60\n",
        "print(minutes)\n"
      ]
    },
    {
      "cell_type": "markdown",
      "source": [
        "The mean trip duration is 15 minutes. "
      ],
      "metadata": {
        "id": "1eWqjJMXliyN"
      }
    },
    {
      "cell_type": "code",
      "source": [
        "seconds = 874\n",
        "minutes = seconds / 60\n",
        "print(minutes)\n"
      ],
      "metadata": {
        "colab": {
          "base_uri": "https://localhost:8080/"
        },
        "id": "hZjnG9ffleny",
        "outputId": "7d0d4c11-d90b-4a9d-b3cd-5bf25c079bbf"
      },
      "execution_count": null,
      "outputs": [
        {
          "output_type": "stream",
          "name": "stdout",
          "text": [
            "14.566666666666666\n"
          ]
        }
      ]
    },
    {
      "cell_type": "markdown",
      "source": [
        "Convert trip duration from seconds to hours."
      ],
      "metadata": {
        "id": "dXtpymahntiB"
      }
    },
    {
      "cell_type": "code",
      "source": [
        "\n",
        "df['tripduration'] = df['tripduration'] / 3600\n",
        "\n",
        "print(df['tripduration'])\n",
        "\n"
      ],
      "metadata": {
        "colab": {
          "base_uri": "https://localhost:8080/"
        },
        "id": "pYVdX7pcm37I",
        "outputId": "3c1f2a35-d5da-4444-e47d-464b2dba1937"
      },
      "execution_count": null,
      "outputs": [
        {
          "output_type": "stream",
          "name": "stdout",
          "text": [
            "0         0.106111\n",
            "1         0.103333\n",
            "2         0.164167\n",
            "3         0.161944\n",
            "4         0.061944\n",
            "            ...   \n",
            "224731    0.235556\n",
            "224732    0.376389\n",
            "224733    0.084444\n",
            "224734    0.085556\n",
            "224735    0.167500\n",
            "Name: tripduration, Length: 224736, dtype: float64\n"
          ]
        }
      ]
    },
    {
      "cell_type": "markdown",
      "source": [],
      "metadata": {
        "id": "oLOltIQHoITk"
      }
    },
    {
      "cell_type": "code",
      "source": [
        "df.describe()"
      ],
      "metadata": {
        "colab": {
          "base_uri": "https://localhost:8080/",
          "height": 300
        },
        "id": "FtuhrTHCoHG3",
        "outputId": "4221fa6d-7d09-4d20-aa6b-a3c93443f1b4"
      },
      "execution_count": null,
      "outputs": [
        {
          "output_type": "execute_result",
          "data": {
            "text/plain": [
              "        tripduration  start station id  start station latitude  \\\n",
              "count  224736.000000     224736.000000           224736.000000   \n",
              "mean        0.242922        439.203479               40.734366   \n",
              "std         1.523915        335.723861                0.019031   \n",
              "min         0.016667         72.000000               40.680342   \n",
              "25%         0.100000        305.000000               40.721854   \n",
              "50%         0.151111        403.000000               40.736197   \n",
              "75%         0.234722        490.000000               40.749156   \n",
              "max       212.807778       3002.000000               40.770513   \n",
              "\n",
              "       start station longitude  end station id  end station latitude  \\\n",
              "count            224736.000000   224736.000000         224736.000000   \n",
              "mean                -73.990386      440.741995             40.734221   \n",
              "std                   0.011853      341.497433              0.019048   \n",
              "min                 -74.017134       72.000000             40.680342   \n",
              "25%                 -73.998522      305.000000             40.721816   \n",
              "50%                 -73.990617      403.000000             40.735877   \n",
              "75%                 -73.981918      488.000000             40.749013   \n",
              "max                 -73.950048     3002.000000             40.770513   \n",
              "\n",
              "       end station longitude         bikeid         gender  \n",
              "count          224736.000000  224736.000000  224736.000000  \n",
              "mean              -73.990521   18010.598222       1.154617  \n",
              "std                 0.011920    1987.769335       0.436592  \n",
              "min               -74.017134   14529.000000       0.000000  \n",
              "25%               -73.999061   16302.000000       1.000000  \n",
              "50%               -73.990741   17975.000000       1.000000  \n",
              "75%               -73.981948   19689.000000       1.000000  \n",
              "max               -73.950048   21542.000000       2.000000  "
            ],
            "text/html": [
              "\n",
              "  <div id=\"df-7c35d943-1662-45ab-a389-ee5e4307582f\">\n",
              "    <div class=\"colab-df-container\">\n",
              "      <div>\n",
              "<style scoped>\n",
              "    .dataframe tbody tr th:only-of-type {\n",
              "        vertical-align: middle;\n",
              "    }\n",
              "\n",
              "    .dataframe tbody tr th {\n",
              "        vertical-align: top;\n",
              "    }\n",
              "\n",
              "    .dataframe thead th {\n",
              "        text-align: right;\n",
              "    }\n",
              "</style>\n",
              "<table border=\"1\" class=\"dataframe\">\n",
              "  <thead>\n",
              "    <tr style=\"text-align: right;\">\n",
              "      <th></th>\n",
              "      <th>tripduration</th>\n",
              "      <th>start station id</th>\n",
              "      <th>start station latitude</th>\n",
              "      <th>start station longitude</th>\n",
              "      <th>end station id</th>\n",
              "      <th>end station latitude</th>\n",
              "      <th>end station longitude</th>\n",
              "      <th>bikeid</th>\n",
              "      <th>gender</th>\n",
              "    </tr>\n",
              "  </thead>\n",
              "  <tbody>\n",
              "    <tr>\n",
              "      <th>count</th>\n",
              "      <td>224736.000000</td>\n",
              "      <td>224736.000000</td>\n",
              "      <td>224736.000000</td>\n",
              "      <td>224736.000000</td>\n",
              "      <td>224736.000000</td>\n",
              "      <td>224736.000000</td>\n",
              "      <td>224736.000000</td>\n",
              "      <td>224736.000000</td>\n",
              "      <td>224736.000000</td>\n",
              "    </tr>\n",
              "    <tr>\n",
              "      <th>mean</th>\n",
              "      <td>0.242922</td>\n",
              "      <td>439.203479</td>\n",
              "      <td>40.734366</td>\n",
              "      <td>-73.990386</td>\n",
              "      <td>440.741995</td>\n",
              "      <td>40.734221</td>\n",
              "      <td>-73.990521</td>\n",
              "      <td>18010.598222</td>\n",
              "      <td>1.154617</td>\n",
              "    </tr>\n",
              "    <tr>\n",
              "      <th>std</th>\n",
              "      <td>1.523915</td>\n",
              "      <td>335.723861</td>\n",
              "      <td>0.019031</td>\n",
              "      <td>0.011853</td>\n",
              "      <td>341.497433</td>\n",
              "      <td>0.019048</td>\n",
              "      <td>0.011920</td>\n",
              "      <td>1987.769335</td>\n",
              "      <td>0.436592</td>\n",
              "    </tr>\n",
              "    <tr>\n",
              "      <th>min</th>\n",
              "      <td>0.016667</td>\n",
              "      <td>72.000000</td>\n",
              "      <td>40.680342</td>\n",
              "      <td>-74.017134</td>\n",
              "      <td>72.000000</td>\n",
              "      <td>40.680342</td>\n",
              "      <td>-74.017134</td>\n",
              "      <td>14529.000000</td>\n",
              "      <td>0.000000</td>\n",
              "    </tr>\n",
              "    <tr>\n",
              "      <th>25%</th>\n",
              "      <td>0.100000</td>\n",
              "      <td>305.000000</td>\n",
              "      <td>40.721854</td>\n",
              "      <td>-73.998522</td>\n",
              "      <td>305.000000</td>\n",
              "      <td>40.721816</td>\n",
              "      <td>-73.999061</td>\n",
              "      <td>16302.000000</td>\n",
              "      <td>1.000000</td>\n",
              "    </tr>\n",
              "    <tr>\n",
              "      <th>50%</th>\n",
              "      <td>0.151111</td>\n",
              "      <td>403.000000</td>\n",
              "      <td>40.736197</td>\n",
              "      <td>-73.990617</td>\n",
              "      <td>403.000000</td>\n",
              "      <td>40.735877</td>\n",
              "      <td>-73.990741</td>\n",
              "      <td>17975.000000</td>\n",
              "      <td>1.000000</td>\n",
              "    </tr>\n",
              "    <tr>\n",
              "      <th>75%</th>\n",
              "      <td>0.234722</td>\n",
              "      <td>490.000000</td>\n",
              "      <td>40.749156</td>\n",
              "      <td>-73.981918</td>\n",
              "      <td>488.000000</td>\n",
              "      <td>40.749013</td>\n",
              "      <td>-73.981948</td>\n",
              "      <td>19689.000000</td>\n",
              "      <td>1.000000</td>\n",
              "    </tr>\n",
              "    <tr>\n",
              "      <th>max</th>\n",
              "      <td>212.807778</td>\n",
              "      <td>3002.000000</td>\n",
              "      <td>40.770513</td>\n",
              "      <td>-73.950048</td>\n",
              "      <td>3002.000000</td>\n",
              "      <td>40.770513</td>\n",
              "      <td>-73.950048</td>\n",
              "      <td>21542.000000</td>\n",
              "      <td>2.000000</td>\n",
              "    </tr>\n",
              "  </tbody>\n",
              "</table>\n",
              "</div>\n",
              "      <button class=\"colab-df-convert\" onclick=\"convertToInteractive('df-7c35d943-1662-45ab-a389-ee5e4307582f')\"\n",
              "              title=\"Convert this dataframe to an interactive table.\"\n",
              "              style=\"display:none;\">\n",
              "        \n",
              "  <svg xmlns=\"http://www.w3.org/2000/svg\" height=\"24px\"viewBox=\"0 0 24 24\"\n",
              "       width=\"24px\">\n",
              "    <path d=\"M0 0h24v24H0V0z\" fill=\"none\"/>\n",
              "    <path d=\"M18.56 5.44l.94 2.06.94-2.06 2.06-.94-2.06-.94-.94-2.06-.94 2.06-2.06.94zm-11 1L8.5 8.5l.94-2.06 2.06-.94-2.06-.94L8.5 2.5l-.94 2.06-2.06.94zm10 10l.94 2.06.94-2.06 2.06-.94-2.06-.94-.94-2.06-.94 2.06-2.06.94z\"/><path d=\"M17.41 7.96l-1.37-1.37c-.4-.4-.92-.59-1.43-.59-.52 0-1.04.2-1.43.59L10.3 9.45l-7.72 7.72c-.78.78-.78 2.05 0 2.83L4 21.41c.39.39.9.59 1.41.59.51 0 1.02-.2 1.41-.59l7.78-7.78 2.81-2.81c.8-.78.8-2.07 0-2.86zM5.41 20L4 18.59l7.72-7.72 1.47 1.35L5.41 20z\"/>\n",
              "  </svg>\n",
              "      </button>\n",
              "      \n",
              "  <style>\n",
              "    .colab-df-container {\n",
              "      display:flex;\n",
              "      flex-wrap:wrap;\n",
              "      gap: 12px;\n",
              "    }\n",
              "\n",
              "    .colab-df-convert {\n",
              "      background-color: #E8F0FE;\n",
              "      border: none;\n",
              "      border-radius: 50%;\n",
              "      cursor: pointer;\n",
              "      display: none;\n",
              "      fill: #1967D2;\n",
              "      height: 32px;\n",
              "      padding: 0 0 0 0;\n",
              "      width: 32px;\n",
              "    }\n",
              "\n",
              "    .colab-df-convert:hover {\n",
              "      background-color: #E2EBFA;\n",
              "      box-shadow: 0px 1px 2px rgba(60, 64, 67, 0.3), 0px 1px 3px 1px rgba(60, 64, 67, 0.15);\n",
              "      fill: #174EA6;\n",
              "    }\n",
              "\n",
              "    [theme=dark] .colab-df-convert {\n",
              "      background-color: #3B4455;\n",
              "      fill: #D2E3FC;\n",
              "    }\n",
              "\n",
              "    [theme=dark] .colab-df-convert:hover {\n",
              "      background-color: #434B5C;\n",
              "      box-shadow: 0px 1px 3px 1px rgba(0, 0, 0, 0.15);\n",
              "      filter: drop-shadow(0px 1px 2px rgba(0, 0, 0, 0.3));\n",
              "      fill: #FFFFFF;\n",
              "    }\n",
              "  </style>\n",
              "\n",
              "      <script>\n",
              "        const buttonEl =\n",
              "          document.querySelector('#df-7c35d943-1662-45ab-a389-ee5e4307582f button.colab-df-convert');\n",
              "        buttonEl.style.display =\n",
              "          google.colab.kernel.accessAllowed ? 'block' : 'none';\n",
              "\n",
              "        async function convertToInteractive(key) {\n",
              "          const element = document.querySelector('#df-7c35d943-1662-45ab-a389-ee5e4307582f');\n",
              "          const dataTable =\n",
              "            await google.colab.kernel.invokeFunction('convertToInteractive',\n",
              "                                                     [key], {});\n",
              "          if (!dataTable) return;\n",
              "\n",
              "          const docLinkHtml = 'Like what you see? Visit the ' +\n",
              "            '<a target=\"_blank\" href=https://colab.research.google.com/notebooks/data_table.ipynb>data table notebook</a>'\n",
              "            + ' to learn more about interactive tables.';\n",
              "          element.innerHTML = '';\n",
              "          dataTable['output_type'] = 'display_data';\n",
              "          await google.colab.output.renderOutput(dataTable, element);\n",
              "          const docLink = document.createElement('div');\n",
              "          docLink.innerHTML = docLinkHtml;\n",
              "          element.appendChild(docLink);\n",
              "        }\n",
              "      </script>\n",
              "    </div>\n",
              "  </div>\n",
              "  "
            ]
          },
          "metadata": {},
          "execution_count": 9
        }
      ]
    },
    {
      "cell_type": "code",
      "source": [
        "\n",
        "tripduration_column = df['tripduration']\n",
        "sorted_tripduration_column = tripduration_column.sort_values(ascending=False)\n",
        "\n",
        "print(sorted_tripduration_column)\n"
      ],
      "metadata": {
        "colab": {
          "base_uri": "https://localhost:8080/"
        },
        "id": "5LwEGOyQojAg",
        "outputId": "2bc076c3-0af0-43a8-e703-83a645a03617"
      },
      "execution_count": null,
      "outputs": [
        {
          "output_type": "stream",
          "name": "stdout",
          "text": [
            "60093     212.807778\n",
            "74460     163.943333\n",
            "91489     162.578056\n",
            "85316     161.305556\n",
            "91100     141.597222\n",
            "             ...    \n",
            "22893       0.016667\n",
            "141361      0.016667\n",
            "18969       0.016667\n",
            "156078      0.016667\n",
            "53202       0.016667\n",
            "Name: tripduration, Length: 224736, dtype: float64\n"
          ]
        }
      ]
    },
    {
      "cell_type": "markdown",
      "source": [
        "Sum of trips greater than 3 hours. Remove those trips from dataframe. "
      ],
      "metadata": {
        "id": "visk98yhpiqQ"
      }
    },
    {
      "cell_type": "code",
      "source": [
        "\n",
        "count_tripduration_gt_3h = (df['tripduration'] > 3).sum()\n",
        "\n",
        "print(count_tripduration_gt_3h)\n"
      ],
      "metadata": {
        "colab": {
          "base_uri": "https://localhost:8080/"
        },
        "id": "z-brxcnwony6",
        "outputId": "6f0c4b59-db5e-40bd-dd29-3b395f7a1309"
      },
      "execution_count": null,
      "outputs": [
        {
          "output_type": "stream",
          "name": "stdout",
          "text": [
            "675\n"
          ]
        }
      ]
    },
    {
      "cell_type": "code",
      "source": [
        "\n",
        "df = df[df['tripduration'] <= 3]\n",
        "\n",
        "print(df)\n"
      ],
      "metadata": {
        "id": "jSq4SSQFp5gj"
      },
      "execution_count": null,
      "outputs": []
    },
    {
      "cell_type": "code",
      "source": [
        "df.describe()"
      ],
      "metadata": {
        "colab": {
          "base_uri": "https://localhost:8080/",
          "height": 300
        },
        "id": "V_jlhA8jqFsf",
        "outputId": "66740ea3-189c-42a7-b4d5-4f704d85c22f"
      },
      "execution_count": null,
      "outputs": [
        {
          "output_type": "execute_result",
          "data": {
            "text/plain": [
              "        tripduration  start station id  start station latitude  \\\n",
              "count  224061.000000     224061.000000           224061.000000   \n",
              "mean        0.194363        439.170101               40.734369   \n",
              "std         0.170309        335.681307                0.019023   \n",
              "min         0.016667         72.000000               40.680342   \n",
              "25%         0.099722        305.000000               40.721854   \n",
              "50%         0.150833        403.000000               40.736197   \n",
              "75%         0.233611        490.000000               40.749156   \n",
              "max         2.985278       3002.000000               40.770513   \n",
              "\n",
              "       start station longitude  end station id  end station latitude  \\\n",
              "count            224061.000000   224061.000000         224061.000000   \n",
              "mean                -73.990386      440.699399             40.734224   \n",
              "std                   0.011849      341.431051              0.019040   \n",
              "min                 -74.017134       72.000000             40.680342   \n",
              "25%                 -73.998522      305.000000             40.721816   \n",
              "50%                 -73.990617      403.000000             40.735877   \n",
              "75%                 -73.981918      488.000000             40.749013   \n",
              "max                 -73.950048     3002.000000             40.770513   \n",
              "\n",
              "       end station longitude         bikeid         gender  \n",
              "count          224061.000000  224061.000000  224061.000000  \n",
              "mean              -73.990521   18010.842338       1.154681  \n",
              "std                 0.011917    1987.722510       0.436298  \n",
              "min               -74.017134   14529.000000       0.000000  \n",
              "25%               -73.999061   16302.000000       1.000000  \n",
              "50%               -73.990741   17976.000000       1.000000  \n",
              "75%               -73.981948   19689.000000       1.000000  \n",
              "max               -73.950048   21542.000000       2.000000  "
            ],
            "text/html": [
              "\n",
              "  <div id=\"df-f1a5b7ca-10c7-4f4f-9a2f-52cc66b361ba\">\n",
              "    <div class=\"colab-df-container\">\n",
              "      <div>\n",
              "<style scoped>\n",
              "    .dataframe tbody tr th:only-of-type {\n",
              "        vertical-align: middle;\n",
              "    }\n",
              "\n",
              "    .dataframe tbody tr th {\n",
              "        vertical-align: top;\n",
              "    }\n",
              "\n",
              "    .dataframe thead th {\n",
              "        text-align: right;\n",
              "    }\n",
              "</style>\n",
              "<table border=\"1\" class=\"dataframe\">\n",
              "  <thead>\n",
              "    <tr style=\"text-align: right;\">\n",
              "      <th></th>\n",
              "      <th>tripduration</th>\n",
              "      <th>start station id</th>\n",
              "      <th>start station latitude</th>\n",
              "      <th>start station longitude</th>\n",
              "      <th>end station id</th>\n",
              "      <th>end station latitude</th>\n",
              "      <th>end station longitude</th>\n",
              "      <th>bikeid</th>\n",
              "      <th>gender</th>\n",
              "    </tr>\n",
              "  </thead>\n",
              "  <tbody>\n",
              "    <tr>\n",
              "      <th>count</th>\n",
              "      <td>224061.000000</td>\n",
              "      <td>224061.000000</td>\n",
              "      <td>224061.000000</td>\n",
              "      <td>224061.000000</td>\n",
              "      <td>224061.000000</td>\n",
              "      <td>224061.000000</td>\n",
              "      <td>224061.000000</td>\n",
              "      <td>224061.000000</td>\n",
              "      <td>224061.000000</td>\n",
              "    </tr>\n",
              "    <tr>\n",
              "      <th>mean</th>\n",
              "      <td>0.194363</td>\n",
              "      <td>439.170101</td>\n",
              "      <td>40.734369</td>\n",
              "      <td>-73.990386</td>\n",
              "      <td>440.699399</td>\n",
              "      <td>40.734224</td>\n",
              "      <td>-73.990521</td>\n",
              "      <td>18010.842338</td>\n",
              "      <td>1.154681</td>\n",
              "    </tr>\n",
              "    <tr>\n",
              "      <th>std</th>\n",
              "      <td>0.170309</td>\n",
              "      <td>335.681307</td>\n",
              "      <td>0.019023</td>\n",
              "      <td>0.011849</td>\n",
              "      <td>341.431051</td>\n",
              "      <td>0.019040</td>\n",
              "      <td>0.011917</td>\n",
              "      <td>1987.722510</td>\n",
              "      <td>0.436298</td>\n",
              "    </tr>\n",
              "    <tr>\n",
              "      <th>min</th>\n",
              "      <td>0.016667</td>\n",
              "      <td>72.000000</td>\n",
              "      <td>40.680342</td>\n",
              "      <td>-74.017134</td>\n",
              "      <td>72.000000</td>\n",
              "      <td>40.680342</td>\n",
              "      <td>-74.017134</td>\n",
              "      <td>14529.000000</td>\n",
              "      <td>0.000000</td>\n",
              "    </tr>\n",
              "    <tr>\n",
              "      <th>25%</th>\n",
              "      <td>0.099722</td>\n",
              "      <td>305.000000</td>\n",
              "      <td>40.721854</td>\n",
              "      <td>-73.998522</td>\n",
              "      <td>305.000000</td>\n",
              "      <td>40.721816</td>\n",
              "      <td>-73.999061</td>\n",
              "      <td>16302.000000</td>\n",
              "      <td>1.000000</td>\n",
              "    </tr>\n",
              "    <tr>\n",
              "      <th>50%</th>\n",
              "      <td>0.150833</td>\n",
              "      <td>403.000000</td>\n",
              "      <td>40.736197</td>\n",
              "      <td>-73.990617</td>\n",
              "      <td>403.000000</td>\n",
              "      <td>40.735877</td>\n",
              "      <td>-73.990741</td>\n",
              "      <td>17976.000000</td>\n",
              "      <td>1.000000</td>\n",
              "    </tr>\n",
              "    <tr>\n",
              "      <th>75%</th>\n",
              "      <td>0.233611</td>\n",
              "      <td>490.000000</td>\n",
              "      <td>40.749156</td>\n",
              "      <td>-73.981918</td>\n",
              "      <td>488.000000</td>\n",
              "      <td>40.749013</td>\n",
              "      <td>-73.981948</td>\n",
              "      <td>19689.000000</td>\n",
              "      <td>1.000000</td>\n",
              "    </tr>\n",
              "    <tr>\n",
              "      <th>max</th>\n",
              "      <td>2.985278</td>\n",
              "      <td>3002.000000</td>\n",
              "      <td>40.770513</td>\n",
              "      <td>-73.950048</td>\n",
              "      <td>3002.000000</td>\n",
              "      <td>40.770513</td>\n",
              "      <td>-73.950048</td>\n",
              "      <td>21542.000000</td>\n",
              "      <td>2.000000</td>\n",
              "    </tr>\n",
              "  </tbody>\n",
              "</table>\n",
              "</div>\n",
              "      <button class=\"colab-df-convert\" onclick=\"convertToInteractive('df-f1a5b7ca-10c7-4f4f-9a2f-52cc66b361ba')\"\n",
              "              title=\"Convert this dataframe to an interactive table.\"\n",
              "              style=\"display:none;\">\n",
              "        \n",
              "  <svg xmlns=\"http://www.w3.org/2000/svg\" height=\"24px\"viewBox=\"0 0 24 24\"\n",
              "       width=\"24px\">\n",
              "    <path d=\"M0 0h24v24H0V0z\" fill=\"none\"/>\n",
              "    <path d=\"M18.56 5.44l.94 2.06.94-2.06 2.06-.94-2.06-.94-.94-2.06-.94 2.06-2.06.94zm-11 1L8.5 8.5l.94-2.06 2.06-.94-2.06-.94L8.5 2.5l-.94 2.06-2.06.94zm10 10l.94 2.06.94-2.06 2.06-.94-2.06-.94-.94-2.06-.94 2.06-2.06.94z\"/><path d=\"M17.41 7.96l-1.37-1.37c-.4-.4-.92-.59-1.43-.59-.52 0-1.04.2-1.43.59L10.3 9.45l-7.72 7.72c-.78.78-.78 2.05 0 2.83L4 21.41c.39.39.9.59 1.41.59.51 0 1.02-.2 1.41-.59l7.78-7.78 2.81-2.81c.8-.78.8-2.07 0-2.86zM5.41 20L4 18.59l7.72-7.72 1.47 1.35L5.41 20z\"/>\n",
              "  </svg>\n",
              "      </button>\n",
              "      \n",
              "  <style>\n",
              "    .colab-df-container {\n",
              "      display:flex;\n",
              "      flex-wrap:wrap;\n",
              "      gap: 12px;\n",
              "    }\n",
              "\n",
              "    .colab-df-convert {\n",
              "      background-color: #E8F0FE;\n",
              "      border: none;\n",
              "      border-radius: 50%;\n",
              "      cursor: pointer;\n",
              "      display: none;\n",
              "      fill: #1967D2;\n",
              "      height: 32px;\n",
              "      padding: 0 0 0 0;\n",
              "      width: 32px;\n",
              "    }\n",
              "\n",
              "    .colab-df-convert:hover {\n",
              "      background-color: #E2EBFA;\n",
              "      box-shadow: 0px 1px 2px rgba(60, 64, 67, 0.3), 0px 1px 3px 1px rgba(60, 64, 67, 0.15);\n",
              "      fill: #174EA6;\n",
              "    }\n",
              "\n",
              "    [theme=dark] .colab-df-convert {\n",
              "      background-color: #3B4455;\n",
              "      fill: #D2E3FC;\n",
              "    }\n",
              "\n",
              "    [theme=dark] .colab-df-convert:hover {\n",
              "      background-color: #434B5C;\n",
              "      box-shadow: 0px 1px 3px 1px rgba(0, 0, 0, 0.15);\n",
              "      filter: drop-shadow(0px 1px 2px rgba(0, 0, 0, 0.3));\n",
              "      fill: #FFFFFF;\n",
              "    }\n",
              "  </style>\n",
              "\n",
              "      <script>\n",
              "        const buttonEl =\n",
              "          document.querySelector('#df-f1a5b7ca-10c7-4f4f-9a2f-52cc66b361ba button.colab-df-convert');\n",
              "        buttonEl.style.display =\n",
              "          google.colab.kernel.accessAllowed ? 'block' : 'none';\n",
              "\n",
              "        async function convertToInteractive(key) {\n",
              "          const element = document.querySelector('#df-f1a5b7ca-10c7-4f4f-9a2f-52cc66b361ba');\n",
              "          const dataTable =\n",
              "            await google.colab.kernel.invokeFunction('convertToInteractive',\n",
              "                                                     [key], {});\n",
              "          if (!dataTable) return;\n",
              "\n",
              "          const docLinkHtml = 'Like what you see? Visit the ' +\n",
              "            '<a target=\"_blank\" href=https://colab.research.google.com/notebooks/data_table.ipynb>data table notebook</a>'\n",
              "            + ' to learn more about interactive tables.';\n",
              "          element.innerHTML = '';\n",
              "          dataTable['output_type'] = 'display_data';\n",
              "          await google.colab.output.renderOutput(dataTable, element);\n",
              "          const docLink = document.createElement('div');\n",
              "          docLink.innerHTML = docLinkHtml;\n",
              "          element.appendChild(docLink);\n",
              "        }\n",
              "      </script>\n",
              "    </div>\n",
              "  </div>\n",
              "  "
            ]
          },
          "metadata": {},
          "execution_count": 13
        }
      ]
    },
    {
      "cell_type": "code",
      "source": [
        "df.isnull().sum()"
      ],
      "metadata": {
        "colab": {
          "base_uri": "https://localhost:8080/"
        },
        "id": "QyuFeH3NqJ1C",
        "outputId": "70788e75-277c-49c7-fcf6-a487f251603f"
      },
      "execution_count": null,
      "outputs": [
        {
          "output_type": "execute_result",
          "data": {
            "text/plain": [
              "tripduration               0\n",
              "starttime                  0\n",
              "stoptime                   0\n",
              "start station id           0\n",
              "start station name         0\n",
              "start station latitude     0\n",
              "start station longitude    0\n",
              "end station id             0\n",
              "end station name           0\n",
              "end station latitude       0\n",
              "end station longitude      0\n",
              "bikeid                     0\n",
              "usertype                   0\n",
              "birth year                 0\n",
              "gender                     0\n",
              "dtype: int64"
            ]
          },
          "metadata": {},
          "execution_count": 14
        }
      ]
    },
    {
      "cell_type": "markdown",
      "source": [
        "Look at birth year column. Convert from object to float (initial calculation to create age column errored. View NANs."
      ],
      "metadata": {
        "id": "dJvC20ggqK-i"
      }
    },
    {
      "cell_type": "code",
      "source": [
        "#used this site to force na's and convert column to numeric values https://pbpython.com/pandas_dtypes.html\n",
        "\n",
        "# Replace non-numeric values with NaN\n",
        "df['birth year'] = pd.to_numeric(df['birth year'], errors='coerce')\n",
        "df.head()"
      ],
      "metadata": {
        "colab": {
          "base_uri": "https://localhost:8080/",
          "height": 354
        },
        "id": "_Fjv6m29qZ50",
        "outputId": "9b9e70de-964e-4eb4-a08a-ed9189bf5108"
      },
      "execution_count": null,
      "outputs": [
        {
          "output_type": "execute_result",
          "data": {
            "text/plain": [
              "   tripduration            starttime             stoptime  start station id  \\\n",
              "0      0.106111  2014-02-01 00:00:00  2014-02-01 00:06:22               294   \n",
              "1      0.103333  2014-02-01 00:00:03  2014-02-01 00:06:15               285   \n",
              "2      0.164167  2014-02-01 00:00:09  2014-02-01 00:10:00               247   \n",
              "3      0.161944  2014-02-01 00:00:32  2014-02-01 00:10:15               357   \n",
              "4      0.061944  2014-02-01 00:00:41  2014-02-01 00:04:24               401   \n",
              "\n",
              "        start station name  start station latitude  start station longitude  \\\n",
              "0      Washington Square E               40.730494               -73.995721   \n",
              "1       Broadway & E 14 St               40.734546               -73.990741   \n",
              "2   Perry St & Bleecker St               40.735354               -74.004831   \n",
              "3       E 11 St & Broadway               40.732618               -73.991580   \n",
              "4  Allen St & Rivington St               40.720196               -73.989978   \n",
              "\n",
              "   end station id          end station name  end station latitude  \\\n",
              "0             265  Stanton St & Chrystie St             40.722293   \n",
              "1             439            E 4 St & 2 Ave             40.726281   \n",
              "2             251       Mott St & Prince St             40.723180   \n",
              "3             284     Greenwich Ave & 8 Ave             40.739017   \n",
              "4             439            E 4 St & 2 Ave             40.726281   \n",
              "\n",
              "   end station longitude  bikeid    usertype  birth year  gender  \n",
              "0             -73.991475   21101  Subscriber      1991.0       1  \n",
              "1             -73.989780   15456  Subscriber      1979.0       2  \n",
              "2             -73.994800   16281  Subscriber      1948.0       2  \n",
              "3             -74.002638   17400  Subscriber      1981.0       1  \n",
              "4             -73.989780   19341  Subscriber      1990.0       1  "
            ],
            "text/html": [
              "\n",
              "  <div id=\"df-6b7791c9-f2ae-4e0f-80af-f986455a4ab6\">\n",
              "    <div class=\"colab-df-container\">\n",
              "      <div>\n",
              "<style scoped>\n",
              "    .dataframe tbody tr th:only-of-type {\n",
              "        vertical-align: middle;\n",
              "    }\n",
              "\n",
              "    .dataframe tbody tr th {\n",
              "        vertical-align: top;\n",
              "    }\n",
              "\n",
              "    .dataframe thead th {\n",
              "        text-align: right;\n",
              "    }\n",
              "</style>\n",
              "<table border=\"1\" class=\"dataframe\">\n",
              "  <thead>\n",
              "    <tr style=\"text-align: right;\">\n",
              "      <th></th>\n",
              "      <th>tripduration</th>\n",
              "      <th>starttime</th>\n",
              "      <th>stoptime</th>\n",
              "      <th>start station id</th>\n",
              "      <th>start station name</th>\n",
              "      <th>start station latitude</th>\n",
              "      <th>start station longitude</th>\n",
              "      <th>end station id</th>\n",
              "      <th>end station name</th>\n",
              "      <th>end station latitude</th>\n",
              "      <th>end station longitude</th>\n",
              "      <th>bikeid</th>\n",
              "      <th>usertype</th>\n",
              "      <th>birth year</th>\n",
              "      <th>gender</th>\n",
              "    </tr>\n",
              "  </thead>\n",
              "  <tbody>\n",
              "    <tr>\n",
              "      <th>0</th>\n",
              "      <td>0.106111</td>\n",
              "      <td>2014-02-01 00:00:00</td>\n",
              "      <td>2014-02-01 00:06:22</td>\n",
              "      <td>294</td>\n",
              "      <td>Washington Square E</td>\n",
              "      <td>40.730494</td>\n",
              "      <td>-73.995721</td>\n",
              "      <td>265</td>\n",
              "      <td>Stanton St &amp; Chrystie St</td>\n",
              "      <td>40.722293</td>\n",
              "      <td>-73.991475</td>\n",
              "      <td>21101</td>\n",
              "      <td>Subscriber</td>\n",
              "      <td>1991.0</td>\n",
              "      <td>1</td>\n",
              "    </tr>\n",
              "    <tr>\n",
              "      <th>1</th>\n",
              "      <td>0.103333</td>\n",
              "      <td>2014-02-01 00:00:03</td>\n",
              "      <td>2014-02-01 00:06:15</td>\n",
              "      <td>285</td>\n",
              "      <td>Broadway &amp; E 14 St</td>\n",
              "      <td>40.734546</td>\n",
              "      <td>-73.990741</td>\n",
              "      <td>439</td>\n",
              "      <td>E 4 St &amp; 2 Ave</td>\n",
              "      <td>40.726281</td>\n",
              "      <td>-73.989780</td>\n",
              "      <td>15456</td>\n",
              "      <td>Subscriber</td>\n",
              "      <td>1979.0</td>\n",
              "      <td>2</td>\n",
              "    </tr>\n",
              "    <tr>\n",
              "      <th>2</th>\n",
              "      <td>0.164167</td>\n",
              "      <td>2014-02-01 00:00:09</td>\n",
              "      <td>2014-02-01 00:10:00</td>\n",
              "      <td>247</td>\n",
              "      <td>Perry St &amp; Bleecker St</td>\n",
              "      <td>40.735354</td>\n",
              "      <td>-74.004831</td>\n",
              "      <td>251</td>\n",
              "      <td>Mott St &amp; Prince St</td>\n",
              "      <td>40.723180</td>\n",
              "      <td>-73.994800</td>\n",
              "      <td>16281</td>\n",
              "      <td>Subscriber</td>\n",
              "      <td>1948.0</td>\n",
              "      <td>2</td>\n",
              "    </tr>\n",
              "    <tr>\n",
              "      <th>3</th>\n",
              "      <td>0.161944</td>\n",
              "      <td>2014-02-01 00:00:32</td>\n",
              "      <td>2014-02-01 00:10:15</td>\n",
              "      <td>357</td>\n",
              "      <td>E 11 St &amp; Broadway</td>\n",
              "      <td>40.732618</td>\n",
              "      <td>-73.991580</td>\n",
              "      <td>284</td>\n",
              "      <td>Greenwich Ave &amp; 8 Ave</td>\n",
              "      <td>40.739017</td>\n",
              "      <td>-74.002638</td>\n",
              "      <td>17400</td>\n",
              "      <td>Subscriber</td>\n",
              "      <td>1981.0</td>\n",
              "      <td>1</td>\n",
              "    </tr>\n",
              "    <tr>\n",
              "      <th>4</th>\n",
              "      <td>0.061944</td>\n",
              "      <td>2014-02-01 00:00:41</td>\n",
              "      <td>2014-02-01 00:04:24</td>\n",
              "      <td>401</td>\n",
              "      <td>Allen St &amp; Rivington St</td>\n",
              "      <td>40.720196</td>\n",
              "      <td>-73.989978</td>\n",
              "      <td>439</td>\n",
              "      <td>E 4 St &amp; 2 Ave</td>\n",
              "      <td>40.726281</td>\n",
              "      <td>-73.989780</td>\n",
              "      <td>19341</td>\n",
              "      <td>Subscriber</td>\n",
              "      <td>1990.0</td>\n",
              "      <td>1</td>\n",
              "    </tr>\n",
              "  </tbody>\n",
              "</table>\n",
              "</div>\n",
              "      <button class=\"colab-df-convert\" onclick=\"convertToInteractive('df-6b7791c9-f2ae-4e0f-80af-f986455a4ab6')\"\n",
              "              title=\"Convert this dataframe to an interactive table.\"\n",
              "              style=\"display:none;\">\n",
              "        \n",
              "  <svg xmlns=\"http://www.w3.org/2000/svg\" height=\"24px\"viewBox=\"0 0 24 24\"\n",
              "       width=\"24px\">\n",
              "    <path d=\"M0 0h24v24H0V0z\" fill=\"none\"/>\n",
              "    <path d=\"M18.56 5.44l.94 2.06.94-2.06 2.06-.94-2.06-.94-.94-2.06-.94 2.06-2.06.94zm-11 1L8.5 8.5l.94-2.06 2.06-.94-2.06-.94L8.5 2.5l-.94 2.06-2.06.94zm10 10l.94 2.06.94-2.06 2.06-.94-2.06-.94-.94-2.06-.94 2.06-2.06.94z\"/><path d=\"M17.41 7.96l-1.37-1.37c-.4-.4-.92-.59-1.43-.59-.52 0-1.04.2-1.43.59L10.3 9.45l-7.72 7.72c-.78.78-.78 2.05 0 2.83L4 21.41c.39.39.9.59 1.41.59.51 0 1.02-.2 1.41-.59l7.78-7.78 2.81-2.81c.8-.78.8-2.07 0-2.86zM5.41 20L4 18.59l7.72-7.72 1.47 1.35L5.41 20z\"/>\n",
              "  </svg>\n",
              "      </button>\n",
              "      \n",
              "  <style>\n",
              "    .colab-df-container {\n",
              "      display:flex;\n",
              "      flex-wrap:wrap;\n",
              "      gap: 12px;\n",
              "    }\n",
              "\n",
              "    .colab-df-convert {\n",
              "      background-color: #E8F0FE;\n",
              "      border: none;\n",
              "      border-radius: 50%;\n",
              "      cursor: pointer;\n",
              "      display: none;\n",
              "      fill: #1967D2;\n",
              "      height: 32px;\n",
              "      padding: 0 0 0 0;\n",
              "      width: 32px;\n",
              "    }\n",
              "\n",
              "    .colab-df-convert:hover {\n",
              "      background-color: #E2EBFA;\n",
              "      box-shadow: 0px 1px 2px rgba(60, 64, 67, 0.3), 0px 1px 3px 1px rgba(60, 64, 67, 0.15);\n",
              "      fill: #174EA6;\n",
              "    }\n",
              "\n",
              "    [theme=dark] .colab-df-convert {\n",
              "      background-color: #3B4455;\n",
              "      fill: #D2E3FC;\n",
              "    }\n",
              "\n",
              "    [theme=dark] .colab-df-convert:hover {\n",
              "      background-color: #434B5C;\n",
              "      box-shadow: 0px 1px 3px 1px rgba(0, 0, 0, 0.15);\n",
              "      filter: drop-shadow(0px 1px 2px rgba(0, 0, 0, 0.3));\n",
              "      fill: #FFFFFF;\n",
              "    }\n",
              "  </style>\n",
              "\n",
              "      <script>\n",
              "        const buttonEl =\n",
              "          document.querySelector('#df-6b7791c9-f2ae-4e0f-80af-f986455a4ab6 button.colab-df-convert');\n",
              "        buttonEl.style.display =\n",
              "          google.colab.kernel.accessAllowed ? 'block' : 'none';\n",
              "\n",
              "        async function convertToInteractive(key) {\n",
              "          const element = document.querySelector('#df-6b7791c9-f2ae-4e0f-80af-f986455a4ab6');\n",
              "          const dataTable =\n",
              "            await google.colab.kernel.invokeFunction('convertToInteractive',\n",
              "                                                     [key], {});\n",
              "          if (!dataTable) return;\n",
              "\n",
              "          const docLinkHtml = 'Like what you see? Visit the ' +\n",
              "            '<a target=\"_blank\" href=https://colab.research.google.com/notebooks/data_table.ipynb>data table notebook</a>'\n",
              "            + ' to learn more about interactive tables.';\n",
              "          element.innerHTML = '';\n",
              "          dataTable['output_type'] = 'display_data';\n",
              "          await google.colab.output.renderOutput(dataTable, element);\n",
              "          const docLink = document.createElement('div');\n",
              "          docLink.innerHTML = docLinkHtml;\n",
              "          element.appendChild(docLink);\n",
              "        }\n",
              "      </script>\n",
              "    </div>\n",
              "  </div>\n",
              "  "
            ]
          },
          "metadata": {},
          "execution_count": 15
        }
      ]
    },
    {
      "cell_type": "markdown",
      "source": [
        "After cleaning age column and creating age feature, view the ages in descending order to make sure dead people aren't riding the bikes. "
      ],
      "metadata": {
        "id": "V5BenfIdrwz_"
      }
    },
    {
      "cell_type": "code",
      "source": [
        "# Dropping NaN valaues\n",
        "df = df.dropna(subset=['birth year'])\n",
        "df.head()"
      ],
      "metadata": {
        "colab": {
          "base_uri": "https://localhost:8080/",
          "height": 354
        },
        "id": "l9Y1bVTSuhYr",
        "outputId": "192a16ac-1c87-4d2a-d967-2e568b74e4b1"
      },
      "execution_count": null,
      "outputs": [
        {
          "output_type": "execute_result",
          "data": {
            "text/plain": [
              "   tripduration            starttime             stoptime  start station id  \\\n",
              "0      0.106111  2014-02-01 00:00:00  2014-02-01 00:06:22               294   \n",
              "1      0.103333  2014-02-01 00:00:03  2014-02-01 00:06:15               285   \n",
              "2      0.164167  2014-02-01 00:00:09  2014-02-01 00:10:00               247   \n",
              "3      0.161944  2014-02-01 00:00:32  2014-02-01 00:10:15               357   \n",
              "4      0.061944  2014-02-01 00:00:41  2014-02-01 00:04:24               401   \n",
              "\n",
              "        start station name  start station latitude  start station longitude  \\\n",
              "0      Washington Square E               40.730494               -73.995721   \n",
              "1       Broadway & E 14 St               40.734546               -73.990741   \n",
              "2   Perry St & Bleecker St               40.735354               -74.004831   \n",
              "3       E 11 St & Broadway               40.732618               -73.991580   \n",
              "4  Allen St & Rivington St               40.720196               -73.989978   \n",
              "\n",
              "   end station id          end station name  end station latitude  \\\n",
              "0             265  Stanton St & Chrystie St             40.722293   \n",
              "1             439            E 4 St & 2 Ave             40.726281   \n",
              "2             251       Mott St & Prince St             40.723180   \n",
              "3             284     Greenwich Ave & 8 Ave             40.739017   \n",
              "4             439            E 4 St & 2 Ave             40.726281   \n",
              "\n",
              "   end station longitude  bikeid    usertype  birth year  gender  \n",
              "0             -73.991475   21101  Subscriber      1991.0       1  \n",
              "1             -73.989780   15456  Subscriber      1979.0       2  \n",
              "2             -73.994800   16281  Subscriber      1948.0       2  \n",
              "3             -74.002638   17400  Subscriber      1981.0       1  \n",
              "4             -73.989780   19341  Subscriber      1990.0       1  "
            ],
            "text/html": [
              "\n",
              "  <div id=\"df-320514cb-f725-4c5e-9ff2-0e118f726415\">\n",
              "    <div class=\"colab-df-container\">\n",
              "      <div>\n",
              "<style scoped>\n",
              "    .dataframe tbody tr th:only-of-type {\n",
              "        vertical-align: middle;\n",
              "    }\n",
              "\n",
              "    .dataframe tbody tr th {\n",
              "        vertical-align: top;\n",
              "    }\n",
              "\n",
              "    .dataframe thead th {\n",
              "        text-align: right;\n",
              "    }\n",
              "</style>\n",
              "<table border=\"1\" class=\"dataframe\">\n",
              "  <thead>\n",
              "    <tr style=\"text-align: right;\">\n",
              "      <th></th>\n",
              "      <th>tripduration</th>\n",
              "      <th>starttime</th>\n",
              "      <th>stoptime</th>\n",
              "      <th>start station id</th>\n",
              "      <th>start station name</th>\n",
              "      <th>start station latitude</th>\n",
              "      <th>start station longitude</th>\n",
              "      <th>end station id</th>\n",
              "      <th>end station name</th>\n",
              "      <th>end station latitude</th>\n",
              "      <th>end station longitude</th>\n",
              "      <th>bikeid</th>\n",
              "      <th>usertype</th>\n",
              "      <th>birth year</th>\n",
              "      <th>gender</th>\n",
              "    </tr>\n",
              "  </thead>\n",
              "  <tbody>\n",
              "    <tr>\n",
              "      <th>0</th>\n",
              "      <td>0.106111</td>\n",
              "      <td>2014-02-01 00:00:00</td>\n",
              "      <td>2014-02-01 00:06:22</td>\n",
              "      <td>294</td>\n",
              "      <td>Washington Square E</td>\n",
              "      <td>40.730494</td>\n",
              "      <td>-73.995721</td>\n",
              "      <td>265</td>\n",
              "      <td>Stanton St &amp; Chrystie St</td>\n",
              "      <td>40.722293</td>\n",
              "      <td>-73.991475</td>\n",
              "      <td>21101</td>\n",
              "      <td>Subscriber</td>\n",
              "      <td>1991.0</td>\n",
              "      <td>1</td>\n",
              "    </tr>\n",
              "    <tr>\n",
              "      <th>1</th>\n",
              "      <td>0.103333</td>\n",
              "      <td>2014-02-01 00:00:03</td>\n",
              "      <td>2014-02-01 00:06:15</td>\n",
              "      <td>285</td>\n",
              "      <td>Broadway &amp; E 14 St</td>\n",
              "      <td>40.734546</td>\n",
              "      <td>-73.990741</td>\n",
              "      <td>439</td>\n",
              "      <td>E 4 St &amp; 2 Ave</td>\n",
              "      <td>40.726281</td>\n",
              "      <td>-73.989780</td>\n",
              "      <td>15456</td>\n",
              "      <td>Subscriber</td>\n",
              "      <td>1979.0</td>\n",
              "      <td>2</td>\n",
              "    </tr>\n",
              "    <tr>\n",
              "      <th>2</th>\n",
              "      <td>0.164167</td>\n",
              "      <td>2014-02-01 00:00:09</td>\n",
              "      <td>2014-02-01 00:10:00</td>\n",
              "      <td>247</td>\n",
              "      <td>Perry St &amp; Bleecker St</td>\n",
              "      <td>40.735354</td>\n",
              "      <td>-74.004831</td>\n",
              "      <td>251</td>\n",
              "      <td>Mott St &amp; Prince St</td>\n",
              "      <td>40.723180</td>\n",
              "      <td>-73.994800</td>\n",
              "      <td>16281</td>\n",
              "      <td>Subscriber</td>\n",
              "      <td>1948.0</td>\n",
              "      <td>2</td>\n",
              "    </tr>\n",
              "    <tr>\n",
              "      <th>3</th>\n",
              "      <td>0.161944</td>\n",
              "      <td>2014-02-01 00:00:32</td>\n",
              "      <td>2014-02-01 00:10:15</td>\n",
              "      <td>357</td>\n",
              "      <td>E 11 St &amp; Broadway</td>\n",
              "      <td>40.732618</td>\n",
              "      <td>-73.991580</td>\n",
              "      <td>284</td>\n",
              "      <td>Greenwich Ave &amp; 8 Ave</td>\n",
              "      <td>40.739017</td>\n",
              "      <td>-74.002638</td>\n",
              "      <td>17400</td>\n",
              "      <td>Subscriber</td>\n",
              "      <td>1981.0</td>\n",
              "      <td>1</td>\n",
              "    </tr>\n",
              "    <tr>\n",
              "      <th>4</th>\n",
              "      <td>0.061944</td>\n",
              "      <td>2014-02-01 00:00:41</td>\n",
              "      <td>2014-02-01 00:04:24</td>\n",
              "      <td>401</td>\n",
              "      <td>Allen St &amp; Rivington St</td>\n",
              "      <td>40.720196</td>\n",
              "      <td>-73.989978</td>\n",
              "      <td>439</td>\n",
              "      <td>E 4 St &amp; 2 Ave</td>\n",
              "      <td>40.726281</td>\n",
              "      <td>-73.989780</td>\n",
              "      <td>19341</td>\n",
              "      <td>Subscriber</td>\n",
              "      <td>1990.0</td>\n",
              "      <td>1</td>\n",
              "    </tr>\n",
              "  </tbody>\n",
              "</table>\n",
              "</div>\n",
              "      <button class=\"colab-df-convert\" onclick=\"convertToInteractive('df-320514cb-f725-4c5e-9ff2-0e118f726415')\"\n",
              "              title=\"Convert this dataframe to an interactive table.\"\n",
              "              style=\"display:none;\">\n",
              "        \n",
              "  <svg xmlns=\"http://www.w3.org/2000/svg\" height=\"24px\"viewBox=\"0 0 24 24\"\n",
              "       width=\"24px\">\n",
              "    <path d=\"M0 0h24v24H0V0z\" fill=\"none\"/>\n",
              "    <path d=\"M18.56 5.44l.94 2.06.94-2.06 2.06-.94-2.06-.94-.94-2.06-.94 2.06-2.06.94zm-11 1L8.5 8.5l.94-2.06 2.06-.94-2.06-.94L8.5 2.5l-.94 2.06-2.06.94zm10 10l.94 2.06.94-2.06 2.06-.94-2.06-.94-.94-2.06-.94 2.06-2.06.94z\"/><path d=\"M17.41 7.96l-1.37-1.37c-.4-.4-.92-.59-1.43-.59-.52 0-1.04.2-1.43.59L10.3 9.45l-7.72 7.72c-.78.78-.78 2.05 0 2.83L4 21.41c.39.39.9.59 1.41.59.51 0 1.02-.2 1.41-.59l7.78-7.78 2.81-2.81c.8-.78.8-2.07 0-2.86zM5.41 20L4 18.59l7.72-7.72 1.47 1.35L5.41 20z\"/>\n",
              "  </svg>\n",
              "      </button>\n",
              "      \n",
              "  <style>\n",
              "    .colab-df-container {\n",
              "      display:flex;\n",
              "      flex-wrap:wrap;\n",
              "      gap: 12px;\n",
              "    }\n",
              "\n",
              "    .colab-df-convert {\n",
              "      background-color: #E8F0FE;\n",
              "      border: none;\n",
              "      border-radius: 50%;\n",
              "      cursor: pointer;\n",
              "      display: none;\n",
              "      fill: #1967D2;\n",
              "      height: 32px;\n",
              "      padding: 0 0 0 0;\n",
              "      width: 32px;\n",
              "    }\n",
              "\n",
              "    .colab-df-convert:hover {\n",
              "      background-color: #E2EBFA;\n",
              "      box-shadow: 0px 1px 2px rgba(60, 64, 67, 0.3), 0px 1px 3px 1px rgba(60, 64, 67, 0.15);\n",
              "      fill: #174EA6;\n",
              "    }\n",
              "\n",
              "    [theme=dark] .colab-df-convert {\n",
              "      background-color: #3B4455;\n",
              "      fill: #D2E3FC;\n",
              "    }\n",
              "\n",
              "    [theme=dark] .colab-df-convert:hover {\n",
              "      background-color: #434B5C;\n",
              "      box-shadow: 0px 1px 3px 1px rgba(0, 0, 0, 0.15);\n",
              "      filter: drop-shadow(0px 1px 2px rgba(0, 0, 0, 0.3));\n",
              "      fill: #FFFFFF;\n",
              "    }\n",
              "  </style>\n",
              "\n",
              "      <script>\n",
              "        const buttonEl =\n",
              "          document.querySelector('#df-320514cb-f725-4c5e-9ff2-0e118f726415 button.colab-df-convert');\n",
              "        buttonEl.style.display =\n",
              "          google.colab.kernel.accessAllowed ? 'block' : 'none';\n",
              "\n",
              "        async function convertToInteractive(key) {\n",
              "          const element = document.querySelector('#df-320514cb-f725-4c5e-9ff2-0e118f726415');\n",
              "          const dataTable =\n",
              "            await google.colab.kernel.invokeFunction('convertToInteractive',\n",
              "                                                     [key], {});\n",
              "          if (!dataTable) return;\n",
              "\n",
              "          const docLinkHtml = 'Like what you see? Visit the ' +\n",
              "            '<a target=\"_blank\" href=https://colab.research.google.com/notebooks/data_table.ipynb>data table notebook</a>'\n",
              "            + ' to learn more about interactive tables.';\n",
              "          element.innerHTML = '';\n",
              "          dataTable['output_type'] = 'display_data';\n",
              "          await google.colab.output.renderOutput(dataTable, element);\n",
              "          const docLink = document.createElement('div');\n",
              "          docLink.innerHTML = docLinkHtml;\n",
              "          element.appendChild(docLink);\n",
              "        }\n",
              "      </script>\n",
              "    </div>\n",
              "  </div>\n",
              "  "
            ]
          },
          "metadata": {},
          "execution_count": 17
        }
      ]
    },
    {
      "cell_type": "code",
      "execution_count": null,
      "metadata": {
        "colab": {
          "base_uri": "https://localhost:8080/"
        },
        "id": "kluHVLpzj2J8",
        "outputId": "d3527159-86a0-4310-c1a7-c5934743423b"
      },
      "outputs": [
        {
          "output_type": "stream",
          "name": "stderr",
          "text": [
            "<ipython-input-19-9edca216b557>:1: SettingWithCopyWarning: \n",
            "A value is trying to be set on a copy of a slice from a DataFrame.\n",
            "Try using .loc[row_indexer,col_indexer] = value instead\n",
            "\n",
            "See the caveats in the documentation: https://pandas.pydata.org/pandas-docs/stable/user_guide/indexing.html#returning-a-view-versus-a-copy\n",
            "  df['age'] = 2014 - df['birth year']\n"
          ]
        },
        {
          "output_type": "execute_result",
          "data": {
            "text/plain": [
              "0         23.0\n",
              "1         35.0\n",
              "2         66.0\n",
              "3         33.0\n",
              "4         24.0\n",
              "          ... \n",
              "224731    38.0\n",
              "224732    29.0\n",
              "224733    46.0\n",
              "224734    32.0\n",
              "224735    54.0\n",
              "Name: age, Length: 217398, dtype: float64"
            ]
          },
          "metadata": {},
          "execution_count": 19
        }
      ],
      "source": [
        "df['age'] = 2014 - df['birth year']\n",
        "df['age']"
      ]
    },
    {
      "cell_type": "code",
      "source": [
        "df = df.sort_values('age', ascending=False)\n",
        "df"
      ],
      "metadata": {
        "id": "LrwuFjWCt_iE"
      },
      "execution_count": null,
      "outputs": []
    },
    {
      "cell_type": "markdown",
      "source": [
        "Drop NaN's and people older than 90 from data set. "
      ],
      "metadata": {
        "id": "wUtHqo3Iucey"
      }
    },
    {
      "cell_type": "code",
      "source": [
        "#verified ages greater than 90 years old not included\n",
        "df = df[df['age'] <= 90]\n",
        "df.head(10)"
      ],
      "metadata": {
        "id": "e_Udc4Igu6pN"
      },
      "execution_count": null,
      "outputs": []
    },
    {
      "cell_type": "markdown",
      "source": [
        "Gender: Found unique genders. Sum of unique genders. For data set where gender is 0, it is unknown. Removed genders that are unknown. "
      ],
      "metadata": {
        "id": "Vg0kZ0V41zgT"
      }
    },
    {
      "cell_type": "code",
      "source": [
        "unique_genders = df['gender'].unique()\n",
        "print(\"Unique genders:\", unique_genders)\n"
      ],
      "metadata": {
        "colab": {
          "base_uri": "https://localhost:8080/"
        },
        "id": "wBRWI02401uP",
        "outputId": "3bf8a154-bd4d-446a-be5b-eff2bd27fb68"
      },
      "execution_count": null,
      "outputs": [
        {
          "output_type": "stream",
          "name": "stdout",
          "text": [
            "Unique genders: [2 1 0]\n"
          ]
        }
      ]
    },
    {
      "cell_type": "code",
      "source": [
        "gender_counts = df['gender'].value_counts()\n",
        "print(\"Gender counts:\\n\", gender_counts)\n"
      ],
      "metadata": {
        "colab": {
          "base_uri": "https://localhost:8080/"
        },
        "id": "qcn2LNRd1Jwk",
        "outputId": "08984ecd-68bf-4ba1-a7d1-af93ecfba98b"
      },
      "execution_count": null,
      "outputs": [
        {
          "output_type": "stream",
          "name": "stdout",
          "text": [
            "Gender counts:\n",
            " 1    175915\n",
            "2     41335\n",
            "0        14\n",
            "Name: gender, dtype: int64\n"
          ]
        }
      ]
    },
    {
      "cell_type": "code",
      "source": [
        "df = df[df['gender'] != 0]\n"
      ],
      "metadata": {
        "id": "gwXvwkqN1-wV"
      },
      "execution_count": null,
      "outputs": []
    },
    {
      "cell_type": "code",
      "source": [
        "#Checked genders again\n",
        "unique_genders = df['gender'].unique()\n",
        "print(\"Unique genders:\", unique_genders)"
      ],
      "metadata": {
        "colab": {
          "base_uri": "https://localhost:8080/"
        },
        "id": "WcWKHkDc2GCX",
        "outputId": "0c5502af-756b-470e-8652-4a9082da6e2a"
      },
      "execution_count": null,
      "outputs": [
        {
          "output_type": "stream",
          "name": "stdout",
          "text": [
            "Unique genders: [2 1]\n"
          ]
        }
      ]
    },
    {
      "cell_type": "code",
      "source": [
        "# Create dummies for 'gender'\n",
        "dummies = pd.get_dummies(df['gender'], prefix=None, drop_first=True)\n",
        "\n",
        "# Add dummies to original DataFrame\n",
        "df = pd.concat([df, dummies], axis=1)\n",
        "\n",
        "# Drop original 'gender' column\n",
        "df.drop('gender', axis=1, inplace=True)\n"
      ],
      "metadata": {
        "id": "HoPlWOO40fs8"
      },
      "execution_count": null,
      "outputs": []
    },
    {
      "cell_type": "markdown",
      "source": [
        "Subscribers column is an object. Convert to int and create dummy variables"
      ],
      "metadata": {
        "id": "1BdfG8y72Voa"
      }
    },
    {
      "cell_type": "code",
      "source": [
        "print(df['usertype'].dtype)\n"
      ],
      "metadata": {
        "id": "wnmdfmw-2UTI",
        "colab": {
          "base_uri": "https://localhost:8080/"
        },
        "outputId": "937e882d-c109-4955-952e-ddd2572d4f95"
      },
      "execution_count": null,
      "outputs": [
        {
          "output_type": "stream",
          "name": "stdout",
          "text": [
            "object\n"
          ]
        }
      ]
    },
    {
      "cell_type": "code",
      "source": [
        "df['usertype'] = df['usertype'].map({'Subscriber': 1, 'Customer': 0}).astype(int)\n"
      ],
      "metadata": {
        "id": "hNYPnxdj6dou"
      },
      "execution_count": null,
      "outputs": []
    },
    {
      "cell_type": "code",
      "source": [
        "df.head(1)"
      ],
      "metadata": {
        "colab": {
          "base_uri": "https://localhost:8080/",
          "height": 206
        },
        "id": "DTzbEtEp849a",
        "outputId": "56d1fe17-d7f4-4fe3-f0cd-175427e99f2d"
      },
      "execution_count": null,
      "outputs": [
        {
          "output_type": "execute_result",
          "data": {
            "text/plain": [
              "       tripduration            starttime             stoptime  \\\n",
              "44876      0.220278  2014-02-06 16:57:41  2014-02-06 17:10:54   \n",
              "\n",
              "             start station name  start station latitude  \\\n",
              "44876  W Houston St & Hudson St               40.728739   \n",
              "\n",
              "       start station longitude  end station id end station name  \\\n",
              "44876               -74.007488             470  W 20 St & 8 Ave   \n",
              "\n",
              "       end station latitude  end station longitude  ...  2006  2008  2009  \\\n",
              "44876             40.743453              -74.00004  ...     0     0     0   \n",
              "\n",
              "       2010  2012  2017  2021  2022  2023  3002  \n",
              "44876     0     0     0     0     0     0     0  \n",
              "\n",
              "[1 rows x 343 columns]"
            ],
            "text/html": [
              "\n",
              "  <div id=\"df-619e5eeb-5b14-4b57-891e-17825c7d68d9\">\n",
              "    <div class=\"colab-df-container\">\n",
              "      <div>\n",
              "<style scoped>\n",
              "    .dataframe tbody tr th:only-of-type {\n",
              "        vertical-align: middle;\n",
              "    }\n",
              "\n",
              "    .dataframe tbody tr th {\n",
              "        vertical-align: top;\n",
              "    }\n",
              "\n",
              "    .dataframe thead th {\n",
              "        text-align: right;\n",
              "    }\n",
              "</style>\n",
              "<table border=\"1\" class=\"dataframe\">\n",
              "  <thead>\n",
              "    <tr style=\"text-align: right;\">\n",
              "      <th></th>\n",
              "      <th>tripduration</th>\n",
              "      <th>starttime</th>\n",
              "      <th>stoptime</th>\n",
              "      <th>start station name</th>\n",
              "      <th>start station latitude</th>\n",
              "      <th>start station longitude</th>\n",
              "      <th>end station id</th>\n",
              "      <th>end station name</th>\n",
              "      <th>end station latitude</th>\n",
              "      <th>end station longitude</th>\n",
              "      <th>...</th>\n",
              "      <th>2006</th>\n",
              "      <th>2008</th>\n",
              "      <th>2009</th>\n",
              "      <th>2010</th>\n",
              "      <th>2012</th>\n",
              "      <th>2017</th>\n",
              "      <th>2021</th>\n",
              "      <th>2022</th>\n",
              "      <th>2023</th>\n",
              "      <th>3002</th>\n",
              "    </tr>\n",
              "  </thead>\n",
              "  <tbody>\n",
              "    <tr>\n",
              "      <th>44876</th>\n",
              "      <td>0.220278</td>\n",
              "      <td>2014-02-06 16:57:41</td>\n",
              "      <td>2014-02-06 17:10:54</td>\n",
              "      <td>W Houston St &amp; Hudson St</td>\n",
              "      <td>40.728739</td>\n",
              "      <td>-74.007488</td>\n",
              "      <td>470</td>\n",
              "      <td>W 20 St &amp; 8 Ave</td>\n",
              "      <td>40.743453</td>\n",
              "      <td>-74.00004</td>\n",
              "      <td>...</td>\n",
              "      <td>0</td>\n",
              "      <td>0</td>\n",
              "      <td>0</td>\n",
              "      <td>0</td>\n",
              "      <td>0</td>\n",
              "      <td>0</td>\n",
              "      <td>0</td>\n",
              "      <td>0</td>\n",
              "      <td>0</td>\n",
              "      <td>0</td>\n",
              "    </tr>\n",
              "  </tbody>\n",
              "</table>\n",
              "<p>1 rows × 343 columns</p>\n",
              "</div>\n",
              "      <button class=\"colab-df-convert\" onclick=\"convertToInteractive('df-619e5eeb-5b14-4b57-891e-17825c7d68d9')\"\n",
              "              title=\"Convert this dataframe to an interactive table.\"\n",
              "              style=\"display:none;\">\n",
              "        \n",
              "  <svg xmlns=\"http://www.w3.org/2000/svg\" height=\"24px\"viewBox=\"0 0 24 24\"\n",
              "       width=\"24px\">\n",
              "    <path d=\"M0 0h24v24H0V0z\" fill=\"none\"/>\n",
              "    <path d=\"M18.56 5.44l.94 2.06.94-2.06 2.06-.94-2.06-.94-.94-2.06-.94 2.06-2.06.94zm-11 1L8.5 8.5l.94-2.06 2.06-.94-2.06-.94L8.5 2.5l-.94 2.06-2.06.94zm10 10l.94 2.06.94-2.06 2.06-.94-2.06-.94-.94-2.06-.94 2.06-2.06.94z\"/><path d=\"M17.41 7.96l-1.37-1.37c-.4-.4-.92-.59-1.43-.59-.52 0-1.04.2-1.43.59L10.3 9.45l-7.72 7.72c-.78.78-.78 2.05 0 2.83L4 21.41c.39.39.9.59 1.41.59.51 0 1.02-.2 1.41-.59l7.78-7.78 2.81-2.81c.8-.78.8-2.07 0-2.86zM5.41 20L4 18.59l7.72-7.72 1.47 1.35L5.41 20z\"/>\n",
              "  </svg>\n",
              "      </button>\n",
              "      \n",
              "  <style>\n",
              "    .colab-df-container {\n",
              "      display:flex;\n",
              "      flex-wrap:wrap;\n",
              "      gap: 12px;\n",
              "    }\n",
              "\n",
              "    .colab-df-convert {\n",
              "      background-color: #E8F0FE;\n",
              "      border: none;\n",
              "      border-radius: 50%;\n",
              "      cursor: pointer;\n",
              "      display: none;\n",
              "      fill: #1967D2;\n",
              "      height: 32px;\n",
              "      padding: 0 0 0 0;\n",
              "      width: 32px;\n",
              "    }\n",
              "\n",
              "    .colab-df-convert:hover {\n",
              "      background-color: #E2EBFA;\n",
              "      box-shadow: 0px 1px 2px rgba(60, 64, 67, 0.3), 0px 1px 3px 1px rgba(60, 64, 67, 0.15);\n",
              "      fill: #174EA6;\n",
              "    }\n",
              "\n",
              "    [theme=dark] .colab-df-convert {\n",
              "      background-color: #3B4455;\n",
              "      fill: #D2E3FC;\n",
              "    }\n",
              "\n",
              "    [theme=dark] .colab-df-convert:hover {\n",
              "      background-color: #434B5C;\n",
              "      box-shadow: 0px 1px 3px 1px rgba(0, 0, 0, 0.15);\n",
              "      filter: drop-shadow(0px 1px 2px rgba(0, 0, 0, 0.3));\n",
              "      fill: #FFFFFF;\n",
              "    }\n",
              "  </style>\n",
              "\n",
              "      <script>\n",
              "        const buttonEl =\n",
              "          document.querySelector('#df-619e5eeb-5b14-4b57-891e-17825c7d68d9 button.colab-df-convert');\n",
              "        buttonEl.style.display =\n",
              "          google.colab.kernel.accessAllowed ? 'block' : 'none';\n",
              "\n",
              "        async function convertToInteractive(key) {\n",
              "          const element = document.querySelector('#df-619e5eeb-5b14-4b57-891e-17825c7d68d9');\n",
              "          const dataTable =\n",
              "            await google.colab.kernel.invokeFunction('convertToInteractive',\n",
              "                                                     [key], {});\n",
              "          if (!dataTable) return;\n",
              "\n",
              "          const docLinkHtml = 'Like what you see? Visit the ' +\n",
              "            '<a target=\"_blank\" href=https://colab.research.google.com/notebooks/data_table.ipynb>data table notebook</a>'\n",
              "            + ' to learn more about interactive tables.';\n",
              "          element.innerHTML = '';\n",
              "          dataTable['output_type'] = 'display_data';\n",
              "          await google.colab.output.renderOutput(dataTable, element);\n",
              "          const docLink = document.createElement('div');\n",
              "          docLink.innerHTML = docLinkHtml;\n",
              "          element.appendChild(docLink);\n",
              "        }\n",
              "      </script>\n",
              "    </div>\n",
              "  </div>\n",
              "  "
            ]
          },
          "metadata": {},
          "execution_count": 55
        }
      ]
    },
    {
      "cell_type": "markdown",
      "metadata": {
        "id": "B-P6mzf9j2J7"
      },
      "source": [
        "-----\n",
        "\n",
        "### What numeric columns shouldn't be treated as numeric?"
      ]
    },
    {
      "cell_type": "markdown",
      "metadata": {
        "id": "mJrotp5_j2J7"
      },
      "source": [
        "**Answer:**\n",
        "\n",
        "Anything treated as a category like gender, usertype, station id. "
      ]
    },
    {
      "cell_type": "markdown",
      "metadata": {
        "id": "glt28lgTj2J7"
      },
      "source": [
        "### Dummify the `start station id` variable"
      ]
    },
    {
      "cell_type": "code",
      "execution_count": null,
      "metadata": {
        "id": "satLqW5Xj2J8"
      },
      "outputs": [],
      "source": [
        "# Create dummies for 'start station id'\n",
        "dummies = pd.get_dummies(df['start station id'], prefix=None, drop_first=True)\n",
        "\n",
        "# Add dummies \n",
        "df = pd.concat([df, dummies], axis=1)\n",
        "\n",
        "# Drop original 'start station id' column\n",
        "df.drop('start station id', axis=1, inplace=True)"
      ]
    },
    {
      "cell_type": "code",
      "source": [
        "df.head(1)"
      ],
      "metadata": {
        "colab": {
          "base_uri": "https://localhost:8080/",
          "height": 206
        },
        "id": "dMpUcHNJypHK",
        "outputId": "8f5a7433-aea5-409d-b8a9-39b3ac2d4bb9"
      },
      "execution_count": null,
      "outputs": [
        {
          "output_type": "execute_result",
          "data": {
            "text/plain": [
              "       tripduration            starttime             stoptime  \\\n",
              "44876      0.220278  2014-02-06 16:57:41  2014-02-06 17:10:54   \n",
              "\n",
              "             start station name  start station latitude  \\\n",
              "44876  W Houston St & Hudson St               40.728739   \n",
              "\n",
              "       start station longitude  end station id end station name  \\\n",
              "44876               -74.007488             470  W 20 St & 8 Ave   \n",
              "\n",
              "       end station latitude  end station longitude  ...  2006  2008  2009  \\\n",
              "44876             40.743453              -74.00004  ...     0     0     0   \n",
              "\n",
              "       2010  2012  2017  2021  2022  2023  3002  \n",
              "44876     0     0     0     0     0     0     0  \n",
              "\n",
              "[1 rows x 343 columns]"
            ],
            "text/html": [
              "\n",
              "  <div id=\"df-997a1b3e-d784-485a-8116-919c4d97c986\">\n",
              "    <div class=\"colab-df-container\">\n",
              "      <div>\n",
              "<style scoped>\n",
              "    .dataframe tbody tr th:only-of-type {\n",
              "        vertical-align: middle;\n",
              "    }\n",
              "\n",
              "    .dataframe tbody tr th {\n",
              "        vertical-align: top;\n",
              "    }\n",
              "\n",
              "    .dataframe thead th {\n",
              "        text-align: right;\n",
              "    }\n",
              "</style>\n",
              "<table border=\"1\" class=\"dataframe\">\n",
              "  <thead>\n",
              "    <tr style=\"text-align: right;\">\n",
              "      <th></th>\n",
              "      <th>tripduration</th>\n",
              "      <th>starttime</th>\n",
              "      <th>stoptime</th>\n",
              "      <th>start station name</th>\n",
              "      <th>start station latitude</th>\n",
              "      <th>start station longitude</th>\n",
              "      <th>end station id</th>\n",
              "      <th>end station name</th>\n",
              "      <th>end station latitude</th>\n",
              "      <th>end station longitude</th>\n",
              "      <th>...</th>\n",
              "      <th>2006</th>\n",
              "      <th>2008</th>\n",
              "      <th>2009</th>\n",
              "      <th>2010</th>\n",
              "      <th>2012</th>\n",
              "      <th>2017</th>\n",
              "      <th>2021</th>\n",
              "      <th>2022</th>\n",
              "      <th>2023</th>\n",
              "      <th>3002</th>\n",
              "    </tr>\n",
              "  </thead>\n",
              "  <tbody>\n",
              "    <tr>\n",
              "      <th>44876</th>\n",
              "      <td>0.220278</td>\n",
              "      <td>2014-02-06 16:57:41</td>\n",
              "      <td>2014-02-06 17:10:54</td>\n",
              "      <td>W Houston St &amp; Hudson St</td>\n",
              "      <td>40.728739</td>\n",
              "      <td>-74.007488</td>\n",
              "      <td>470</td>\n",
              "      <td>W 20 St &amp; 8 Ave</td>\n",
              "      <td>40.743453</td>\n",
              "      <td>-74.00004</td>\n",
              "      <td>...</td>\n",
              "      <td>0</td>\n",
              "      <td>0</td>\n",
              "      <td>0</td>\n",
              "      <td>0</td>\n",
              "      <td>0</td>\n",
              "      <td>0</td>\n",
              "      <td>0</td>\n",
              "      <td>0</td>\n",
              "      <td>0</td>\n",
              "      <td>0</td>\n",
              "    </tr>\n",
              "  </tbody>\n",
              "</table>\n",
              "<p>1 rows × 343 columns</p>\n",
              "</div>\n",
              "      <button class=\"colab-df-convert\" onclick=\"convertToInteractive('df-997a1b3e-d784-485a-8116-919c4d97c986')\"\n",
              "              title=\"Convert this dataframe to an interactive table.\"\n",
              "              style=\"display:none;\">\n",
              "        \n",
              "  <svg xmlns=\"http://www.w3.org/2000/svg\" height=\"24px\"viewBox=\"0 0 24 24\"\n",
              "       width=\"24px\">\n",
              "    <path d=\"M0 0h24v24H0V0z\" fill=\"none\"/>\n",
              "    <path d=\"M18.56 5.44l.94 2.06.94-2.06 2.06-.94-2.06-.94-.94-2.06-.94 2.06-2.06.94zm-11 1L8.5 8.5l.94-2.06 2.06-.94-2.06-.94L8.5 2.5l-.94 2.06-2.06.94zm10 10l.94 2.06.94-2.06 2.06-.94-2.06-.94-.94-2.06-.94 2.06-2.06.94z\"/><path d=\"M17.41 7.96l-1.37-1.37c-.4-.4-.92-.59-1.43-.59-.52 0-1.04.2-1.43.59L10.3 9.45l-7.72 7.72c-.78.78-.78 2.05 0 2.83L4 21.41c.39.39.9.59 1.41.59.51 0 1.02-.2 1.41-.59l7.78-7.78 2.81-2.81c.8-.78.8-2.07 0-2.86zM5.41 20L4 18.59l7.72-7.72 1.47 1.35L5.41 20z\"/>\n",
              "  </svg>\n",
              "      </button>\n",
              "      \n",
              "  <style>\n",
              "    .colab-df-container {\n",
              "      display:flex;\n",
              "      flex-wrap:wrap;\n",
              "      gap: 12px;\n",
              "    }\n",
              "\n",
              "    .colab-df-convert {\n",
              "      background-color: #E8F0FE;\n",
              "      border: none;\n",
              "      border-radius: 50%;\n",
              "      cursor: pointer;\n",
              "      display: none;\n",
              "      fill: #1967D2;\n",
              "      height: 32px;\n",
              "      padding: 0 0 0 0;\n",
              "      width: 32px;\n",
              "    }\n",
              "\n",
              "    .colab-df-convert:hover {\n",
              "      background-color: #E2EBFA;\n",
              "      box-shadow: 0px 1px 2px rgba(60, 64, 67, 0.3), 0px 1px 3px 1px rgba(60, 64, 67, 0.15);\n",
              "      fill: #174EA6;\n",
              "    }\n",
              "\n",
              "    [theme=dark] .colab-df-convert {\n",
              "      background-color: #3B4455;\n",
              "      fill: #D2E3FC;\n",
              "    }\n",
              "\n",
              "    [theme=dark] .colab-df-convert:hover {\n",
              "      background-color: #434B5C;\n",
              "      box-shadow: 0px 1px 3px 1px rgba(0, 0, 0, 0.15);\n",
              "      filter: drop-shadow(0px 1px 2px rgba(0, 0, 0, 0.3));\n",
              "      fill: #FFFFFF;\n",
              "    }\n",
              "  </style>\n",
              "\n",
              "      <script>\n",
              "        const buttonEl =\n",
              "          document.querySelector('#df-997a1b3e-d784-485a-8116-919c4d97c986 button.colab-df-convert');\n",
              "        buttonEl.style.display =\n",
              "          google.colab.kernel.accessAllowed ? 'block' : 'none';\n",
              "\n",
              "        async function convertToInteractive(key) {\n",
              "          const element = document.querySelector('#df-997a1b3e-d784-485a-8116-919c4d97c986');\n",
              "          const dataTable =\n",
              "            await google.colab.kernel.invokeFunction('convertToInteractive',\n",
              "                                                     [key], {});\n",
              "          if (!dataTable) return;\n",
              "\n",
              "          const docLinkHtml = 'Like what you see? Visit the ' +\n",
              "            '<a target=\"_blank\" href=https://colab.research.google.com/notebooks/data_table.ipynb>data table notebook</a>'\n",
              "            + ' to learn more about interactive tables.';\n",
              "          element.innerHTML = '';\n",
              "          dataTable['output_type'] = 'display_data';\n",
              "          await google.colab.output.renderOutput(dataTable, element);\n",
              "          const docLink = document.createElement('div');\n",
              "          docLink.innerHTML = docLinkHtml;\n",
              "          element.appendChild(docLink);\n",
              "        }\n",
              "      </script>\n",
              "    </div>\n",
              "  </div>\n",
              "  "
            ]
          },
          "metadata": {},
          "execution_count": 56
        }
      ]
    },
    {
      "cell_type": "markdown",
      "metadata": {
        "id": "2SSGZdxaj2J8"
      },
      "source": [
        "### Engineer a feature called `age` that shares how old the person would have been in 2014 (at the time the data was collected).\n",
        "\n",
        "- Note: you will need to clean the data to do this."
      ]
    },
    {
      "cell_type": "markdown",
      "metadata": {
        "id": "psDPiKElj2J8"
      },
      "source": [
        "### Split your data into train and test sets\n",
        "\n",
        "Look at the size of your data. What is a good proportion for your split? Justify your answer.\n",
        "\n",
        "Use the `tripduration` column as your `y` variable.\n",
        "\n",
        "For your `X` variables, use `age`, `usertype`, `gender`, and the dummy variables you created from `start station id`.\n",
        "\n",
        "**NOTE:** When doing your train/test split, please use random seed 123."
      ]
    },
    {
      "cell_type": "code",
      "execution_count": null,
      "metadata": {
        "id": "GwfCMb4Sj2J9"
      },
      "outputs": [],
      "source": [
        "y = df['tripduration']\n",
        "X = df.iloc[:, 12:]\n",
        " "
      ]
    },
    {
      "cell_type": "markdown",
      "metadata": {
        "id": "W0o4bKX9j2J9"
      },
      "source": [
        "### Fit a linear regression model in `sklearn` predicting `tripduration`"
      ]
    },
    {
      "cell_type": "code",
      "execution_count": null,
      "metadata": {
        "id": "XU6oVyrCj2J9"
      },
      "outputs": [],
      "source": [
        "from sklearn.linear_model import LinearRegression\n",
        "from sklearn.model_selection import train_test_split\n",
        "\n"
      ]
    },
    {
      "cell_type": "code",
      "source": [
        "\n",
        "# Create a linear regression object\n",
        "reg = LinearRegression()\n",
        "reg\n",
        "\n"
      ],
      "metadata": {
        "colab": {
          "base_uri": "https://localhost:8080/",
          "height": 74
        },
        "id": "pLhFiesM_qXg",
        "outputId": "7f2de638-ed3f-47a9-859f-938867d4d7ab"
      },
      "execution_count": null,
      "outputs": [
        {
          "output_type": "execute_result",
          "data": {
            "text/plain": [
              "LinearRegression()"
            ],
            "text/html": [
              "<style>#sk-container-id-1 {color: black;background-color: white;}#sk-container-id-1 pre{padding: 0;}#sk-container-id-1 div.sk-toggleable {background-color: white;}#sk-container-id-1 label.sk-toggleable__label {cursor: pointer;display: block;width: 100%;margin-bottom: 0;padding: 0.3em;box-sizing: border-box;text-align: center;}#sk-container-id-1 label.sk-toggleable__label-arrow:before {content: \"▸\";float: left;margin-right: 0.25em;color: #696969;}#sk-container-id-1 label.sk-toggleable__label-arrow:hover:before {color: black;}#sk-container-id-1 div.sk-estimator:hover label.sk-toggleable__label-arrow:before {color: black;}#sk-container-id-1 div.sk-toggleable__content {max-height: 0;max-width: 0;overflow: hidden;text-align: left;background-color: #f0f8ff;}#sk-container-id-1 div.sk-toggleable__content pre {margin: 0.2em;color: black;border-radius: 0.25em;background-color: #f0f8ff;}#sk-container-id-1 input.sk-toggleable__control:checked~div.sk-toggleable__content {max-height: 200px;max-width: 100%;overflow: auto;}#sk-container-id-1 input.sk-toggleable__control:checked~label.sk-toggleable__label-arrow:before {content: \"▾\";}#sk-container-id-1 div.sk-estimator input.sk-toggleable__control:checked~label.sk-toggleable__label {background-color: #d4ebff;}#sk-container-id-1 div.sk-label input.sk-toggleable__control:checked~label.sk-toggleable__label {background-color: #d4ebff;}#sk-container-id-1 input.sk-hidden--visually {border: 0;clip: rect(1px 1px 1px 1px);clip: rect(1px, 1px, 1px, 1px);height: 1px;margin: -1px;overflow: hidden;padding: 0;position: absolute;width: 1px;}#sk-container-id-1 div.sk-estimator {font-family: monospace;background-color: #f0f8ff;border: 1px dotted black;border-radius: 0.25em;box-sizing: border-box;margin-bottom: 0.5em;}#sk-container-id-1 div.sk-estimator:hover {background-color: #d4ebff;}#sk-container-id-1 div.sk-parallel-item::after {content: \"\";width: 100%;border-bottom: 1px solid gray;flex-grow: 1;}#sk-container-id-1 div.sk-label:hover label.sk-toggleable__label {background-color: #d4ebff;}#sk-container-id-1 div.sk-serial::before {content: \"\";position: absolute;border-left: 1px solid gray;box-sizing: border-box;top: 0;bottom: 0;left: 50%;z-index: 0;}#sk-container-id-1 div.sk-serial {display: flex;flex-direction: column;align-items: center;background-color: white;padding-right: 0.2em;padding-left: 0.2em;position: relative;}#sk-container-id-1 div.sk-item {position: relative;z-index: 1;}#sk-container-id-1 div.sk-parallel {display: flex;align-items: stretch;justify-content: center;background-color: white;position: relative;}#sk-container-id-1 div.sk-item::before, #sk-container-id-1 div.sk-parallel-item::before {content: \"\";position: absolute;border-left: 1px solid gray;box-sizing: border-box;top: 0;bottom: 0;left: 50%;z-index: -1;}#sk-container-id-1 div.sk-parallel-item {display: flex;flex-direction: column;z-index: 1;position: relative;background-color: white;}#sk-container-id-1 div.sk-parallel-item:first-child::after {align-self: flex-end;width: 50%;}#sk-container-id-1 div.sk-parallel-item:last-child::after {align-self: flex-start;width: 50%;}#sk-container-id-1 div.sk-parallel-item:only-child::after {width: 0;}#sk-container-id-1 div.sk-dashed-wrapped {border: 1px dashed gray;margin: 0 0.4em 0.5em 0.4em;box-sizing: border-box;padding-bottom: 0.4em;background-color: white;}#sk-container-id-1 div.sk-label label {font-family: monospace;font-weight: bold;display: inline-block;line-height: 1.2em;}#sk-container-id-1 div.sk-label-container {text-align: center;}#sk-container-id-1 div.sk-container {/* jupyter's `normalize.less` sets `[hidden] { display: none; }` but bootstrap.min.css set `[hidden] { display: none !important; }` so we also need the `!important` here to be able to override the default hidden behavior on the sphinx rendered scikit-learn.org. See: https://github.com/scikit-learn/scikit-learn/issues/21755 */display: inline-block !important;position: relative;}#sk-container-id-1 div.sk-text-repr-fallback {display: none;}</style><div id=\"sk-container-id-1\" class=\"sk-top-container\"><div class=\"sk-text-repr-fallback\"><pre>LinearRegression()</pre><b>In a Jupyter environment, please rerun this cell to show the HTML representation or trust the notebook. <br />On GitHub, the HTML representation is unable to render, please try loading this page with nbviewer.org.</b></div><div class=\"sk-container\" hidden><div class=\"sk-item\"><div class=\"sk-estimator sk-toggleable\"><input class=\"sk-toggleable__control sk-hidden--visually\" id=\"sk-estimator-id-1\" type=\"checkbox\" checked><label for=\"sk-estimator-id-1\" class=\"sk-toggleable__label sk-toggleable__label-arrow\">LinearRegression</label><div class=\"sk-toggleable__content\"><pre>LinearRegression()</pre></div></div></div></div></div>"
            ]
          },
          "metadata": {},
          "execution_count": 35
        }
      ]
    },
    {
      "cell_type": "code",
      "source": [
        "# Split the data into training and testing sets\n",
        "X_train, X_test, y_train, y_test = train_test_split(X, y,test_size = 0.3, random_state=123)\n"
      ],
      "metadata": {
        "id": "Cq-7fq0h_t0V"
      },
      "execution_count": null,
      "outputs": []
    },
    {
      "cell_type": "code",
      "source": [
        "# Convert column names to string\n",
        "X_train.columns = X_train.columns.astype(str)\n",
        "\n",
        "#Fit LR\n",
        "reg.fit(X_train, y_train)\n"
      ],
      "metadata": {
        "colab": {
          "base_uri": "https://localhost:8080/",
          "height": 74
        },
        "id": "Ohxn1imr_tuK",
        "outputId": "e99ca7d8-0819-4aa0-c83d-04c5b142db09"
      },
      "execution_count": null,
      "outputs": [
        {
          "output_type": "execute_result",
          "data": {
            "text/plain": [
              "LinearRegression()"
            ],
            "text/html": [
              "<style>#sk-container-id-2 {color: black;background-color: white;}#sk-container-id-2 pre{padding: 0;}#sk-container-id-2 div.sk-toggleable {background-color: white;}#sk-container-id-2 label.sk-toggleable__label {cursor: pointer;display: block;width: 100%;margin-bottom: 0;padding: 0.3em;box-sizing: border-box;text-align: center;}#sk-container-id-2 label.sk-toggleable__label-arrow:before {content: \"▸\";float: left;margin-right: 0.25em;color: #696969;}#sk-container-id-2 label.sk-toggleable__label-arrow:hover:before {color: black;}#sk-container-id-2 div.sk-estimator:hover label.sk-toggleable__label-arrow:before {color: black;}#sk-container-id-2 div.sk-toggleable__content {max-height: 0;max-width: 0;overflow: hidden;text-align: left;background-color: #f0f8ff;}#sk-container-id-2 div.sk-toggleable__content pre {margin: 0.2em;color: black;border-radius: 0.25em;background-color: #f0f8ff;}#sk-container-id-2 input.sk-toggleable__control:checked~div.sk-toggleable__content {max-height: 200px;max-width: 100%;overflow: auto;}#sk-container-id-2 input.sk-toggleable__control:checked~label.sk-toggleable__label-arrow:before {content: \"▾\";}#sk-container-id-2 div.sk-estimator input.sk-toggleable__control:checked~label.sk-toggleable__label {background-color: #d4ebff;}#sk-container-id-2 div.sk-label input.sk-toggleable__control:checked~label.sk-toggleable__label {background-color: #d4ebff;}#sk-container-id-2 input.sk-hidden--visually {border: 0;clip: rect(1px 1px 1px 1px);clip: rect(1px, 1px, 1px, 1px);height: 1px;margin: -1px;overflow: hidden;padding: 0;position: absolute;width: 1px;}#sk-container-id-2 div.sk-estimator {font-family: monospace;background-color: #f0f8ff;border: 1px dotted black;border-radius: 0.25em;box-sizing: border-box;margin-bottom: 0.5em;}#sk-container-id-2 div.sk-estimator:hover {background-color: #d4ebff;}#sk-container-id-2 div.sk-parallel-item::after {content: \"\";width: 100%;border-bottom: 1px solid gray;flex-grow: 1;}#sk-container-id-2 div.sk-label:hover label.sk-toggleable__label {background-color: #d4ebff;}#sk-container-id-2 div.sk-serial::before {content: \"\";position: absolute;border-left: 1px solid gray;box-sizing: border-box;top: 0;bottom: 0;left: 50%;z-index: 0;}#sk-container-id-2 div.sk-serial {display: flex;flex-direction: column;align-items: center;background-color: white;padding-right: 0.2em;padding-left: 0.2em;position: relative;}#sk-container-id-2 div.sk-item {position: relative;z-index: 1;}#sk-container-id-2 div.sk-parallel {display: flex;align-items: stretch;justify-content: center;background-color: white;position: relative;}#sk-container-id-2 div.sk-item::before, #sk-container-id-2 div.sk-parallel-item::before {content: \"\";position: absolute;border-left: 1px solid gray;box-sizing: border-box;top: 0;bottom: 0;left: 50%;z-index: -1;}#sk-container-id-2 div.sk-parallel-item {display: flex;flex-direction: column;z-index: 1;position: relative;background-color: white;}#sk-container-id-2 div.sk-parallel-item:first-child::after {align-self: flex-end;width: 50%;}#sk-container-id-2 div.sk-parallel-item:last-child::after {align-self: flex-start;width: 50%;}#sk-container-id-2 div.sk-parallel-item:only-child::after {width: 0;}#sk-container-id-2 div.sk-dashed-wrapped {border: 1px dashed gray;margin: 0 0.4em 0.5em 0.4em;box-sizing: border-box;padding-bottom: 0.4em;background-color: white;}#sk-container-id-2 div.sk-label label {font-family: monospace;font-weight: bold;display: inline-block;line-height: 1.2em;}#sk-container-id-2 div.sk-label-container {text-align: center;}#sk-container-id-2 div.sk-container {/* jupyter's `normalize.less` sets `[hidden] { display: none; }` but bootstrap.min.css set `[hidden] { display: none !important; }` so we also need the `!important` here to be able to override the default hidden behavior on the sphinx rendered scikit-learn.org. See: https://github.com/scikit-learn/scikit-learn/issues/21755 */display: inline-block !important;position: relative;}#sk-container-id-2 div.sk-text-repr-fallback {display: none;}</style><div id=\"sk-container-id-2\" class=\"sk-top-container\"><div class=\"sk-text-repr-fallback\"><pre>LinearRegression()</pre><b>In a Jupyter environment, please rerun this cell to show the HTML representation or trust the notebook. <br />On GitHub, the HTML representation is unable to render, please try loading this page with nbviewer.org.</b></div><div class=\"sk-container\" hidden><div class=\"sk-item\"><div class=\"sk-estimator sk-toggleable\"><input class=\"sk-toggleable__control sk-hidden--visually\" id=\"sk-estimator-id-2\" type=\"checkbox\" checked><label for=\"sk-estimator-id-2\" class=\"sk-toggleable__label sk-toggleable__label-arrow\">LinearRegression</label><div class=\"sk-toggleable__content\"><pre>LinearRegression()</pre></div></div></div></div></div>"
            ]
          },
          "metadata": {},
          "execution_count": 37
        }
      ]
    },
    {
      "cell_type": "code",
      "source": [
        "reg.score(X_train,y_train)"
      ],
      "metadata": {
        "colab": {
          "base_uri": "https://localhost:8080/"
        },
        "id": "Hx4quDn8Aa5G",
        "outputId": "933d099c-797a-4a2d-9394-cf2708129f0e"
      },
      "execution_count": null,
      "outputs": [
        {
          "output_type": "execute_result",
          "data": {
            "text/plain": [
              "0.039394893054685576"
            ]
          },
          "metadata": {},
          "execution_count": 38
        }
      ]
    },
    {
      "cell_type": "code",
      "source": [
        "# Error message to change type to str \n",
        "X_train.columns = X_train.columns.astype(str)\n",
        "X_test.columns = X_test.columns.astype(str)\n",
        "\n",
        "\n",
        "# Use the trained model to predict the trip duration for the test data\n",
        "y_pred = reg.predict(X_test)\n"
      ],
      "metadata": {
        "id": "SBgH_UokA879"
      },
      "execution_count": null,
      "outputs": []
    },
    {
      "cell_type": "code",
      "source": [
        "y_pred"
      ],
      "metadata": {
        "colab": {
          "base_uri": "https://localhost:8080/"
        },
        "id": "Vpjk97YdBZe0",
        "outputId": "e0cad7d4-6f7f-4d36-c0d5-5e77cb807c39"
      },
      "execution_count": null,
      "outputs": [
        {
          "output_type": "execute_result",
          "data": {
            "text/plain": [
              "array([0.17408371, 0.20137405, 0.18172836, ..., 0.29372406, 0.18997955,\n",
              "       0.17475128])"
            ]
          },
          "metadata": {},
          "execution_count": 40
        }
      ]
    },
    {
      "cell_type": "markdown",
      "metadata": {
        "id": "qvas49xmj2J9"
      },
      "source": [
        "### Evaluate your model\n",
        "\n",
        "Look at some evaluation metrics for **both** the training and test data. \n",
        "- How did your model do? Is it overfit, underfit, or neither?\n",
        "- Does this model outperform the baseline? (e.g. setting $\\hat{y}$ to be the mean of our training `y` values.)"
      ]
    },
    {
      "cell_type": "code",
      "source": [],
      "metadata": {
        "id": "uh-iY-xJGR1K"
      },
      "execution_count": null,
      "outputs": []
    },
    {
      "cell_type": "markdown",
      "source": [
        "### The mean Predicted y is extremely close to the training y. This is a very good model to predict trip duration. The value of the MSE indicates the average squared error between the predicted trip duration and the actual trip duration. A smaller value of MSE indicates that the model is better at predicting the trip duration."
      ],
      "metadata": {
        "id": "ozf3sma8Btov"
      }
    },
    {
      "cell_type": "code",
      "source": [
        "\n",
        "mean_y_pred = np.mean(y_pred)\n",
        "print(mean_y_pred)"
      ],
      "metadata": {
        "colab": {
          "base_uri": "https://localhost:8080/"
        },
        "id": "inW1qHHABsm-",
        "outputId": "33d24d5e-1d5c-4361-d7cc-3b40f82d6a8f"
      },
      "execution_count": null,
      "outputs": [
        {
          "output_type": "stream",
          "name": "stdout",
          "text": [
            "0.18786004438499038\n"
          ]
        }
      ]
    },
    {
      "cell_type": "code",
      "execution_count": null,
      "metadata": {
        "id": "k05KfbyGj2J9",
        "colab": {
          "base_uri": "https://localhost:8080/"
        },
        "outputId": "ee549206-4b3e-47d2-d7d2-62bfc72412ec"
      },
      "outputs": [
        {
          "output_type": "stream",
          "name": "stdout",
          "text": [
            "0.18790065391710964\n"
          ]
        }
      ],
      "source": [
        "\n",
        "\n",
        "mean_y_train = np.mean(y_train)\n",
        "print(mean_y_train)\n"
      ]
    },
    {
      "cell_type": "code",
      "source": [
        "from sklearn.metrics import mean_squared_error\n",
        "\n",
        "mse = mean_squared_error(y_test, y_pred)\n",
        "print('MSE:', mse)\n"
      ],
      "metadata": {
        "colab": {
          "base_uri": "https://localhost:8080/"
        },
        "id": "c25Ad7cGGuU3",
        "outputId": "87acc626-3ecf-46ea-d35f-30f5f2bee806"
      },
      "execution_count": null,
      "outputs": [
        {
          "output_type": "stream",
          "name": "stdout",
          "text": [
            "MSE: 0.025387301597470307\n"
          ]
        }
      ]
    },
    {
      "cell_type": "markdown",
      "metadata": {
        "id": "CDc_98Ykj2J9"
      },
      "source": []
    },
    {
      "cell_type": "code",
      "execution_count": null,
      "metadata": {
        "id": "rxbblakCj2J9",
        "colab": {
          "base_uri": "https://localhost:8080/",
          "height": 472
        },
        "outputId": "7879d18e-d6f5-44f6-a176-da95ba979898"
      },
      "outputs": [
        {
          "output_type": "display_data",
          "data": {
            "text/plain": [
              "<Figure size 640x480 with 1 Axes>"
            ],
            "image/png": "[encoded data removed]"
          },
          "metadata": {}
        }
      ],
      "source": [
        "\n",
        "\n",
        "# Plot actual vs predicted values\n",
        "plt.scatter(y_test, y_pred, alpha=0.5)\n",
        "plt.xlabel('Actual')\n",
        "plt.ylabel('Predicted')\n",
        "plt.title('Actual vs Predicted Values')\n",
        "plt.show()\n"
      ]
    },
    {
      "cell_type": "code",
      "source": [
        "residuals = y_test - y_pred"
      ],
      "metadata": {
        "id": "OxBqXSwagbha"
      },
      "execution_count": null,
      "outputs": []
    },
    {
      "cell_type": "code",
      "source": [
        "import matplotlib.pyplot as plt\n",
        "\n",
        "# Assuming you have a list of residuals named 'residuals'\n",
        "plt.hist(residuals, bins=20)\n",
        "plt.xlabel('Residuals')\n",
        "plt.ylabel('Frequency')\n",
        "plt.title('Histogram of Residuals')\n",
        "plt.show()\n"
      ],
      "metadata": {
        "colab": {
          "base_uri": "https://localhost:8080/",
          "height": 472
        },
        "id": "Nv7XdOxPfeI0",
        "outputId": "4e5e9b66-2a14-42d1-aa00-02a06bb03a4f"
      },
      "execution_count": null,
      "outputs": [
        {
          "output_type": "display_data",
          "data": {
            "text/plain": [
              "<Figure size 640x480 with 1 Axes>"
            ],
            "image/png": "[encoded data removed]"
          },
          "metadata": {}
        }
      ]
    },
    {
      "cell_type": "code",
      "source": [
        "\n",
        "plt.scatter(y_pred, residuals, alpha=0.5)\n",
        "plt.xlabel('Predicted values')\n",
        "plt.ylabel('Residuals')\n",
        "plt.title('Scatter plot of Residuals vs Predicted Values')\n",
        "plt.show()\n"
      ],
      "metadata": {
        "colab": {
          "base_uri": "https://localhost:8080/",
          "height": 472
        },
        "id": "okY_yRxJhJk7",
        "outputId": "0a1ad769-73b9-431c-82cd-dc30c0497a7f"
      },
      "execution_count": null,
      "outputs": [
        {
          "output_type": "display_data",
          "data": {
            "text/plain": [
              "<Figure size 640x480 with 1 Axes>"
            ],
            "image/png": "[encoded data removed]"
          },
          "metadata": {}
        }
      ]
    }
  ],
  "metadata": {
    "anaconda-cloud": {},
    "kernelspec": {
      "display_name": "Python 3",
      "language": "python",
      "name": "python3"
    },
    "language_info": {
      "codemirror_mode": {
        "name": "ipython",
        "version": 3
      },
      "file_extension": ".py",
      "mimetype": "text/x-python",
      "name": "python",
      "nbconvert_exporter": "python",
      "pygments_lexer": "ipython3",
      "version": "3.8.8"
    },
    "colab": {
      "provenance": []
    }
  },
  "nbformat": 4,
  "nbformat_minor": 0
}
