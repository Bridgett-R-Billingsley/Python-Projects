{
  "cells": [
    {
      "cell_type": "markdown",
      "id": "3184f0d1-fe56-494d-baa6-20f69a2bd5d3",
      "metadata": {
        "id": "3184f0d1-fe56-494d-baa6-20f69a2bd5d3"
      },
      "source": [
        "## Week 4, Lab 1: Predicting Left-Handedness from Psychological Factors\n",
        "> Author: Matt Brems\n",
        "\n",
        "One way to define the data science process is as follows:\n",
        "\n",
        "1. Define the problem.\n",
        "2. Obtain the data.\n",
        "3. Explore the data.\n",
        "4. Model the data.\n",
        "5. Evaluate the model.\n",
        "6. Answer the problem.\n",
        "\n",
        "We'll walk through a full data science problem in this lab. \n",
        "\n",
        "---\n",
        "## Define The Problem.\n",
        "\n",
        "You're currently a data scientist working at a university. A professor of psychology is attempting to study the relationship between personalities and left-handedness. They have tasked you with gathering evidence so that they may publish.\n",
        "\n",
        "As a data scientist, you know that any real data science problem must be **specific** and **conclusively answerable**. For example:\n",
        "- Bad data science problem: \"What is the link between obesity and blood pressure?\"\n",
        "    - This is vague and is not conclusively answerable. That is, two people might look at the conclusion and one may say \"Sure, the problem has been answered!\" and the other may say \"The problem has not yet been answered.\"\n",
        "- Good data science problem: \"Does an association exist between obesity and blood pressure?\"\n",
        "    - This is more specific and is conclusively answerable. The problem specifically is asking for a \"Yes\" or \"No\" answer. Based on that, two independent people should both be able to say either \"Yes, the problem has been answered\" or \"No, the problem has not yet been answered.\"\n",
        "- Excellent data science problem: \"As obesity increases, how does blood pressure change?\"\n",
        "    - This is very specific and is conclusively answerable. The problem specifically seeks to understand the effect of one variable on the other.\n",
        "\n",
        "### In the context of the left-handedness and personality example, what are three specific and conclusively answerable problems that you could answer using data science? \n",
        "\n",
        "> You might find it helpful to check out the codebook in the repo for some inspiration."
      ]
    },
    {
      "cell_type": "code",
      "source": [
        "from google.colab import drive\n",
        "drive.mount('/content/drive')"
      ],
      "metadata": {
        "colab": {
          "base_uri": "https://localhost:8080/"
        },
        "id": "c1uMST5dKaqw",
        "outputId": "23ec1d94-cb3b-4718-e997-18b48986403b"
      },
      "id": "c1uMST5dKaqw",
      "execution_count": null,
      "outputs": [
        {
          "output_type": "stream",
          "name": "stdout",
          "text": [
            "Mounted at /content/drive\n"
          ]
        }
      ]
    },
    {
      "cell_type": "code",
      "execution_count": null,
      "id": "3342ac53-c92c-4af6-a781-a6c81693377c",
      "metadata": {
        "id": "3342ac53-c92c-4af6-a781-a6c81693377c"
      },
      "outputs": [],
      "source": []
    },
    {
      "cell_type": "markdown",
      "id": "6bea50d5-6a4d-4948-9fe5-42d6cd6c5afb",
      "metadata": {
        "id": "6bea50d5-6a4d-4948-9fe5-42d6cd6c5afb"
      },
      "source": [
        "---\n",
        "## Step 2: Obtain the data.\n",
        "\n",
        "### Read in the file titled \"data.csv\":\n",
        "> Hint: Despite being saved as a .csv file, you won't be able to simply `pd.read_csv()` this data!"
      ]
    },
    {
      "cell_type": "code",
      "source": [
        "import pandas as pd\n",
        "\n",
        "df = pd.read_csv('/content/drive/MyDrive/lab-4.01-classification-master/data.csv', delimiter='\\t')\n"
      ],
      "metadata": {
        "id": "Etz8NQsrL-pA"
      },
      "id": "Etz8NQsrL-pA",
      "execution_count": null,
      "outputs": []
    },
    {
      "cell_type": "code",
      "source": [
        "df.head()"
      ],
      "metadata": {
        "colab": {
          "base_uri": "https://localhost:8080/",
          "height": 235
        },
        "id": "CupVk6z1K_pu",
        "outputId": "fd8d6cb3-1e98-4e54-fed5-a3d00ab9cc60"
      },
      "id": "CupVk6z1K_pu",
      "execution_count": null,
      "outputs": [
        {
          "output_type": "execute_result",
          "data": {
            "text/plain": [
              "   Q1  Q2  Q3  Q4  Q5  Q6  Q7  Q8  Q9  Q10  ...  country  fromgoogle  engnat  \\\n",
              "0   4   1   5   1   5   1   5   1   4    1  ...       US           2       1   \n",
              "1   1   5   1   4   2   5   5   4   1    5  ...       CA           2       1   \n",
              "2   1   2   1   1   5   4   3   2   1    4  ...       NL           2       2   \n",
              "3   1   4   1   5   1   4   5   4   3    5  ...       US           2       1   \n",
              "4   5   1   5   1   5   1   5   1   3    1  ...       US           2       1   \n",
              "\n",
              "   age  education  gender  orientation  race  religion  hand  \n",
              "0   22          3       1            1     3         2     3  \n",
              "1   14          1       2            2     6         1     1  \n",
              "2   30          4       1            1     1         1     2  \n",
              "3   18          2       2            5     3         2     2  \n",
              "4   22          3       1            1     3         2     3  \n",
              "\n",
              "[5 rows x 56 columns]"
            ],
            "text/html": [
              "\n",
              "  <div id=\"df-72af854b-ee73-4f4a-aa02-20dd660f486c\">\n",
              "    <div class=\"colab-df-container\">\n",
              "      <div>\n",
              "<style scoped>\n",
              "    .dataframe tbody tr th:only-of-type {\n",
              "        vertical-align: middle;\n",
              "    }\n",
              "\n",
              "    .dataframe tbody tr th {\n",
              "        vertical-align: top;\n",
              "    }\n",
              "\n",
              "    .dataframe thead th {\n",
              "        text-align: right;\n",
              "    }\n",
              "</style>\n",
              "<table border=\"1\" class=\"dataframe\">\n",
              "  <thead>\n",
              "    <tr style=\"text-align: right;\">\n",
              "      <th></th>\n",
              "      <th>Q1</th>\n",
              "      <th>Q2</th>\n",
              "      <th>Q3</th>\n",
              "      <th>Q4</th>\n",
              "      <th>Q5</th>\n",
              "      <th>Q6</th>\n",
              "      <th>Q7</th>\n",
              "      <th>Q8</th>\n",
              "      <th>Q9</th>\n",
              "      <th>Q10</th>\n",
              "      <th>...</th>\n",
              "      <th>country</th>\n",
              "      <th>fromgoogle</th>\n",
              "      <th>engnat</th>\n",
              "      <th>age</th>\n",
              "      <th>education</th>\n",
              "      <th>gender</th>\n",
              "      <th>orientation</th>\n",
              "      <th>race</th>\n",
              "      <th>religion</th>\n",
              "      <th>hand</th>\n",
              "    </tr>\n",
              "  </thead>\n",
              "  <tbody>\n",
              "    <tr>\n",
              "      <th>0</th>\n",
              "      <td>4</td>\n",
              "      <td>1</td>\n",
              "      <td>5</td>\n",
              "      <td>1</td>\n",
              "      <td>5</td>\n",
              "      <td>1</td>\n",
              "      <td>5</td>\n",
              "      <td>1</td>\n",
              "      <td>4</td>\n",
              "      <td>1</td>\n",
              "      <td>...</td>\n",
              "      <td>US</td>\n",
              "      <td>2</td>\n",
              "      <td>1</td>\n",
              "      <td>22</td>\n",
              "      <td>3</td>\n",
              "      <td>1</td>\n",
              "      <td>1</td>\n",
              "      <td>3</td>\n",
              "      <td>2</td>\n",
              "      <td>3</td>\n",
              "    </tr>\n",
              "    <tr>\n",
              "      <th>1</th>\n",
              "      <td>1</td>\n",
              "      <td>5</td>\n",
              "      <td>1</td>\n",
              "      <td>4</td>\n",
              "      <td>2</td>\n",
              "      <td>5</td>\n",
              "      <td>5</td>\n",
              "      <td>4</td>\n",
              "      <td>1</td>\n",
              "      <td>5</td>\n",
              "      <td>...</td>\n",
              "      <td>CA</td>\n",
              "      <td>2</td>\n",
              "      <td>1</td>\n",
              "      <td>14</td>\n",
              "      <td>1</td>\n",
              "      <td>2</td>\n",
              "      <td>2</td>\n",
              "      <td>6</td>\n",
              "      <td>1</td>\n",
              "      <td>1</td>\n",
              "    </tr>\n",
              "    <tr>\n",
              "      <th>2</th>\n",
              "      <td>1</td>\n",
              "      <td>2</td>\n",
              "      <td>1</td>\n",
              "      <td>1</td>\n",
              "      <td>5</td>\n",
              "      <td>4</td>\n",
              "      <td>3</td>\n",
              "      <td>2</td>\n",
              "      <td>1</td>\n",
              "      <td>4</td>\n",
              "      <td>...</td>\n",
              "      <td>NL</td>\n",
              "      <td>2</td>\n",
              "      <td>2</td>\n",
              "      <td>30</td>\n",
              "      <td>4</td>\n",
              "      <td>1</td>\n",
              "      <td>1</td>\n",
              "      <td>1</td>\n",
              "      <td>1</td>\n",
              "      <td>2</td>\n",
              "    </tr>\n",
              "    <tr>\n",
              "      <th>3</th>\n",
              "      <td>1</td>\n",
              "      <td>4</td>\n",
              "      <td>1</td>\n",
              "      <td>5</td>\n",
              "      <td>1</td>\n",
              "      <td>4</td>\n",
              "      <td>5</td>\n",
              "      <td>4</td>\n",
              "      <td>3</td>\n",
              "      <td>5</td>\n",
              "      <td>...</td>\n",
              "      <td>US</td>\n",
              "      <td>2</td>\n",
              "      <td>1</td>\n",
              "      <td>18</td>\n",
              "      <td>2</td>\n",
              "      <td>2</td>\n",
              "      <td>5</td>\n",
              "      <td>3</td>\n",
              "      <td>2</td>\n",
              "      <td>2</td>\n",
              "    </tr>\n",
              "    <tr>\n",
              "      <th>4</th>\n",
              "      <td>5</td>\n",
              "      <td>1</td>\n",
              "      <td>5</td>\n",
              "      <td>1</td>\n",
              "      <td>5</td>\n",
              "      <td>1</td>\n",
              "      <td>5</td>\n",
              "      <td>1</td>\n",
              "      <td>3</td>\n",
              "      <td>1</td>\n",
              "      <td>...</td>\n",
              "      <td>US</td>\n",
              "      <td>2</td>\n",
              "      <td>1</td>\n",
              "      <td>22</td>\n",
              "      <td>3</td>\n",
              "      <td>1</td>\n",
              "      <td>1</td>\n",
              "      <td>3</td>\n",
              "      <td>2</td>\n",
              "      <td>3</td>\n",
              "    </tr>\n",
              "  </tbody>\n",
              "</table>\n",
              "<p>5 rows × 56 columns</p>\n",
              "</div>\n",
              "      <button class=\"colab-df-convert\" onclick=\"convertToInteractive('df-72af854b-ee73-4f4a-aa02-20dd660f486c')\"\n",
              "              title=\"Convert this dataframe to an interactive table.\"\n",
              "              style=\"display:none;\">\n",
              "        \n",
              "  <svg xmlns=\"http://www.w3.org/2000/svg\" height=\"24px\"viewBox=\"0 0 24 24\"\n",
              "       width=\"24px\">\n",
              "    <path d=\"M0 0h24v24H0V0z\" fill=\"none\"/>\n",
              "    <path d=\"M18.56 5.44l.94 2.06.94-2.06 2.06-.94-2.06-.94-.94-2.06-.94 2.06-2.06.94zm-11 1L8.5 8.5l.94-2.06 2.06-.94-2.06-.94L8.5 2.5l-.94 2.06-2.06.94zm10 10l.94 2.06.94-2.06 2.06-.94-2.06-.94-.94-2.06-.94 2.06-2.06.94z\"/><path d=\"M17.41 7.96l-1.37-1.37c-.4-.4-.92-.59-1.43-.59-.52 0-1.04.2-1.43.59L10.3 9.45l-7.72 7.72c-.78.78-.78 2.05 0 2.83L4 21.41c.39.39.9.59 1.41.59.51 0 1.02-.2 1.41-.59l7.78-7.78 2.81-2.81c.8-.78.8-2.07 0-2.86zM5.41 20L4 18.59l7.72-7.72 1.47 1.35L5.41 20z\"/>\n",
              "  </svg>\n",
              "      </button>\n",
              "      \n",
              "  <style>\n",
              "    .colab-df-container {\n",
              "      display:flex;\n",
              "      flex-wrap:wrap;\n",
              "      gap: 12px;\n",
              "    }\n",
              "\n",
              "    .colab-df-convert {\n",
              "      background-color: #E8F0FE;\n",
              "      border: none;\n",
              "      border-radius: 50%;\n",
              "      cursor: pointer;\n",
              "      display: none;\n",
              "      fill: #1967D2;\n",
              "      height: 32px;\n",
              "      padding: 0 0 0 0;\n",
              "      width: 32px;\n",
              "    }\n",
              "\n",
              "    .colab-df-convert:hover {\n",
              "      background-color: #E2EBFA;\n",
              "      box-shadow: 0px 1px 2px rgba(60, 64, 67, 0.3), 0px 1px 3px 1px rgba(60, 64, 67, 0.15);\n",
              "      fill: #174EA6;\n",
              "    }\n",
              "\n",
              "    [theme=dark] .colab-df-convert {\n",
              "      background-color: #3B4455;\n",
              "      fill: #D2E3FC;\n",
              "    }\n",
              "\n",
              "    [theme=dark] .colab-df-convert:hover {\n",
              "      background-color: #434B5C;\n",
              "      box-shadow: 0px 1px 3px 1px rgba(0, 0, 0, 0.15);\n",
              "      filter: drop-shadow(0px 1px 2px rgba(0, 0, 0, 0.3));\n",
              "      fill: #FFFFFF;\n",
              "    }\n",
              "  </style>\n",
              "\n",
              "      <script>\n",
              "        const buttonEl =\n",
              "          document.querySelector('#df-72af854b-ee73-4f4a-aa02-20dd660f486c button.colab-df-convert');\n",
              "        buttonEl.style.display =\n",
              "          google.colab.kernel.accessAllowed ? 'block' : 'none';\n",
              "\n",
              "        async function convertToInteractive(key) {\n",
              "          const element = document.querySelector('#df-72af854b-ee73-4f4a-aa02-20dd660f486c');\n",
              "          const dataTable =\n",
              "            await google.colab.kernel.invokeFunction('convertToInteractive',\n",
              "                                                     [key], {});\n",
              "          if (!dataTable) return;\n",
              "\n",
              "          const docLinkHtml = 'Like what you see? Visit the ' +\n",
              "            '<a target=\"_blank\" href=https://colab.research.google.com/notebooks/data_table.ipynb>data table notebook</a>'\n",
              "            + ' to learn more about interactive tables.';\n",
              "          element.innerHTML = '';\n",
              "          dataTable['output_type'] = 'display_data';\n",
              "          await google.colab.output.renderOutput(dataTable, element);\n",
              "          const docLink = document.createElement('div');\n",
              "          docLink.innerHTML = docLinkHtml;\n",
              "          element.appendChild(docLink);\n",
              "        }\n",
              "      </script>\n",
              "    </div>\n",
              "  </div>\n",
              "  "
            ]
          },
          "metadata": {},
          "execution_count": 4
        }
      ]
    },
    {
      "cell_type": "code",
      "source": [
        "df.isnull().sum()"
      ],
      "metadata": {
        "id": "YPveEjOUNmwq",
        "colab": {
          "base_uri": "https://localhost:8080/"
        },
        "outputId": "490bf7cf-2d3d-4d72-eae9-fb24637a0178"
      },
      "id": "YPveEjOUNmwq",
      "execution_count": null,
      "outputs": [
        {
          "output_type": "execute_result",
          "data": {
            "text/plain": [
              "Q1             0\n",
              "Q2             0\n",
              "Q3             0\n",
              "Q4             0\n",
              "Q5             0\n",
              "Q6             0\n",
              "Q7             0\n",
              "Q8             0\n",
              "Q9             0\n",
              "Q10            0\n",
              "Q11            0\n",
              "Q12            0\n",
              "Q13            0\n",
              "Q14            0\n",
              "Q15            0\n",
              "Q16            0\n",
              "Q17            0\n",
              "Q18            0\n",
              "Q19            0\n",
              "Q20            0\n",
              "Q21            0\n",
              "Q22            0\n",
              "Q23            0\n",
              "Q24            0\n",
              "Q25            0\n",
              "Q26            0\n",
              "Q27            0\n",
              "Q28            0\n",
              "Q29            0\n",
              "Q30            0\n",
              "Q31            0\n",
              "Q32            0\n",
              "Q33            0\n",
              "Q34            0\n",
              "Q35            0\n",
              "Q36            0\n",
              "Q37            0\n",
              "Q38            0\n",
              "Q39            0\n",
              "Q40            0\n",
              "Q41            0\n",
              "Q42            0\n",
              "Q43            0\n",
              "Q44            0\n",
              "introelapse    0\n",
              "testelapse     0\n",
              "country        0\n",
              "fromgoogle     0\n",
              "engnat         0\n",
              "age            0\n",
              "education      0\n",
              "gender         0\n",
              "orientation    0\n",
              "race           0\n",
              "religion       0\n",
              "hand           0\n",
              "dtype: int64"
            ]
          },
          "metadata": {},
          "execution_count": 5
        }
      ]
    },
    {
      "cell_type": "code",
      "source": [
        "#1=Right, 2=Left, 3=Both\n",
        "\n",
        "df['hand'].value_counts()"
      ],
      "metadata": {
        "colab": {
          "base_uri": "https://localhost:8080/"
        },
        "id": "J5LQZ1p1QUVL",
        "outputId": "c64205dc-957a-4071-d144-938cd80be69a"
      },
      "id": "J5LQZ1p1QUVL",
      "execution_count": null,
      "outputs": [
        {
          "output_type": "execute_result",
          "data": {
            "text/plain": [
              "1    3542\n",
              "2     452\n",
              "3     179\n",
              "0      11\n",
              "Name: hand, dtype: int64"
            ]
          },
          "metadata": {},
          "execution_count": 6
        }
      ]
    },
    {
      "cell_type": "markdown",
      "id": "fb928620-0569-4ca1-b11d-efb77951d278",
      "metadata": {
        "id": "fb928620-0569-4ca1-b11d-efb77951d278"
      },
      "source": [
        "---\n",
        "\n",
        "## Step 3: Explore the data.\n",
        "\n",
        "### Conduct background research:\n",
        "\n",
        "Domain knowledge is irreplaceable. Figuring out what information is relevant to a problem, or what data would be useful to gather, is a major part of any end-to-end data science project! For this lab, you'll be using a dataset that someone else has put together, rather than collecting the data yourself.\n",
        "\n",
        "Do some background research about personality and handedness. What features, if any, are likely to help you make good predictions? How well do you think you'll be able to model this? Write a few bullet points summarizing what you believe, and remember to cite external sources.\n",
        "\n",
        "You don't have to be exhaustive here. Do enough research to form an opinion, and then move on.\n",
        "\n",
        "> You'll be using the answers to Q1-Q44 for modeling; you can disregard other features, e.g. country, age, internet browser."
      ]
    },
    {
      "cell_type": "markdown",
      "source": [
        "Apparently, the topic of personality and handedness has been researched for a pretty long time. Left handed people have been associated with negative traits. I assume the fixation on left-handed people is due to the fact that only 10% of the population is left handed. I don't believe this experiment will show that left handed people are more strongly associated with behaviors that fall under neuroticism. I tend to believe we lose the ability to be ambidextrous because we don't practice using both hands. If you don't use it, you lose it. \n",
        "\n",
        "### Is left handedness associated with impulsive behavior?\n",
        "### Is left handedness associated with risky behavior?\n",
        "### Is left handedness associated with apathy?"
      ],
      "metadata": {
        "id": "T14ywu6mSa8W"
      },
      "id": "T14ywu6mSa8W"
    },
    {
      "cell_type": "code",
      "execution_count": null,
      "id": "d01d0c1f-3b49-4b1e-ac15-a76b6d80c96b",
      "metadata": {
        "colab": {
          "base_uri": "https://localhost:8080/",
          "height": 1000
        },
        "id": "d01d0c1f-3b49-4b1e-ac15-a76b6d80c96b",
        "outputId": "1d035c39-185c-42d1-d8bd-4b47c8d0238c"
      },
      "outputs": [
        {
          "output_type": "execute_result",
          "data": {
            "text/plain": [
              "   This data was collected from an interactive version of the Open Sex Role Inventory in 2014.\n",
              "0   The following items were rated on a five point...                                         \n",
              "1          Q1\\tI have studied how to win at gambling.                                         \n",
              "2             Q2\\tI have thought about dying my hair.                                         \n",
              "3   Q3\\tI have thrown knives, axes or other sharp ...                                         \n",
              "4                   Q4\\tI give people handmade gifts.                                         \n",
              "5   Q5\\tI have day dreamed about saving someone fr...                                         \n",
              "6   Q6\\tI get embarrassed when people read things ...                                         \n",
              "7   Q7\\tI have been very interested in historical ...                                         \n",
              "8             Q8\\tI know the birthdays of my friends.                                         \n",
              "9                                    Q9\\tI like guns.                                         \n",
              "10            Q10\\tI am happiest when I am in my bed.                                         \n",
              "11           Q11\\tI did not work very hard in school.                                         \n",
              "12                     Q12\\tI use lotion on my hands.                                         \n",
              "13  Q13\\tI would prefer a class in mathematics to ...                                         \n",
              "14                      Q14\\tI dance when I am alone.                                         \n",
              "15  Q15\\tI have thought it would be exciting to be...                                         \n",
              "16  Q16\\tWhen I was a child, I put on fake concert...                                         \n",
              "17       Q17\\tI have considered joining the military.                                         \n",
              "18          Q18\\tI get dizzy when I stand up sharply.                                         \n",
              "19  Q19\\tI do not think it is normal to get emotio...                                         \n",
              "20  Q20\\tI sometimes feel like crying when I get a...                                         \n",
              "21                  Q21\\tI do not remember birthdays.                                         \n",
              "22                     Q22\\tI save the letters I get.                                         \n",
              "23                Q23\\tI playfully insult my friends.                                         \n",
              "24  Q24\\tI oppose medical experimentation with ani...                                         \n",
              "25  Q25\\tI could do an impressive amount of push ups.                                         \n",
              "26   Q26\\tI jump up and down in excitement sometimes.                                         \n",
              "27  Q27\\tI think a natural disaster would be kind ...                                         \n",
              "28            Q28\\tI wear a blanket around the house.                                         \n",
              "29  Q29\\tI have burned things up with a magnifying...                                         \n",
              "30                   Q30\\tI think horoscopes are fun.                                         \n",
              "31      Q31\\tI don't pack much luggage when I travel.                                         \n",
              "32   Q32\\tI have thought about becoming a vegetarian.                                         \n",
              "33                              Q33\\tI hate shopping.                                         \n",
              "34               Q34\\tI have kept a personal journal.                                         \n",
              "35  Q35\\tI have taken apart machines just to see h...                                         \n",
              "36     Q36\\tI take lots of pictures of my activities.                                         \n",
              "37           Q37\\tI have played a lot of video games.                                         \n",
              "38   Q38\\tI leave nice notes for people now and then.                                         \n",
              "39  Q39\\tI have set fuels, aerosols or other chemi...                                         \n",
              "40                        Q40\\tI really like dancing.                                         \n",
              "41                  Q41\\tI take stairs two at a time.                                         \n",
              "42      Q42\\tI bake sweets just for myself sometimes.                                         \n",
              "43  Q43\\tI think a natural disaster would be kind ...                                         \n",
              "44  Q44\\tI decorate my things (e.g. stickers on la...                                         \n",
              "45  On the next page the following questions were ...                                         \n",
              "46  engnat\\t\" Is English you native language?\" 1=Y...                                         \n",
              "47  age\\t\"What is your age?\", entered as text (age...                                         \n",
              "48  education\\t\"How much education have you comple...                                         \n",
              "49                  gender\\t1=Male, 2=Female, 3=Other                                         \n",
              "50  orientation\\t1=Heterosexual, 2=Bisexual, 3=Hom...                                         \n",
              "51  race\\t1=Mixed race, 2=Asian, 3=Black, 4=Native...                                         \n",
              "52  religion\\t1=Atheist/Agnostic, 2=Christian, 3=M...                                         \n",
              "53  hand\\t\"What hand do you use to write with?\" \\t...                                         \n",
              "54    The following technical data was also obtained:                                         \n",
              "55  country\\twhere the users computer was located ...                                         \n",
              "56  fromgoogle 1=HTTP_referer contained '.google.'...                                         \n",
              "57  introelapse\\thow many seconds from when the in...                                         \n",
              "58  testelapse\\thow many seconds from when the tes...                                         "
            ],
            "text/html": [
              "\n",
              "  <div id=\"df-f3a7fa7c-89b8-4a64-83cd-68b73b7ef3c5\">\n",
              "    <div class=\"colab-df-container\">\n",
              "      <div>\n",
              "<style scoped>\n",
              "    .dataframe tbody tr th:only-of-type {\n",
              "        vertical-align: middle;\n",
              "    }\n",
              "\n",
              "    .dataframe tbody tr th {\n",
              "        vertical-align: top;\n",
              "    }\n",
              "\n",
              "    .dataframe thead th {\n",
              "        text-align: right;\n",
              "    }\n",
              "</style>\n",
              "<table border=\"1\" class=\"dataframe\">\n",
              "  <thead>\n",
              "    <tr style=\"text-align: right;\">\n",
              "      <th></th>\n",
              "      <th>This data was collected from an interactive version of the Open Sex Role Inventory in 2014.</th>\n",
              "    </tr>\n",
              "  </thead>\n",
              "  <tbody>\n",
              "    <tr>\n",
              "      <th>0</th>\n",
              "      <td>The following items were rated on a five point...</td>\n",
              "    </tr>\n",
              "    <tr>\n",
              "      <th>1</th>\n",
              "      <td>Q1\\tI have studied how to win at gambling.</td>\n",
              "    </tr>\n",
              "    <tr>\n",
              "      <th>2</th>\n",
              "      <td>Q2\\tI have thought about dying my hair.</td>\n",
              "    </tr>\n",
              "    <tr>\n",
              "      <th>3</th>\n",
              "      <td>Q3\\tI have thrown knives, axes or other sharp ...</td>\n",
              "    </tr>\n",
              "    <tr>\n",
              "      <th>4</th>\n",
              "      <td>Q4\\tI give people handmade gifts.</td>\n",
              "    </tr>\n",
              "    <tr>\n",
              "      <th>5</th>\n",
              "      <td>Q5\\tI have day dreamed about saving someone fr...</td>\n",
              "    </tr>\n",
              "    <tr>\n",
              "      <th>6</th>\n",
              "      <td>Q6\\tI get embarrassed when people read things ...</td>\n",
              "    </tr>\n",
              "    <tr>\n",
              "      <th>7</th>\n",
              "      <td>Q7\\tI have been very interested in historical ...</td>\n",
              "    </tr>\n",
              "    <tr>\n",
              "      <th>8</th>\n",
              "      <td>Q8\\tI know the birthdays of my friends.</td>\n",
              "    </tr>\n",
              "    <tr>\n",
              "      <th>9</th>\n",
              "      <td>Q9\\tI like guns.</td>\n",
              "    </tr>\n",
              "    <tr>\n",
              "      <th>10</th>\n",
              "      <td>Q10\\tI am happiest when I am in my bed.</td>\n",
              "    </tr>\n",
              "    <tr>\n",
              "      <th>11</th>\n",
              "      <td>Q11\\tI did not work very hard in school.</td>\n",
              "    </tr>\n",
              "    <tr>\n",
              "      <th>12</th>\n",
              "      <td>Q12\\tI use lotion on my hands.</td>\n",
              "    </tr>\n",
              "    <tr>\n",
              "      <th>13</th>\n",
              "      <td>Q13\\tI would prefer a class in mathematics to ...</td>\n",
              "    </tr>\n",
              "    <tr>\n",
              "      <th>14</th>\n",
              "      <td>Q14\\tI dance when I am alone.</td>\n",
              "    </tr>\n",
              "    <tr>\n",
              "      <th>15</th>\n",
              "      <td>Q15\\tI have thought it would be exciting to be...</td>\n",
              "    </tr>\n",
              "    <tr>\n",
              "      <th>16</th>\n",
              "      <td>Q16\\tWhen I was a child, I put on fake concert...</td>\n",
              "    </tr>\n",
              "    <tr>\n",
              "      <th>17</th>\n",
              "      <td>Q17\\tI have considered joining the military.</td>\n",
              "    </tr>\n",
              "    <tr>\n",
              "      <th>18</th>\n",
              "      <td>Q18\\tI get dizzy when I stand up sharply.</td>\n",
              "    </tr>\n",
              "    <tr>\n",
              "      <th>19</th>\n",
              "      <td>Q19\\tI do not think it is normal to get emotio...</td>\n",
              "    </tr>\n",
              "    <tr>\n",
              "      <th>20</th>\n",
              "      <td>Q20\\tI sometimes feel like crying when I get a...</td>\n",
              "    </tr>\n",
              "    <tr>\n",
              "      <th>21</th>\n",
              "      <td>Q21\\tI do not remember birthdays.</td>\n",
              "    </tr>\n",
              "    <tr>\n",
              "      <th>22</th>\n",
              "      <td>Q22\\tI save the letters I get.</td>\n",
              "    </tr>\n",
              "    <tr>\n",
              "      <th>23</th>\n",
              "      <td>Q23\\tI playfully insult my friends.</td>\n",
              "    </tr>\n",
              "    <tr>\n",
              "      <th>24</th>\n",
              "      <td>Q24\\tI oppose medical experimentation with ani...</td>\n",
              "    </tr>\n",
              "    <tr>\n",
              "      <th>25</th>\n",
              "      <td>Q25\\tI could do an impressive amount of push ups.</td>\n",
              "    </tr>\n",
              "    <tr>\n",
              "      <th>26</th>\n",
              "      <td>Q26\\tI jump up and down in excitement sometimes.</td>\n",
              "    </tr>\n",
              "    <tr>\n",
              "      <th>27</th>\n",
              "      <td>Q27\\tI think a natural disaster would be kind ...</td>\n",
              "    </tr>\n",
              "    <tr>\n",
              "      <th>28</th>\n",
              "      <td>Q28\\tI wear a blanket around the house.</td>\n",
              "    </tr>\n",
              "    <tr>\n",
              "      <th>29</th>\n",
              "      <td>Q29\\tI have burned things up with a magnifying...</td>\n",
              "    </tr>\n",
              "    <tr>\n",
              "      <th>30</th>\n",
              "      <td>Q30\\tI think horoscopes are fun.</td>\n",
              "    </tr>\n",
              "    <tr>\n",
              "      <th>31</th>\n",
              "      <td>Q31\\tI don't pack much luggage when I travel.</td>\n",
              "    </tr>\n",
              "    <tr>\n",
              "      <th>32</th>\n",
              "      <td>Q32\\tI have thought about becoming a vegetarian.</td>\n",
              "    </tr>\n",
              "    <tr>\n",
              "      <th>33</th>\n",
              "      <td>Q33\\tI hate shopping.</td>\n",
              "    </tr>\n",
              "    <tr>\n",
              "      <th>34</th>\n",
              "      <td>Q34\\tI have kept a personal journal.</td>\n",
              "    </tr>\n",
              "    <tr>\n",
              "      <th>35</th>\n",
              "      <td>Q35\\tI have taken apart machines just to see h...</td>\n",
              "    </tr>\n",
              "    <tr>\n",
              "      <th>36</th>\n",
              "      <td>Q36\\tI take lots of pictures of my activities.</td>\n",
              "    </tr>\n",
              "    <tr>\n",
              "      <th>37</th>\n",
              "      <td>Q37\\tI have played a lot of video games.</td>\n",
              "    </tr>\n",
              "    <tr>\n",
              "      <th>38</th>\n",
              "      <td>Q38\\tI leave nice notes for people now and then.</td>\n",
              "    </tr>\n",
              "    <tr>\n",
              "      <th>39</th>\n",
              "      <td>Q39\\tI have set fuels, aerosols or other chemi...</td>\n",
              "    </tr>\n",
              "    <tr>\n",
              "      <th>40</th>\n",
              "      <td>Q40\\tI really like dancing.</td>\n",
              "    </tr>\n",
              "    <tr>\n",
              "      <th>41</th>\n",
              "      <td>Q41\\tI take stairs two at a time.</td>\n",
              "    </tr>\n",
              "    <tr>\n",
              "      <th>42</th>\n",
              "      <td>Q42\\tI bake sweets just for myself sometimes.</td>\n",
              "    </tr>\n",
              "    <tr>\n",
              "      <th>43</th>\n",
              "      <td>Q43\\tI think a natural disaster would be kind ...</td>\n",
              "    </tr>\n",
              "    <tr>\n",
              "      <th>44</th>\n",
              "      <td>Q44\\tI decorate my things (e.g. stickers on la...</td>\n",
              "    </tr>\n",
              "    <tr>\n",
              "      <th>45</th>\n",
              "      <td>On the next page the following questions were ...</td>\n",
              "    </tr>\n",
              "    <tr>\n",
              "      <th>46</th>\n",
              "      <td>engnat\\t\" Is English you native language?\" 1=Y...</td>\n",
              "    </tr>\n",
              "    <tr>\n",
              "      <th>47</th>\n",
              "      <td>age\\t\"What is your age?\", entered as text (age...</td>\n",
              "    </tr>\n",
              "    <tr>\n",
              "      <th>48</th>\n",
              "      <td>education\\t\"How much education have you comple...</td>\n",
              "    </tr>\n",
              "    <tr>\n",
              "      <th>49</th>\n",
              "      <td>gender\\t1=Male, 2=Female, 3=Other</td>\n",
              "    </tr>\n",
              "    <tr>\n",
              "      <th>50</th>\n",
              "      <td>orientation\\t1=Heterosexual, 2=Bisexual, 3=Hom...</td>\n",
              "    </tr>\n",
              "    <tr>\n",
              "      <th>51</th>\n",
              "      <td>race\\t1=Mixed race, 2=Asian, 3=Black, 4=Native...</td>\n",
              "    </tr>\n",
              "    <tr>\n",
              "      <th>52</th>\n",
              "      <td>religion\\t1=Atheist/Agnostic, 2=Christian, 3=M...</td>\n",
              "    </tr>\n",
              "    <tr>\n",
              "      <th>53</th>\n",
              "      <td>hand\\t\"What hand do you use to write with?\" \\t...</td>\n",
              "    </tr>\n",
              "    <tr>\n",
              "      <th>54</th>\n",
              "      <td>The following technical data was also obtained:</td>\n",
              "    </tr>\n",
              "    <tr>\n",
              "      <th>55</th>\n",
              "      <td>country\\twhere the users computer was located ...</td>\n",
              "    </tr>\n",
              "    <tr>\n",
              "      <th>56</th>\n",
              "      <td>fromgoogle 1=HTTP_referer contained '.google.'...</td>\n",
              "    </tr>\n",
              "    <tr>\n",
              "      <th>57</th>\n",
              "      <td>introelapse\\thow many seconds from when the in...</td>\n",
              "    </tr>\n",
              "    <tr>\n",
              "      <th>58</th>\n",
              "      <td>testelapse\\thow many seconds from when the tes...</td>\n",
              "    </tr>\n",
              "  </tbody>\n",
              "</table>\n",
              "</div>\n",
              "      <button class=\"colab-df-convert\" onclick=\"convertToInteractive('df-f3a7fa7c-89b8-4a64-83cd-68b73b7ef3c5')\"\n",
              "              title=\"Convert this dataframe to an interactive table.\"\n",
              "              style=\"display:none;\">\n",
              "        \n",
              "  <svg xmlns=\"http://www.w3.org/2000/svg\" height=\"24px\"viewBox=\"0 0 24 24\"\n",
              "       width=\"24px\">\n",
              "    <path d=\"M0 0h24v24H0V0z\" fill=\"none\"/>\n",
              "    <path d=\"M18.56 5.44l.94 2.06.94-2.06 2.06-.94-2.06-.94-.94-2.06-.94 2.06-2.06.94zm-11 1L8.5 8.5l.94-2.06 2.06-.94-2.06-.94L8.5 2.5l-.94 2.06-2.06.94zm10 10l.94 2.06.94-2.06 2.06-.94-2.06-.94-.94-2.06-.94 2.06-2.06.94z\"/><path d=\"M17.41 7.96l-1.37-1.37c-.4-.4-.92-.59-1.43-.59-.52 0-1.04.2-1.43.59L10.3 9.45l-7.72 7.72c-.78.78-.78 2.05 0 2.83L4 21.41c.39.39.9.59 1.41.59.51 0 1.02-.2 1.41-.59l7.78-7.78 2.81-2.81c.8-.78.8-2.07 0-2.86zM5.41 20L4 18.59l7.72-7.72 1.47 1.35L5.41 20z\"/>\n",
              "  </svg>\n",
              "      </button>\n",
              "      \n",
              "  <style>\n",
              "    .colab-df-container {\n",
              "      display:flex;\n",
              "      flex-wrap:wrap;\n",
              "      gap: 12px;\n",
              "    }\n",
              "\n",
              "    .colab-df-convert {\n",
              "      background-color: #E8F0FE;\n",
              "      border: none;\n",
              "      border-radius: 50%;\n",
              "      cursor: pointer;\n",
              "      display: none;\n",
              "      fill: #1967D2;\n",
              "      height: 32px;\n",
              "      padding: 0 0 0 0;\n",
              "      width: 32px;\n",
              "    }\n",
              "\n",
              "    .colab-df-convert:hover {\n",
              "      background-color: #E2EBFA;\n",
              "      box-shadow: 0px 1px 2px rgba(60, 64, 67, 0.3), 0px 1px 3px 1px rgba(60, 64, 67, 0.15);\n",
              "      fill: #174EA6;\n",
              "    }\n",
              "\n",
              "    [theme=dark] .colab-df-convert {\n",
              "      background-color: #3B4455;\n",
              "      fill: #D2E3FC;\n",
              "    }\n",
              "\n",
              "    [theme=dark] .colab-df-convert:hover {\n",
              "      background-color: #434B5C;\n",
              "      box-shadow: 0px 1px 3px 1px rgba(0, 0, 0, 0.15);\n",
              "      filter: drop-shadow(0px 1px 2px rgba(0, 0, 0, 0.3));\n",
              "      fill: #FFFFFF;\n",
              "    }\n",
              "  </style>\n",
              "\n",
              "      <script>\n",
              "        const buttonEl =\n",
              "          document.querySelector('#df-f3a7fa7c-89b8-4a64-83cd-68b73b7ef3c5 button.colab-df-convert');\n",
              "        buttonEl.style.display =\n",
              "          google.colab.kernel.accessAllowed ? 'block' : 'none';\n",
              "\n",
              "        async function convertToInteractive(key) {\n",
              "          const element = document.querySelector('#df-f3a7fa7c-89b8-4a64-83cd-68b73b7ef3c5');\n",
              "          const dataTable =\n",
              "            await google.colab.kernel.invokeFunction('convertToInteractive',\n",
              "                                                     [key], {});\n",
              "          if (!dataTable) return;\n",
              "\n",
              "          const docLinkHtml = 'Like what you see? Visit the ' +\n",
              "            '<a target=\"_blank\" href=https://colab.research.google.com/notebooks/data_table.ipynb>data table notebook</a>'\n",
              "            + ' to learn more about interactive tables.';\n",
              "          element.innerHTML = '';\n",
              "          dataTable['output_type'] = 'display_data';\n",
              "          await google.colab.output.renderOutput(dataTable, element);\n",
              "          const docLink = document.createElement('div');\n",
              "          docLink.innerHTML = docLinkHtml;\n",
              "          element.appendChild(docLink);\n",
              "        }\n",
              "      </script>\n",
              "    </div>\n",
              "  </div>\n",
              "  "
            ]
          },
          "metadata": {},
          "execution_count": 7
        }
      ],
      "source": [
        "text = pd.read_csv('/content/drive/MyDrive/lab-4.01-classification-master/codebook.txt', delimiter='|')\n",
        "text"
      ]
    },
    {
      "cell_type": "markdown",
      "id": "36a75853-6d9c-42c8-95ca-e0fdad19a17b",
      "metadata": {
        "id": "36a75853-6d9c-42c8-95ca-e0fdad19a17b"
      },
      "source": [
        "### Conduct exploratory data analysis on this dataset:\n",
        "\n",
        "If you haven't already, be sure to check out the codebook in the repo, as that will help in your EDA process.\n",
        "\n",
        "You might use this section to perform data cleaning if you find it to be necessary."
      ]
    },
    {
      "cell_type": "code",
      "execution_count": null,
      "id": "c4461bb5-9dd2-46c2-b1cc-dca2d92e2290",
      "metadata": {
        "colab": {
          "base_uri": "https://localhost:8080/",
          "height": 393
        },
        "id": "c4461bb5-9dd2-46c2-b1cc-dca2d92e2290",
        "outputId": "0e54021a-7f9a-403f-ed30-9702098e7207"
      },
      "outputs": [
        {
          "output_type": "execute_result",
          "data": {
            "text/plain": [
              "                Q1           Q2           Q3           Q4           Q5  \\\n",
              "count  4184.000000  4184.000000  4184.000000  4184.000000  4184.000000   \n",
              "mean      1.962715     3.829589     2.846558     3.186902     2.865440   \n",
              "std       1.360291     1.551683     1.664804     1.476879     1.545798   \n",
              "min       0.000000     0.000000     0.000000     0.000000     0.000000   \n",
              "25%       1.000000     3.000000     1.000000     2.000000     1.000000   \n",
              "50%       1.000000     5.000000     3.000000     3.000000     3.000000   \n",
              "75%       3.000000     5.000000     5.000000     5.000000     4.000000   \n",
              "max       5.000000     5.000000     5.000000     5.000000     5.000000   \n",
              "\n",
              "                Q6           Q7           Q8           Q9          Q10  ...  \\\n",
              "count  4184.000000  4184.000000  4184.000000  4184.000000  4184.000000  ...   \n",
              "mean      3.672084     3.216539     3.184512     2.761233     3.522945  ...   \n",
              "std       1.342238     1.490733     1.387382     1.511805     1.242890  ...   \n",
              "min       0.000000     0.000000     0.000000     0.000000     0.000000  ...   \n",
              "25%       3.000000     2.000000     2.000000     1.000000     3.000000  ...   \n",
              "50%       4.000000     3.000000     3.000000     3.000000     4.000000  ...   \n",
              "75%       5.000000     5.000000     4.000000     4.000000     5.000000  ...   \n",
              "max       5.000000     5.000000     5.000000     5.000000     5.000000  ...   \n",
              "\n",
              "          testelapse   fromgoogle       engnat           age    education  \\\n",
              "count    4184.000000  4184.000000  4184.000000   4184.000000  4184.000000   \n",
              "mean      479.994503     1.576243     1.239962     30.370698     2.317878   \n",
              "std      3142.178542     0.494212     0.440882    367.201726     0.874264   \n",
              "min         7.000000     1.000000     0.000000     13.000000     0.000000   \n",
              "25%       186.000000     1.000000     1.000000     18.000000     2.000000   \n",
              "50%       242.000000     2.000000     1.000000     21.000000     2.000000   \n",
              "75%       324.250000     2.000000     1.000000     27.000000     3.000000   \n",
              "max    119834.000000     2.000000     2.000000  23763.000000     4.000000   \n",
              "\n",
              "            gender  orientation         race     religion         hand  \n",
              "count  4184.000000  4184.000000  4184.000000  4184.000000  4184.000000  \n",
              "mean      1.654398     1.833413     5.013623     2.394359     1.190966  \n",
              "std       0.640915     1.303454     1.970996     2.184164     0.495357  \n",
              "min       0.000000     0.000000     0.000000     0.000000     0.000000  \n",
              "25%       1.000000     1.000000     5.000000     1.000000     1.000000  \n",
              "50%       2.000000     1.000000     6.000000     2.000000     1.000000  \n",
              "75%       2.000000     2.000000     6.000000     2.000000     1.000000  \n",
              "max       3.000000     5.000000     7.000000     7.000000     3.000000  \n",
              "\n",
              "[8 rows x 55 columns]"
            ],
            "text/html": [
              "\n",
              "  <div id=\"df-77c5ac2f-ccfd-4fdd-867d-74ac63523fd3\">\n",
              "    <div class=\"colab-df-container\">\n",
              "      <div>\n",
              "<style scoped>\n",
              "    .dataframe tbody tr th:only-of-type {\n",
              "        vertical-align: middle;\n",
              "    }\n",
              "\n",
              "    .dataframe tbody tr th {\n",
              "        vertical-align: top;\n",
              "    }\n",
              "\n",
              "    .dataframe thead th {\n",
              "        text-align: right;\n",
              "    }\n",
              "</style>\n",
              "<table border=\"1\" class=\"dataframe\">\n",
              "  <thead>\n",
              "    <tr style=\"text-align: right;\">\n",
              "      <th></th>\n",
              "      <th>Q1</th>\n",
              "      <th>Q2</th>\n",
              "      <th>Q3</th>\n",
              "      <th>Q4</th>\n",
              "      <th>Q5</th>\n",
              "      <th>Q6</th>\n",
              "      <th>Q7</th>\n",
              "      <th>Q8</th>\n",
              "      <th>Q9</th>\n",
              "      <th>Q10</th>\n",
              "      <th>...</th>\n",
              "      <th>testelapse</th>\n",
              "      <th>fromgoogle</th>\n",
              "      <th>engnat</th>\n",
              "      <th>age</th>\n",
              "      <th>education</th>\n",
              "      <th>gender</th>\n",
              "      <th>orientation</th>\n",
              "      <th>race</th>\n",
              "      <th>religion</th>\n",
              "      <th>hand</th>\n",
              "    </tr>\n",
              "  </thead>\n",
              "  <tbody>\n",
              "    <tr>\n",
              "      <th>count</th>\n",
              "      <td>4184.000000</td>\n",
              "      <td>4184.000000</td>\n",
              "      <td>4184.000000</td>\n",
              "      <td>4184.000000</td>\n",
              "      <td>4184.000000</td>\n",
              "      <td>4184.000000</td>\n",
              "      <td>4184.000000</td>\n",
              "      <td>4184.000000</td>\n",
              "      <td>4184.000000</td>\n",
              "      <td>4184.000000</td>\n",
              "      <td>...</td>\n",
              "      <td>4184.000000</td>\n",
              "      <td>4184.000000</td>\n",
              "      <td>4184.000000</td>\n",
              "      <td>4184.000000</td>\n",
              "      <td>4184.000000</td>\n",
              "      <td>4184.000000</td>\n",
              "      <td>4184.000000</td>\n",
              "      <td>4184.000000</td>\n",
              "      <td>4184.000000</td>\n",
              "      <td>4184.000000</td>\n",
              "    </tr>\n",
              "    <tr>\n",
              "      <th>mean</th>\n",
              "      <td>1.962715</td>\n",
              "      <td>3.829589</td>\n",
              "      <td>2.846558</td>\n",
              "      <td>3.186902</td>\n",
              "      <td>2.865440</td>\n",
              "      <td>3.672084</td>\n",
              "      <td>3.216539</td>\n",
              "      <td>3.184512</td>\n",
              "      <td>2.761233</td>\n",
              "      <td>3.522945</td>\n",
              "      <td>...</td>\n",
              "      <td>479.994503</td>\n",
              "      <td>1.576243</td>\n",
              "      <td>1.239962</td>\n",
              "      <td>30.370698</td>\n",
              "      <td>2.317878</td>\n",
              "      <td>1.654398</td>\n",
              "      <td>1.833413</td>\n",
              "      <td>5.013623</td>\n",
              "      <td>2.394359</td>\n",
              "      <td>1.190966</td>\n",
              "    </tr>\n",
              "    <tr>\n",
              "      <th>std</th>\n",
              "      <td>1.360291</td>\n",
              "      <td>1.551683</td>\n",
              "      <td>1.664804</td>\n",
              "      <td>1.476879</td>\n",
              "      <td>1.545798</td>\n",
              "      <td>1.342238</td>\n",
              "      <td>1.490733</td>\n",
              "      <td>1.387382</td>\n",
              "      <td>1.511805</td>\n",
              "      <td>1.242890</td>\n",
              "      <td>...</td>\n",
              "      <td>3142.178542</td>\n",
              "      <td>0.494212</td>\n",
              "      <td>0.440882</td>\n",
              "      <td>367.201726</td>\n",
              "      <td>0.874264</td>\n",
              "      <td>0.640915</td>\n",
              "      <td>1.303454</td>\n",
              "      <td>1.970996</td>\n",
              "      <td>2.184164</td>\n",
              "      <td>0.495357</td>\n",
              "    </tr>\n",
              "    <tr>\n",
              "      <th>min</th>\n",
              "      <td>0.000000</td>\n",
              "      <td>0.000000</td>\n",
              "      <td>0.000000</td>\n",
              "      <td>0.000000</td>\n",
              "      <td>0.000000</td>\n",
              "      <td>0.000000</td>\n",
              "      <td>0.000000</td>\n",
              "      <td>0.000000</td>\n",
              "      <td>0.000000</td>\n",
              "      <td>0.000000</td>\n",
              "      <td>...</td>\n",
              "      <td>7.000000</td>\n",
              "      <td>1.000000</td>\n",
              "      <td>0.000000</td>\n",
              "      <td>13.000000</td>\n",
              "      <td>0.000000</td>\n",
              "      <td>0.000000</td>\n",
              "      <td>0.000000</td>\n",
              "      <td>0.000000</td>\n",
              "      <td>0.000000</td>\n",
              "      <td>0.000000</td>\n",
              "    </tr>\n",
              "    <tr>\n",
              "      <th>25%</th>\n",
              "      <td>1.000000</td>\n",
              "      <td>3.000000</td>\n",
              "      <td>1.000000</td>\n",
              "      <td>2.000000</td>\n",
              "      <td>1.000000</td>\n",
              "      <td>3.000000</td>\n",
              "      <td>2.000000</td>\n",
              "      <td>2.000000</td>\n",
              "      <td>1.000000</td>\n",
              "      <td>3.000000</td>\n",
              "      <td>...</td>\n",
              "      <td>186.000000</td>\n",
              "      <td>1.000000</td>\n",
              "      <td>1.000000</td>\n",
              "      <td>18.000000</td>\n",
              "      <td>2.000000</td>\n",
              "      <td>1.000000</td>\n",
              "      <td>1.000000</td>\n",
              "      <td>5.000000</td>\n",
              "      <td>1.000000</td>\n",
              "      <td>1.000000</td>\n",
              "    </tr>\n",
              "    <tr>\n",
              "      <th>50%</th>\n",
              "      <td>1.000000</td>\n",
              "      <td>5.000000</td>\n",
              "      <td>3.000000</td>\n",
              "      <td>3.000000</td>\n",
              "      <td>3.000000</td>\n",
              "      <td>4.000000</td>\n",
              "      <td>3.000000</td>\n",
              "      <td>3.000000</td>\n",
              "      <td>3.000000</td>\n",
              "      <td>4.000000</td>\n",
              "      <td>...</td>\n",
              "      <td>242.000000</td>\n",
              "      <td>2.000000</td>\n",
              "      <td>1.000000</td>\n",
              "      <td>21.000000</td>\n",
              "      <td>2.000000</td>\n",
              "      <td>2.000000</td>\n",
              "      <td>1.000000</td>\n",
              "      <td>6.000000</td>\n",
              "      <td>2.000000</td>\n",
              "      <td>1.000000</td>\n",
              "    </tr>\n",
              "    <tr>\n",
              "      <th>75%</th>\n",
              "      <td>3.000000</td>\n",
              "      <td>5.000000</td>\n",
              "      <td>5.000000</td>\n",
              "      <td>5.000000</td>\n",
              "      <td>4.000000</td>\n",
              "      <td>5.000000</td>\n",
              "      <td>5.000000</td>\n",
              "      <td>4.000000</td>\n",
              "      <td>4.000000</td>\n",
              "      <td>5.000000</td>\n",
              "      <td>...</td>\n",
              "      <td>324.250000</td>\n",
              "      <td>2.000000</td>\n",
              "      <td>1.000000</td>\n",
              "      <td>27.000000</td>\n",
              "      <td>3.000000</td>\n",
              "      <td>2.000000</td>\n",
              "      <td>2.000000</td>\n",
              "      <td>6.000000</td>\n",
              "      <td>2.000000</td>\n",
              "      <td>1.000000</td>\n",
              "    </tr>\n",
              "    <tr>\n",
              "      <th>max</th>\n",
              "      <td>5.000000</td>\n",
              "      <td>5.000000</td>\n",
              "      <td>5.000000</td>\n",
              "      <td>5.000000</td>\n",
              "      <td>5.000000</td>\n",
              "      <td>5.000000</td>\n",
              "      <td>5.000000</td>\n",
              "      <td>5.000000</td>\n",
              "      <td>5.000000</td>\n",
              "      <td>5.000000</td>\n",
              "      <td>...</td>\n",
              "      <td>119834.000000</td>\n",
              "      <td>2.000000</td>\n",
              "      <td>2.000000</td>\n",
              "      <td>23763.000000</td>\n",
              "      <td>4.000000</td>\n",
              "      <td>3.000000</td>\n",
              "      <td>5.000000</td>\n",
              "      <td>7.000000</td>\n",
              "      <td>7.000000</td>\n",
              "      <td>3.000000</td>\n",
              "    </tr>\n",
              "  </tbody>\n",
              "</table>\n",
              "<p>8 rows × 55 columns</p>\n",
              "</div>\n",
              "      <button class=\"colab-df-convert\" onclick=\"convertToInteractive('df-77c5ac2f-ccfd-4fdd-867d-74ac63523fd3')\"\n",
              "              title=\"Convert this dataframe to an interactive table.\"\n",
              "              style=\"display:none;\">\n",
              "        \n",
              "  <svg xmlns=\"http://www.w3.org/2000/svg\" height=\"24px\"viewBox=\"0 0 24 24\"\n",
              "       width=\"24px\">\n",
              "    <path d=\"M0 0h24v24H0V0z\" fill=\"none\"/>\n",
              "    <path d=\"M18.56 5.44l.94 2.06.94-2.06 2.06-.94-2.06-.94-.94-2.06-.94 2.06-2.06.94zm-11 1L8.5 8.5l.94-2.06 2.06-.94-2.06-.94L8.5 2.5l-.94 2.06-2.06.94zm10 10l.94 2.06.94-2.06 2.06-.94-2.06-.94-.94-2.06-.94 2.06-2.06.94z\"/><path d=\"M17.41 7.96l-1.37-1.37c-.4-.4-.92-.59-1.43-.59-.52 0-1.04.2-1.43.59L10.3 9.45l-7.72 7.72c-.78.78-.78 2.05 0 2.83L4 21.41c.39.39.9.59 1.41.59.51 0 1.02-.2 1.41-.59l7.78-7.78 2.81-2.81c.8-.78.8-2.07 0-2.86zM5.41 20L4 18.59l7.72-7.72 1.47 1.35L5.41 20z\"/>\n",
              "  </svg>\n",
              "      </button>\n",
              "      \n",
              "  <style>\n",
              "    .colab-df-container {\n",
              "      display:flex;\n",
              "      flex-wrap:wrap;\n",
              "      gap: 12px;\n",
              "    }\n",
              "\n",
              "    .colab-df-convert {\n",
              "      background-color: #E8F0FE;\n",
              "      border: none;\n",
              "      border-radius: 50%;\n",
              "      cursor: pointer;\n",
              "      display: none;\n",
              "      fill: #1967D2;\n",
              "      height: 32px;\n",
              "      padding: 0 0 0 0;\n",
              "      width: 32px;\n",
              "    }\n",
              "\n",
              "    .colab-df-convert:hover {\n",
              "      background-color: #E2EBFA;\n",
              "      box-shadow: 0px 1px 2px rgba(60, 64, 67, 0.3), 0px 1px 3px 1px rgba(60, 64, 67, 0.15);\n",
              "      fill: #174EA6;\n",
              "    }\n",
              "\n",
              "    [theme=dark] .colab-df-convert {\n",
              "      background-color: #3B4455;\n",
              "      fill: #D2E3FC;\n",
              "    }\n",
              "\n",
              "    [theme=dark] .colab-df-convert:hover {\n",
              "      background-color: #434B5C;\n",
              "      box-shadow: 0px 1px 3px 1px rgba(0, 0, 0, 0.15);\n",
              "      filter: drop-shadow(0px 1px 2px rgba(0, 0, 0, 0.3));\n",
              "      fill: #FFFFFF;\n",
              "    }\n",
              "  </style>\n",
              "\n",
              "      <script>\n",
              "        const buttonEl =\n",
              "          document.querySelector('#df-77c5ac2f-ccfd-4fdd-867d-74ac63523fd3 button.colab-df-convert');\n",
              "        buttonEl.style.display =\n",
              "          google.colab.kernel.accessAllowed ? 'block' : 'none';\n",
              "\n",
              "        async function convertToInteractive(key) {\n",
              "          const element = document.querySelector('#df-77c5ac2f-ccfd-4fdd-867d-74ac63523fd3');\n",
              "          const dataTable =\n",
              "            await google.colab.kernel.invokeFunction('convertToInteractive',\n",
              "                                                     [key], {});\n",
              "          if (!dataTable) return;\n",
              "\n",
              "          const docLinkHtml = 'Like what you see? Visit the ' +\n",
              "            '<a target=\"_blank\" href=https://colab.research.google.com/notebooks/data_table.ipynb>data table notebook</a>'\n",
              "            + ' to learn more about interactive tables.';\n",
              "          element.innerHTML = '';\n",
              "          dataTable['output_type'] = 'display_data';\n",
              "          await google.colab.output.renderOutput(dataTable, element);\n",
              "          const docLink = document.createElement('div');\n",
              "          docLink.innerHTML = docLinkHtml;\n",
              "          element.appendChild(docLink);\n",
              "        }\n",
              "      </script>\n",
              "    </div>\n",
              "  </div>\n",
              "  "
            ]
          },
          "metadata": {},
          "execution_count": 8
        }
      ],
      "source": [
        "df.describe()"
      ]
    },
    {
      "cell_type": "markdown",
      "id": "76289efe-1cfe-4d83-9d07-fbb006997f14",
      "metadata": {
        "id": "76289efe-1cfe-4d83-9d07-fbb006997f14"
      },
      "source": [
        "# Calculate and interpret the baseline accuracy rate: Since this is based on probability, there is a 50/50 chance of being left handed. So baseline accuracy would be greater than 50% if left-handedness is associated with negative traits. "
      ]
    },
    {
      "cell_type": "code",
      "source": [
        "a = .50 \n",
        "baseline = 1/1-a\n",
        "baseline\n"
      ],
      "metadata": {
        "colab": {
          "base_uri": "https://localhost:8080/"
        },
        "id": "ozXHzwA-iDz-",
        "outputId": "3b7f0731-f130-4424-cfa2-ba3bcc2a0280"
      },
      "id": "ozXHzwA-iDz-",
      "execution_count": null,
      "outputs": [
        {
          "output_type": "execute_result",
          "data": {
            "text/plain": [
              "0.5"
            ]
          },
          "metadata": {},
          "execution_count": 1
        }
      ]
    },
    {
      "cell_type": "markdown",
      "id": "e48958c0-5322-4ef4-a8dd-94dc681b21ff",
      "metadata": {
        "id": "e48958c0-5322-4ef4-a8dd-94dc681b21ff"
      },
      "source": [
        "### Short answer questions:\n",
        "\n",
        "In this lab you'll use K-nearest neighbors and logistic regression to model handedness based off of psychological factors. Answer the following related questions; your answers may be in bullet points.\n",
        "\n",
        "#### Describe the difference between regression and classification problems:"
      ]
    },
    {
      "cell_type": "markdown",
      "source": [
        "Regression is based on numbers classified as continuous. In classification, numbers are discrete. "
      ],
      "metadata": {
        "id": "8_lE3RhOIHMA"
      },
      "id": "8_lE3RhOIHMA"
    },
    {
      "cell_type": "code",
      "execution_count": null,
      "id": "835eda01-c2b9-4526-94e1-60d7eb5bfab6",
      "metadata": {
        "id": "835eda01-c2b9-4526-94e1-60d7eb5bfab6"
      },
      "outputs": [],
      "source": []
    },
    {
      "cell_type": "markdown",
      "id": "a48dfc3c-42a1-46ca-b0ae-9e146737dbd6",
      "metadata": {
        "id": "a48dfc3c-42a1-46ca-b0ae-9e146737dbd6"
      },
      "source": [
        "\n",
        "\n",
        "```\n",
        "# This is formatted as code\n",
        "```\n",
        "\n",
        "#### Considering $k$-nearest neighbors, describe the relationship between $k$ and the bias-variance tradeoff:"
      ]
    },
    {
      "cell_type": "markdown",
      "source": [
        "Small k value = low bias and high variance which can lead to overfitting. \n",
        "A large k value = high bias low variance and the model is too simplistic to capture patterns in the data. \n",
        "\n"
      ],
      "metadata": {
        "id": "pX2InnTVInIZ"
      },
      "id": "pX2InnTVInIZ"
    },
    {
      "cell_type": "markdown",
      "id": "464f48e9-2a4a-45b4-aa97-03e0eca99848",
      "metadata": {
        "id": "464f48e9-2a4a-45b4-aa97-03e0eca99848"
      },
      "source": [
        "#### Why do we often standardize predictor variables when using $k$-nearest neighbors?"
      ]
    },
    {
      "cell_type": "markdown",
      "source": [
        "Standardizing predictor variables improves accuracy. "
      ],
      "metadata": {
        "id": "Vx1jYKOSI4Rt"
      },
      "id": "Vx1jYKOSI4Rt"
    },
    {
      "cell_type": "markdown",
      "id": "9507f57f-84e1-40e2-8b70-6e4ac89f8cf2",
      "metadata": {
        "id": "9507f57f-84e1-40e2-8b70-6e4ac89f8cf2"
      },
      "source": [
        "#### Do you think we should standardize the explanatory variables for this problem? Why or why not?"
      ]
    },
    {
      "cell_type": "markdown",
      "source": [
        "Yes, if variables are on two different scales, training works best when the features are standardized. "
      ],
      "metadata": {
        "id": "MH1NGU7wJ5ML"
      },
      "id": "MH1NGU7wJ5ML"
    },
    {
      "cell_type": "code",
      "execution_count": null,
      "id": "e63f22a8-2b45-4689-ab18-f6a84be73237",
      "metadata": {
        "id": "e63f22a8-2b45-4689-ab18-f6a84be73237"
      },
      "outputs": [],
      "source": []
    },
    {
      "cell_type": "markdown",
      "id": "8c3e59df-9635-40f8-aee5-247faba3d597",
      "metadata": {
        "id": "8c3e59df-9635-40f8-aee5-247faba3d597"
      },
      "source": [
        "#### How do we settle on $k$ for a $k$-nearest neighbors model?"
      ]
    },
    {
      "cell_type": "markdown",
      "source": [
        "Trial and Error, the elbow method (plot the curve to see where the shape looks like an elbow which would give the best k value), domain knowledge, Euclidean distance or Manhattan distance. \n",
        "\n"
      ],
      "metadata": {
        "id": "L6KweqhJKnHr"
      },
      "id": "L6KweqhJKnHr"
    },
    {
      "cell_type": "markdown",
      "id": "f7700a34-eef5-4396-82d9-5f888950a2ee",
      "metadata": {
        "id": "f7700a34-eef5-4396-82d9-5f888950a2ee"
      },
      "source": [
        "#### What is the default type of regularization for logistic regression as implemented in scikit-learn? (You might [check the documentation](https://scikit-learn.org/stable/modules/generated/sklearn.linear_model.LogisticRegression.html).)"
      ]
    },
    {
      "cell_type": "markdown",
      "source": [
        "Default regularization is L2. "
      ],
      "metadata": {
        "id": "4cNJzl9KK5zN"
      },
      "id": "4cNJzl9KK5zN"
    },
    {
      "cell_type": "markdown",
      "id": "c96a72ca-a8d1-4b1b-8315-951507efd413",
      "metadata": {
        "id": "c96a72ca-a8d1-4b1b-8315-951507efd413"
      },
      "source": [
        "#### Describe the relationship between the scikit-learn `LogisticRegression` argument `C` and regularization strength:"
      ]
    },
    {
      "cell_type": "markdown",
      "source": [
        "Smaller c values mean stronger regularization. Larger C values mean weaker regularization. "
      ],
      "metadata": {
        "id": "Re3NHbMpLJ2o"
      },
      "id": "Re3NHbMpLJ2o"
    },
    {
      "cell_type": "markdown",
      "id": "587022aa-4844-4fc5-9c84-0fb51b75b94a",
      "metadata": {
        "id": "587022aa-4844-4fc5-9c84-0fb51b75b94a"
      },
      "source": [
        "#### Describe the relationship between regularization strength and the bias-variance tradeoff:"
      ]
    },
    {
      "cell_type": "markdown",
      "source": [
        "The regularization strength in machine learning models, such as linear regression or logistic regression, is used to balance the bias-variance tradeoff.\n",
        "\n",
        "Regularization balances bias and variance which means the model will make less mistakes on unseen data. "
      ],
      "metadata": {
        "id": "asoRKXdfLfqV"
      },
      "id": "asoRKXdfLfqV"
    },
    {
      "cell_type": "code",
      "execution_count": null,
      "id": "8f83565a-ed32-485a-beda-1b86b1a540c8",
      "metadata": {
        "id": "8f83565a-ed32-485a-beda-1b86b1a540c8"
      },
      "outputs": [],
      "source": []
    },
    {
      "cell_type": "markdown",
      "id": "9fe322da-2b75-4707-8e32-55fe6d7fbd86",
      "metadata": {
        "id": "9fe322da-2b75-4707-8e32-55fe6d7fbd86"
      },
      "source": [
        "#### Logistic regression is considered more interpretable than $k$-nearestneighbors. Explain why."
      ]
    },
    {
      "cell_type": "markdown",
      "source": [
        "Logistic regression is generally considered more interpretable than $k$-nearest neighbors for several reasons:\n",
        "\n",
        "Coeffiecients are clear, direct and easy to interpret. Logistic regressions are based on probability which is easy to understand. \n",
        "\n",
        "\n",
        "\n",
        "\n"
      ],
      "metadata": {
        "id": "kPIupTbXL0Hz"
      },
      "id": "kPIupTbXL0Hz"
    },
    {
      "cell_type": "code",
      "execution_count": null,
      "id": "5c391ad6-a6ec-49e9-ab37-9566caf0a3fb",
      "metadata": {
        "id": "5c391ad6-a6ec-49e9-ab37-9566caf0a3fb"
      },
      "outputs": [],
      "source": []
    },
    {
      "cell_type": "markdown",
      "id": "491ccade-8ead-46de-9323-c448a16e14bd",
      "metadata": {
        "id": "491ccade-8ead-46de-9323-c448a16e14bd"
      },
      "source": [
        "---\n",
        "\n",
        "## Step 4 & 5 Modeling: $k$-nearest neighbors\n",
        "\n",
        "### Train-test split your data:\n",
        "\n",
        "Your explanatory variables should be "
      ]
    },
    {
      "cell_type": "markdown",
      "source": [
        "Target variable(y) is hand. Looked at the unique values for hand: 3,2,1,0\n",
        "\n",
        "0 - no response\n",
        "\n",
        "1 - Right handed\n",
        "\n",
        "2 - Left handed\n",
        "\n",
        "3 - Both"
      ],
      "metadata": {
        "id": "M2_DMy6FjrG-"
      },
      "id": "M2_DMy6FjrG-"
    },
    {
      "cell_type": "code",
      "source": [
        "df['hand'].unique()"
      ],
      "metadata": {
        "colab": {
          "base_uri": "https://localhost:8080/"
        },
        "id": "lbJs29yIjhZR",
        "outputId": "db75b07f-8b8d-4cf5-ba40-45a928a2570e"
      },
      "id": "lbJs29yIjhZR",
      "execution_count": null,
      "outputs": [
        {
          "output_type": "execute_result",
          "data": {
            "text/plain": [
              "array([3, 1, 2, 0])"
            ]
          },
          "metadata": {},
          "execution_count": 9
        }
      ]
    },
    {
      "cell_type": "code",
      "source": [
        "# Create binary column for handedness. Right hand = 0 and left hand =1"
      ],
      "metadata": {
        "id": "GvMmgJLPjQnO"
      },
      "id": "GvMmgJLPjQnO",
      "execution_count": null,
      "outputs": []
    },
    {
      "cell_type": "code",
      "execution_count": null,
      "id": "61e21aeb-2fe3-41a8-ad18-05bd8dff8308",
      "metadata": {
        "id": "61e21aeb-2fe3-41a8-ad18-05bd8dff8308"
      },
      "outputs": [],
      "source": [
        "# create a new column 'left_hand_dummy' with default value 0\n",
        "df['left_hand_dummy'] = 0\n",
        "\n",
        "# set the value to 1 for left-handed individuals\n",
        "df.loc[df['hand'] == 2, 'left_hand_dummy'] = 1\n"
      ]
    },
    {
      "cell_type": "code",
      "source": [
        "df['left_hand_dummy']"
      ],
      "metadata": {
        "colab": {
          "base_uri": "https://localhost:8080/"
        },
        "id": "_9Tmcvx3lCFy",
        "outputId": "c57500f9-7e6b-4a57-ebb1-27919fa719e2"
      },
      "id": "_9Tmcvx3lCFy",
      "execution_count": null,
      "outputs": [
        {
          "output_type": "execute_result",
          "data": {
            "text/plain": [
              "0       0\n",
              "1       0\n",
              "2       1\n",
              "3       1\n",
              "4       0\n",
              "       ..\n",
              "4179    0\n",
              "4180    0\n",
              "4181    0\n",
              "4182    0\n",
              "4183    0\n",
              "Name: left_hand_dummy, Length: 4184, dtype: int64"
            ]
          },
          "metadata": {},
          "execution_count": 11
        }
      ]
    },
    {
      "cell_type": "code",
      "source": [
        "df.dtypes"
      ],
      "metadata": {
        "id": "2DfiH28PnYxy"
      },
      "id": "2DfiH28PnYxy",
      "execution_count": null,
      "outputs": []
    },
    {
      "cell_type": "code",
      "source": [
        "df.drop('hand', axis=1, inplace=True)\n",
        "df.info()"
      ],
      "metadata": {
        "id": "DgeGLfVgld7g"
      },
      "id": "DgeGLfVgld7g",
      "execution_count": null,
      "outputs": []
    },
    {
      "cell_type": "code",
      "source": [
        "df.drop('country', axis=1, inplace=True)\n"
      ],
      "metadata": {
        "id": "iuqKNlSbpp7o"
      },
      "id": "iuqKNlSbpp7o",
      "execution_count": null,
      "outputs": []
    },
    {
      "cell_type": "code",
      "source": [
        "non_features = ['left_hand_dummy', 'introelapse', 'testelapse', 'fromgoogle', 'engnat', 'age', 'education', 'religion', 'gender', 'orientation', 'race']\n",
        "features = [col for col in df.select_dtypes(include=['float64', 'int64']).columns if col not in non_features]\n"
      ],
      "metadata": {
        "id": "EvUBtpY9oiPo"
      },
      "id": "EvUBtpY9oiPo",
      "execution_count": null,
      "outputs": []
    },
    {
      "cell_type": "code",
      "source": [
        "#Create features\n",
        "y = df['left_hand_dummy']\n",
        "X = features\n"
      ],
      "metadata": {
        "id": "0AhND63Sl2Fs"
      },
      "id": "0AhND63Sl2Fs",
      "execution_count": null,
      "outputs": []
    },
    {
      "cell_type": "code",
      "source": [
        "# Check to make sure all features are present and left_hand_dummy not included\n",
        "print(X)"
      ],
      "metadata": {
        "colab": {
          "base_uri": "https://localhost:8080/"
        },
        "id": "D8ceAIycmYsU",
        "outputId": "06eaa56b-af30-4d62-d10b-dae53020d4ab"
      },
      "id": "D8ceAIycmYsU",
      "execution_count": null,
      "outputs": [
        {
          "output_type": "stream",
          "name": "stdout",
          "text": [
            "['Q1', 'Q2', 'Q3', 'Q4', 'Q5', 'Q6', 'Q7', 'Q8', 'Q9', 'Q10', 'Q11', 'Q12', 'Q13', 'Q14', 'Q15', 'Q16', 'Q17', 'Q18', 'Q19', 'Q20', 'Q21', 'Q22', 'Q23', 'Q24', 'Q25', 'Q26', 'Q27', 'Q28', 'Q29', 'Q30', 'Q31', 'Q32', 'Q33', 'Q34', 'Q35', 'Q36', 'Q37', 'Q38', 'Q39', 'Q40', 'Q41', 'Q42', 'Q43', 'Q44']\n"
          ]
        }
      ]
    },
    {
      "cell_type": "code",
      "source": [],
      "metadata": {
        "id": "mQdhSa6YpdL4"
      },
      "id": "mQdhSa6YpdL4",
      "execution_count": null,
      "outputs": []
    },
    {
      "cell_type": "markdown",
      "id": "40616821-1e07-44a1-b616-be4a7cbe2efa",
      "metadata": {
        "id": "40616821-1e07-44a1-b616-be4a7cbe2efa"
      },
      "source": [
        "### Create and fit four separate $k$-nearest neighbors models: one with $k = 3$, one with $k = 5$, one with $k = 15$, and one with $k = 25$:"
      ]
    },
    {
      "cell_type": "code",
      "execution_count": null,
      "id": "133a0b97-b478-41d4-a4f0-4425d21868fa",
      "metadata": {
        "id": "133a0b97-b478-41d4-a4f0-4425d21868fa",
        "colab": {
          "base_uri": "https://localhost:8080/",
          "height": 74
        },
        "outputId": "3907e8b2-3a9b-4515-e437-8fe298d5f01a"
      },
      "outputs": [
        {
          "output_type": "execute_result",
          "data": {
            "text/plain": [
              "KNeighborsClassifier(n_neighbors=25)"
            ],
            "text/html": [
              "<style>#sk-container-id-1 {color: black;background-color: white;}#sk-container-id-1 pre{padding: 0;}#sk-container-id-1 div.sk-toggleable {background-color: white;}#sk-container-id-1 label.sk-toggleable__label {cursor: pointer;display: block;width: 100%;margin-bottom: 0;padding: 0.3em;box-sizing: border-box;text-align: center;}#sk-container-id-1 label.sk-toggleable__label-arrow:before {content: \"▸\";float: left;margin-right: 0.25em;color: #696969;}#sk-container-id-1 label.sk-toggleable__label-arrow:hover:before {color: black;}#sk-container-id-1 div.sk-estimator:hover label.sk-toggleable__label-arrow:before {color: black;}#sk-container-id-1 div.sk-toggleable__content {max-height: 0;max-width: 0;overflow: hidden;text-align: left;background-color: #f0f8ff;}#sk-container-id-1 div.sk-toggleable__content pre {margin: 0.2em;color: black;border-radius: 0.25em;background-color: #f0f8ff;}#sk-container-id-1 input.sk-toggleable__control:checked~div.sk-toggleable__content {max-height: 200px;max-width: 100%;overflow: auto;}#sk-container-id-1 input.sk-toggleable__control:checked~label.sk-toggleable__label-arrow:before {content: \"▾\";}#sk-container-id-1 div.sk-estimator input.sk-toggleable__control:checked~label.sk-toggleable__label {background-color: #d4ebff;}#sk-container-id-1 div.sk-label input.sk-toggleable__control:checked~label.sk-toggleable__label {background-color: #d4ebff;}#sk-container-id-1 input.sk-hidden--visually {border: 0;clip: rect(1px 1px 1px 1px);clip: rect(1px, 1px, 1px, 1px);height: 1px;margin: -1px;overflow: hidden;padding: 0;position: absolute;width: 1px;}#sk-container-id-1 div.sk-estimator {font-family: monospace;background-color: #f0f8ff;border: 1px dotted black;border-radius: 0.25em;box-sizing: border-box;margin-bottom: 0.5em;}#sk-container-id-1 div.sk-estimator:hover {background-color: #d4ebff;}#sk-container-id-1 div.sk-parallel-item::after {content: \"\";width: 100%;border-bottom: 1px solid gray;flex-grow: 1;}#sk-container-id-1 div.sk-label:hover label.sk-toggleable__label {background-color: #d4ebff;}#sk-container-id-1 div.sk-serial::before {content: \"\";position: absolute;border-left: 1px solid gray;box-sizing: border-box;top: 0;bottom: 0;left: 50%;z-index: 0;}#sk-container-id-1 div.sk-serial {display: flex;flex-direction: column;align-items: center;background-color: white;padding-right: 0.2em;padding-left: 0.2em;position: relative;}#sk-container-id-1 div.sk-item {position: relative;z-index: 1;}#sk-container-id-1 div.sk-parallel {display: flex;align-items: stretch;justify-content: center;background-color: white;position: relative;}#sk-container-id-1 div.sk-item::before, #sk-container-id-1 div.sk-parallel-item::before {content: \"\";position: absolute;border-left: 1px solid gray;box-sizing: border-box;top: 0;bottom: 0;left: 50%;z-index: -1;}#sk-container-id-1 div.sk-parallel-item {display: flex;flex-direction: column;z-index: 1;position: relative;background-color: white;}#sk-container-id-1 div.sk-parallel-item:first-child::after {align-self: flex-end;width: 50%;}#sk-container-id-1 div.sk-parallel-item:last-child::after {align-self: flex-start;width: 50%;}#sk-container-id-1 div.sk-parallel-item:only-child::after {width: 0;}#sk-container-id-1 div.sk-dashed-wrapped {border: 1px dashed gray;margin: 0 0.4em 0.5em 0.4em;box-sizing: border-box;padding-bottom: 0.4em;background-color: white;}#sk-container-id-1 div.sk-label label {font-family: monospace;font-weight: bold;display: inline-block;line-height: 1.2em;}#sk-container-id-1 div.sk-label-container {text-align: center;}#sk-container-id-1 div.sk-container {/* jupyter's `normalize.less` sets `[hidden] { display: none; }` but bootstrap.min.css set `[hidden] { display: none !important; }` so we also need the `!important` here to be able to override the default hidden behavior on the sphinx rendered scikit-learn.org. See: https://github.com/scikit-learn/scikit-learn/issues/21755 */display: inline-block !important;position: relative;}#sk-container-id-1 div.sk-text-repr-fallback {display: none;}</style><div id=\"sk-container-id-1\" class=\"sk-top-container\"><div class=\"sk-text-repr-fallback\"><pre>KNeighborsClassifier(n_neighbors=25)</pre><b>In a Jupyter environment, please rerun this cell to show the HTML representation or trust the notebook. <br />On GitHub, the HTML representation is unable to render, please try loading this page with nbviewer.org.</b></div><div class=\"sk-container\" hidden><div class=\"sk-item\"><div class=\"sk-estimator sk-toggleable\"><input class=\"sk-toggleable__control sk-hidden--visually\" id=\"sk-estimator-id-1\" type=\"checkbox\" checked><label for=\"sk-estimator-id-1\" class=\"sk-toggleable__label sk-toggleable__label-arrow\">KNeighborsClassifier</label><div class=\"sk-toggleable__content\"><pre>KNeighborsClassifier(n_neighbors=25)</pre></div></div></div></div></div>"
            ]
          },
          "metadata": {},
          "execution_count": 38
        }
      ],
      "source": [
        "from sklearn.model_selection import train_test_split\n",
        "from sklearn.neighbors import KNeighborsClassifier\n",
        "\n",
        "# Create train/test split\n",
        "X_train, X_test, y_train, y_test = train_test_split(df, y, test_size=0.2, random_state=42)\n",
        "\n",
        "# Define KNN models (3,5,15,25)\n",
        "knn_3 = KNeighborsClassifier(n_neighbors=3)\n",
        "knn_5 = KNeighborsClassifier(n_neighbors=5)\n",
        "knn_15 = KNeighborsClassifier(n_neighbors=15)\n",
        "knn_25 = KNeighborsClassifier(n_neighbors=25)\n",
        "\n",
        "# Fit the models on the training data\n",
        "knn_3.fit(X_train, y_train)\n",
        "knn_5.fit(X_train, y_train)\n",
        "knn_15.fit(X_train, y_train)\n",
        "knn_25.fit(X_train, y_train)\n"
      ]
    },
    {
      "cell_type": "markdown",
      "id": "c8ab5c3b-f92c-46db-999c-305712d30b80",
      "metadata": {
        "id": "c8ab5c3b-f92c-46db-999c-305712d30b80"
      },
      "source": [
        "### Evaluate your models:\n",
        "\n",
        "Evaluate each of your four models on the training and testing sets, and interpret the four scores. Are any of your models overfit or underfit? Do any of your models beat the baseline accuracy rate?"
      ]
    },
    {
      "cell_type": "code",
      "execution_count": null,
      "id": "0f886323-9ffa-4280-83a9-4bea44427c57",
      "metadata": {
        "id": "0f886323-9ffa-4280-83a9-4bea44427c57",
        "colab": {
          "base_uri": "https://localhost:8080/"
        },
        "outputId": "85067afb-d658-4866-c231-15077dc09c05"
      },
      "outputs": [
        {
          "output_type": "stream",
          "name": "stdout",
          "text": [
            "KNN (k=3) score: 0.85\n",
            "KNN (k=5) score: 0.87\n",
            "KNN (k=15) score: 0.88\n",
            "KNN (k=25) score: 0.88\n"
          ]
        }
      ],
      "source": [
        "print(\"KNN (k=3) score: {:.2f}\".format(knn_3.score(X_test, y_test)))\n",
        "print(\"KNN (k=5) score: {:.2f}\".format(knn_5.score(X_test, y_test)))\n",
        "print(\"KNN (k=15) score: {:.2f}\".format(knn_15.score(X_test, y_test)))\n",
        "print(\"KNN (k=25) score: {:.2f}\".format(knn_25.score(X_test, y_test)))\n"
      ]
    },
    {
      "cell_type": "code",
      "execution_count": null,
      "id": "91e96f1b-29e5-4a86-a250-3114a52e5291",
      "metadata": {
        "id": "91e96f1b-29e5-4a86-a250-3114a52e5291"
      },
      "outputs": [],
      "source": []
    },
    {
      "cell_type": "code",
      "execution_count": null,
      "id": "df2f8948-2f9a-48fc-a48c-ec53b45bf3a6",
      "metadata": {
        "id": "df2f8948-2f9a-48fc-a48c-ec53b45bf3a6"
      },
      "outputs": [],
      "source": []
    },
    {
      "cell_type": "markdown",
      "id": "8bfa9ddd-7b09-485c-8275-b13024f53248",
      "metadata": {
        "id": "8bfa9ddd-7b09-485c-8275-b13024f53248"
      },
      "source": [
        "---\n",
        "\n",
        "## Step 4 & 5 Modeling: logistic regression\n",
        "\n",
        "### Create and fit four separate logistic regression models: one with LASSO and $\\alpha = 1$, one with LASSO and $\\alpha = 10$, one with Ridge and $\\alpha = 1$, and one with Ridge and $\\alpha = 10$. *(Hint: Be careful with how you specify $\\alpha$ in your model!)*\n",
        "\n",
        "Note: You can use the same train and test data as above."
      ]
    },
    {
      "cell_type": "code",
      "execution_count": null,
      "id": "018a6dca-2497-4622-932f-6199603979cf",
      "metadata": {
        "id": "018a6dca-2497-4622-932f-6199603979cf",
        "colab": {
          "base_uri": "https://localhost:8080/",
          "height": 74
        },
        "outputId": "c8ecf9b6-18c3-48dd-b0f5-51b3864d3bf4"
      },
      "outputs": [
        {
          "output_type": "execute_result",
          "data": {
            "text/plain": [
              "LogisticRegression(C=0.1, max_iter=1000, solver='liblinear')"
            ],
            "text/html": [
              "<style>#sk-container-id-3 {color: black;background-color: white;}#sk-container-id-3 pre{padding: 0;}#sk-container-id-3 div.sk-toggleable {background-color: white;}#sk-container-id-3 label.sk-toggleable__label {cursor: pointer;display: block;width: 100%;margin-bottom: 0;padding: 0.3em;box-sizing: border-box;text-align: center;}#sk-container-id-3 label.sk-toggleable__label-arrow:before {content: \"▸\";float: left;margin-right: 0.25em;color: #696969;}#sk-container-id-3 label.sk-toggleable__label-arrow:hover:before {color: black;}#sk-container-id-3 div.sk-estimator:hover label.sk-toggleable__label-arrow:before {color: black;}#sk-container-id-3 div.sk-toggleable__content {max-height: 0;max-width: 0;overflow: hidden;text-align: left;background-color: #f0f8ff;}#sk-container-id-3 div.sk-toggleable__content pre {margin: 0.2em;color: black;border-radius: 0.25em;background-color: #f0f8ff;}#sk-container-id-3 input.sk-toggleable__control:checked~div.sk-toggleable__content {max-height: 200px;max-width: 100%;overflow: auto;}#sk-container-id-3 input.sk-toggleable__control:checked~label.sk-toggleable__label-arrow:before {content: \"▾\";}#sk-container-id-3 div.sk-estimator input.sk-toggleable__control:checked~label.sk-toggleable__label {background-color: #d4ebff;}#sk-container-id-3 div.sk-label input.sk-toggleable__control:checked~label.sk-toggleable__label {background-color: #d4ebff;}#sk-container-id-3 input.sk-hidden--visually {border: 0;clip: rect(1px 1px 1px 1px);clip: rect(1px, 1px, 1px, 1px);height: 1px;margin: -1px;overflow: hidden;padding: 0;position: absolute;width: 1px;}#sk-container-id-3 div.sk-estimator {font-family: monospace;background-color: #f0f8ff;border: 1px dotted black;border-radius: 0.25em;box-sizing: border-box;margin-bottom: 0.5em;}#sk-container-id-3 div.sk-estimator:hover {background-color: #d4ebff;}#sk-container-id-3 div.sk-parallel-item::after {content: \"\";width: 100%;border-bottom: 1px solid gray;flex-grow: 1;}#sk-container-id-3 div.sk-label:hover label.sk-toggleable__label {background-color: #d4ebff;}#sk-container-id-3 div.sk-serial::before {content: \"\";position: absolute;border-left: 1px solid gray;box-sizing: border-box;top: 0;bottom: 0;left: 50%;z-index: 0;}#sk-container-id-3 div.sk-serial {display: flex;flex-direction: column;align-items: center;background-color: white;padding-right: 0.2em;padding-left: 0.2em;position: relative;}#sk-container-id-3 div.sk-item {position: relative;z-index: 1;}#sk-container-id-3 div.sk-parallel {display: flex;align-items: stretch;justify-content: center;background-color: white;position: relative;}#sk-container-id-3 div.sk-item::before, #sk-container-id-3 div.sk-parallel-item::before {content: \"\";position: absolute;border-left: 1px solid gray;box-sizing: border-box;top: 0;bottom: 0;left: 50%;z-index: -1;}#sk-container-id-3 div.sk-parallel-item {display: flex;flex-direction: column;z-index: 1;position: relative;background-color: white;}#sk-container-id-3 div.sk-parallel-item:first-child::after {align-self: flex-end;width: 50%;}#sk-container-id-3 div.sk-parallel-item:last-child::after {align-self: flex-start;width: 50%;}#sk-container-id-3 div.sk-parallel-item:only-child::after {width: 0;}#sk-container-id-3 div.sk-dashed-wrapped {border: 1px dashed gray;margin: 0 0.4em 0.5em 0.4em;box-sizing: border-box;padding-bottom: 0.4em;background-color: white;}#sk-container-id-3 div.sk-label label {font-family: monospace;font-weight: bold;display: inline-block;line-height: 1.2em;}#sk-container-id-3 div.sk-label-container {text-align: center;}#sk-container-id-3 div.sk-container {/* jupyter's `normalize.less` sets `[hidden] { display: none; }` but bootstrap.min.css set `[hidden] { display: none !important; }` so we also need the `!important` here to be able to override the default hidden behavior on the sphinx rendered scikit-learn.org. See: https://github.com/scikit-learn/scikit-learn/issues/21755 */display: inline-block !important;position: relative;}#sk-container-id-3 div.sk-text-repr-fallback {display: none;}</style><div id=\"sk-container-id-3\" class=\"sk-top-container\"><div class=\"sk-text-repr-fallback\"><pre>LogisticRegression(C=0.1, max_iter=1000, solver=&#x27;liblinear&#x27;)</pre><b>In a Jupyter environment, please rerun this cell to show the HTML representation or trust the notebook. <br />On GitHub, the HTML representation is unable to render, please try loading this page with nbviewer.org.</b></div><div class=\"sk-container\" hidden><div class=\"sk-item\"><div class=\"sk-estimator sk-toggleable\"><input class=\"sk-toggleable__control sk-hidden--visually\" id=\"sk-estimator-id-3\" type=\"checkbox\" checked><label for=\"sk-estimator-id-3\" class=\"sk-toggleable__label sk-toggleable__label-arrow\">LogisticRegression</label><div class=\"sk-toggleable__content\"><pre>LogisticRegression(C=0.1, max_iter=1000, solver=&#x27;liblinear&#x27;)</pre></div></div></div></div></div>"
            ]
          },
          "metadata": {},
          "execution_count": 42
        }
      ],
      "source": [
        "from sklearn.linear_model import LogisticRegression\n",
        "# Received warning to increase iterations\n",
        "# https://scikit-learn.org/stable/modules/generated/sklearn.linear_model.LogisticRegression.html\n",
        "# Create four separate logistic regression models\n",
        "lasso_1 = LogisticRegression(penalty='l1', solver='liblinear', C=1, max_iter=1000)\n",
        "lasso_10 = LogisticRegression(penalty='l1', solver='liblinear', C=0.1, max_iter=1000)\n",
        "ridge_1 = LogisticRegression(penalty='l2', solver='liblinear', C=1, max_iter=1000)\n",
        "ridge_10 = LogisticRegression(penalty='l2', solver='liblinear', C=0.1, max_iter=1000)\n",
        "\n",
        "\n",
        "# Fit the models on the training data\n",
        "lasso_1.fit(X_train, y_train)\n",
        "lasso_10.fit(X_train, y_train)\n",
        "ridge_1.fit(X_train, y_train)\n",
        "ridge_10.fit(X_train, y_train)\n"
      ]
    },
    {
      "cell_type": "markdown",
      "id": "f199cb0c-014a-479e-b8a1-0ac2606d81d9",
      "metadata": {
        "id": "f199cb0c-014a-479e-b8a1-0ac2606d81d9"
      },
      "source": [
        "### Evaluate your models:\n",
        "\n",
        "Evaluate each of your four models on the training and testing sets, and interpret the four scores. Are any of your models overfit or underfit? Do any of your models beat the baseline accuracy rate?"
      ]
    },
    {
      "cell_type": "code",
      "execution_count": null,
      "id": "b8876daa-01f8-41fb-a661-582ed8715a86",
      "metadata": {
        "id": "b8876daa-01f8-41fb-a661-582ed8715a86",
        "colab": {
          "base_uri": "https://localhost:8080/"
        },
        "outputId": "39b0516d-4857-4713-825d-8faf71f008a6"
      },
      "outputs": [
        {
          "output_type": "stream",
          "name": "stdout",
          "text": [
            "Lasso (alpha=1) test score: 1.000\n",
            "Lasso (alpha=10) test score: 1.000\n",
            "Ridge (alpha=1) test score: 1.000\n",
            "Ridge (alpha=10) test score: 1.000\n"
          ]
        }
      ],
      "source": [
        "\n",
        "# Score the Lasso and Ridge models \n",
        "lasso_1_score = lasso_1.score(X_test, y_test)\n",
        "lasso_10_score = lasso_10.score(X_test, y_test)\n",
        "ridge_1_score = ridge_1.score(X_test, y_test)\n",
        "ridge_10_score = ridge_10.score(X_test, y_test)\n",
        "\n",
        "# Print scores\n",
        "print(\"Lasso (alpha=1) test score: {:.3f}\".format(lasso_1_score))\n",
        "print(\"Lasso (alpha=10) test score: {:.3f}\".format(lasso_10_score))\n",
        "print(\"Ridge (alpha=1) test score: {:.3f}\".format(ridge_1_score))\n",
        "print(\"Ridge (alpha=10) test score: {:.3f}\".format(ridge_10_score))"
      ]
    },
    {
      "cell_type": "markdown",
      "id": "445d735e-c499-4eb9-82ff-718c3d875d46",
      "metadata": {
        "id": "445d735e-c499-4eb9-82ff-718c3d875d46"
      },
      "source": [
        "---\n",
        "\n",
        "## Step 6: Answer the problem.\n",
        "\n",
        "Are any of your models worth moving forward with? What are the \"best\" models?\n",
        "\n",
        "## All of the Lasso and Ridge scores are perfect which is a sign of overfitting. I wouldn't move forward with any of these models. The KNN model performed the best when KNN was 15 or 25. I think that's a lot of neighbors and I would not use any of these models. This data set wasn't the best. The question \"Are left handed people more impulsive,\" could not be answered with this set of questions. The models beat my baseline but many of the questions (features) are irrelevant. "
      ]
    },
    {
      "cell_type": "code",
      "execution_count": null,
      "id": "a94c3da3-eee1-4079-b850-b486deabc402",
      "metadata": {
        "id": "a94c3da3-eee1-4079-b850-b486deabc402"
      },
      "outputs": [],
      "source": []
    },
    {
      "cell_type": "code",
      "source": [],
      "metadata": {
        "id": "n1bldySPEIjI"
      },
      "id": "n1bldySPEIjI",
      "execution_count": null,
      "outputs": []
    },
    {
      "cell_type": "code",
      "source": [],
      "metadata": {
        "id": "6ZxdsZawEIKN"
      },
      "id": "6ZxdsZawEIKN",
      "execution_count": null,
      "outputs": []
    },
    {
      "cell_type": "code",
      "source": [],
      "metadata": {
        "id": "PniKyOT4EHw7"
      },
      "id": "PniKyOT4EHw7",
      "execution_count": null,
      "outputs": []
    },
    {
      "cell_type": "code",
      "source": [],
      "metadata": {
        "id": "nYFVykrREHgI"
      },
      "id": "nYFVykrREHgI",
      "execution_count": null,
      "outputs": []
    },
    {
      "cell_type": "code",
      "source": [],
      "metadata": {
        "id": "kBoNf6axEUK2"
      },
      "id": "kBoNf6axEUK2",
      "execution_count": null,
      "outputs": []
    }
  ],
  "metadata": {
    "kernelspec": {
      "display_name": "Python 3",
      "language": "python",
      "name": "python3"
    },
    "language_info": {
      "codemirror_mode": {
        "name": "ipython",
        "version": 3
      },
      "file_extension": ".py",
      "mimetype": "text/x-python",
      "name": "python",
      "nbconvert_exporter": "python",
      "pygments_lexer": "ipython3",
      "version": "3.8.8"
    },
    "colab": {
      "provenance": []
    }
  },
  "nbformat": 4,
  "nbformat_minor": 5
}